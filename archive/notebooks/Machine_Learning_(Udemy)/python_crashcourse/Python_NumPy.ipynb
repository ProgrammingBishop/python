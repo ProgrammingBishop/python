{
 "cells": [
  {
   "cell_type": "code",
   "execution_count": 1,
   "metadata": {},
   "outputs": [],
   "source": [
    "# NumPy: Linear algebra library for python\n",
    "import numpy as np"
   ]
  },
  {
   "cell_type": "code",
   "execution_count": 4,
   "metadata": {},
   "outputs": [
    {
     "name": "stdout",
     "output_type": "stream",
     "text": [
      "[1 2 3]\n"
     ]
    }
   ],
   "source": [
    "# NumPy Array\n",
    "my_list = [1, 2, 3]\n",
    "arr = np.array( my_list )"
   ]
  },
  {
   "cell_type": "code",
   "execution_count": 7,
   "metadata": {},
   "outputs": [
    {
     "data": {
      "text/plain": [
       "array([[1, 2, 3],\n",
       "       [4, 5, 6],\n",
       "       [7, 8, 9]])"
      ]
     },
     "execution_count": 7,
     "metadata": {},
     "output_type": "execute_result"
    }
   ],
   "source": [
    "# NumPy Matrix\n",
    "my_mat = [[1, 2, 3], [4, 5, 6], [7, 8, 9]]\n",
    "np.array( my_mat )"
   ]
  },
  {
   "cell_type": "code",
   "execution_count": 10,
   "metadata": {},
   "outputs": [
    {
     "name": "stdout",
     "output_type": "stream",
     "text": [
      "[0 1 2 3 4 5 6 7 8 9]\n",
      "[0 2 4 6 8]\n"
     ]
    }
   ],
   "source": [
    "# Auto Gen Array\n",
    "print( np.arange( 0, 10 ) )\n",
    "print( np.arange( 0, 10, 2 ) )"
   ]
  },
  {
   "cell_type": "code",
   "execution_count": 15,
   "metadata": {},
   "outputs": [
    {
     "name": "stdout",
     "output_type": "stream",
     "text": [
      "[[0. 0. 0. 0. 0.]\n",
      " [0. 0. 0. 0. 0.]\n",
      " [0. 0. 0. 0. 0.]\n",
      " [0. 0. 0. 0. 0.]\n",
      " [0. 0. 0. 0. 0.]]\n",
      "[[1. 1. 1. 1. 1.]\n",
      " [1. 1. 1. 1. 1.]\n",
      " [1. 1. 1. 1. 1.]\n",
      " [1. 1. 1. 1. 1.]\n",
      " [1. 1. 1. 1. 1.]]\n"
     ]
    }
   ],
   "source": [
    "# Preset Array\n",
    "np.zeros( 10 )\n",
    "print( np.zeros( (5, 5) ) )\n",
    "\n",
    "np.ones( 10 )\n",
    "print( np.ones( (5, 5) ) )"
   ]
  },
  {
   "cell_type": "code",
   "execution_count": 17,
   "metadata": {},
   "outputs": [
    {
     "name": "stdout",
     "output_type": "stream",
     "text": [
      "[0.         0.55555556 1.11111111 1.66666667 2.22222222 2.77777778\n",
      " 3.33333333 3.88888889 4.44444444 5.        ]\n"
     ]
    }
   ],
   "source": [
    "# Return evenly-spaced distribution between an interval\n",
    "print( np.linspace( 0, 5, 10 ) )"
   ]
  },
  {
   "cell_type": "code",
   "execution_count": 18,
   "metadata": {},
   "outputs": [
    {
     "name": "stdout",
     "output_type": "stream",
     "text": [
      "[[1. 0. 0. 0.]\n",
      " [0. 1. 0. 0.]\n",
      " [0. 0. 1. 0.]\n",
      " [0. 0. 0. 1.]]\n"
     ]
    }
   ],
   "source": [
    "# Identity Matrix: param is the number of n in the nxn matrix\n",
    "print( np.eye( 4 ) )"
   ]
  },
  {
   "cell_type": "code",
   "execution_count": 20,
   "metadata": {},
   "outputs": [
    {
     "name": "stdout",
     "output_type": "stream",
     "text": [
      "[0.94557203 0.69879285 0.92984797 0.50110322 0.39608152]\n",
      "[[0.89173398 0.65885542 0.92954843 0.09356374 0.85308444]\n",
      " [0.64312216 0.67121349 0.24744272 0.14887636 0.89032085]\n",
      " [0.81552021 0.05897404 0.94200496 0.72168898 0.96761748]\n",
      " [0.70875541 0.46894043 0.5436425  0.76137911 0.02763347]\n",
      " [0.77691995 0.73680766 0.29024863 0.30830038 0.99080526]]\n"
     ]
    }
   ],
   "source": [
    "# Random Number Gen from Uniform Distribution:\n",
    "    # Returns a arrangement of number evenly distributed between 0 and 1\n",
    "print( np.random.rand( 5 ) )\n",
    "print( np.random.rand( 5, 5 ) )"
   ]
  },
  {
   "cell_type": "code",
   "execution_count": 21,
   "metadata": {},
   "outputs": [
    {
     "name": "stdout",
     "output_type": "stream",
     "text": [
      "[0.04595418 0.54559799]\n",
      "[[-0.56899975  1.40255364 -0.7496395   0.03067675]\n",
      " [ 0.28355143  0.15376096 -1.81777754  0.65694411]\n",
      " [-0.78415967  0.85219826  0.49904317 -1.62244863]\n",
      " [-0.92029475  1.52850008  0.43474817  2.02274282]]\n"
     ]
    }
   ],
   "source": [
    "# Random Number Gen from Gaussian Distribution\n",
    "print( np.random.randn( 2 ) )\n",
    "print( np.random.randn( 4, 4 ) )"
   ]
  },
  {
   "cell_type": "code",
   "execution_count": 23,
   "metadata": {},
   "outputs": [
    {
     "name": "stdout",
     "output_type": "stream",
     "text": [
      "[30 85 78 27 73 36 38 58 71 99]\n"
     ]
    }
   ],
   "source": [
    "# Random Number Gen for Int\n",
    "print( np.random.randint( 1, 100, 10 ) )"
   ]
  },
  {
   "cell_type": "code",
   "execution_count": 25,
   "metadata": {},
   "outputs": [],
   "source": [
    "arr    = np.arange( 25 )\n",
    "ranarr = np.random.randint( 0, 50, 10 )"
   ]
  },
  {
   "cell_type": "code",
   "execution_count": 26,
   "metadata": {},
   "outputs": [
    {
     "data": {
      "text/plain": [
       "array([[ 0,  1,  2,  3,  4],\n",
       "       [ 5,  6,  7,  8,  9],\n",
       "       [10, 11, 12, 13, 14],\n",
       "       [15, 16, 17, 18, 19],\n",
       "       [20, 21, 22, 23, 24]])"
      ]
     },
     "execution_count": 26,
     "metadata": {},
     "output_type": "execute_result"
    }
   ],
   "source": [
    "# Reshape Method\n",
    "arr.reshape( 5, 5 )"
   ]
  },
  {
   "cell_type": "code",
   "execution_count": 31,
   "metadata": {},
   "outputs": [
    {
     "name": "stdout",
     "output_type": "stream",
     "text": [
      "49\n",
      "2\n",
      "3\n",
      "4\n"
     ]
    }
   ],
   "source": [
    "# Find Values\n",
    "print( ranarr.max() )\n",
    "print( ranarr.min() )\n",
    "\n",
    "# By Index\n",
    "print( ranarr.argmax() )\n",
    "print( ranarr.argmin() )"
   ]
  },
  {
   "cell_type": "code",
   "execution_count": 35,
   "metadata": {},
   "outputs": [
    {
     "name": "stdout",
     "output_type": "stream",
     "text": [
      "(25,)\n",
      "(5, 5)\n"
     ]
    }
   ],
   "source": [
    "# Dimension of Object\n",
    "print( arr.shape )\n",
    "\n",
    "arr = arr.reshape( 5, 5 )\n",
    "print( arr.shape )"
   ]
  },
  {
   "cell_type": "code",
   "execution_count": 36,
   "metadata": {},
   "outputs": [
    {
     "data": {
      "text/plain": [
       "dtype('int32')"
      ]
     },
     "execution_count": 36,
     "metadata": {},
     "output_type": "execute_result"
    }
   ],
   "source": [
    "# Data Type of Object\n",
    "arr.dtype"
   ]
  },
  {
   "cell_type": "code",
   "execution_count": 37,
   "metadata": {},
   "outputs": [],
   "source": [
    "# Shorthand\n",
    "from numpy import random as rn"
   ]
  },
  {
   "cell_type": "code",
   "execution_count": 38,
   "metadata": {},
   "outputs": [
    {
     "data": {
      "text/plain": [
       "8"
      ]
     },
     "execution_count": 38,
     "metadata": {},
     "output_type": "execute_result"
    }
   ],
   "source": [
    "rn.randint( 2, 10 )"
   ]
  },
  {
   "cell_type": "code",
   "execution_count": 39,
   "metadata": {},
   "outputs": [
    {
     "name": "stdout",
     "output_type": "stream",
     "text": [
      "[ 0  1  2  3  4  5  6  7  8  9 10]\n"
     ]
    }
   ],
   "source": [
    "arr = np.arange( 0, 11 )\n",
    "print( arr )"
   ]
  },
  {
   "cell_type": "code",
   "execution_count": 43,
   "metadata": {},
   "outputs": [
    {
     "name": "stdout",
     "output_type": "stream",
     "text": [
      "8\n",
      "[1 2 3 4]\n",
      "[0 1 2 3 4 5]\n",
      "[ 0  1  2  3  4  5  6  7  8  9 10]\n"
     ]
    }
   ],
   "source": [
    "# Indexing\n",
    "print( arr[8] )\n",
    "print( arr[1:5] )\n",
    "print( arr[ :6] )\n",
    "print( arr[0: ] )"
   ]
  },
  {
   "cell_type": "code",
   "execution_count": null,
   "metadata": {},
   "outputs": [],
   "source": [
    "# Broadcasting\n",
    "arr[0:5] = 100"
   ]
  },
  {
   "cell_type": "code",
   "execution_count": 45,
   "metadata": {},
   "outputs": [],
   "source": [
    "slice_of_array = arr[0:6]"
   ]
  },
  {
   "cell_type": "code",
   "execution_count": 46,
   "metadata": {},
   "outputs": [],
   "source": [
    "slice_of_array[:] = 99"
   ]
  },
  {
   "cell_type": "code",
   "execution_count": 48,
   "metadata": {},
   "outputs": [
    {
     "name": "stdout",
     "output_type": "stream",
     "text": [
      "[99 99 99 99 99 99]\n",
      "[99 99 99 99 99 99  6  7  8  9 10]\n"
     ]
    }
   ],
   "source": [
    "# Because slice_of_array was set with arr\n",
    "# Any updates to slice_of_array affect arr\n",
    "    # Data is not copied, it is just a view of the original array\n",
    "    # This is to save memory\n",
    "print( slice_of_array )\n",
    "print( arr )"
   ]
  },
  {
   "cell_type": "code",
   "execution_count": 50,
   "metadata": {},
   "outputs": [
    {
     "name": "stdout",
     "output_type": "stream",
     "text": [
      "[0 0 0 0 0 0 0 0 0 0 0]\n",
      "[99 99 99 99 99 99  6  7  8  9 10]\n"
     ]
    }
   ],
   "source": [
    "# To Copy \n",
    "arr_copy = arr.copy()\n",
    "arr_copy[:] = 0\n",
    "print( arr_copy )\n",
    "print( arr )"
   ]
  },
  {
   "cell_type": "code",
   "execution_count": 51,
   "metadata": {},
   "outputs": [
    {
     "name": "stdout",
     "output_type": "stream",
     "text": [
      "[[ 5 10 15]\n",
      " [20 25 30]\n",
      " [35 40 45]]\n"
     ]
    }
   ],
   "source": [
    "# Indexing a Matrix\n",
    "arr_2d = np.array([[5, 10, 15], [20, 25, 30], [35, 40, 45]])\n",
    "print( arr_2d )"
   ]
  },
  {
   "cell_type": "code",
   "execution_count": 56,
   "metadata": {},
   "outputs": [
    {
     "name": "stdout",
     "output_type": "stream",
     "text": [
      "45\n",
      "[[ 5 10]\n",
      " [20 25]]\n",
      "[[ 5 10 15]\n",
      " [20 25 30]]\n",
      "[[35 40 45]]\n"
     ]
    }
   ],
   "source": [
    "# Remember that Indexing is Exclusive Upper Bound\n",
    "print( arr_2d[ 2, 2 ] )\n",
    "print( arr_2d[ :2, :2 ] )\n",
    "print( arr_2d[ :2] )\n",
    "print( arr_2d[2: ] )"
   ]
  },
  {
   "cell_type": "code",
   "execution_count": 62,
   "metadata": {},
   "outputs": [
    {
     "name": "stdout",
     "output_type": "stream",
     "text": [
      "[False False False False False False  True  True  True  True  True]\n",
      "[ 6  7  8  9 10]\n",
      "[ 6  7  8  9 10]\n"
     ]
    }
   ],
   "source": [
    "# Conditional Selection\n",
    "arr = np.arange( 0, 11 )\n",
    "print( arr > 5 )\n",
    "\n",
    "# Save the Indexes \n",
    "bool_arr = arr > 5\n",
    "print( arr[ bool_arr ] )\n",
    "\n",
    "# Shorthand\n",
    "print( arr[ arr > 5 ] )"
   ]
  },
  {
   "cell_type": "code",
   "execution_count": 67,
   "metadata": {},
   "outputs": [
    {
     "name": "stdout",
     "output_type": "stream",
     "text": [
      "[ 0  2  4  6  8 10 12 14 16 18 20]\n",
      "[  0   1   4   9  16  25  36  49  64  81 100]\n"
     ]
    }
   ],
   "source": [
    "# Array with Array Operations\n",
    "arr = np.arange( 0, 11 )\n",
    "print( arr + arr )\n",
    "print( arr * arr )"
   ]
  },
  {
   "cell_type": "code",
   "execution_count": 68,
   "metadata": {},
   "outputs": [
    {
     "name": "stdout",
     "output_type": "stream",
     "text": [
      "[100 101 102 103 104 105 106 107 108 109 110]\n"
     ]
    }
   ],
   "source": [
    "# Broadcasting for Scalers\n",
    "print( arr + 100 )"
   ]
  },
  {
   "cell_type": "code",
   "execution_count": 70,
   "metadata": {},
   "outputs": [
    {
     "name": "stdout",
     "output_type": "stream",
     "text": [
      "[0.         1.         1.41421356 1.73205081 2.         2.23606798\n",
      " 2.44948974 2.64575131 2.82842712 3.         3.16227766]\n",
      "[1.00000000e+00 2.71828183e+00 7.38905610e+00 2.00855369e+01\n",
      " 5.45981500e+01 1.48413159e+02 4.03428793e+02 1.09663316e+03\n",
      " 2.98095799e+03 8.10308393e+03 2.20264658e+04]\n",
      "10\n",
      "[ 0.          0.84147098  0.90929743  0.14112001 -0.7568025  -0.95892427\n",
      " -0.2794155   0.6569866   0.98935825  0.41211849 -0.54402111]\n"
     ]
    }
   ],
   "source": [
    "# Universal Array Functions\n",
    "    # If mathematical, see if NumPy has it built in first\n",
    "print( np.sqrt( arr ) )\n",
    "print( np.exp( arr ) )\n",
    "print( np.max( arr ) )\n",
    "print( np.sin( arr ) )"
   ]
  },
  {
   "cell_type": "code",
   "execution_count": null,
   "metadata": {},
   "outputs": [],
   "source": []
  }
 ],
 "metadata": {
  "kernelspec": {
   "display_name": "Python 3",
   "language": "python",
   "name": "python3"
  },
  "language_info": {
   "codemirror_mode": {
    "name": "ipython",
    "version": 3
   },
   "file_extension": ".py",
   "mimetype": "text/x-python",
   "name": "python",
   "nbconvert_exporter": "python",
   "pygments_lexer": "ipython3",
   "version": "3.6.5"
  }
 },
 "nbformat": 4,
 "nbformat_minor": 2
}
