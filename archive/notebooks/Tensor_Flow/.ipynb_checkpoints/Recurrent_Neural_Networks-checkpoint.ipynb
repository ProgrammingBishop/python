{
 "cells": [
  {
   "cell_type": "markdown",
   "metadata": {},
   "source": [
    "# Recurrent Neural Networks"
   ]
  },
  {
   "cell_type": "markdown",
   "metadata": {},
   "source": [
    "Unlike Neural Networks, Recurrent Networks have neurons that pass the output back into itself. Each iteration of this passing represents a time $t$; so we can have $t - 1$, $t$, and $t + 1$. This creates a type of memory - previous state - that can also be viewed like a prior.\n",
    "\n",
    "###### Types\n",
    "- Sequence to Vector: pass in a sequence to get one output\n",
    "- Vector to Sequence: pass in single input and output a sequence.\n",
    "\n",
    "###### Parameters\n",
    "- $w_x$: original input\n",
    "- $w_y$: second output of original input\n",
    "- $t$: step of the recurrence (time step could be like a word: a sentence represents a time time series; one $t$ for each word)."
   ]
  },
  {
   "cell_type": "markdown",
   "metadata": {},
   "source": [
    "### Manual Creation"
   ]
  },
  {
   "cell_type": "code",
   "execution_count": 1,
   "metadata": {},
   "outputs": [],
   "source": [
    "import numpy             as np\n",
    "import pandas            as pd\n",
    "import matplotlib.pyplot as plt\n",
    "import tensorflow        as tf"
   ]
  },
  {
   "cell_type": "code",
   "execution_count": 2,
   "metadata": {},
   "outputs": [],
   "source": [
    "%matplotlib inline"
   ]
  },
  {
   "cell_type": "code",
   "execution_count": 3,
   "metadata": {},
   "outputs": [],
   "source": [
    "from sklearn.model_selection import train_test_split"
   ]
  },
  {
   "cell_type": "code",
   "execution_count": 4,
   "metadata": {},
   "outputs": [],
   "source": [
    "NUM_INPUTS  = 2\n",
    "NUM_NEURONS = 3"
   ]
  },
  {
   "cell_type": "code",
   "execution_count": 5,
   "metadata": {},
   "outputs": [],
   "source": [
    "# Need placeholder for ach time step\n",
    "x0 = tf.placeholder( tf.float32, [ None, NUM_INPUTS ] )\n",
    "x1 = tf.placeholder( tf.float32, [ None, NUM_INPUTS ] )"
   ]
  },
  {
   "cell_type": "code",
   "execution_count": 6,
   "metadata": {},
   "outputs": [],
   "source": [
    "wx = tf.Variable( tf.random_normal( shape = [ NUM_INPUTS, NUM_NEURONS ] ) )\n",
    "wy = tf.Variable( tf.random_normal( shape = [ NUM_NEURONS, NUM_NEURONS ] ) )\n",
    "b  = tf.Variable( tf.zeros( shape = [ 1, NUM_NEURONS ] ) )"
   ]
  },
  {
   "cell_type": "code",
   "execution_count": 7,
   "metadata": {},
   "outputs": [],
   "source": [
    "# Initial input\n",
    "y0 = tf.tanh( tf.matmul( x0, wx ) + b )\n",
    "# Initial input's output multiplied by second set of weights\n",
    "y1 = tf.tanh( tf.matmul( y0, wy ) + tf.matmul( x1, wx ) + b )"
   ]
  },
  {
   "cell_type": "code",
   "execution_count": 8,
   "metadata": {},
   "outputs": [],
   "source": [
    "init = tf.global_variables_initializer()"
   ]
  },
  {
   "cell_type": "code",
   "execution_count": 9,
   "metadata": {},
   "outputs": [],
   "source": [
    "# Timestamp 0\n",
    "x0_batch = np.array( [ [ 0, 1 ], [ 2, 3 ], [ 4, 5 ] ] )\n",
    "# Timestamp 1 (Random Numbers)\n",
    "x1_batch = np.array( [ [ 100, 100 ], [ 200, 300 ], [ 400, 500 ] ] )"
   ]
  },
  {
   "cell_type": "code",
   "execution_count": 10,
   "metadata": {},
   "outputs": [],
   "source": [
    "with tf.Session() as sess:\n",
    "    sess.run( init )\n",
    "    \n",
    "    y0_output, y1_output = sess.run( [ y0, y1 ], feed_dict = { x0 : x0_batch, x1 : x1_batch } )"
   ]
  },
  {
   "cell_type": "code",
   "execution_count": 11,
   "metadata": {},
   "outputs": [
    {
     "data": {
      "text/plain": [
       "array([[-0.7510968 , -0.98643494,  0.66765314],\n",
       "       [-0.99743205, -0.9999999 ,  0.9998643 ],\n",
       "       [-0.9999768 , -1.        ,  0.99999994]], dtype=float32)"
      ]
     },
     "execution_count": 11,
     "metadata": {},
     "output_type": "execute_result"
    }
   ],
   "source": [
    "y0_output"
   ]
  },
  {
   "cell_type": "code",
   "execution_count": 12,
   "metadata": {},
   "outputs": [
    {
     "data": {
      "text/plain": [
       "array([[-1., -1.,  1.],\n",
       "       [-1., -1.,  1.],\n",
       "       [-1., -1.,  1.]], dtype=float32)"
      ]
     },
     "execution_count": 12,
     "metadata": {},
     "output_type": "execute_result"
    }
   ],
   "source": [
    "y1_output"
   ]
  },
  {
   "cell_type": "markdown",
   "metadata": {},
   "source": [
    "### Correct Vanishing Gradients"
   ]
  },
  {
   "cell_type": "markdown",
   "metadata": {},
   "source": [
    "###### Long Short-Term Memory (LSTM)\n",
    "Inputs\n",
    "- $h_{t - 1}$\n",
    "- $x_t$\n",
    "- $c_{t - 1}$: previous cell state.\n",
    "\n",
    "Outputs\n",
    "- $h_t$\n",
    "- $c_t$: current cell state.\n",
    "\n",
    "Steps\n",
    "- Forget Gate Layer: $f_t = \\sigma( W_f\\ dot\\  [ h_{t - 1}, x_t ] + b_f )$ and this represents the amount of information forgotten from the cell state. The inputs come in after a linear transformation and into a sigmoid function. 1 means to keep and 0 means to forget.\n",
    "- Information to Store: \n",
    "    - $i_t = \\sigma\\ ( W_i\\ dot\\ [ h_{t - 1}, x_t ] + b_i )$ and this is the Input Gate Layer - it is a Sigmoid layer.\n",
    "    - $\\tilde C_t = tanh( W_c\\ dot\\ [ h_{t - 1}, x_t ] + b_c )$ and this creates New Candidate Values that can be added to the state.\n",
    "- Update Old Cell State: $C_t = ( f_t * C_{t - 1} ) + ( i_t * \\tilde C_t )$\n",
    "- Updated $h_t$: this dictates what parts of the cell state will be output.\n",
    "    - $o_t = \\sigma\\ ( W_o [ h_{t - 1}, x_t ] + b_o )$\n",
    "    - $h_t = 0_t * tanh( C_t )$ \n",
    "\n",
    "###### Gated Recurrent Unit (GRU)\n",
    "Simplification of the LSTM\n",
    "- $z_t = \\sigma\\ ( W_z\\ dot\\ [ h_{t - 1}, x_t ] )$\n",
    "- $r_t = \\sigma\\ ( W_r\\ dot\\ [ h_{t - 1}, x_t ] )$\n",
    "- $\\tilde h_t = tanh( W\\ dot\\ [ r_t * h_{t - 1}, x_t ] )$\n",
    "- $h_t = ( 1 -z_t ) * h_{t - 1} + z_t * \\tilde h_t$"
   ]
  },
  {
   "cell_type": "markdown",
   "metadata": {},
   "source": [
    "### Building RNN"
   ]
  },
  {
   "cell_type": "code",
   "execution_count": 13,
   "metadata": {},
   "outputs": [],
   "source": [
    "class TimeSeriesData():\n",
    "    def __init__( self, num_points, xmin, xmax ):\n",
    "        self.xmin       = xmin\n",
    "        self.xmax       = xmax\n",
    "        self.num_points = num_points\n",
    "        self.resolution = ( xmax - xmin ) / num_points\n",
    "        self.x_data     = np.linspace( xmin, xmax, num_points )\n",
    "        self.y_true     = np.sin( self.x_data )\n",
    "        \n",
    "    def return_true( self, x_series ):\n",
    "        return np.sin( x_series )\n",
    "    \n",
    "    def next_batch( self, batch_size, steps, return_batch_ts = False ):\n",
    "        # Grab random starting point for each batch\n",
    "        rand_start = np.random.rand( batch_size, 1 )\n",
    "        # Convert random start to be on time series\n",
    "        ts_start = rand_start * ( self.xmax - self.xmin - ( steps * self.resolution ) )\n",
    "        # Create batch time series on x-axis\n",
    "        batch_ts = ts_start + np.arange( 0.0, steps + 1 ) * self.resolution\n",
    "        # Create Y data for time series x-axis from previous step\n",
    "        y_batch = np.sin( batch_ts )\n",
    "        \n",
    "        # Format for RNN\n",
    "        if return_batch_ts:\n",
    "            return y_batch[ :, :-1 ].reshape( -1, steps, 1 ),\\\n",
    "                   y_batch[ :, 1: ].reshape( -1, steps, 1 ),\\\n",
    "                   batch_ts\n",
    "        else: \n",
    "            return y_batch[ :, :-1 ].reshape( -1, steps, 1 ),\\\n",
    "                   y_batch[ :, 1: ].reshape( -1, steps, 1 )"
   ]
  },
  {
   "cell_type": "code",
   "execution_count": 14,
   "metadata": {},
   "outputs": [
    {
     "data": {
      "text/plain": [
       "[<matplotlib.lines.Line2D at 0x1ab62006ac8>]"
      ]
     },
     "execution_count": 14,
     "metadata": {},
     "output_type": "execute_result"
    },
    {
     "data": {
      "image/png": "[encoded data removed]",
      "text/plain": [
       "<Figure size 432x288 with 1 Axes>"
      ]
     },
     "metadata": {
      "needs_background": "light"
     },
     "output_type": "display_data"
    }
   ],
   "source": [
    "ts_data = TimeSeriesData( 250, 0, 10 )\n",
    "\n",
    "plt.plot( ts_data.x_data, ts_data.y_true )"
   ]
  },
  {
   "cell_type": "code",
   "execution_count": 15,
   "metadata": {},
   "outputs": [
    {
     "data": {
      "text/plain": [
       "[<matplotlib.lines.Line2D at 0x1ab620a1358>]"
      ]
     },
     "execution_count": 15,
     "metadata": {},
     "output_type": "execute_result"
    },
    {
     "data": {
      "image/png": "[encoded data removed]",
      "text/plain": [
       "<Figure size 432x288 with 1 Axes>"
      ]
     },
     "metadata": {
      "needs_background": "light"
     },
     "output_type": "display_data"
    }
   ],
   "source": [
    "num_time_steps = 30\n",
    "y1, y2, ts     = ts_data.next_batch( 1, num_time_steps, True )\n",
    "\n",
    "plt.plot( ts.flatten()[ 1: ], y2.flatten(), '*' )"
   ]
  },
  {
   "cell_type": "code",
   "execution_count": 16,
   "metadata": {},
   "outputs": [
    {
     "data": {
      "text/plain": [
       "<matplotlib.legend.Legend at 0x1ab62107be0>"
      ]
     },
     "execution_count": 16,
     "metadata": {},
     "output_type": "execute_result"
    },
    {
     "data": {
      "image/png": "[encoded data removed]",
      "text/plain": [
       "<Figure size 432x288 with 1 Axes>"
      ]
     },
     "metadata": {
      "needs_background": "light"
     },
     "output_type": "display_data"
    }
   ],
   "source": [
    "train_inst = np.linspace( 5, 5 + ts_data.resolution * ( num_time_steps + 1 ), num_time_steps + 1 )\n",
    "\n",
    "plt.title( 'Train' )\n",
    "plt.plot( train_inst[ :-1 ], ts_data.return_true( train_inst[ :-1 ] ), 'bo', markersize = 15, alpha = 0.5, label = 'Instance' )\n",
    "plt.plot( train_inst[ 1: ], ts_data.return_true( train_inst[ 1: ] ), 'ko', markersize = 7, label = 'Target' )\n",
    "plt.legend()"
   ]
  },
  {
   "cell_type": "markdown",
   "metadata": {},
   "source": [
    "### More RNN from Scratch"
   ]
  },
  {
   "cell_type": "code",
   "execution_count": 17,
   "metadata": {},
   "outputs": [],
   "source": [
    "tf.reset_default_graph()"
   ]
  },
  {
   "cell_type": "code",
   "execution_count": 18,
   "metadata": {},
   "outputs": [],
   "source": [
    "num_inputs           = 1\n",
    "num_neurons          = 100\n",
    "num_outputs          = 1\n",
    "learning_rate        = 0.001\n",
    "num_train_iterations = 2000\n",
    "batch_size           = 1"
   ]
  },
  {
   "cell_type": "code",
   "execution_count": 19,
   "metadata": {},
   "outputs": [],
   "source": [
    "X = tf.placeholder( tf.float32, [ None, num_time_steps, num_inputs ] )\n",
    "y = tf.placeholder( tf.float32, [ None, num_time_steps, num_outputs ] )"
   ]
  },
  {
   "cell_type": "code",
   "execution_count": 20,
   "metadata": {},
   "outputs": [],
   "source": [
    "cell = tf.contrib.rnn.GRUCell( num_units = num_neurons, activation = tf.nn.relu )\n",
    "cell = tf.contrib.rnn.OutputProjectionWrapper( cell, output_size = num_outputs )"
   ]
  },
  {
   "cell_type": "code",
   "execution_count": 21,
   "metadata": {},
   "outputs": [],
   "source": [
    "outputs, states = tf.nn.dynamic_rnn( cell, X, dtype = tf.float32 )"
   ]
  },
  {
   "cell_type": "code",
   "execution_count": 22,
   "metadata": {},
   "outputs": [],
   "source": [
    "loss = tf.reduce_mean( tf.square( outputs - y ) )"
   ]
  },
  {
   "cell_type": "code",
   "execution_count": 23,
   "metadata": {},
   "outputs": [],
   "source": [
    "optimizer = tf.train.AdamOptimizer( learning_rate = learning_rate )\n",
    "train     = optimizer.minimize( loss )"
   ]
  },
  {
   "cell_type": "code",
   "execution_count": 24,
   "metadata": {},
   "outputs": [],
   "source": [
    "init = tf.global_variables_initializer()"
   ]
  },
  {
   "cell_type": "code",
   "execution_count": 25,
   "metadata": {},
   "outputs": [],
   "source": [
    "# GPU ONLY\n",
    "# gpu_options = tf.GPUOptions( per_process_gpu_memory_fraction = 0.85 )"
   ]
  },
  {
   "cell_type": "code",
   "execution_count": 26,
   "metadata": {},
   "outputs": [],
   "source": [
    "saver = tf.train.Saver()"
   ]
  },
  {
   "cell_type": "code",
   "execution_count": 27,
   "metadata": {},
   "outputs": [
    {
     "name": "stdout",
     "output_type": "stream",
     "text": [
      "0 \tMSE 0.8902817\n",
      "100 \tMSE 0.031832952\n",
      "200 \tMSE 0.043016627\n",
      "300 \tMSE 0.018293275\n",
      "400 \tMSE 0.0148671875\n",
      "500 \tMSE 0.010024514\n",
      "600 \tMSE 0.0090782065\n",
      "700 \tMSE 0.0065238806\n",
      "800 \tMSE 0.004697638\n",
      "900 \tMSE 0.010798555\n",
      "1000 \tMSE 0.001623697\n",
      "1100 \tMSE 0.0001801118\n",
      "1200 \tMSE 0.0007825737\n",
      "1300 \tMSE 8.825517e-05\n",
      "1400 \tMSE 0.00018730579\n",
      "1500 \tMSE 2.7752227e-05\n",
      "1600 \tMSE 1.00140805e-05\n",
      "1700 \tMSE 2.9646157e-05\n",
      "1800 \tMSE 0.00012779291\n",
      "1900 \tMSE 4.2317647e-06\n"
     ]
    }
   ],
   "source": [
    "# GPU ONLY\n",
    "# with tf.Session( config = tf.ConfigProto( gpu_options = gpu_options ) ) as sess:\n",
    "with tf.Session() as sess:\n",
    "    sess.run( init )\n",
    "    \n",
    "    for iteration in range( num_train_iterations ):\n",
    "        X_batch, y_batch = ts_data.next_batch( batch_size, num_time_steps )\n",
    "        sess.run( train, feed_dict = { X : X_batch, y : y_batch } )\n",
    "        \n",
    "        if iteration % 100 == 0:\n",
    "            mse = loss.eval( feed_dict = { X : X_batch, y : y_batch } )\n",
    "            print( iteration, \"\\tMSE\", mse )\n",
    "            \n",
    "    saver.save( sess, \"./rnn_time_series_model_test\" )"
   ]
  },
  {
   "cell_type": "code",
   "execution_count": 28,
   "metadata": {},
   "outputs": [
    {
     "name": "stdout",
     "output_type": "stream",
     "text": [
      "INFO:tensorflow:Restoring parameters from ./rnn_time_series_model_test\n"
     ]
    }
   ],
   "source": [
    "with tf.Session() as sess:\n",
    "    saver.restore( sess, \"./rnn_time_series_model_test\" )\n",
    "    X_new = np.sin( np.array( train_inst[ :-1 ].reshape( -1, num_time_steps, num_inputs ) ) )\n",
    "    y_pred = sess.run( outputs, feed_dict = { X : X_new } )"
   ]
  },
  {
   "cell_type": "code",
   "execution_count": 29,
   "metadata": {},
   "outputs": [
    {
     "data": {
      "image/png": "[encoded data removed]",
      "text/plain": [
       "<Figure size 432x288 with 1 Axes>"
      ]
     },
     "metadata": {
      "needs_background": "light"
     },
     "output_type": "display_data"
    }
   ],
   "source": [
    "plt.plot( train_inst[ :-1 ], np.sin( train_inst[ :-1 ] ), \"bo\", markersize = 15, alpha = 0.5, label = 'Training' )\n",
    "plt.plot( train_inst[ 1: ], np.sin( train_inst[ 1: ] ), \"ko\", markersize = 10, label = \"Target\" )\n",
    "plt.plot( train_inst[ 1: ], y_pred[ 0, :, 0 ], \"r.\", markersize = 10, label = \"predictions\" )\n",
    "plt.xlabel( 'Time' )\n",
    "plt.legend()\n",
    "plt.tight_layout()"
   ]
  },
  {
   "cell_type": "markdown",
   "metadata": {},
   "source": [
    "### Word2Vec"
   ]
  },
  {
   "cell_type": "markdown",
   "metadata": {},
   "source": [
    "Use Gensim"
   ]
  },
  {
   "cell_type": "code",
   "execution_count": null,
   "metadata": {},
   "outputs": [],
   "source": []
  }
 ],
 "metadata": {
  "kernelspec": {
   "display_name": "Python 3",
   "language": "python",
   "name": "python3"
  },
  "language_info": {
   "codemirror_mode": {
    "name": "ipython",
    "version": 3
   },
   "file_extension": ".py",
   "mimetype": "text/x-python",
   "name": "python",
   "nbconvert_exporter": "python",
   "pygments_lexer": "ipython3",
   "version": "3.6.0"
  }
 },
 "nbformat": 4,
 "nbformat_minor": 2
}
