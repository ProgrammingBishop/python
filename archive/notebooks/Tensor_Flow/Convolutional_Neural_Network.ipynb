{
 "cells": [
  {
   "cell_type": "markdown",
   "metadata": {},
   "source": [
    "# Convolutional Neural Network"
   ]
  },
  {
   "cell_type": "code",
   "execution_count": 16,
   "metadata": {},
   "outputs": [],
   "source": [
    "import pandas            as pd\n",
    "import numpy             as np\n",
    "import matplotlib.pyplot as plt\n",
    "import tensorflow        as tf\n",
    "import os"
   ]
  },
  {
   "cell_type": "code",
   "execution_count": 5,
   "metadata": {},
   "outputs": [],
   "source": [
    "from sklearn.model_selection             import train_test_split\n",
    "from tensorflow.examples.tutorials.mnist import input_data"
   ]
  },
  {
   "cell_type": "code",
   "execution_count": 3,
   "metadata": {},
   "outputs": [],
   "source": [
    "%matplotlib inline"
   ]
  },
  {
   "cell_type": "markdown",
   "metadata": {},
   "source": [
    "### Simple MNIST"
   ]
  },
  {
   "cell_type": "code",
   "execution_count": 11,
   "metadata": {},
   "outputs": [
    {
     "name": "stdout",
     "output_type": "stream",
     "text": [
      "Successfully downloaded train-images-idx3-ubyte.gz 9912422 bytes.\n",
      "Extracting C:Users\\andre\\Desktop\\GitHub\\Data\\MNIST_data\\train-images-idx3-ubyte.gz\n",
      "Successfully downloaded train-labels-idx1-ubyte.gz 28881 bytes.\n",
      "Extracting C:Users\\andre\\Desktop\\GitHub\\Data\\MNIST_data\\train-labels-idx1-ubyte.gz\n",
      "Successfully downloaded t10k-images-idx3-ubyte.gz 1648877 bytes.\n",
      "Extracting C:Users\\andre\\Desktop\\GitHub\\Data\\MNIST_data\\t10k-images-idx3-ubyte.gz\n",
      "Successfully downloaded t10k-labels-idx1-ubyte.gz 4542 bytes.\n",
      "Extracting C:Users\\andre\\Desktop\\GitHub\\Data\\MNIST_data\\t10k-labels-idx1-ubyte.gz\n"
     ]
    }
   ],
   "source": [
    "mnist = input_data.read_data_sets( os.path.join( \"C:\", \"Users\", \"andre\", \"Desktop\", \"GitHub\", \"Data\", \"MNIST_data\" ), one_hot = True )"
   ]
  },
  {
   "cell_type": "code",
   "execution_count": 12,
   "metadata": {},
   "outputs": [],
   "source": [
    "single_image = mnist.train.images[1].reshape( 28, 28 )"
   ]
  },
  {
   "cell_type": "code",
   "execution_count": 14,
   "metadata": {},
   "outputs": [
    {
     "data": {
      "text/plain": [
       "<matplotlib.image.AxesImage at 0x1c3810b3710>"
      ]
     },
     "execution_count": 14,
     "metadata": {},
     "output_type": "execute_result"
    },
    {
     "data": {
      "image/png": "[encoded data removed]",
      "text/plain": [
       "<Figure size 432x288 with 1 Axes>"
      ]
     },
     "metadata": {
      "needs_background": "light"
     },
     "output_type": "display_data"
    }
   ],
   "source": [
    "plt.imshow( single_image, cmap = 'gist_gray' )"
   ]
  },
  {
   "cell_type": "markdown",
   "metadata": {},
   "source": [
    "###### Steps\n",
    "\n",
    "- Placeholders \n",
    "- Variables\n",
    "- Create Graph Operations\n",
    "- Loss Function\n",
    "- Optimizer\n",
    "- Create Session\n",
    "- Evaluate"
   ]
  },
  {
   "cell_type": "code",
   "execution_count": 36,
   "metadata": {},
   "outputs": [
    {
     "name": "stdout",
     "output_type": "stream",
     "text": [
      "0.9214\n"
     ]
    }
   ],
   "source": [
    "x      = tf.placeholder( tf.float32, shape = [ None, 784 ] )\n",
    "y_true = tf.placeholder( tf.float32, shape = [ None, 10 ] )\n",
    "\n",
    "W = tf.Variable( tf.zeros( [ 784, 10 ] ) )\n",
    "b = tf.Variable( tf.zeros( [ 10 ] ) )\n",
    "\n",
    "y = tf.matmul( x, W ) + b\n",
    "\n",
    "cross_entropy = tf.reduce_mean( tf.nn.softmax_cross_entropy_with_logits_v2( labels = y_true, logits = y ) )\n",
    "\n",
    "optimizer = tf.train.GradientDescentOptimizer( learning_rate = 0.375 )\n",
    "train     = optimizer.minimize( cross_entropy )\n",
    "\n",
    "init = tf.global_variables_initializer()\n",
    "\n",
    "with tf.Session() as sess:\n",
    "    sess.run( init )\n",
    "    \n",
    "    for step in range( 1000 ):\n",
    "        batch_x, batch_y = mnist.train.next_batch( 100 )\n",
    "        sess.run( train, feed_dict = { x : batch_x, y_true : batch_y } )\n",
    "        \n",
    "    correct_prediction = tf.equal( tf.argmax( y, axis = 1 ), tf.argmax( y_true, axis = 1 ) )\n",
    "    accuracy           = tf.reduce_mean( tf.cast( correct_prediction, tf.float32 ) )\n",
    "    \n",
    "    print( sess.run( accuracy, feed_dict = { x : mnist.test.images, y_true : mnist.test.labels } ) )"
   ]
  },
  {
   "cell_type": "markdown",
   "metadata": {},
   "source": [
    "### Optimized MNIST"
   ]
  },
  {
   "cell_type": "code",
   "execution_count": 59,
   "metadata": {},
   "outputs": [],
   "source": [
    "def init_weights( shape ):\n",
    "    init_random_dist = tf.truncated_normal( shape, stddev = 0.1 )\n",
    "    return tf.Variable( init_random_dist )"
   ]
  },
  {
   "cell_type": "code",
   "execution_count": 60,
   "metadata": {},
   "outputs": [],
   "source": [
    "def init_bias( shape ):\n",
    "    init_bias_vals = tf.constant( 0.1, shape = shape )\n",
    "    return tf.Variable( init_bias_vals )"
   ]
  },
  {
   "cell_type": "code",
   "execution_count": 61,
   "metadata": {},
   "outputs": [],
   "source": [
    "def conv2d( x, W ):\n",
    "    # x = [ batch, w, h, channels ]\n",
    "    # W = [ filter h, filter w, channels in, channels out ]\n",
    "    return tf.nn.conv2d( x, W, strides = [ 1, 1, 1, 1 ], padding = 'SAME' )"
   ]
  },
  {
   "cell_type": "code",
   "execution_count": 62,
   "metadata": {},
   "outputs": [],
   "source": [
    "def max_pool_2by2( x ):\n",
    "    # x = [ batch, h, w, channels ]\n",
    "    return tf.nn.max_pool( x, ksize = [ 1, 2, 2, 1 ], strides = [ 1, 2, 2, 1 ], padding = 'SAME' )"
   ]
  },
  {
   "cell_type": "code",
   "execution_count": 63,
   "metadata": {},
   "outputs": [],
   "source": [
    "def convolutional_layer( input_x, shape ):\n",
    "    W = init_weights( shape )\n",
    "    b = init_bias( [ shape[ 3 ] ] )\n",
    "    \n",
    "    return tf.nn.relu( conv2d( input_x, W ) + b )"
   ]
  },
  {
   "cell_type": "code",
   "execution_count": 64,
   "metadata": {},
   "outputs": [],
   "source": [
    "def normal_full_layer( input_layer, size ):\n",
    "    input_size = int( input_layer.get_shape()[1] )\n",
    "    W          = init_weights( [ input_size, size ] )\n",
    "    b          = init_bias( [ size ] )\n",
    "    \n",
    "    return tf.matmul( input_layer, W ) + b"
   ]
  },
  {
   "cell_type": "code",
   "execution_count": 65,
   "metadata": {},
   "outputs": [
    {
     "name": "stdout",
     "output_type": "stream",
     "text": [
      "Extracting C:Users\\andre\\Desktop\\GitHub\\Data\\MNIST_data\\train-images-idx3-ubyte.gz\n",
      "Extracting C:Users\\andre\\Desktop\\GitHub\\Data\\MNIST_data\\train-labels-idx1-ubyte.gz\n",
      "Extracting C:Users\\andre\\Desktop\\GitHub\\Data\\MNIST_data\\t10k-images-idx3-ubyte.gz\n",
      "Extracting C:Users\\andre\\Desktop\\GitHub\\Data\\MNIST_data\\t10k-labels-idx1-ubyte.gz\n"
     ]
    }
   ],
   "source": [
    "mnist = input_data.read_data_sets( os.path.join( \"C:\", \"Users\", \"andre\", \"Desktop\", \"GitHub\", \"Data\", \"MNIST_data\" ), one_hot = True )"
   ]
  },
  {
   "cell_type": "code",
   "execution_count": 67,
   "metadata": {},
   "outputs": [
    {
     "name": "stdout",
     "output_type": "stream",
     "text": [
      "ON STEP: 0\n",
      "ACCURACY: \n",
      "0.1696\n",
      "\n",
      "\n",
      "ON STEP: 100\n",
      "ACCURACY: \n",
      "0.9373\n",
      "\n",
      "\n",
      "ON STEP: 200\n",
      "ACCURACY: \n",
      "0.9638\n",
      "\n",
      "\n",
      "ON STEP: 300\n",
      "ACCURACY: \n",
      "0.9671\n",
      "\n",
      "\n",
      "ON STEP: 400\n",
      "ACCURACY: \n",
      "0.9756\n",
      "\n",
      "\n"
     ]
    }
   ],
   "source": [
    "x      = tf.placeholder( tf.float32, shape = [ None, 784 ] )\n",
    "y_true = tf.placeholder( tf.float32, shape = [ None, 10 ] )\n",
    "\n",
    "# -1 is essentially the None dimension\n",
    "x_image = tf.reshape( x, [ -1, 28, 28, 1 ] )\n",
    "\n",
    "# Compute 32 features for each 5x5 window\n",
    "convo_1      = convolutional_layer( x_image, shape = [ 5, 5, 1, 32 ] )\n",
    "convo_1_pool = max_pool_2by2( convo_1 )\n",
    "\n",
    "convo_2      = convolutional_layer( convo_1_pool, shape = [ 5, 5, 32, 64 ] )\n",
    "convo_2_pool = max_pool_2by2( convo_2 )\n",
    "\n",
    "convo_2_flat   = tf.reshape( convo_2_pool, [ -1, 7 * 7 * 64 ] )\n",
    "full_layer_one = tf.nn.relu( normal_full_layer( convo_2_flat, 1024 ) )\n",
    "\n",
    "hold_prob        = tf.placeholder( tf.float32 )\n",
    "full_one_dropout = tf.nn.dropout( full_layer_one, keep_prob = hold_prob )\n",
    "\n",
    "y_pred = normal_full_layer( full_one_dropout, 10 )\n",
    "\n",
    "cross_entropy = tf.reduce_mean( tf.nn.softmax_cross_entropy_with_logits_v2( labels = y_true, logits = y_pred ) )\n",
    "\n",
    "optimizer = tf.train.AdamOptimizer( learning_rate = 0.001 )\n",
    "train     = optimizer.minimize( cross_entropy )\n",
    "\n",
    "init  = tf.global_variables_initializer()\n",
    "steps = 500\n",
    "\n",
    "with tf.Session() as sess:\n",
    "    sess.run( init )\n",
    "    \n",
    "    for step in range( steps ):\n",
    "        batch_x, batch_y = mnist.train.next_batch( 50 )\n",
    "        sess.run( train, feed_dict = { x         : batch_x, \n",
    "                                       y_true    : batch_y, \n",
    "                                       hold_prob : 0.5 } )\n",
    "        \n",
    "        if step % 100 == 0:\n",
    "            print( \"ON STEP: {}\".format( step ) )\n",
    "            print( \"ACCURACY: \" )\n",
    "        \n",
    "            correct_prediction = tf.equal( tf.argmax( y_pred, axis = 1 ), tf.argmax( y_true, axis = 1 ) )\n",
    "            accuracy           = tf.reduce_mean( tf.cast( correct_prediction, tf.float32 ) )\n",
    "    \n",
    "            print( sess.run( accuracy, feed_dict = { x         : mnist.test.images, \n",
    "                                                     y_true    : mnist.test.labels, \n",
    "                                                     hold_prob : 1.0 } ) )\n",
    "            print( \"\\n\" )"
   ]
  },
  {
   "cell_type": "code",
   "execution_count": null,
   "metadata": {},
   "outputs": [],
   "source": []
  }
 ],
 "metadata": {
  "kernelspec": {
   "display_name": "Python 3",
   "language": "python",
   "name": "python3"
  },
  "language_info": {
   "codemirror_mode": {
    "name": "ipython",
    "version": 3
   },
   "file_extension": ".py",
   "mimetype": "text/x-python",
   "name": "python",
   "nbconvert_exporter": "python",
   "pygments_lexer": "ipython3",
   "version": "3.6.0"
  }
 },
 "nbformat": 4,
 "nbformat_minor": 2
}
