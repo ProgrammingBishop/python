{
 "cells": [
  {
   "cell_type": "markdown",
   "metadata": {},
   "source": [
    "# Tensorflow Basics"
   ]
  },
  {
   "cell_type": "markdown",
   "metadata": {},
   "source": [
    "### Tensor"
   ]
  },
  {
   "cell_type": "code",
   "execution_count": 48,
   "metadata": {},
   "outputs": [],
   "source": [
    "import tensorflow as tf\n",
    "import numpy      as np"
   ]
  },
  {
   "cell_type": "code",
   "execution_count": 8,
   "metadata": {},
   "outputs": [],
   "source": [
    "# Tensor objects that only give reuslt after running a session\n",
    "test_one = tf.constant( 'Hai' )\n",
    "test_two = tf.constant( 'Hai Again' )"
   ]
  },
  {
   "cell_type": "code",
   "execution_count": 9,
   "metadata": {},
   "outputs": [],
   "source": [
    "# with will open and close the session automatically\n",
    "with tf.Session() as sess:\n",
    "    result = sess.run( test_one + ' ' + test_two )"
   ]
  },
  {
   "cell_type": "code",
   "execution_count": 10,
   "metadata": {},
   "outputs": [
    {
     "name": "stdout",
     "output_type": "stream",
     "text": [
      "b'Hai Hai Again'\n"
     ]
    }
   ],
   "source": [
    "print( result )"
   ]
  },
  {
   "cell_type": "code",
   "execution_count": 14,
   "metadata": {},
   "outputs": [],
   "source": [
    "const     = tf.constant( 10 )\n",
    "fill_mat  = tf.fill( ( 4, 4 ), 10 )\n",
    "fill_zero = tf.zeros( ( 4, 4 ), 10 )\n",
    "tf_random = tf.random_normal( ( 4, 4 ), mean = 0, stddev = 1.0 )"
   ]
  },
  {
   "cell_type": "code",
   "execution_count": 15,
   "metadata": {},
   "outputs": [],
   "source": [
    "ops = [ const, fill_mat, fill_zero, tf_random ]"
   ]
  },
  {
   "cell_type": "code",
   "execution_count": 16,
   "metadata": {},
   "outputs": [],
   "source": [
    "# Only for Jupyter: do not have to instantiate a running session after the first\n",
    "sess = tf.InteractiveSession()"
   ]
  },
  {
   "cell_type": "code",
   "execution_count": 17,
   "metadata": {},
   "outputs": [
    {
     "name": "stdout",
     "output_type": "stream",
     "text": [
      "10\n",
      "[[10 10 10 10]\n",
      " [10 10 10 10]\n",
      " [10 10 10 10]\n",
      " [10 10 10 10]]\n",
      "[[False False False False]\n",
      " [False False False False]\n",
      " [False False False False]\n",
      " [False False False False]]\n",
      "[[-1.9078761  -0.4193542   0.40309888  0.1533485 ]\n",
      " [ 0.6267731  -0.4981341   0.12124081 -0.38809523]\n",
      " [-0.51017606  0.8532236  -1.084801   -1.5099545 ]\n",
      " [ 0.22547117  1.4008657   0.6124136  -3.0606313 ]]\n"
     ]
    }
   ],
   "source": [
    "for op in ops:\n",
    "    print( sess.run( op ) )"
   ]
  },
  {
   "cell_type": "code",
   "execution_count": 18,
   "metadata": {},
   "outputs": [],
   "source": [
    "a = tf.constant( [ [ 1, 2 ],\n",
    "                   [ 3, 4 ] ] )"
   ]
  },
  {
   "cell_type": "code",
   "execution_count": 19,
   "metadata": {},
   "outputs": [],
   "source": [
    "b = tf.constant( [ [10], [100] ] )"
   ]
  },
  {
   "cell_type": "code",
   "execution_count": 20,
   "metadata": {},
   "outputs": [],
   "source": [
    "result = tf.matmul( a, b )"
   ]
  },
  {
   "cell_type": "code",
   "execution_count": 21,
   "metadata": {},
   "outputs": [
    {
     "data": {
      "text/plain": [
       "array([[210],\n",
       "       [430]])"
      ]
     },
     "execution_count": 21,
     "metadata": {},
     "output_type": "execute_result"
    }
   ],
   "source": [
    "sess.run( result )"
   ]
  },
  {
   "cell_type": "markdown",
   "metadata": {},
   "source": [
    "### Graphs"
   ]
  },
  {
   "cell_type": "code",
   "execution_count": 24,
   "metadata": {},
   "outputs": [],
   "source": [
    "n1 = tf.constant( 1 )\n",
    "n2 = tf.constant( 2 )\n",
    "\n",
    "n3 = n1 + n2"
   ]
  },
  {
   "cell_type": "code",
   "execution_count": 25,
   "metadata": {},
   "outputs": [],
   "source": [
    "result = sess.run( n3 )"
   ]
  },
  {
   "cell_type": "code",
   "execution_count": 26,
   "metadata": {},
   "outputs": [
    {
     "name": "stdout",
     "output_type": "stream",
     "text": [
      "3\n"
     ]
    }
   ],
   "source": [
    "print( result )"
   ]
  },
  {
   "cell_type": "code",
   "execution_count": 27,
   "metadata": {},
   "outputs": [],
   "source": [
    "g = tf.Graph()"
   ]
  },
  {
   "cell_type": "code",
   "execution_count": 28,
   "metadata": {},
   "outputs": [],
   "source": [
    "graph_one = tf.get_default_graph"
   ]
  },
  {
   "cell_type": "code",
   "execution_count": 29,
   "metadata": {},
   "outputs": [
    {
     "name": "stdout",
     "output_type": "stream",
     "text": [
      "<function get_default_graph at 0x000001EA6938CB70>\n"
     ]
    }
   ],
   "source": [
    "print( graph_one )"
   ]
  },
  {
   "cell_type": "code",
   "execution_count": 30,
   "metadata": {},
   "outputs": [],
   "source": [
    "graph_two = tf.Graph()"
   ]
  },
  {
   "cell_type": "code",
   "execution_count": 31,
   "metadata": {},
   "outputs": [
    {
     "name": "stdout",
     "output_type": "stream",
     "text": [
      "<tensorflow.python.framework.ops.Graph object at 0x000001EA72E90470>\n"
     ]
    }
   ],
   "source": [
    "print( graph_two )"
   ]
  },
  {
   "cell_type": "code",
   "execution_count": 34,
   "metadata": {},
   "outputs": [
    {
     "name": "stdout",
     "output_type": "stream",
     "text": [
      "True\n"
     ]
    }
   ],
   "source": [
    "# Notice graphs have different memory locations\n",
    "# Below sets graph_two as a default\n",
    "with graph_two.as_default():\n",
    "    print( graph_two is tf.get_default_graph() )"
   ]
  },
  {
   "cell_type": "markdown",
   "metadata": {},
   "source": [
    "### Variables and Placeholders"
   ]
  },
  {
   "cell_type": "code",
   "execution_count": 41,
   "metadata": {},
   "outputs": [],
   "source": [
    "# Placeholders are used to feed in training examples\n",
    "# Need expected dtype and shape argument\n",
    "the_tensor = tf.random_uniform( ( 4, 4 ), 0, 1 )\n",
    "the_var    = tf.Variable( initial_value = the_tensor )\n",
    "\n",
    "# Initializer Object\n",
    "init       = tf.global_variables_initializer()"
   ]
  },
  {
   "cell_type": "code",
   "execution_count": 42,
   "metadata": {},
   "outputs": [],
   "source": [
    "sess.run( init )"
   ]
  },
  {
   "cell_type": "code",
   "execution_count": 43,
   "metadata": {},
   "outputs": [
    {
     "data": {
      "text/plain": [
       "array([[3.7869239e-01, 6.6265607e-01, 5.4991722e-02, 3.6073697e-01],\n",
       "       [3.4942162e-01, 3.1531870e-01, 9.1954803e-01, 2.1283174e-01],\n",
       "       [9.3010819e-01, 4.9662590e-04, 2.0483696e-01, 5.2127290e-01],\n",
       "       [6.8978012e-01, 9.0602279e-02, 5.2677870e-01, 1.7131460e-01]],\n",
       "      dtype=float32)"
      ]
     },
     "execution_count": 43,
     "metadata": {},
     "output_type": "execute_result"
    }
   ],
   "source": [
    "sess.run( the_var )"
   ]
  },
  {
   "cell_type": "code",
   "execution_count": 46,
   "metadata": {},
   "outputs": [],
   "source": [
    "# None because we may not know the batch size before running the network\n",
    "the_place = tf.placeholder( tf.float32, shape = ( None, 5 ) )"
   ]
  },
  {
   "cell_type": "markdown",
   "metadata": {},
   "source": [
    "### Build Network"
   ]
  },
  {
   "cell_type": "code",
   "execution_count": 50,
   "metadata": {},
   "outputs": [],
   "source": [
    "# Build Graph\n",
    "# Init Session\n",
    "# Feed Data for Output\n",
    "\n",
    "# Steps\n",
    "    # variable w and variable x are input into matrix multiplication\n",
    "    # This result is sent to an operation that adds the matmul result to a bias\n",
    "    # The result of this addition is then sent to an activation function\n",
    "    \n",
    "np.random.seed( 101 )\n",
    "tf.set_random_seed( 101 )"
   ]
  },
  {
   "cell_type": "code",
   "execution_count": 52,
   "metadata": {},
   "outputs": [],
   "source": [
    "rand_a = np.random.uniform( 0, 100, ( 5, 5 ) )\n",
    "rand_b = np.random.uniform( 0, 100, ( 5, 1 ) )"
   ]
  },
  {
   "cell_type": "code",
   "execution_count": 53,
   "metadata": {},
   "outputs": [],
   "source": [
    "a = tf.placeholder( tf.float32 )\n",
    "b = tf.placeholder( tf.float32 )"
   ]
  },
  {
   "cell_type": "code",
   "execution_count": 54,
   "metadata": {},
   "outputs": [],
   "source": [
    "add_op = a + b\n",
    "mul_op = a * b"
   ]
  },
  {
   "cell_type": "code",
   "execution_count": 63,
   "metadata": {},
   "outputs": [],
   "source": [
    "with tf.Session() as sess:\n",
    "    # since a and b are placeholder objects for float32, the feed_dict supplies these with values when the session is run\n",
    "    add_result = sess.run( add_op, feed_dict = { a : rand_a, b : rand_b } )\n",
    "    print( add_result )\n",
    "    \n",
    "    add_result = sess.run( mul_op, feed_dict = { a : rand_a, b : rand_b } )\n",
    "    print( add_result )"
   ]
  },
  {
   "cell_type": "code",
   "execution_count": 64,
   "metadata": {},
   "outputs": [],
   "source": [
    "n_features      = 10\n",
    "n_dense_neurons = 3\n",
    "\n",
    "x = tf.placeholder( tf.float32, ( None, n_features ) )\n",
    "W = tf.Variable( tf.random_normal( [ n_features, n_dense_neurons ] ) )\n",
    "b = tf.Variable( tf.ones( [ n_dense_neurons ] ) )"
   ]
  },
  {
   "cell_type": "code",
   "execution_count": 65,
   "metadata": {},
   "outputs": [],
   "source": [
    "xW = tf.matmul( x, W )\n",
    "z  = tf.add( xW, b )"
   ]
  },
  {
   "cell_type": "code",
   "execution_count": 66,
   "metadata": {},
   "outputs": [],
   "source": [
    "a = tf.sigmoid( z )"
   ]
  },
  {
   "cell_type": "code",
   "execution_count": 67,
   "metadata": {},
   "outputs": [],
   "source": [
    "init = tf.global_variables_initializer()\n",
    "\n",
    "with tf.Session() as sess:\n",
    "    sess.run( init )\n",
    "    \n",
    "    layer_out = sess.run( a, feed_dict = { x : np.random.random( [ 1, n_features ] ) } )"
   ]
  },
  {
   "cell_type": "code",
   "execution_count": 68,
   "metadata": {},
   "outputs": [
    {
     "name": "stdout",
     "output_type": "stream",
     "text": [
      "[[0.4760314  0.30295327 0.18698418]]\n"
     ]
    }
   ],
   "source": [
    "print( layer_out )"
   ]
  },
  {
   "cell_type": "markdown",
   "metadata": {},
   "source": [
    "### Regression Example"
   ]
  },
  {
   "cell_type": "code",
   "execution_count": 94,
   "metadata": {},
   "outputs": [],
   "source": [
    "x_data  = np.linspace( 0, 10, 10 ) + np.random.uniform( -1.5, 1.5, 10 )\n",
    "y_label = np.linspace( 0, 10, 10 ) + np.random.uniform( -1.5, 1.5, 10 )"
   ]
  },
  {
   "cell_type": "code",
   "execution_count": 95,
   "metadata": {},
   "outputs": [],
   "source": [
    "import matplotlib.pyplot as plt\n",
    "%matplotlib inline"
   ]
  },
  {
   "cell_type": "code",
   "execution_count": 96,
   "metadata": {},
   "outputs": [
    {
     "data": {
      "text/plain": [
       "[<matplotlib.lines.Line2D at 0x1ea7fba5e48>]"
      ]
     },
     "execution_count": 96,
     "metadata": {},
     "output_type": "execute_result"
    },
    {
     "data": {
      "image/png": "[encoded data removed]",
      "text/plain": [
       "<Figure size 432x288 with 1 Axes>"
      ]
     },
     "metadata": {
      "needs_background": "light"
     },
     "output_type": "display_data"
    }
   ],
   "source": [
    "plt.plot( x_data, y_label, '*' )"
   ]
  },
  {
   "cell_type": "code",
   "execution_count": 79,
   "metadata": {},
   "outputs": [],
   "source": [
    "m = tf.Variable( 0.44 )\n",
    "b = tf.Variable( 0.87 )"
   ]
  },
  {
   "cell_type": "code",
   "execution_count": 81,
   "metadata": {},
   "outputs": [],
   "source": [
    "error = 0\n",
    "\n",
    "for x, y in zip( x_data, y_label ):\n",
    "    y_hat  = m*x + b\n",
    "    error += ( y - y_hat ) ** 2"
   ]
  },
  {
   "cell_type": "code",
   "execution_count": 82,
   "metadata": {},
   "outputs": [],
   "source": [
    "optimizer = tf.train.GradientDescentOptimizer( learning_rate = 0.001 )\n",
    "train     = optimizer.minimize( error )"
   ]
  },
  {
   "cell_type": "code",
   "execution_count": 83,
   "metadata": {},
   "outputs": [],
   "source": [
    "init = tf.global_variables_initializer()"
   ]
  },
  {
   "cell_type": "code",
   "execution_count": 88,
   "metadata": {},
   "outputs": [],
   "source": [
    "with tf.Session() as sess:\n",
    "    sess.run( init )\n",
    "    \n",
    "    training_steps = 100\n",
    "    \n",
    "    for i in range( training_steps ):\n",
    "        sess.run( train )\n",
    "        \n",
    "    final_slope, final_intercept = sess.run( [ m, b ] )"
   ]
  },
  {
   "cell_type": "code",
   "execution_count": 89,
   "metadata": {},
   "outputs": [],
   "source": [
    "x_test      = np.linspace( -1, 11, 10 )\n",
    "y_pred_plot = final_slope*x_test + final_intercept"
   ]
  },
  {
   "cell_type": "code",
   "execution_count": 90,
   "metadata": {},
   "outputs": [
    {
     "data": {
      "text/plain": [
       "[<matplotlib.lines.Line2D at 0x1ea7fad4828>]"
      ]
     },
     "execution_count": 90,
     "metadata": {},
     "output_type": "execute_result"
    },
    {
     "data": {
      "image/png": "[encoded data removed]",
      "text/plain": [
       "<Figure size 432x288 with 1 Axes>"
      ]
     },
     "metadata": {
      "needs_background": "light"
     },
     "output_type": "display_data"
    }
   ],
   "source": [
    "plt.plot( x_test, y_pred_plot, 'r' )\n",
    "plt.plot( x_data, y_label, '*' )"
   ]
  },
  {
   "cell_type": "code",
   "execution_count": 97,
   "metadata": {},
   "outputs": [],
   "source": [
    "import numpy  as np \n",
    "import pandas as pd"
   ]
  },
  {
   "cell_type": "code",
   "execution_count": 98,
   "metadata": {},
   "outputs": [],
   "source": [
    "x_data = np.linspace( 0.0, 10.0, 1000000 ) \n",
    "noise  = np.random.randn( len( x_data ) )"
   ]
  },
  {
   "cell_type": "code",
   "execution_count": 99,
   "metadata": {},
   "outputs": [],
   "source": [
    "y_true = ( 0.5 * x_data ) + 5 + noise"
   ]
  },
  {
   "cell_type": "code",
   "execution_count": 100,
   "metadata": {},
   "outputs": [],
   "source": [
    "x_df = pd.DataFrame( data = x_data, columns = [ 'X' ] )\n",
    "y_df = pd.DataFrame( data = y_true, columns = [ 'Y' ] )\n",
    "\n",
    "df = pd.concat( [ x_df, y_df ], axis = 1 )"
   ]
  },
  {
   "cell_type": "code",
   "execution_count": 101,
   "metadata": {},
   "outputs": [
    {
     "data": {
      "text/html": [
       "<div>\n",
       "<style scoped>\n",
       "    .dataframe tbody tr th:only-of-type {\n",
       "        vertical-align: middle;\n",
       "    }\n",
       "\n",
       "    .dataframe tbody tr th {\n",
       "        vertical-align: top;\n",
       "    }\n",
       "\n",
       "    .dataframe thead th {\n",
       "        text-align: right;\n",
       "    }\n",
       "</style>\n",
       "<table border=\"1\" class=\"dataframe\">\n",
       "  <thead>\n",
       "    <tr style=\"text-align: right;\">\n",
       "      <th></th>\n",
       "      <th>X</th>\n",
       "      <th>Y</th>\n",
       "    </tr>\n",
       "  </thead>\n",
       "  <tbody>\n",
       "    <tr>\n",
       "      <th>0</th>\n",
       "      <td>0.00000</td>\n",
       "      <td>5.539118</td>\n",
       "    </tr>\n",
       "    <tr>\n",
       "      <th>1</th>\n",
       "      <td>0.00001</td>\n",
       "      <td>5.669779</td>\n",
       "    </tr>\n",
       "    <tr>\n",
       "      <th>2</th>\n",
       "      <td>0.00002</td>\n",
       "      <td>3.729526</td>\n",
       "    </tr>\n",
       "    <tr>\n",
       "      <th>3</th>\n",
       "      <td>0.00003</td>\n",
       "      <td>4.553834</td>\n",
       "    </tr>\n",
       "    <tr>\n",
       "      <th>4</th>\n",
       "      <td>0.00004</td>\n",
       "      <td>5.779495</td>\n",
       "    </tr>\n",
       "  </tbody>\n",
       "</table>\n",
       "</div>"
      ],
      "text/plain": [
       "         X         Y\n",
       "0  0.00000  5.539118\n",
       "1  0.00001  5.669779\n",
       "2  0.00002  3.729526\n",
       "3  0.00003  4.553834\n",
       "4  0.00004  5.779495"
      ]
     },
     "execution_count": 101,
     "metadata": {},
     "output_type": "execute_result"
    }
   ],
   "source": [
    "df.head()"
   ]
  },
  {
   "cell_type": "code",
   "execution_count": 102,
   "metadata": {},
   "outputs": [
    {
     "data": {
      "text/plain": [
       "<matplotlib.axes._subplots.AxesSubplot at 0x1ea05257b70>"
      ]
     },
     "execution_count": 102,
     "metadata": {},
     "output_type": "execute_result"
    },
    {
     "data": {
      "image/png": "[encoded data removed]",
      "text/plain": [
       "<Figure size 432x288 with 1 Axes>"
      ]
     },
     "metadata": {
      "needs_background": "light"
     },
     "output_type": "display_data"
    }
   ],
   "source": [
    "df.sample( n = 1000 ).plot( kind = 'scatter', x = 'X', y = 'Y' )"
   ]
  },
  {
   "cell_type": "code",
   "execution_count": 106,
   "metadata": {},
   "outputs": [],
   "source": [
    "# How many observations are put through the network at a time\n",
    "batch_size = 8\n",
    "\n",
    "# Random variables that get updated by the network per batch\n",
    "m = tf.Variable( 0.814 )\n",
    "b = tf.Variable( 0.176 )\n",
    "\n",
    "# Graph elements created\n",
    "xph = tf.placeholder( tf.float32, [ batch_size ] )\n",
    "yph = tf.placeholder( tf.float32, [ batch_size ] )\n",
    "\n",
    "# Y estimate\n",
    "y_model = m*xph + b\n",
    "\n",
    "# Error from the true value and the predicted\n",
    "error = tf.reduce_sum( tf.square( yph - y_model ) )\n",
    "\n",
    "# Use gradient descent to minimize the error with a small learning rate\n",
    "optimizer = tf.train.GradientDescentOptimizer( learning_rate = 0.001 )\n",
    "train     = optimizer.minimize( error )\n",
    "\n",
    "# Instantiate the tensors\n",
    "init = tf.global_variables_initializer()\n",
    "\n",
    "# Open session (with closes when done automatically)\n",
    "with tf.Session() as sess:\n",
    "    sess.run( init )\n",
    "    \n",
    "    # Run session for 1000 batches of 8 observations\n",
    "    batches = 1000\n",
    "    \n",
    "    # For each batch\n",
    "    for i in range( batches ):\n",
    "        # Select 8 observations randomly\n",
    "        rand_index = np.random.randint( len( x_data ), size = batch_size )\n",
    "        feed       = { xph : x_data[ rand_index], yph : y_true[ rand_index ] }\n",
    "        \n",
    "        # Minimize the error using the data\n",
    "        sess.run( train, feed_dict = feed )\n",
    "        \n",
    "    # Get the slope and the bias\n",
    "    model_m, model_b = sess.run( [ m, b ] )"
   ]
  },
  {
   "cell_type": "code",
   "execution_count": 107,
   "metadata": {},
   "outputs": [
    {
     "data": {
      "text/plain": [
       "0.5206859"
      ]
     },
     "execution_count": 107,
     "metadata": {},
     "output_type": "execute_result"
    }
   ],
   "source": [
    "model_m"
   ]
  },
  {
   "cell_type": "code",
   "execution_count": 108,
   "metadata": {},
   "outputs": [
    {
     "data": {
      "text/plain": [
       "4.915369"
      ]
     },
     "execution_count": 108,
     "metadata": {},
     "output_type": "execute_result"
    }
   ],
   "source": [
    "model_b"
   ]
  },
  {
   "cell_type": "code",
   "execution_count": 109,
   "metadata": {},
   "outputs": [
    {
     "name": "stdout",
     "output_type": "stream",
     "text": [
      "INFO:tensorflow:Using default config.\n",
      "WARNING:tensorflow:Using temporary folder as model directory: C:\\Users\\andre\\AppData\\Local\\Temp\\tmpm_3ah94a\n",
      "INFO:tensorflow:Using config: {'_model_dir': 'C:\\\\Users\\\\andre\\\\AppData\\\\Local\\\\Temp\\\\tmpm_3ah94a', '_tf_random_seed': None, '_save_summary_steps': 100, '_save_checkpoints_steps': None, '_save_checkpoints_secs': 600, '_session_config': allow_soft_placement: true\n",
      "graph_options {\n",
      "  rewrite_options {\n",
      "    meta_optimizer_iterations: ONE\n",
      "  }\n",
      "}\n",
      ", '_keep_checkpoint_max': 5, '_keep_checkpoint_every_n_hours': 10000, '_log_step_count_steps': 100, '_train_distribute': None, '_device_fn': None, '_protocol': None, '_eval_distribute': None, '_experimental_distribute': None, '_service': None, '_cluster_spec': <tensorflow.python.training.server_lib.ClusterSpec object at 0x000001EA05B69BA8>, '_task_type': 'worker', '_task_id': 0, '_global_id_in_cluster': 0, '_master': '', '_evaluation_master': '', '_is_chief': True, '_num_ps_replicas': 0, '_num_worker_replicas': 1}\n"
     ]
    }
   ],
   "source": [
    "feat_cols = [ tf.feature_column.numeric_column( 'x', shape = [ 1 ] ) ]\n",
    "estimator = tf.estimator.LinearRegressor( feature_columns = feat_cols )"
   ]
  },
  {
   "cell_type": "code",
   "execution_count": 110,
   "metadata": {},
   "outputs": [],
   "source": [
    "from sklearn.model_selection import train_test_split"
   ]
  },
  {
   "cell_type": "code",
   "execution_count": 117,
   "metadata": {},
   "outputs": [],
   "source": [
    "X_train, X_eval, y_train, y_eval = train_test_split( x_data, y_true, test_size = 0.3 ) "
   ]
  },
  {
   "cell_type": "code",
   "execution_count": 118,
   "metadata": {},
   "outputs": [],
   "source": [
    "input_func       = tf.estimator.inputs.numpy_input_fn( { 'x' : X_train}, y_train, batch_size = 8, num_epochs = None, shuffle = True )\n",
    "train_input_func = tf.estimator.inputs.numpy_input_fn( { 'x' : X_train}, y_train, batch_size = 8, num_epochs = 1000, shuffle = False )\n",
    "eval_input_func  = tf.estimator.inputs.numpy_input_fn( { 'x' : X_eval},  y_eval,  batch_size = 8, num_epochs = 1000, shuffle = False )"
   ]
  },
  {
   "cell_type": "code",
   "execution_count": 119,
   "metadata": {},
   "outputs": [
    {
     "name": "stdout",
     "output_type": "stream",
     "text": [
      "WARNING:tensorflow:From C:\\Users\\andre\\Anaconda3\\lib\\site-packages\\tensorflow\\python\\estimator\\inputs\\queues\\feeding_queue_runner.py:62: QueueRunner.__init__ (from tensorflow.python.training.queue_runner_impl) is deprecated and will be removed in a future version.\n",
      "Instructions for updating:\n",
      "To construct input pipelines, use the `tf.data` module.\n",
      "WARNING:tensorflow:From C:\\Users\\andre\\Anaconda3\\lib\\site-packages\\tensorflow\\python\\estimator\\inputs\\queues\\feeding_functions.py:500: add_queue_runner (from tensorflow.python.training.queue_runner_impl) is deprecated and will be removed in a future version.\n",
      "Instructions for updating:\n",
      "To construct input pipelines, use the `tf.data` module.\n",
      "INFO:tensorflow:Calling model_fn.\n",
      "INFO:tensorflow:Done calling model_fn.\n",
      "INFO:tensorflow:Create CheckpointSaverHook.\n",
      "INFO:tensorflow:Graph was finalized.\n",
      "INFO:tensorflow:Running local_init_op.\n",
      "INFO:tensorflow:Done running local_init_op.\n",
      "WARNING:tensorflow:From C:\\Users\\andre\\Anaconda3\\lib\\site-packages\\tensorflow\\python\\training\\monitored_session.py:804: start_queue_runners (from tensorflow.python.training.queue_runner_impl) is deprecated and will be removed in a future version.\n",
      "Instructions for updating:\n",
      "To construct input pipelines, use the `tf.data` module.\n",
      "INFO:tensorflow:Saving checkpoints for 0 into C:\\Users\\andre\\AppData\\Local\\Temp\\tmpm_3ah94a\\model.ckpt.\n",
      "INFO:tensorflow:loss = 452.50406, step = 1\n",
      "INFO:tensorflow:global_step/sec: 896.867\n",
      "INFO:tensorflow:loss = 35.89848, step = 101 (0.113 sec)\n",
      "INFO:tensorflow:global_step/sec: 1139.41\n",
      "INFO:tensorflow:loss = 38.359367, step = 201 (0.088 sec)\n",
      "INFO:tensorflow:global_step/sec: 1126.61\n",
      "INFO:tensorflow:loss = 24.69315, step = 301 (0.088 sec)\n",
      "INFO:tensorflow:global_step/sec: 1285.48\n",
      "INFO:tensorflow:loss = 19.795876, step = 401 (0.078 sec)\n",
      "INFO:tensorflow:global_step/sec: 1126.6\n",
      "INFO:tensorflow:loss = 7.7527456, step = 501 (0.089 sec)\n",
      "INFO:tensorflow:global_step/sec: 1222.77\n",
      "INFO:tensorflow:loss = 7.615487, step = 601 (0.082 sec)\n",
      "INFO:tensorflow:global_step/sec: 1269.21\n",
      "INFO:tensorflow:loss = 6.352356, step = 701 (0.079 sec)\n",
      "INFO:tensorflow:global_step/sec: 1336.89\n",
      "INFO:tensorflow:loss = 8.907854, step = 801 (0.076 sec)\n",
      "INFO:tensorflow:global_step/sec: 1139.4\n",
      "INFO:tensorflow:loss = 6.3799477, step = 901 (0.087 sec)\n",
      "INFO:tensorflow:Saving checkpoints for 1000 into C:\\Users\\andre\\AppData\\Local\\Temp\\tmpm_3ah94a\\model.ckpt.\n",
      "INFO:tensorflow:Loss for final step: 7.366671.\n"
     ]
    },
    {
     "data": {
      "text/plain": [
       "<tensorflow.python.estimator.canned.linear.LinearRegressor at 0x1ea057dd9e8>"
      ]
     },
     "execution_count": 119,
     "metadata": {},
     "output_type": "execute_result"
    }
   ],
   "source": [
    "estimator.train( input_fn = input_func, steps = 1000 )"
   ]
  },
  {
   "cell_type": "code",
   "execution_count": 121,
   "metadata": {},
   "outputs": [
    {
     "name": "stdout",
     "output_type": "stream",
     "text": [
      "INFO:tensorflow:Calling model_fn.\n",
      "INFO:tensorflow:Done calling model_fn.\n",
      "INFO:tensorflow:Starting evaluation at 2019-02-04-23:41:58\n",
      "INFO:tensorflow:Graph was finalized.\n",
      "INFO:tensorflow:Restoring parameters from C:\\Users\\andre\\AppData\\Local\\Temp\\tmpm_3ah94a\\model.ckpt-1000\n",
      "INFO:tensorflow:Running local_init_op.\n",
      "INFO:tensorflow:Done running local_init_op.\n",
      "INFO:tensorflow:Evaluation [100/1000]\n",
      "INFO:tensorflow:Evaluation [200/1000]\n",
      "INFO:tensorflow:Evaluation [300/1000]\n",
      "INFO:tensorflow:Evaluation [400/1000]\n",
      "INFO:tensorflow:Evaluation [500/1000]\n",
      "INFO:tensorflow:Evaluation [600/1000]\n",
      "INFO:tensorflow:Evaluation [700/1000]\n",
      "INFO:tensorflow:Evaluation [800/1000]\n",
      "INFO:tensorflow:Evaluation [900/1000]\n",
      "INFO:tensorflow:Evaluation [1000/1000]\n",
      "INFO:tensorflow:Finished evaluation at 2019-02-04-23:41:59\n",
      "INFO:tensorflow:Saving dict for global step 1000: average_loss = 1.0824012, global_step = 1000, label/mean = 7.50686, loss = 8.659209, prediction/mean = 7.430006\n",
      "INFO:tensorflow:Saving 'checkpoint_path' summary for global step 1000: C:\\Users\\andre\\AppData\\Local\\Temp\\tmpm_3ah94a\\model.ckpt-1000\n"
     ]
    }
   ],
   "source": [
    "train_metrics = estimator.evaluate( input_fn = train_input_func, steps = 1000 )"
   ]
  },
  {
   "cell_type": "code",
   "execution_count": 122,
   "metadata": {},
   "outputs": [
    {
     "name": "stdout",
     "output_type": "stream",
     "text": [
      "INFO:tensorflow:Calling model_fn.\n",
      "INFO:tensorflow:Done calling model_fn.\n",
      "INFO:tensorflow:Starting evaluation at 2019-02-04-23:42:39\n",
      "INFO:tensorflow:Graph was finalized.\n",
      "INFO:tensorflow:Restoring parameters from C:\\Users\\andre\\AppData\\Local\\Temp\\tmpm_3ah94a\\model.ckpt-1000\n",
      "INFO:tensorflow:Running local_init_op.\n",
      "INFO:tensorflow:Done running local_init_op.\n",
      "INFO:tensorflow:Evaluation [100/1000]\n",
      "INFO:tensorflow:Evaluation [200/1000]\n",
      "INFO:tensorflow:Evaluation [300/1000]\n",
      "INFO:tensorflow:Evaluation [400/1000]\n",
      "INFO:tensorflow:Evaluation [500/1000]\n",
      "INFO:tensorflow:Evaluation [600/1000]\n",
      "INFO:tensorflow:Evaluation [700/1000]\n",
      "INFO:tensorflow:Evaluation [800/1000]\n",
      "INFO:tensorflow:Evaluation [900/1000]\n",
      "INFO:tensorflow:Evaluation [1000/1000]\n",
      "INFO:tensorflow:Finished evaluation at 2019-02-04-23:42:39\n",
      "INFO:tensorflow:Saving dict for global step 1000: average_loss = 1.1100793, global_step = 1000, label/mean = 7.4902434, loss = 8.880634, prediction/mean = 7.40454\n",
      "INFO:tensorflow:Saving 'checkpoint_path' summary for global step 1000: C:\\Users\\andre\\AppData\\Local\\Temp\\tmpm_3ah94a\\model.ckpt-1000\n"
     ]
    }
   ],
   "source": [
    "eval_metrics = estimator.evaluate( input_fn = eval_input_func, steps = 1000 )"
   ]
  },
  {
   "cell_type": "code",
   "execution_count": 123,
   "metadata": {},
   "outputs": [
    {
     "name": "stdout",
     "output_type": "stream",
     "text": [
      "TRAIN\n",
      "{'average_loss': 1.0824012, 'label/mean': 7.50686, 'loss': 8.659209, 'prediction/mean': 7.430006, 'global_step': 1000}\n"
     ]
    }
   ],
   "source": [
    "# Sign of overfitting is if TRAIN loss is much larger than TEST loss\n",
    "print( 'TRAIN' )\n",
    "print( train_metrics )"
   ]
  },
  {
   "cell_type": "code",
   "execution_count": 124,
   "metadata": {},
   "outputs": [
    {
     "name": "stdout",
     "output_type": "stream",
     "text": [
      "EVAL\n",
      "{'average_loss': 1.1100793, 'label/mean': 7.4902434, 'loss': 8.880634, 'prediction/mean': 7.40454, 'global_step': 1000}\n"
     ]
    }
   ],
   "source": [
    "print( 'EVAL' )\n",
    "print( eval_metrics )"
   ]
  },
  {
   "cell_type": "code",
   "execution_count": 126,
   "metadata": {},
   "outputs": [],
   "source": [
    "brand_new_data   = np.linspace( 0, 10, 10 )\n",
    "input_fn_predict = tf.estimator.inputs.numpy_input_fn( { 'x' : brand_new_data }, shuffle = False )"
   ]
  },
  {
   "cell_type": "code",
   "execution_count": 128,
   "metadata": {},
   "outputs": [
    {
     "name": "stdout",
     "output_type": "stream",
     "text": [
      "INFO:tensorflow:Calling model_fn.\n",
      "INFO:tensorflow:Done calling model_fn.\n",
      "INFO:tensorflow:Graph was finalized.\n",
      "INFO:tensorflow:Restoring parameters from C:\\Users\\andre\\AppData\\Local\\Temp\\tmpm_3ah94a\\model.ckpt-1000\n",
      "INFO:tensorflow:Running local_init_op.\n",
      "INFO:tensorflow:Done running local_init_op.\n"
     ]
    },
    {
     "data": {
      "text/plain": [
       "[{'predictions': array([4.4180007], dtype=float32)},\n",
       " {'predictions': array([5.0849195], dtype=float32)},\n",
       " {'predictions': array([5.751838], dtype=float32)},\n",
       " {'predictions': array([6.4187565], dtype=float32)},\n",
       " {'predictions': array([7.0856752], dtype=float32)},\n",
       " {'predictions': array([7.752594], dtype=float32)},\n",
       " {'predictions': array([8.419513], dtype=float32)},\n",
       " {'predictions': array([9.0864315], dtype=float32)},\n",
       " {'predictions': array([9.75335], dtype=float32)},\n",
       " {'predictions': array([10.420269], dtype=float32)}]"
      ]
     },
     "execution_count": 128,
     "metadata": {},
     "output_type": "execute_result"
    }
   ],
   "source": [
    "list( estimator.predict( input_fn = input_fn_predict ) )"
   ]
  },
  {
   "cell_type": "code",
   "execution_count": 129,
   "metadata": {},
   "outputs": [
    {
     "name": "stdout",
     "output_type": "stream",
     "text": [
      "INFO:tensorflow:Calling model_fn.\n",
      "INFO:tensorflow:Done calling model_fn.\n",
      "INFO:tensorflow:Graph was finalized.\n",
      "INFO:tensorflow:Restoring parameters from C:\\Users\\andre\\AppData\\Local\\Temp\\tmpm_3ah94a\\model.ckpt-1000\n",
      "INFO:tensorflow:Running local_init_op.\n",
      "INFO:tensorflow:Done running local_init_op.\n"
     ]
    }
   ],
   "source": [
    "predictions = []\n",
    "\n",
    "for pred in estimator.predict( input_fn = input_fn_predict ):\n",
    "    predictions.append( pred[ 'predictions' ] )"
   ]
  },
  {
   "cell_type": "code",
   "execution_count": 130,
   "metadata": {},
   "outputs": [
    {
     "data": {
      "text/plain": [
       "[array([4.4180007], dtype=float32),\n",
       " array([5.0849195], dtype=float32),\n",
       " array([5.751838], dtype=float32),\n",
       " array([6.4187565], dtype=float32),\n",
       " array([7.0856752], dtype=float32),\n",
       " array([7.752594], dtype=float32),\n",
       " array([8.419513], dtype=float32),\n",
       " array([9.0864315], dtype=float32),\n",
       " array([9.75335], dtype=float32),\n",
       " array([10.420269], dtype=float32)]"
      ]
     },
     "execution_count": 130,
     "metadata": {},
     "output_type": "execute_result"
    }
   ],
   "source": [
    "predictions"
   ]
  },
  {
   "cell_type": "code",
   "execution_count": 132,
   "metadata": {},
   "outputs": [
    {
     "data": {
      "text/plain": [
       "[<matplotlib.lines.Line2D at 0x1ea071daac8>]"
      ]
     },
     "execution_count": 132,
     "metadata": {},
     "output_type": "execute_result"
    },
    {
     "data": {
      "image/png": "[encoded data removed]",
      "text/plain": [
       "<Figure size 432x288 with 1 Axes>"
      ]
     },
     "metadata": {
      "needs_background": "light"
     },
     "output_type": "display_data"
    }
   ],
   "source": [
    "df.sample( n = 1000 ).plot( kind = 'scatter', x = 'X', y = 'Y' )\n",
    "plt.plot( brand_new_data, predictions, 'r*' )"
   ]
  },
  {
   "cell_type": "markdown",
   "metadata": {},
   "source": [
    "### Classification Example"
   ]
  },
  {
   "cell_type": "code",
   "execution_count": 134,
   "metadata": {},
   "outputs": [],
   "source": [
    "diabetes = pd.read_csv( r'C:\\Users\\andre\\Desktop\\GitHub\\Data\\pima-indians-diabetes.csv' )"
   ]
  },
  {
   "cell_type": "code",
   "execution_count": 135,
   "metadata": {},
   "outputs": [
    {
     "data": {
      "text/html": [
       "<div>\n",
       "<style scoped>\n",
       "    .dataframe tbody tr th:only-of-type {\n",
       "        vertical-align: middle;\n",
       "    }\n",
       "\n",
       "    .dataframe tbody tr th {\n",
       "        vertical-align: top;\n",
       "    }\n",
       "\n",
       "    .dataframe thead th {\n",
       "        text-align: right;\n",
       "    }\n",
       "</style>\n",
       "<table border=\"1\" class=\"dataframe\">\n",
       "  <thead>\n",
       "    <tr style=\"text-align: right;\">\n",
       "      <th></th>\n",
       "      <th>Number_pregnant</th>\n",
       "      <th>Glucose_concentration</th>\n",
       "      <th>Blood_pressure</th>\n",
       "      <th>Triceps</th>\n",
       "      <th>Insulin</th>\n",
       "      <th>BMI</th>\n",
       "      <th>Pedigree</th>\n",
       "      <th>Age</th>\n",
       "      <th>Class</th>\n",
       "      <th>Group</th>\n",
       "    </tr>\n",
       "  </thead>\n",
       "  <tbody>\n",
       "    <tr>\n",
       "      <th>0</th>\n",
       "      <td>6</td>\n",
       "      <td>0.743719</td>\n",
       "      <td>0.590164</td>\n",
       "      <td>0.353535</td>\n",
       "      <td>0.000000</td>\n",
       "      <td>0.500745</td>\n",
       "      <td>0.234415</td>\n",
       "      <td>50</td>\n",
       "      <td>1</td>\n",
       "      <td>B</td>\n",
       "    </tr>\n",
       "    <tr>\n",
       "      <th>1</th>\n",
       "      <td>1</td>\n",
       "      <td>0.427136</td>\n",
       "      <td>0.540984</td>\n",
       "      <td>0.292929</td>\n",
       "      <td>0.000000</td>\n",
       "      <td>0.396423</td>\n",
       "      <td>0.116567</td>\n",
       "      <td>31</td>\n",
       "      <td>0</td>\n",
       "      <td>C</td>\n",
       "    </tr>\n",
       "    <tr>\n",
       "      <th>2</th>\n",
       "      <td>8</td>\n",
       "      <td>0.919598</td>\n",
       "      <td>0.524590</td>\n",
       "      <td>0.000000</td>\n",
       "      <td>0.000000</td>\n",
       "      <td>0.347243</td>\n",
       "      <td>0.253629</td>\n",
       "      <td>32</td>\n",
       "      <td>1</td>\n",
       "      <td>B</td>\n",
       "    </tr>\n",
       "    <tr>\n",
       "      <th>3</th>\n",
       "      <td>1</td>\n",
       "      <td>0.447236</td>\n",
       "      <td>0.540984</td>\n",
       "      <td>0.232323</td>\n",
       "      <td>0.111111</td>\n",
       "      <td>0.418778</td>\n",
       "      <td>0.038002</td>\n",
       "      <td>21</td>\n",
       "      <td>0</td>\n",
       "      <td>B</td>\n",
       "    </tr>\n",
       "    <tr>\n",
       "      <th>4</th>\n",
       "      <td>0</td>\n",
       "      <td>0.688442</td>\n",
       "      <td>0.327869</td>\n",
       "      <td>0.353535</td>\n",
       "      <td>0.198582</td>\n",
       "      <td>0.642325</td>\n",
       "      <td>0.943638</td>\n",
       "      <td>33</td>\n",
       "      <td>1</td>\n",
       "      <td>C</td>\n",
       "    </tr>\n",
       "  </tbody>\n",
       "</table>\n",
       "</div>"
      ],
      "text/plain": [
       "   Number_pregnant  Glucose_concentration  Blood_pressure   Triceps   Insulin  \\\n",
       "0                6               0.743719        0.590164  0.353535  0.000000   \n",
       "1                1               0.427136        0.540984  0.292929  0.000000   \n",
       "2                8               0.919598        0.524590  0.000000  0.000000   \n",
       "3                1               0.447236        0.540984  0.232323  0.111111   \n",
       "4                0               0.688442        0.327869  0.353535  0.198582   \n",
       "\n",
       "        BMI  Pedigree  Age  Class Group  \n",
       "0  0.500745  0.234415   50      1     B  \n",
       "1  0.396423  0.116567   31      0     C  \n",
       "2  0.347243  0.253629   32      1     B  \n",
       "3  0.418778  0.038002   21      0     B  \n",
       "4  0.642325  0.943638   33      1     C  "
      ]
     },
     "execution_count": 135,
     "metadata": {},
     "output_type": "execute_result"
    }
   ],
   "source": [
    "diabetes.head()"
   ]
  },
  {
   "cell_type": "code",
   "execution_count": 136,
   "metadata": {},
   "outputs": [
    {
     "data": {
      "text/plain": [
       "Index(['Number_pregnant', 'Glucose_concentration', 'Blood_pressure', 'Triceps',\n",
       "       'Insulin', 'BMI', 'Pedigree', 'Age', 'Class', 'Group'],\n",
       "      dtype='object')"
      ]
     },
     "execution_count": 136,
     "metadata": {},
     "output_type": "execute_result"
    }
   ],
   "source": [
    "diabetes.columns"
   ]
  },
  {
   "cell_type": "code",
   "execution_count": 137,
   "metadata": {},
   "outputs": [],
   "source": [
    "cols_to_norm = [ 'Number_pregnant', 'Glucose_concentration', 'Blood_pressure', 'Triceps',\n",
    "                 'Insulin', 'BMI', 'Pedigree' ]"
   ]
  },
  {
   "cell_type": "code",
   "execution_count": 138,
   "metadata": {},
   "outputs": [],
   "source": [
    "# Normalize\n",
    "diabetes[ cols_to_norm ] = diabetes[ cols_to_norm ].apply( lambda x : ( x - x.min() ) / ( x.max() - x.min() ) )"
   ]
  },
  {
   "cell_type": "code",
   "execution_count": 139,
   "metadata": {},
   "outputs": [
    {
     "data": {
      "text/html": [
       "<div>\n",
       "<style scoped>\n",
       "    .dataframe tbody tr th:only-of-type {\n",
       "        vertical-align: middle;\n",
       "    }\n",
       "\n",
       "    .dataframe tbody tr th {\n",
       "        vertical-align: top;\n",
       "    }\n",
       "\n",
       "    .dataframe thead th {\n",
       "        text-align: right;\n",
       "    }\n",
       "</style>\n",
       "<table border=\"1\" class=\"dataframe\">\n",
       "  <thead>\n",
       "    <tr style=\"text-align: right;\">\n",
       "      <th></th>\n",
       "      <th>Number_pregnant</th>\n",
       "      <th>Glucose_concentration</th>\n",
       "      <th>Blood_pressure</th>\n",
       "      <th>Triceps</th>\n",
       "      <th>Insulin</th>\n",
       "      <th>BMI</th>\n",
       "      <th>Pedigree</th>\n",
       "      <th>Age</th>\n",
       "      <th>Class</th>\n",
       "      <th>Group</th>\n",
       "    </tr>\n",
       "  </thead>\n",
       "  <tbody>\n",
       "    <tr>\n",
       "      <th>0</th>\n",
       "      <td>0.352941</td>\n",
       "      <td>0.743719</td>\n",
       "      <td>0.590164</td>\n",
       "      <td>0.353535</td>\n",
       "      <td>0.000000</td>\n",
       "      <td>0.500745</td>\n",
       "      <td>0.234415</td>\n",
       "      <td>50</td>\n",
       "      <td>1</td>\n",
       "      <td>B</td>\n",
       "    </tr>\n",
       "    <tr>\n",
       "      <th>1</th>\n",
       "      <td>0.058824</td>\n",
       "      <td>0.427136</td>\n",
       "      <td>0.540984</td>\n",
       "      <td>0.292929</td>\n",
       "      <td>0.000000</td>\n",
       "      <td>0.396423</td>\n",
       "      <td>0.116567</td>\n",
       "      <td>31</td>\n",
       "      <td>0</td>\n",
       "      <td>C</td>\n",
       "    </tr>\n",
       "    <tr>\n",
       "      <th>2</th>\n",
       "      <td>0.470588</td>\n",
       "      <td>0.919598</td>\n",
       "      <td>0.524590</td>\n",
       "      <td>0.000000</td>\n",
       "      <td>0.000000</td>\n",
       "      <td>0.347243</td>\n",
       "      <td>0.253629</td>\n",
       "      <td>32</td>\n",
       "      <td>1</td>\n",
       "      <td>B</td>\n",
       "    </tr>\n",
       "    <tr>\n",
       "      <th>3</th>\n",
       "      <td>0.058824</td>\n",
       "      <td>0.447236</td>\n",
       "      <td>0.540984</td>\n",
       "      <td>0.232323</td>\n",
       "      <td>0.111111</td>\n",
       "      <td>0.418778</td>\n",
       "      <td>0.038002</td>\n",
       "      <td>21</td>\n",
       "      <td>0</td>\n",
       "      <td>B</td>\n",
       "    </tr>\n",
       "    <tr>\n",
       "      <th>4</th>\n",
       "      <td>0.000000</td>\n",
       "      <td>0.688442</td>\n",
       "      <td>0.327869</td>\n",
       "      <td>0.353535</td>\n",
       "      <td>0.198582</td>\n",
       "      <td>0.642325</td>\n",
       "      <td>0.943638</td>\n",
       "      <td>33</td>\n",
       "      <td>1</td>\n",
       "      <td>C</td>\n",
       "    </tr>\n",
       "  </tbody>\n",
       "</table>\n",
       "</div>"
      ],
      "text/plain": [
       "   Number_pregnant  Glucose_concentration  Blood_pressure   Triceps   Insulin  \\\n",
       "0         0.352941               0.743719        0.590164  0.353535  0.000000   \n",
       "1         0.058824               0.427136        0.540984  0.292929  0.000000   \n",
       "2         0.470588               0.919598        0.524590  0.000000  0.000000   \n",
       "3         0.058824               0.447236        0.540984  0.232323  0.111111   \n",
       "4         0.000000               0.688442        0.327869  0.353535  0.198582   \n",
       "\n",
       "        BMI  Pedigree  Age  Class Group  \n",
       "0  0.500745  0.234415   50      1     B  \n",
       "1  0.396423  0.116567   31      0     C  \n",
       "2  0.347243  0.253629   32      1     B  \n",
       "3  0.418778  0.038002   21      0     B  \n",
       "4  0.642325  0.943638   33      1     C  "
      ]
     },
     "execution_count": 139,
     "metadata": {},
     "output_type": "execute_result"
    }
   ],
   "source": [
    "diabetes.head()"
   ]
  },
  {
   "cell_type": "code",
   "execution_count": 140,
   "metadata": {},
   "outputs": [],
   "source": [
    "num_preg = tf.feature_column.numeric_column( 'Number_pregnant' )\n",
    "plasma   = tf.feature_column.numeric_column( 'Glucose_concentration' )\n",
    "pressure = tf.feature_column.numeric_column( 'Blood_pressure' )\n",
    "tricep   = tf.feature_column.numeric_column( 'Triceps' )\n",
    "insulin  = tf.feature_column.numeric_column( 'Insulin' )\n",
    "bmi      = tf.feature_column.numeric_column( 'BMI' )\n",
    "pedigree = tf.feature_column.numeric_column( 'Pedigree' )\n",
    "age      = tf.feature_column.numeric_column( 'Age' )"
   ]
  },
  {
   "cell_type": "code",
   "execution_count": 144,
   "metadata": {},
   "outputs": [],
   "source": [
    "assigned_group = tf.feature_column.categorical_column_with_vocabulary_list( 'Group', [ 'A', 'B', 'C', 'D' ] )"
   ]
  },
  {
   "cell_type": "code",
   "execution_count": 143,
   "metadata": {},
   "outputs": [],
   "source": [
    "# hash_bucket_size is the number of levels in the response\n",
    "assigned_group = tf.feature_column.categorical_column_with_hash_bucket( 'Group', hash_bucket_size = 4 )"
   ]
  },
  {
   "cell_type": "code",
   "execution_count": 145,
   "metadata": {},
   "outputs": [
    {
     "data": {
      "text/plain": [
       "<matplotlib.axes._subplots.AxesSubplot at 0x1ea0b3d0518>"
      ]
     },
     "execution_count": 145,
     "metadata": {},
     "output_type": "execute_result"
    },
    {
     "data": {
      "image/png": "[encoded data removed]",
      "text/plain": [
       "<Figure size 432x288 with 1 Axes>"
      ]
     },
     "metadata": {
      "needs_background": "light"
     },
     "output_type": "display_data"
    }
   ],
   "source": [
    "diabetes[ 'Age' ].hist( bins = 20 )"
   ]
  },
  {
   "cell_type": "code",
   "execution_count": 146,
   "metadata": {},
   "outputs": [],
   "source": [
    "age_bucket = tf.feature_column.bucketized_column( age, boundaries = [ 20, 30, 40, 50, 60, 70, 80 ] )"
   ]
  },
  {
   "cell_type": "code",
   "execution_count": 147,
   "metadata": {},
   "outputs": [],
   "source": [
    "feat_cols = [ num_preg, plasma, pressure, tricep, insulin, bmi, pedigree, age_bucket ]"
   ]
  },
  {
   "cell_type": "code",
   "execution_count": 148,
   "metadata": {},
   "outputs": [],
   "source": [
    "x_data = diabetes.drop( 'Class', axis = 1 )"
   ]
  },
  {
   "cell_type": "code",
   "execution_count": 149,
   "metadata": {},
   "outputs": [],
   "source": [
    "labels = diabetes[ 'Class' ]"
   ]
  },
  {
   "cell_type": "code",
   "execution_count": 150,
   "metadata": {},
   "outputs": [],
   "source": [
    "X_train, X_test, y_train, y_test = train_test_split( x_data, labels, test_size = 0.3, random_state = 101 )"
   ]
  },
  {
   "cell_type": "code",
   "execution_count": 152,
   "metadata": {},
   "outputs": [],
   "source": [
    "input_func = tf.estimator.inputs.pandas_input_fn( x = X_train, y = y_train, batch_size = 10, num_epochs = 1000, shuffle = True )"
   ]
  },
  {
   "cell_type": "code",
   "execution_count": 153,
   "metadata": {},
   "outputs": [
    {
     "name": "stdout",
     "output_type": "stream",
     "text": [
      "INFO:tensorflow:Using default config.\n",
      "WARNING:tensorflow:Using temporary folder as model directory: C:\\Users\\andre\\AppData\\Local\\Temp\\tmpf4ozd87w\n",
      "INFO:tensorflow:Using config: {'_model_dir': 'C:\\\\Users\\\\andre\\\\AppData\\\\Local\\\\Temp\\\\tmpf4ozd87w', '_tf_random_seed': None, '_save_summary_steps': 100, '_save_checkpoints_steps': None, '_save_checkpoints_secs': 600, '_session_config': allow_soft_placement: true\n",
      "graph_options {\n",
      "  rewrite_options {\n",
      "    meta_optimizer_iterations: ONE\n",
      "  }\n",
      "}\n",
      ", '_keep_checkpoint_max': 5, '_keep_checkpoint_every_n_hours': 10000, '_log_step_count_steps': 100, '_train_distribute': None, '_device_fn': None, '_protocol': None, '_eval_distribute': None, '_experimental_distribute': None, '_service': None, '_cluster_spec': <tensorflow.python.training.server_lib.ClusterSpec object at 0x000001EA0B629198>, '_task_type': 'worker', '_task_id': 0, '_global_id_in_cluster': 0, '_master': '', '_evaluation_master': '', '_is_chief': True, '_num_ps_replicas': 0, '_num_worker_replicas': 1}\n"
     ]
    }
   ],
   "source": [
    "model = tf.estimator.LinearClassifier( feature_columns = feat_cols, n_classes = 2 )"
   ]
  },
  {
   "cell_type": "code",
   "execution_count": 154,
   "metadata": {},
   "outputs": [
    {
     "name": "stdout",
     "output_type": "stream",
     "text": [
      "INFO:tensorflow:Calling model_fn.\n",
      "INFO:tensorflow:Done calling model_fn.\n",
      "INFO:tensorflow:Create CheckpointSaverHook.\n",
      "INFO:tensorflow:Graph was finalized.\n",
      "INFO:tensorflow:Running local_init_op.\n",
      "INFO:tensorflow:Done running local_init_op.\n",
      "INFO:tensorflow:Saving checkpoints for 0 into C:\\Users\\andre\\AppData\\Local\\Temp\\tmpf4ozd87w\\model.ckpt.\n",
      "INFO:tensorflow:loss = 6.931472, step = 1\n",
      "INFO:tensorflow:global_step/sec: 293.496\n",
      "INFO:tensorflow:loss = 8.942215, step = 101 (0.343 sec)\n",
      "INFO:tensorflow:global_step/sec: 536.626\n",
      "INFO:tensorflow:loss = 3.748193, step = 201 (0.185 sec)\n",
      "INFO:tensorflow:global_step/sec: 475.201\n",
      "INFO:tensorflow:loss = 5.0555105, step = 301 (0.214 sec)\n",
      "INFO:tensorflow:global_step/sec: 459.943\n",
      "INFO:tensorflow:loss = 3.925143, step = 401 (0.214 sec)\n",
      "INFO:tensorflow:global_step/sec: 426.645\n",
      "INFO:tensorflow:loss = 9.310125, step = 501 (0.237 sec)\n",
      "INFO:tensorflow:global_step/sec: 482.09\n",
      "INFO:tensorflow:loss = 6.562126, step = 601 (0.206 sec)\n",
      "INFO:tensorflow:global_step/sec: 447.592\n",
      "INFO:tensorflow:loss = 7.2259884, step = 701 (0.222 sec)\n",
      "INFO:tensorflow:global_step/sec: 477.086\n",
      "INFO:tensorflow:loss = 7.199938, step = 801 (0.207 sec)\n",
      "INFO:tensorflow:global_step/sec: 500.064\n",
      "INFO:tensorflow:loss = 7.7331233, step = 901 (0.202 sec)\n",
      "INFO:tensorflow:Saving checkpoints for 1000 into C:\\Users\\andre\\AppData\\Local\\Temp\\tmpf4ozd87w\\model.ckpt.\n",
      "INFO:tensorflow:Loss for final step: 5.612289.\n"
     ]
    },
    {
     "data": {
      "text/plain": [
       "<tensorflow.python.estimator.canned.linear.LinearClassifier at 0x1ea0b6242e8>"
      ]
     },
     "execution_count": 154,
     "metadata": {},
     "output_type": "execute_result"
    }
   ],
   "source": [
    "model.train( input_fn = input_func, steps = 1000 )"
   ]
  },
  {
   "cell_type": "code",
   "execution_count": 155,
   "metadata": {},
   "outputs": [],
   "source": [
    "eval_input_func = tf.estimator.inputs.pandas_input_fn( x = X_test, y = y_test, batch_size = 10, num_epochs = 1, shuffle = False )"
   ]
  },
  {
   "cell_type": "code",
   "execution_count": 157,
   "metadata": {},
   "outputs": [
    {
     "name": "stdout",
     "output_type": "stream",
     "text": [
      "INFO:tensorflow:Calling model_fn.\n",
      "WARNING:tensorflow:Trapezoidal rule is known to produce incorrect PR-AUCs; please switch to \"careful_interpolation\" instead.\n",
      "WARNING:tensorflow:Trapezoidal rule is known to produce incorrect PR-AUCs; please switch to \"careful_interpolation\" instead.\n",
      "INFO:tensorflow:Done calling model_fn.\n",
      "INFO:tensorflow:Starting evaluation at 2019-02-05-00:56:56\n",
      "INFO:tensorflow:Graph was finalized.\n",
      "INFO:tensorflow:Restoring parameters from C:\\Users\\andre\\AppData\\Local\\Temp\\tmpf4ozd87w\\model.ckpt-1000\n",
      "INFO:tensorflow:Running local_init_op.\n",
      "INFO:tensorflow:Done running local_init_op.\n",
      "INFO:tensorflow:Finished evaluation at 2019-02-05-00:56:57\n",
      "INFO:tensorflow:Saving dict for global step 1000: accuracy = 0.7316017, accuracy_baseline = 0.64935064, auc = 0.8003704, auc_precision_recall = 0.65236866, average_loss = 0.52577484, global_step = 1000, label/mean = 0.35064936, loss = 5.0605826, precision = 0.62666667, prediction/mean = 0.38068533, recall = 0.5802469\n",
      "INFO:tensorflow:Saving 'checkpoint_path' summary for global step 1000: C:\\Users\\andre\\AppData\\Local\\Temp\\tmpf4ozd87w\\model.ckpt-1000\n"
     ]
    }
   ],
   "source": [
    "results = model.evaluate( eval_input_func )"
   ]
  },
  {
   "cell_type": "code",
   "execution_count": 158,
   "metadata": {},
   "outputs": [
    {
     "data": {
      "text/plain": [
       "{'accuracy': 0.7316017,\n",
       " 'accuracy_baseline': 0.64935064,\n",
       " 'auc': 0.8003704,\n",
       " 'auc_precision_recall': 0.65236866,\n",
       " 'average_loss': 0.52577484,\n",
       " 'label/mean': 0.35064936,\n",
       " 'loss': 5.0605826,\n",
       " 'precision': 0.62666667,\n",
       " 'prediction/mean': 0.38068533,\n",
       " 'recall': 0.5802469,\n",
       " 'global_step': 1000}"
      ]
     },
     "execution_count": 158,
     "metadata": {},
     "output_type": "execute_result"
    }
   ],
   "source": [
    "results"
   ]
  },
  {
   "cell_type": "code",
   "execution_count": 159,
   "metadata": {},
   "outputs": [],
   "source": [
    "pred_input_func = tf.estimator.inputs.pandas_input_fn( x = X_test, batch_size = 1, shuffle = False, num_epochs = 1 )"
   ]
  },
  {
   "cell_type": "code",
   "execution_count": 160,
   "metadata": {},
   "outputs": [],
   "source": [
    "predictions = model.predict( pred_input_func )"
   ]
  },
  {
   "cell_type": "code",
   "execution_count": 161,
   "metadata": {},
   "outputs": [
    {
     "name": "stdout",
     "output_type": "stream",
     "text": [
      "INFO:tensorflow:Calling model_fn.\n",
      "INFO:tensorflow:Done calling model_fn.\n",
      "INFO:tensorflow:Graph was finalized.\n",
      "INFO:tensorflow:Restoring parameters from C:\\Users\\andre\\AppData\\Local\\Temp\\tmpf4ozd87w\\model.ckpt-1000\n",
      "INFO:tensorflow:Running local_init_op.\n",
      "INFO:tensorflow:Done running local_init_op.\n"
     ]
    }
   ],
   "source": [
    "my_pred = list( predictions )"
   ]
  },
  {
   "cell_type": "code",
   "execution_count": 162,
   "metadata": {},
   "outputs": [
    {
     "data": {
      "text/plain": [
       "[{'logits': array([0.0948813], dtype=float32),\n",
       "  'logistic': array([0.52370256], dtype=float32),\n",
       "  'probabilities': array([0.47629747, 0.52370256], dtype=float32),\n",
       "  'class_ids': array([1], dtype=int64),\n",
       "  'classes': array([b'1'], dtype=object)},\n",
       " {'logits': array([0.66665125], dtype=float32),\n",
       "  'logistic': array([0.6607529], dtype=float32),\n",
       "  'probabilities': array([0.33924708, 0.6607529 ], dtype=float32),\n",
       "  'class_ids': array([1], dtype=int64),\n",
       "  'classes': array([b'1'], dtype=object)},\n",
       " {'logits': array([-0.39862496], dtype=float32),\n",
       "  'logistic': array([0.40164277], dtype=float32),\n",
       "  'probabilities': array([0.5983572 , 0.40164274], dtype=float32),\n",
       "  'class_ids': array([0], dtype=int64),\n",
       "  'classes': array([b'0'], dtype=object)},\n",
       " {'logits': array([-0.7175766], dtype=float32),\n",
       "  'logistic': array([0.32792684], dtype=float32),\n",
       "  'probabilities': array([0.6720731 , 0.32792684], dtype=float32),\n",
       "  'class_ids': array([0], dtype=int64),\n",
       "  'classes': array([b'0'], dtype=object)},\n",
       " {'logits': array([-1.8257627], dtype=float32),\n",
       "  'logistic': array([0.13874382], dtype=float32),\n",
       "  'probabilities': array([0.86125624, 0.13874383], dtype=float32),\n",
       "  'class_ids': array([0], dtype=int64),\n",
       "  'classes': array([b'0'], dtype=object)},\n",
       " {'logits': array([0.8939501], dtype=float32),\n",
       "  'logistic': array([0.70970464], dtype=float32),\n",
       "  'probabilities': array([0.29029533, 0.70970464], dtype=float32),\n",
       "  'class_ids': array([1], dtype=int64),\n",
       "  'classes': array([b'1'], dtype=object)},\n",
       " {'logits': array([0.5554044], dtype=float32),\n",
       "  'logistic': array([0.63538855], dtype=float32),\n",
       "  'probabilities': array([0.36461145, 0.63538855], dtype=float32),\n",
       "  'class_ids': array([1], dtype=int64),\n",
       "  'classes': array([b'1'], dtype=object)},\n",
       " {'logits': array([-0.6142668], dtype=float32),\n",
       "  'logistic': array([0.3510865], dtype=float32),\n",
       "  'probabilities': array([0.6489135, 0.3510865], dtype=float32),\n",
       "  'class_ids': array([0], dtype=int64),\n",
       "  'classes': array([b'0'], dtype=object)},\n",
       " {'logits': array([-1.1135031], dtype=float32),\n",
       "  'logistic': array([0.24721837], dtype=float32),\n",
       "  'probabilities': array([0.75278157, 0.24721837], dtype=float32),\n",
       "  'class_ids': array([0], dtype=int64),\n",
       "  'classes': array([b'0'], dtype=object)},\n",
       " {'logits': array([-1.2180786], dtype=float32),\n",
       "  'logistic': array([0.22827476], dtype=float32),\n",
       "  'probabilities': array([0.77172524, 0.22827476], dtype=float32),\n",
       "  'class_ids': array([0], dtype=int64),\n",
       "  'classes': array([b'0'], dtype=object)},\n",
       " {'logits': array([-1.714325], dtype=float32),\n",
       "  'logistic': array([0.1526036], dtype=float32),\n",
       "  'probabilities': array([0.84739643, 0.1526036 ], dtype=float32),\n",
       "  'class_ids': array([0], dtype=int64),\n",
       "  'classes': array([b'0'], dtype=object)},\n",
       " {'logits': array([-1.7212591], dtype=float32),\n",
       "  'logistic': array([0.15170905], dtype=float32),\n",
       "  'probabilities': array([0.8482909 , 0.15170905], dtype=float32),\n",
       "  'class_ids': array([0], dtype=int64),\n",
       "  'classes': array([b'0'], dtype=object)},\n",
       " {'logits': array([-0.7752347], dtype=float32),\n",
       "  'logistic': array([0.31534782], dtype=float32),\n",
       "  'probabilities': array([0.6846522 , 0.31534785], dtype=float32),\n",
       "  'class_ids': array([0], dtype=int64),\n",
       "  'classes': array([b'0'], dtype=object)},\n",
       " {'logits': array([0.30443835], dtype=float32),\n",
       "  'logistic': array([0.57552713], dtype=float32),\n",
       "  'probabilities': array([0.42447284, 0.57552713], dtype=float32),\n",
       "  'class_ids': array([1], dtype=int64),\n",
       "  'classes': array([b'1'], dtype=object)},\n",
       " {'logits': array([-1.3918883], dtype=float32),\n",
       "  'logistic': array([0.19910647], dtype=float32),\n",
       "  'probabilities': array([0.8008935 , 0.19910647], dtype=float32),\n",
       "  'class_ids': array([0], dtype=int64),\n",
       "  'classes': array([b'0'], dtype=object)},\n",
       " {'logits': array([-0.5302114], dtype=float32),\n",
       "  'logistic': array([0.37046757], dtype=float32),\n",
       "  'probabilities': array([0.62953246, 0.3704676 ], dtype=float32),\n",
       "  'class_ids': array([0], dtype=int64),\n",
       "  'classes': array([b'0'], dtype=object)},\n",
       " {'logits': array([-0.386747], dtype=float32),\n",
       "  'logistic': array([0.40450063], dtype=float32),\n",
       "  'probabilities': array([0.5954994 , 0.40450066], dtype=float32),\n",
       "  'class_ids': array([0], dtype=int64),\n",
       "  'classes': array([b'0'], dtype=object)},\n",
       " {'logits': array([-1.7620318], dtype=float32),\n",
       "  'logistic': array([0.14653605], dtype=float32),\n",
       "  'probabilities': array([0.8534639 , 0.14653605], dtype=float32),\n",
       "  'class_ids': array([0], dtype=int64),\n",
       "  'classes': array([b'0'], dtype=object)},\n",
       " {'logits': array([-0.44085538], dtype=float32),\n",
       "  'logistic': array([0.39153716], dtype=float32),\n",
       "  'probabilities': array([0.6084628 , 0.39153716], dtype=float32),\n",
       "  'class_ids': array([0], dtype=int64),\n",
       "  'classes': array([b'0'], dtype=object)},\n",
       " {'logits': array([-1.7898686], dtype=float32),\n",
       "  'logistic': array([0.14308883], dtype=float32),\n",
       "  'probabilities': array([0.8569111 , 0.14308883], dtype=float32),\n",
       "  'class_ids': array([0], dtype=int64),\n",
       "  'classes': array([b'0'], dtype=object)},\n",
       " {'logits': array([-1.2105434], dtype=float32),\n",
       "  'logistic': array([0.22960491], dtype=float32),\n",
       "  'probabilities': array([0.7703951 , 0.22960493], dtype=float32),\n",
       "  'class_ids': array([0], dtype=int64),\n",
       "  'classes': array([b'0'], dtype=object)},\n",
       " {'logits': array([-0.8042958], dtype=float32),\n",
       "  'logistic': array([0.30910736], dtype=float32),\n",
       "  'probabilities': array([0.6908926 , 0.30910733], dtype=float32),\n",
       "  'class_ids': array([0], dtype=int64),\n",
       "  'classes': array([b'0'], dtype=object)},\n",
       " {'logits': array([0.67887735], dtype=float32),\n",
       "  'logistic': array([0.6634881], dtype=float32),\n",
       "  'probabilities': array([0.3365119, 0.6634881], dtype=float32),\n",
       "  'class_ids': array([1], dtype=int64),\n",
       "  'classes': array([b'1'], dtype=object)},\n",
       " {'logits': array([-1.3518519], dtype=float32),\n",
       "  'logistic': array([0.20556776], dtype=float32),\n",
       "  'probabilities': array([0.7944323 , 0.20556778], dtype=float32),\n",
       "  'class_ids': array([0], dtype=int64),\n",
       "  'classes': array([b'0'], dtype=object)},\n",
       " {'logits': array([-1.3668332], dtype=float32),\n",
       "  'logistic': array([0.20313197], dtype=float32),\n",
       "  'probabilities': array([0.796868  , 0.20313197], dtype=float32),\n",
       "  'class_ids': array([0], dtype=int64),\n",
       "  'classes': array([b'0'], dtype=object)},\n",
       " {'logits': array([1.370093], dtype=float32),\n",
       "  'logistic': array([0.7973951], dtype=float32),\n",
       "  'probabilities': array([0.20260482, 0.7973951 ], dtype=float32),\n",
       "  'class_ids': array([1], dtype=int64),\n",
       "  'classes': array([b'1'], dtype=object)},\n",
       " {'logits': array([-1.4475405], dtype=float32),\n",
       "  'logistic': array([0.19038038], dtype=float32),\n",
       "  'probabilities': array([0.8096196 , 0.19038036], dtype=float32),\n",
       "  'class_ids': array([0], dtype=int64),\n",
       "  'classes': array([b'0'], dtype=object)},\n",
       " {'logits': array([-0.6381419], dtype=float32),\n",
       "  'logistic': array([0.3456667], dtype=float32),\n",
       "  'probabilities': array([0.6543333 , 0.34566668], dtype=float32),\n",
       "  'class_ids': array([0], dtype=int64),\n",
       "  'classes': array([b'0'], dtype=object)},\n",
       " {'logits': array([-1.969481], dtype=float32),\n",
       "  'logistic': array([0.12244464], dtype=float32),\n",
       "  'probabilities': array([0.8775554 , 0.12244465], dtype=float32),\n",
       "  'class_ids': array([0], dtype=int64),\n",
       "  'classes': array([b'0'], dtype=object)},\n",
       " {'logits': array([0.37875056], dtype=float32),\n",
       "  'logistic': array([0.59357166], dtype=float32),\n",
       "  'probabilities': array([0.40642825, 0.59357166], dtype=float32),\n",
       "  'class_ids': array([1], dtype=int64),\n",
       "  'classes': array([b'1'], dtype=object)},\n",
       " {'logits': array([2.7333088], dtype=float32),\n",
       "  'logistic': array([0.9389637], dtype=float32),\n",
       "  'probabilities': array([0.06103626, 0.9389637 ], dtype=float32),\n",
       "  'class_ids': array([1], dtype=int64),\n",
       "  'classes': array([b'1'], dtype=object)},\n",
       " {'logits': array([-0.41529894], dtype=float32),\n",
       "  'logistic': array([0.39764223], dtype=float32),\n",
       "  'probabilities': array([0.6023578 , 0.39764223], dtype=float32),\n",
       "  'class_ids': array([0], dtype=int64),\n",
       "  'classes': array([b'0'], dtype=object)},\n",
       " {'logits': array([-0.75129956], dtype=float32),\n",
       "  'logistic': array([0.32053822], dtype=float32),\n",
       "  'probabilities': array([0.6794618, 0.3205382], dtype=float32),\n",
       "  'class_ids': array([0], dtype=int64),\n",
       "  'classes': array([b'0'], dtype=object)},\n",
       " {'logits': array([0.2625494], dtype=float32),\n",
       "  'logistic': array([0.56526285], dtype=float32),\n",
       "  'probabilities': array([0.4347371 , 0.56526285], dtype=float32),\n",
       "  'class_ids': array([1], dtype=int64),\n",
       "  'classes': array([b'1'], dtype=object)},\n",
       " {'logits': array([-0.97086], dtype=float32),\n",
       "  'logistic': array([0.27470914], dtype=float32),\n",
       "  'probabilities': array([0.72529083, 0.2747091 ], dtype=float32),\n",
       "  'class_ids': array([0], dtype=int64),\n",
       "  'classes': array([b'0'], dtype=object)},\n",
       " {'logits': array([-0.34495425], dtype=float32),\n",
       "  'logistic': array([0.41460654], dtype=float32),\n",
       "  'probabilities': array([0.5853935 , 0.41460654], dtype=float32),\n",
       "  'class_ids': array([0], dtype=int64),\n",
       "  'classes': array([b'0'], dtype=object)},\n",
       " {'logits': array([0.06554866], dtype=float32),\n",
       "  'logistic': array([0.5163813], dtype=float32),\n",
       "  'probabilities': array([0.48361874, 0.5163813 ], dtype=float32),\n",
       "  'class_ids': array([1], dtype=int64),\n",
       "  'classes': array([b'1'], dtype=object)},\n",
       " {'logits': array([0.5503597], dtype=float32),\n",
       "  'logistic': array([0.63421905], dtype=float32),\n",
       "  'probabilities': array([0.36578095, 0.63421905], dtype=float32),\n",
       "  'class_ids': array([1], dtype=int64),\n",
       "  'classes': array([b'1'], dtype=object)},\n",
       " {'logits': array([1.2461277], dtype=float32),\n",
       "  'logistic': array([0.77662885], dtype=float32),\n",
       "  'probabilities': array([0.22337118, 0.77662885], dtype=float32),\n",
       "  'class_ids': array([1], dtype=int64),\n",
       "  'classes': array([b'1'], dtype=object)},\n",
       " {'logits': array([-0.686372], dtype=float32),\n",
       "  'logistic': array([0.33484063], dtype=float32),\n",
       "  'probabilities': array([0.66515934, 0.3348406 ], dtype=float32),\n",
       "  'class_ids': array([0], dtype=int64),\n",
       "  'classes': array([b'0'], dtype=object)},\n",
       " {'logits': array([-1.4376756], dtype=float32),\n",
       "  'logistic': array([0.19190556], dtype=float32),\n",
       "  'probabilities': array([0.80809444, 0.19190556], dtype=float32),\n",
       "  'class_ids': array([0], dtype=int64),\n",
       "  'classes': array([b'0'], dtype=object)},\n",
       " {'logits': array([0.31384027], dtype=float32),\n",
       "  'logistic': array([0.5778224], dtype=float32),\n",
       "  'probabilities': array([0.42217767, 0.5778224 ], dtype=float32),\n",
       "  'class_ids': array([1], dtype=int64),\n",
       "  'classes': array([b'1'], dtype=object)},\n",
       " {'logits': array([-1.5491458], dtype=float32),\n",
       "  'logistic': array([0.17520967], dtype=float32),\n",
       "  'probabilities': array([0.82479036, 0.17520967], dtype=float32),\n",
       "  'class_ids': array([0], dtype=int64),\n",
       "  'classes': array([b'0'], dtype=object)},\n",
       " {'logits': array([0.19075406], dtype=float32),\n",
       "  'logistic': array([0.5475444], dtype=float32),\n",
       "  'probabilities': array([0.45245555, 0.5475444 ], dtype=float32),\n",
       "  'class_ids': array([1], dtype=int64),\n",
       "  'classes': array([b'1'], dtype=object)},\n",
       " {'logits': array([-1.6414177], dtype=float32),\n",
       "  'logistic': array([0.16227224], dtype=float32),\n",
       "  'probabilities': array([0.8377278 , 0.16227226], dtype=float32),\n",
       "  'class_ids': array([0], dtype=int64),\n",
       "  'classes': array([b'0'], dtype=object)},\n",
       " {'logits': array([-1.9379047], dtype=float32),\n",
       "  'logistic': array([0.12587823], dtype=float32),\n",
       "  'probabilities': array([0.8741217 , 0.12587823], dtype=float32),\n",
       "  'class_ids': array([0], dtype=int64),\n",
       "  'classes': array([b'0'], dtype=object)},\n",
       " {'logits': array([0.34656453], dtype=float32),\n",
       "  'logistic': array([0.5857842], dtype=float32),\n",
       "  'probabilities': array([0.41421574, 0.5857842 ], dtype=float32),\n",
       "  'class_ids': array([1], dtype=int64),\n",
       "  'classes': array([b'1'], dtype=object)},\n",
       " {'logits': array([-1.5417612], dtype=float32),\n",
       "  'logistic': array([0.17627941], dtype=float32),\n",
       "  'probabilities': array([0.8237206, 0.1762794], dtype=float32),\n",
       "  'class_ids': array([0], dtype=int64),\n",
       "  'classes': array([b'0'], dtype=object)},\n",
       " {'logits': array([-1.2604594], dtype=float32),\n",
       "  'logistic': array([0.22089481], dtype=float32),\n",
       "  'probabilities': array([0.7791051, 0.2208948], dtype=float32),\n",
       "  'class_ids': array([0], dtype=int64),\n",
       "  'classes': array([b'0'], dtype=object)},\n",
       " {'logits': array([-1.6652365], dtype=float32),\n",
       "  'logistic': array([0.15906031], dtype=float32),\n",
       "  'probabilities': array([0.8409397 , 0.15906031], dtype=float32),\n",
       "  'class_ids': array([0], dtype=int64),\n",
       "  'classes': array([b'0'], dtype=object)},\n",
       " {'logits': array([-1.5710833], dtype=float32),\n",
       "  'logistic': array([0.17206201], dtype=float32),\n",
       "  'probabilities': array([0.82793796, 0.17206201], dtype=float32),\n",
       "  'class_ids': array([0], dtype=int64),\n",
       "  'classes': array([b'0'], dtype=object)},\n",
       " {'logits': array([-0.98391044], dtype=float32),\n",
       "  'logistic': array([0.27211657], dtype=float32),\n",
       "  'probabilities': array([0.72788346, 0.27211654], dtype=float32),\n",
       "  'class_ids': array([0], dtype=int64),\n",
       "  'classes': array([b'0'], dtype=object)},\n",
       " {'logits': array([-1.0618908], dtype=float32),\n",
       "  'logistic': array([0.2569483], dtype=float32),\n",
       "  'probabilities': array([0.7430517 , 0.25694826], dtype=float32),\n",
       "  'class_ids': array([0], dtype=int64),\n",
       "  'classes': array([b'0'], dtype=object)},\n",
       " {'logits': array([-0.4728917], dtype=float32),\n",
       "  'logistic': array([0.38393205], dtype=float32),\n",
       "  'probabilities': array([0.61606795, 0.38393202], dtype=float32),\n",
       "  'class_ids': array([0], dtype=int64),\n",
       "  'classes': array([b'0'], dtype=object)},\n",
       " {'logits': array([-1.7713255], dtype=float32),\n",
       "  'logistic': array([0.14537758], dtype=float32),\n",
       "  'probabilities': array([0.8546224 , 0.14537756], dtype=float32),\n",
       "  'class_ids': array([0], dtype=int64),\n",
       "  'classes': array([b'0'], dtype=object)},\n",
       " {'logits': array([-1.2593544], dtype=float32),\n",
       "  'logistic': array([0.22108506], dtype=float32),\n",
       "  'probabilities': array([0.778915  , 0.22108507], dtype=float32),\n",
       "  'class_ids': array([0], dtype=int64),\n",
       "  'classes': array([b'0'], dtype=object)},\n",
       " {'logits': array([-1.3834548], dtype=float32),\n",
       "  'logistic': array([0.20045471], dtype=float32),\n",
       "  'probabilities': array([0.7995452 , 0.20045471], dtype=float32),\n",
       "  'class_ids': array([0], dtype=int64),\n",
       "  'classes': array([b'0'], dtype=object)},\n",
       " {'logits': array([-1.200681], dtype=float32),\n",
       "  'logistic': array([0.2313541], dtype=float32),\n",
       "  'probabilities': array([0.76864594, 0.23135412], dtype=float32),\n",
       "  'class_ids': array([0], dtype=int64),\n",
       "  'classes': array([b'0'], dtype=object)},\n",
       " {'logits': array([0.03570366], dtype=float32),\n",
       "  'logistic': array([0.50892496], dtype=float32),\n",
       "  'probabilities': array([0.491075  , 0.50892496], dtype=float32),\n",
       "  'class_ids': array([1], dtype=int64),\n",
       "  'classes': array([b'1'], dtype=object)},\n",
       " {'logits': array([-1.6567955], dtype=float32),\n",
       "  'logistic': array([0.16019262], dtype=float32),\n",
       "  'probabilities': array([0.83980733, 0.16019262], dtype=float32),\n",
       "  'class_ids': array([0], dtype=int64),\n",
       "  'classes': array([b'0'], dtype=object)},\n",
       " {'logits': array([-1.1347412], dtype=float32),\n",
       "  'logistic': array([0.24328718], dtype=float32),\n",
       "  'probabilities': array([0.7567128 , 0.24328718], dtype=float32),\n",
       "  'class_ids': array([0], dtype=int64),\n",
       "  'classes': array([b'0'], dtype=object)},\n",
       " {'logits': array([0.5676179], dtype=float32),\n",
       "  'logistic': array([0.6382133], dtype=float32),\n",
       "  'probabilities': array([0.36178663, 0.6382133 ], dtype=float32),\n",
       "  'class_ids': array([1], dtype=int64),\n",
       "  'classes': array([b'1'], dtype=object)},\n",
       " {'logits': array([0.5899757], dtype=float32),\n",
       "  'logistic': array([0.6433596], dtype=float32),\n",
       "  'probabilities': array([0.35664043, 0.6433596 ], dtype=float32),\n",
       "  'class_ids': array([1], dtype=int64),\n",
       "  'classes': array([b'1'], dtype=object)},\n",
       " {'logits': array([0.14742422], dtype=float32),\n",
       "  'logistic': array([0.5367894], dtype=float32),\n",
       "  'probabilities': array([0.46321055, 0.5367894 ], dtype=float32),\n",
       "  'class_ids': array([1], dtype=int64),\n",
       "  'classes': array([b'1'], dtype=object)},\n",
       " {'logits': array([-0.55700755], dtype=float32),\n",
       "  'logistic': array([0.36424014], dtype=float32),\n",
       "  'probabilities': array([0.6357599 , 0.36424014], dtype=float32),\n",
       "  'class_ids': array([0], dtype=int64),\n",
       "  'classes': array([b'0'], dtype=object)},\n",
       " {'logits': array([0.04949987], dtype=float32),\n",
       "  'logistic': array([0.51237243], dtype=float32),\n",
       "  'probabilities': array([0.48762754, 0.51237243], dtype=float32),\n",
       "  'class_ids': array([1], dtype=int64),\n",
       "  'classes': array([b'1'], dtype=object)},\n",
       " {'logits': array([-1.3579128], dtype=float32),\n",
       "  'logistic': array([0.20457974], dtype=float32),\n",
       "  'probabilities': array([0.7954203 , 0.20457976], dtype=float32),\n",
       "  'class_ids': array([0], dtype=int64),\n",
       "  'classes': array([b'0'], dtype=object)},\n",
       " {'logits': array([-1.2531796], dtype=float32),\n",
       "  'logistic': array([0.22215024], dtype=float32),\n",
       "  'probabilities': array([0.7778498 , 0.22215024], dtype=float32),\n",
       "  'class_ids': array([0], dtype=int64),\n",
       "  'classes': array([b'0'], dtype=object)},\n",
       " {'logits': array([-1.6361752], dtype=float32),\n",
       "  'logistic': array([0.16298617], dtype=float32),\n",
       "  'probabilities': array([0.83701384, 0.16298619], dtype=float32),\n",
       "  'class_ids': array([0], dtype=int64),\n",
       "  'classes': array([b'0'], dtype=object)},\n",
       " {'logits': array([-1.7872106], dtype=float32),\n",
       "  'logistic': array([0.14341505], dtype=float32),\n",
       "  'probabilities': array([0.8565849 , 0.14341505], dtype=float32),\n",
       "  'class_ids': array([0], dtype=int64),\n",
       "  'classes': array([b'0'], dtype=object)},\n",
       " {'logits': array([0.5968257], dtype=float32),\n",
       "  'logistic': array([0.64492977], dtype=float32),\n",
       "  'probabilities': array([0.35507026, 0.64492977], dtype=float32),\n",
       "  'class_ids': array([1], dtype=int64),\n",
       "  'classes': array([b'1'], dtype=object)},\n",
       " {'logits': array([-1.0162518], dtype=float32),\n",
       "  'logistic': array([0.26575816], dtype=float32),\n",
       "  'probabilities': array([0.73424184, 0.26575816], dtype=float32),\n",
       "  'class_ids': array([0], dtype=int64),\n",
       "  'classes': array([b'0'], dtype=object)},\n",
       " {'logits': array([-0.26945388], dtype=float32),\n",
       "  'logistic': array([0.43304116], dtype=float32),\n",
       "  'probabilities': array([0.5669588 , 0.43304113], dtype=float32),\n",
       "  'class_ids': array([0], dtype=int64),\n",
       "  'classes': array([b'0'], dtype=object)},\n",
       " {'logits': array([0.28031516], dtype=float32),\n",
       "  'logistic': array([0.5696235], dtype=float32),\n",
       "  'probabilities': array([0.43037647, 0.5696235 ], dtype=float32),\n",
       "  'class_ids': array([1], dtype=int64),\n",
       "  'classes': array([b'1'], dtype=object)},\n",
       " {'logits': array([-0.69566], dtype=float32),\n",
       "  'logistic': array([0.33277515], dtype=float32),\n",
       "  'probabilities': array([0.6672248 , 0.33277515], dtype=float32),\n",
       "  'class_ids': array([0], dtype=int64),\n",
       "  'classes': array([b'0'], dtype=object)},\n",
       " {'logits': array([0.6034354], dtype=float32),\n",
       "  'logistic': array([0.6464419], dtype=float32),\n",
       "  'probabilities': array([0.35355812, 0.6464419 ], dtype=float32),\n",
       "  'class_ids': array([1], dtype=int64),\n",
       "  'classes': array([b'1'], dtype=object)},\n",
       " {'logits': array([-1.9347932], dtype=float32),\n",
       "  'logistic': array([0.12622099], dtype=float32),\n",
       "  'probabilities': array([0.873779  , 0.12622099], dtype=float32),\n",
       "  'class_ids': array([0], dtype=int64),\n",
       "  'classes': array([b'0'], dtype=object)},\n",
       " {'logits': array([0.61815596], dtype=float32),\n",
       "  'logistic': array([0.64979905], dtype=float32),\n",
       "  'probabilities': array([0.35020095, 0.64979905], dtype=float32),\n",
       "  'class_ids': array([1], dtype=int64),\n",
       "  'classes': array([b'1'], dtype=object)},\n",
       " {'logits': array([-1.7879529], dtype=float32),\n",
       "  'logistic': array([0.14332388], dtype=float32),\n",
       "  'probabilities': array([0.85667604, 0.14332388], dtype=float32),\n",
       "  'class_ids': array([0], dtype=int64),\n",
       "  'classes': array([b'0'], dtype=object)},\n",
       " {'logits': array([0.38366842], dtype=float32),\n",
       "  'logistic': array([0.59475756], dtype=float32),\n",
       "  'probabilities': array([0.4052424 , 0.59475756], dtype=float32),\n",
       "  'class_ids': array([1], dtype=int64),\n",
       "  'classes': array([b'1'], dtype=object)},\n",
       " {'logits': array([-0.54844445], dtype=float32),\n",
       "  'logistic': array([0.3662254], dtype=float32),\n",
       "  'probabilities': array([0.63377464, 0.3662254 ], dtype=float32),\n",
       "  'class_ids': array([0], dtype=int64),\n",
       "  'classes': array([b'0'], dtype=object)},\n",
       " {'logits': array([-1.4624584], dtype=float32),\n",
       "  'logistic': array([0.1880916], dtype=float32),\n",
       "  'probabilities': array([0.81190836, 0.1880916 ], dtype=float32),\n",
       "  'class_ids': array([0], dtype=int64),\n",
       "  'classes': array([b'0'], dtype=object)},\n",
       " {'logits': array([0.3075137], dtype=float32),\n",
       "  'logistic': array([0.57627827], dtype=float32),\n",
       "  'probabilities': array([0.42372173, 0.57627827], dtype=float32),\n",
       "  'class_ids': array([1], dtype=int64),\n",
       "  'classes': array([b'1'], dtype=object)},\n",
       " {'logits': array([0.35142815], dtype=float32),\n",
       "  'logistic': array([0.58696383], dtype=float32),\n",
       "  'probabilities': array([0.41303614, 0.58696383], dtype=float32),\n",
       "  'class_ids': array([1], dtype=int64),\n",
       "  'classes': array([b'1'], dtype=object)},\n",
       " {'logits': array([0.32183826], dtype=float32),\n",
       "  'logistic': array([0.5797722], dtype=float32),\n",
       "  'probabilities': array([0.42022783, 0.5797722 ], dtype=float32),\n",
       "  'class_ids': array([1], dtype=int64),\n",
       "  'classes': array([b'1'], dtype=object)},\n",
       " {'logits': array([-1.5103227], dtype=float32),\n",
       "  'logistic': array([0.18089098], dtype=float32),\n",
       "  'probabilities': array([0.819109  , 0.18089098], dtype=float32),\n",
       "  'class_ids': array([0], dtype=int64),\n",
       "  'classes': array([b'0'], dtype=object)},\n",
       " {'logits': array([-0.32406998], dtype=float32),\n",
       "  'logistic': array([0.41968417], dtype=float32),\n",
       "  'probabilities': array([0.5803158 , 0.41968417], dtype=float32),\n",
       "  'class_ids': array([0], dtype=int64),\n",
       "  'classes': array([b'0'], dtype=object)},\n",
       " {'logits': array([-1.6308672], dtype=float32),\n",
       "  'logistic': array([0.1637116], dtype=float32),\n",
       "  'probabilities': array([0.8362884, 0.1637116], dtype=float32),\n",
       "  'class_ids': array([0], dtype=int64),\n",
       "  'classes': array([b'0'], dtype=object)},\n",
       " {'logits': array([0.98331416], dtype=float32),\n",
       "  'logistic': array([0.7277653], dtype=float32),\n",
       "  'probabilities': array([0.27223468, 0.7277653 ], dtype=float32),\n",
       "  'class_ids': array([1], dtype=int64),\n",
       "  'classes': array([b'1'], dtype=object)},\n",
       " {'logits': array([1.5698234], dtype=float32),\n",
       "  'logistic': array([0.82775843], dtype=float32),\n",
       "  'probabilities': array([0.17224157, 0.82775843], dtype=float32),\n",
       "  'class_ids': array([1], dtype=int64),\n",
       "  'classes': array([b'1'], dtype=object)},\n",
       " {'logits': array([0.42679536], dtype=float32),\n",
       "  'logistic': array([0.6051082], dtype=float32),\n",
       "  'probabilities': array([0.39489183, 0.6051082 ], dtype=float32),\n",
       "  'class_ids': array([1], dtype=int64),\n",
       "  'classes': array([b'1'], dtype=object)},\n",
       " {'logits': array([-1.3428044], dtype=float32),\n",
       "  'logistic': array([0.20704924], dtype=float32),\n",
       "  'probabilities': array([0.79295075, 0.20704925], dtype=float32),\n",
       "  'class_ids': array([0], dtype=int64),\n",
       "  'classes': array([b'0'], dtype=object)},\n",
       " {'logits': array([0.04067206], dtype=float32),\n",
       "  'logistic': array([0.51016665], dtype=float32),\n",
       "  'probabilities': array([0.4898334 , 0.51016665], dtype=float32),\n",
       "  'class_ids': array([1], dtype=int64),\n",
       "  'classes': array([b'1'], dtype=object)},\n",
       " {'logits': array([-0.5022387], dtype=float32),\n",
       "  'logistic': array([0.37701473], dtype=float32),\n",
       "  'probabilities': array([0.6229853 , 0.37701473], dtype=float32),\n",
       "  'class_ids': array([0], dtype=int64),\n",
       "  'classes': array([b'0'], dtype=object)},\n",
       " {'logits': array([-0.07197595], dtype=float32),\n",
       "  'logistic': array([0.48201376], dtype=float32),\n",
       "  'probabilities': array([0.51798624, 0.4820138 ], dtype=float32),\n",
       "  'class_ids': array([0], dtype=int64),\n",
       "  'classes': array([b'0'], dtype=object)},\n",
       " {'logits': array([-0.45675975], dtype=float32),\n",
       "  'logistic': array([0.3877548], dtype=float32),\n",
       "  'probabilities': array([0.6122452 , 0.38775477], dtype=float32),\n",
       "  'class_ids': array([0], dtype=int64),\n",
       "  'classes': array([b'0'], dtype=object)},\n",
       " {'logits': array([-0.17224991], dtype=float32),\n",
       "  'logistic': array([0.45704368], dtype=float32),\n",
       "  'probabilities': array([0.54295635, 0.4570437 ], dtype=float32),\n",
       "  'class_ids': array([0], dtype=int64),\n",
       "  'classes': array([b'0'], dtype=object)},\n",
       " {'logits': array([-1.5315378], dtype=float32),\n",
       "  'logistic': array([0.1777688], dtype=float32),\n",
       "  'probabilities': array([0.8222312, 0.1777688], dtype=float32),\n",
       "  'class_ids': array([0], dtype=int64),\n",
       "  'classes': array([b'0'], dtype=object)},\n",
       " {'logits': array([0.31352162], dtype=float32),\n",
       "  'logistic': array([0.5777446], dtype=float32),\n",
       "  'probabilities': array([0.42225537, 0.5777446 ], dtype=float32),\n",
       "  'class_ids': array([1], dtype=int64),\n",
       "  'classes': array([b'1'], dtype=object)},\n",
       " {'logits': array([0.20482302], dtype=float32),\n",
       "  'logistic': array([0.5510275], dtype=float32),\n",
       "  'probabilities': array([0.4489725, 0.5510275], dtype=float32),\n",
       "  'class_ids': array([1], dtype=int64),\n",
       "  'classes': array([b'1'], dtype=object)},\n",
       " {'logits': array([-1.1918516], dtype=float32),\n",
       "  'logistic': array([0.23292793], dtype=float32),\n",
       "  'probabilities': array([0.7670721 , 0.23292795], dtype=float32),\n",
       "  'class_ids': array([0], dtype=int64),\n",
       "  'classes': array([b'0'], dtype=object)},\n",
       " {'logits': array([-1.3941828], dtype=float32),\n",
       "  'logistic': array([0.19874083], dtype=float32),\n",
       "  'probabilities': array([0.80125916, 0.19874084], dtype=float32),\n",
       "  'class_ids': array([0], dtype=int64),\n",
       "  'classes': array([b'0'], dtype=object)},\n",
       " {'logits': array([-1.5050505], dtype=float32),\n",
       "  'logistic': array([0.18167347], dtype=float32),\n",
       "  'probabilities': array([0.81832653, 0.18167345], dtype=float32),\n",
       "  'class_ids': array([0], dtype=int64),\n",
       "  'classes': array([b'0'], dtype=object)},\n",
       " {'logits': array([-0.9999777], dtype=float32),\n",
       "  'logistic': array([0.2689458], dtype=float32),\n",
       "  'probabilities': array([0.7310542, 0.2689458], dtype=float32),\n",
       "  'class_ids': array([0], dtype=int64),\n",
       "  'classes': array([b'0'], dtype=object)},\n",
       " {'logits': array([-0.39317906], dtype=float32),\n",
       "  'logistic': array([0.40295222], dtype=float32),\n",
       "  'probabilities': array([0.59704775, 0.40295222], dtype=float32),\n",
       "  'class_ids': array([0], dtype=int64),\n",
       "  'classes': array([b'0'], dtype=object)},\n",
       " {'logits': array([-1.6799309], dtype=float32),\n",
       "  'logistic': array([0.15710461], dtype=float32),\n",
       "  'probabilities': array([0.8428954 , 0.15710463], dtype=float32),\n",
       "  'class_ids': array([0], dtype=int64),\n",
       "  'classes': array([b'0'], dtype=object)},\n",
       " {'logits': array([-0.7520744], dtype=float32),\n",
       "  'logistic': array([0.32036948], dtype=float32),\n",
       "  'probabilities': array([0.6796306 , 0.32036948], dtype=float32),\n",
       "  'class_ids': array([0], dtype=int64),\n",
       "  'classes': array([b'0'], dtype=object)},\n",
       " {'logits': array([-1.1505569], dtype=float32),\n",
       "  'logistic': array([0.24038738], dtype=float32),\n",
       "  'probabilities': array([0.7596126 , 0.24038738], dtype=float32),\n",
       "  'class_ids': array([0], dtype=int64),\n",
       "  'classes': array([b'0'], dtype=object)},\n",
       " {'logits': array([-2.1220248], dtype=float32),\n",
       "  'logistic': array([0.10697448], dtype=float32),\n",
       "  'probabilities': array([0.89302546, 0.10697448], dtype=float32),\n",
       "  'class_ids': array([0], dtype=int64),\n",
       "  'classes': array([b'0'], dtype=object)},\n",
       " {'logits': array([-1.7670803], dtype=float32),\n",
       "  'logistic': array([0.1459058], dtype=float32),\n",
       "  'probabilities': array([0.85409415, 0.1459058 ], dtype=float32),\n",
       "  'class_ids': array([0], dtype=int64),\n",
       "  'classes': array([b'0'], dtype=object)},\n",
       " {'logits': array([1.0110518], dtype=float32),\n",
       "  'logistic': array([0.73322594], dtype=float32),\n",
       "  'probabilities': array([0.2667741 , 0.73322594], dtype=float32),\n",
       "  'class_ids': array([1], dtype=int64),\n",
       "  'classes': array([b'1'], dtype=object)},\n",
       " {'logits': array([-1.4438179], dtype=float32),\n",
       "  'logistic': array([0.19095482], dtype=float32),\n",
       "  'probabilities': array([0.80904514, 0.19095482], dtype=float32),\n",
       "  'class_ids': array([0], dtype=int64),\n",
       "  'classes': array([b'0'], dtype=object)},\n",
       " {'logits': array([-1.7118406], dtype=float32),\n",
       "  'logistic': array([0.15292512], dtype=float32),\n",
       "  'probabilities': array([0.84707487, 0.15292512], dtype=float32),\n",
       "  'class_ids': array([0], dtype=int64),\n",
       "  'classes': array([b'0'], dtype=object)},\n",
       " {'logits': array([-1.6023417], dtype=float32),\n",
       "  'logistic': array([0.16765459], dtype=float32),\n",
       "  'probabilities': array([0.83234537, 0.16765459], dtype=float32),\n",
       "  'class_ids': array([0], dtype=int64),\n",
       "  'classes': array([b'0'], dtype=object)},\n",
       " {'logits': array([0.0885613], dtype=float32),\n",
       "  'logistic': array([0.5221259], dtype=float32),\n",
       "  'probabilities': array([0.4778742, 0.5221259], dtype=float32),\n",
       "  'class_ids': array([1], dtype=int64),\n",
       "  'classes': array([b'1'], dtype=object)},\n",
       " {'logits': array([-0.14970315], dtype=float32),\n",
       "  'logistic': array([0.46264392], dtype=float32),\n",
       "  'probabilities': array([0.537356  , 0.46264392], dtype=float32),\n",
       "  'class_ids': array([0], dtype=int64),\n",
       "  'classes': array([b'0'], dtype=object)},\n",
       " {'logits': array([-1.0489824], dtype=float32),\n",
       "  'logistic': array([0.25942054], dtype=float32),\n",
       "  'probabilities': array([0.7405795 , 0.25942057], dtype=float32),\n",
       "  'class_ids': array([0], dtype=int64),\n",
       "  'classes': array([b'0'], dtype=object)},\n",
       " {'logits': array([-0.26297283], dtype=float32),\n",
       "  'logistic': array([0.43463308], dtype=float32),\n",
       "  'probabilities': array([0.5653669 , 0.43463305], dtype=float32),\n",
       "  'class_ids': array([0], dtype=int64),\n",
       "  'classes': array([b'0'], dtype=object)},\n",
       " {'logits': array([-1.3080049], dtype=float32),\n",
       "  'logistic': array([0.2128209], dtype=float32),\n",
       "  'probabilities': array([0.7871791 , 0.21282089], dtype=float32),\n",
       "  'class_ids': array([0], dtype=int64),\n",
       "  'classes': array([b'0'], dtype=object)},\n",
       " {'logits': array([-1.2316138], dtype=float32),\n",
       "  'logistic': array([0.22589912], dtype=float32),\n",
       "  'probabilities': array([0.7741009 , 0.22589912], dtype=float32),\n",
       "  'class_ids': array([0], dtype=int64),\n",
       "  'classes': array([b'0'], dtype=object)},\n",
       " {'logits': array([0.04989028], dtype=float32),\n",
       "  'logistic': array([0.51247], dtype=float32),\n",
       "  'probabilities': array([0.48753005, 0.51247   ], dtype=float32),\n",
       "  'class_ids': array([1], dtype=int64),\n",
       "  'classes': array([b'1'], dtype=object)},\n",
       " {'logits': array([0.11441302], dtype=float32),\n",
       "  'logistic': array([0.5285721], dtype=float32),\n",
       "  'probabilities': array([0.4714279, 0.5285721], dtype=float32),\n",
       "  'class_ids': array([1], dtype=int64),\n",
       "  'classes': array([b'1'], dtype=object)},\n",
       " {'logits': array([-1.6981487], dtype=float32),\n",
       "  'logistic': array([0.15470721], dtype=float32),\n",
       "  'probabilities': array([0.8452928 , 0.15470721], dtype=float32),\n",
       "  'class_ids': array([0], dtype=int64),\n",
       "  'classes': array([b'0'], dtype=object)},\n",
       " {'logits': array([-0.3808298], dtype=float32),\n",
       "  'logistic': array([0.40592676], dtype=float32),\n",
       "  'probabilities': array([0.59407324, 0.4059268 ], dtype=float32),\n",
       "  'class_ids': array([0], dtype=int64),\n",
       "  'classes': array([b'0'], dtype=object)},\n",
       " {'logits': array([0.7503127], dtype=float32),\n",
       "  'logistic': array([0.67924684], dtype=float32),\n",
       "  'probabilities': array([0.3207532 , 0.67924684], dtype=float32),\n",
       "  'class_ids': array([1], dtype=int64),\n",
       "  'classes': array([b'1'], dtype=object)},\n",
       " {'logits': array([0.27104044], dtype=float32),\n",
       "  'logistic': array([0.5673483], dtype=float32),\n",
       "  'probabilities': array([0.43265167, 0.5673483 ], dtype=float32),\n",
       "  'class_ids': array([1], dtype=int64),\n",
       "  'classes': array([b'1'], dtype=object)},\n",
       " {'logits': array([-0.29269755], dtype=float32),\n",
       "  'logistic': array([0.4273436], dtype=float32),\n",
       "  'probabilities': array([0.5726564 , 0.42734358], dtype=float32),\n",
       "  'class_ids': array([0], dtype=int64),\n",
       "  'classes': array([b'0'], dtype=object)},\n",
       " {'logits': array([0.32285678], dtype=float32),\n",
       "  'logistic': array([0.58002037], dtype=float32),\n",
       "  'probabilities': array([0.41997972, 0.58002037], dtype=float32),\n",
       "  'class_ids': array([1], dtype=int64),\n",
       "  'classes': array([b'1'], dtype=object)},\n",
       " {'logits': array([-1.1773366], dtype=float32),\n",
       "  'logistic': array([0.23553142], dtype=float32),\n",
       "  'probabilities': array([0.76446855, 0.23553143], dtype=float32),\n",
       "  'class_ids': array([0], dtype=int64),\n",
       "  'classes': array([b'0'], dtype=object)},\n",
       " {'logits': array([-1.3034797], dtype=float32),\n",
       "  'logistic': array([0.21357997], dtype=float32),\n",
       "  'probabilities': array([0.78642005, 0.21357997], dtype=float32),\n",
       "  'class_ids': array([0], dtype=int64),\n",
       "  'classes': array([b'0'], dtype=object)},\n",
       " {'logits': array([-1.7079053], dtype=float32),\n",
       "  'logistic': array([0.1534356], dtype=float32),\n",
       "  'probabilities': array([0.84656435, 0.15343559], dtype=float32),\n",
       "  'class_ids': array([0], dtype=int64),\n",
       "  'classes': array([b'0'], dtype=object)},\n",
       " {'logits': array([-0.8980763], dtype=float32),\n",
       "  'logistic': array([0.28944597], dtype=float32),\n",
       "  'probabilities': array([0.710554  , 0.28944597], dtype=float32),\n",
       "  'class_ids': array([0], dtype=int64),\n",
       "  'classes': array([b'0'], dtype=object)},\n",
       " {'logits': array([0.12404275], dtype=float32),\n",
       "  'logistic': array([0.530971], dtype=float32),\n",
       "  'probabilities': array([0.469029, 0.530971], dtype=float32),\n",
       "  'class_ids': array([1], dtype=int64),\n",
       "  'classes': array([b'1'], dtype=object)},\n",
       " {'logits': array([0.7862252], dtype=float32),\n",
       "  'logistic': array([0.68702024], dtype=float32),\n",
       "  'probabilities': array([0.3129798 , 0.68702024], dtype=float32),\n",
       "  'class_ids': array([1], dtype=int64),\n",
       "  'classes': array([b'1'], dtype=object)},\n",
       " {'logits': array([-1.0548003], dtype=float32),\n",
       "  'logistic': array([0.2583044], dtype=float32),\n",
       "  'probabilities': array([0.74169564, 0.2583044 ], dtype=float32),\n",
       "  'class_ids': array([0], dtype=int64),\n",
       "  'classes': array([b'0'], dtype=object)},\n",
       " {'logits': array([-1.5089052], dtype=float32),\n",
       "  'logistic': array([0.1811011], dtype=float32),\n",
       "  'probabilities': array([0.8188989, 0.1811011], dtype=float32),\n",
       "  'class_ids': array([0], dtype=int64),\n",
       "  'classes': array([b'0'], dtype=object)},\n",
       " {'logits': array([-0.3650155], dtype=float32),\n",
       "  'logistic': array([0.40974596], dtype=float32),\n",
       "  'probabilities': array([0.59025395, 0.409746  ], dtype=float32),\n",
       "  'class_ids': array([0], dtype=int64),\n",
       "  'classes': array([b'0'], dtype=object)},\n",
       " {'logits': array([-1.1177441], dtype=float32),\n",
       "  'logistic': array([0.24642996], dtype=float32),\n",
       "  'probabilities': array([0.75357   , 0.24642996], dtype=float32),\n",
       "  'class_ids': array([0], dtype=int64),\n",
       "  'classes': array([b'0'], dtype=object)},\n",
       " {'logits': array([-1.6656816], dtype=float32),\n",
       "  'logistic': array([0.15900078], dtype=float32),\n",
       "  'probabilities': array([0.8409992 , 0.15900077], dtype=float32),\n",
       "  'class_ids': array([0], dtype=int64),\n",
       "  'classes': array([b'0'], dtype=object)},\n",
       " {'logits': array([-1.4907442], dtype=float32),\n",
       "  'logistic': array([0.18381004], dtype=float32),\n",
       "  'probabilities': array([0.81619   , 0.18381006], dtype=float32),\n",
       "  'class_ids': array([0], dtype=int64),\n",
       "  'classes': array([b'0'], dtype=object)},\n",
       " {'logits': array([-1.762625], dtype=float32),\n",
       "  'logistic': array([0.14646189], dtype=float32),\n",
       "  'probabilities': array([0.8535381 , 0.14646189], dtype=float32),\n",
       "  'class_ids': array([0], dtype=int64),\n",
       "  'classes': array([b'0'], dtype=object)},\n",
       " {'logits': array([-0.35213768], dtype=float32),\n",
       "  'logistic': array([0.41286412], dtype=float32),\n",
       "  'probabilities': array([0.58713585, 0.41286412], dtype=float32),\n",
       "  'class_ids': array([0], dtype=int64),\n",
       "  'classes': array([b'0'], dtype=object)},\n",
       " {'logits': array([1.1275123], dtype=float32),\n",
       "  'logistic': array([0.7553795], dtype=float32),\n",
       "  'probabilities': array([0.24462047, 0.7553795 ], dtype=float32),\n",
       "  'class_ids': array([1], dtype=int64),\n",
       "  'classes': array([b'1'], dtype=object)},\n",
       " {'logits': array([1.2749282], dtype=float32),\n",
       "  'logistic': array([0.7815852], dtype=float32),\n",
       "  'probabilities': array([0.2184148, 0.7815852], dtype=float32),\n",
       "  'class_ids': array([1], dtype=int64),\n",
       "  'classes': array([b'1'], dtype=object)},\n",
       " {'logits': array([0.19318712], dtype=float32),\n",
       "  'logistic': array([0.54814714], dtype=float32),\n",
       "  'probabilities': array([0.4518529 , 0.54814714], dtype=float32),\n",
       "  'class_ids': array([1], dtype=int64),\n",
       "  'classes': array([b'1'], dtype=object)},\n",
       " {'logits': array([0.15368044], dtype=float32),\n",
       "  'logistic': array([0.5383446], dtype=float32),\n",
       "  'probabilities': array([0.4616553, 0.5383446], dtype=float32),\n",
       "  'class_ids': array([1], dtype=int64),\n",
       "  'classes': array([b'1'], dtype=object)},\n",
       " {'logits': array([0.38486564], dtype=float32),\n",
       "  'logistic': array([0.5950461], dtype=float32),\n",
       "  'probabilities': array([0.4049539, 0.5950461], dtype=float32),\n",
       "  'class_ids': array([1], dtype=int64),\n",
       "  'classes': array([b'1'], dtype=object)},\n",
       " {'logits': array([-1.9507834], dtype=float32),\n",
       "  'logistic': array([0.12446796], dtype=float32),\n",
       "  'probabilities': array([0.87553203, 0.12446797], dtype=float32),\n",
       "  'class_ids': array([0], dtype=int64),\n",
       "  'classes': array([b'0'], dtype=object)},\n",
       " {'logits': array([0.23867357], dtype=float32),\n",
       "  'logistic': array([0.55938673], dtype=float32),\n",
       "  'probabilities': array([0.44061327, 0.55938673], dtype=float32),\n",
       "  'class_ids': array([1], dtype=int64),\n",
       "  'classes': array([b'1'], dtype=object)},\n",
       " {'logits': array([1.1187786], dtype=float32),\n",
       "  'logistic': array([0.7537621], dtype=float32),\n",
       "  'probabilities': array([0.24623793, 0.7537621 ], dtype=float32),\n",
       "  'class_ids': array([1], dtype=int64),\n",
       "  'classes': array([b'1'], dtype=object)},\n",
       " {'logits': array([-0.24586737], dtype=float32),\n",
       "  'logistic': array([0.43884096], dtype=float32),\n",
       "  'probabilities': array([0.5611591 , 0.43884096], dtype=float32),\n",
       "  'class_ids': array([0], dtype=int64),\n",
       "  'classes': array([b'0'], dtype=object)},\n",
       " {'logits': array([-0.8824814], dtype=float32),\n",
       "  'logistic': array([0.29266384], dtype=float32),\n",
       "  'probabilities': array([0.7073362 , 0.29266384], dtype=float32),\n",
       "  'class_ids': array([0], dtype=int64),\n",
       "  'classes': array([b'0'], dtype=object)},\n",
       " {'logits': array([-0.576036], dtype=float32),\n",
       "  'logistic': array([0.35984522], dtype=float32),\n",
       "  'probabilities': array([0.6401548 , 0.35984522], dtype=float32),\n",
       "  'class_ids': array([0], dtype=int64),\n",
       "  'classes': array([b'0'], dtype=object)},\n",
       " {'logits': array([0.26483524], dtype=float32),\n",
       "  'logistic': array([0.56582457], dtype=float32),\n",
       "  'probabilities': array([0.43417552, 0.56582457], dtype=float32),\n",
       "  'class_ids': array([1], dtype=int64),\n",
       "  'classes': array([b'1'], dtype=object)},\n",
       " {'logits': array([-1.0927219], dtype=float32),\n",
       "  'logistic': array([0.25110605], dtype=float32),\n",
       "  'probabilities': array([0.7488939 , 0.25110608], dtype=float32),\n",
       "  'class_ids': array([0], dtype=int64),\n",
       "  'classes': array([b'0'], dtype=object)},\n",
       " {'logits': array([0.6582341], dtype=float32),\n",
       "  'logistic': array([0.6588636], dtype=float32),\n",
       "  'probabilities': array([0.34113643, 0.6588636 ], dtype=float32),\n",
       "  'class_ids': array([1], dtype=int64),\n",
       "  'classes': array([b'1'], dtype=object)},\n",
       " {'logits': array([-0.1895225], dtype=float32),\n",
       "  'logistic': array([0.4527607], dtype=float32),\n",
       "  'probabilities': array([0.5472393 , 0.45276067], dtype=float32),\n",
       "  'class_ids': array([0], dtype=int64),\n",
       "  'classes': array([b'0'], dtype=object)},\n",
       " {'logits': array([-0.21083748], dtype=float32),\n",
       "  'logistic': array([0.44748503], dtype=float32),\n",
       "  'probabilities': array([0.552515  , 0.44748503], dtype=float32),\n",
       "  'class_ids': array([0], dtype=int64),\n",
       "  'classes': array([b'0'], dtype=object)},\n",
       " {'logits': array([-1.6010997], dtype=float32),\n",
       "  'logistic': array([0.16782798], dtype=float32),\n",
       "  'probabilities': array([0.83217204, 0.16782796], dtype=float32),\n",
       "  'class_ids': array([0], dtype=int64),\n",
       "  'classes': array([b'0'], dtype=object)},\n",
       " {'logits': array([-1.2902372], dtype=float32),\n",
       "  'logistic': array([0.21581267], dtype=float32),\n",
       "  'probabilities': array([0.7841873 , 0.21581265], dtype=float32),\n",
       "  'class_ids': array([0], dtype=int64),\n",
       "  'classes': array([b'0'], dtype=object)},\n",
       " {'logits': array([-1.3646191], dtype=float32),\n",
       "  'logistic': array([0.20349059], dtype=float32),\n",
       "  'probabilities': array([0.79650944, 0.20349061], dtype=float32),\n",
       "  'class_ids': array([0], dtype=int64),\n",
       "  'classes': array([b'0'], dtype=object)},\n",
       " {'logits': array([-0.16710782], dtype=float32),\n",
       "  'logistic': array([0.45832], dtype=float32),\n",
       "  'probabilities': array([0.54168   , 0.45831996], dtype=float32),\n",
       "  'class_ids': array([0], dtype=int64),\n",
       "  'classes': array([b'0'], dtype=object)},\n",
       " {'logits': array([-1.6292766], dtype=float32),\n",
       "  'logistic': array([0.16392948], dtype=float32),\n",
       "  'probabilities': array([0.8360705 , 0.16392948], dtype=float32),\n",
       "  'class_ids': array([0], dtype=int64),\n",
       "  'classes': array([b'0'], dtype=object)},\n",
       " {'logits': array([1.2102329], dtype=float32),\n",
       "  'logistic': array([0.77034014], dtype=float32),\n",
       "  'probabilities': array([0.22965986, 0.77034014], dtype=float32),\n",
       "  'class_ids': array([1], dtype=int64),\n",
       "  'classes': array([b'1'], dtype=object)},\n",
       " {'logits': array([-1.3539437], dtype=float32),\n",
       "  'logistic': array([0.20522636], dtype=float32),\n",
       "  'probabilities': array([0.7947736 , 0.20522635], dtype=float32),\n",
       "  'class_ids': array([0], dtype=int64),\n",
       "  'classes': array([b'0'], dtype=object)},\n",
       " {'logits': array([-0.03479242], dtype=float32),\n",
       "  'logistic': array([0.4913028], dtype=float32),\n",
       "  'probabilities': array([0.5086972 , 0.49130276], dtype=float32),\n",
       "  'class_ids': array([0], dtype=int64),\n",
       "  'classes': array([b'0'], dtype=object)},\n",
       " {'logits': array([-1.5813384], dtype=float32),\n",
       "  'logistic': array([0.17060602], dtype=float32),\n",
       "  'probabilities': array([0.82939404, 0.17060603], dtype=float32),\n",
       "  'class_ids': array([0], dtype=int64),\n",
       "  'classes': array([b'0'], dtype=object)},\n",
       " {'logits': array([0.8013364], dtype=float32),\n",
       "  'logistic': array([0.69026023], dtype=float32),\n",
       "  'probabilities': array([0.3097397 , 0.69026023], dtype=float32),\n",
       "  'class_ids': array([1], dtype=int64),\n",
       "  'classes': array([b'1'], dtype=object)},\n",
       " {'logits': array([-0.71891004], dtype=float32),\n",
       "  'logistic': array([0.32763305], dtype=float32),\n",
       "  'probabilities': array([0.6723669 , 0.32763302], dtype=float32),\n",
       "  'class_ids': array([0], dtype=int64),\n",
       "  'classes': array([b'0'], dtype=object)},\n",
       " {'logits': array([-1.4558604], dtype=float32),\n",
       "  'logistic': array([0.1891013], dtype=float32),\n",
       "  'probabilities': array([0.8108987, 0.1891013], dtype=float32),\n",
       "  'class_ids': array([0], dtype=int64),\n",
       "  'classes': array([b'0'], dtype=object)},\n",
       " {'logits': array([-0.5735729], dtype=float32),\n",
       "  'logistic': array([0.3604128], dtype=float32),\n",
       "  'probabilities': array([0.63958716, 0.3604128 ], dtype=float32),\n",
       "  'class_ids': array([0], dtype=int64),\n",
       "  'classes': array([b'0'], dtype=object)},\n",
       " {'logits': array([-0.6082104], dtype=float32),\n",
       "  'logistic': array([0.35246757], dtype=float32),\n",
       "  'probabilities': array([0.64753246, 0.35246754], dtype=float32),\n",
       "  'class_ids': array([0], dtype=int64),\n",
       "  'classes': array([b'0'], dtype=object)},\n",
       " {'logits': array([-1.5704837], dtype=float32),\n",
       "  'logistic': array([0.17214745], dtype=float32),\n",
       "  'probabilities': array([0.8278525 , 0.17214744], dtype=float32),\n",
       "  'class_ids': array([0], dtype=int64),\n",
       "  'classes': array([b'0'], dtype=object)},\n",
       " {'logits': array([0.8296629], dtype=float32),\n",
       "  'logistic': array([0.69628364], dtype=float32),\n",
       "  'probabilities': array([0.30371633, 0.69628364], dtype=float32),\n",
       "  'class_ids': array([1], dtype=int64),\n",
       "  'classes': array([b'1'], dtype=object)},\n",
       " {'logits': array([-1.4649994], dtype=float32),\n",
       "  'logistic': array([0.18770386], dtype=float32),\n",
       "  'probabilities': array([0.8122961 , 0.18770385], dtype=float32),\n",
       "  'class_ids': array([0], dtype=int64),\n",
       "  'classes': array([b'0'], dtype=object)},\n",
       " {'logits': array([-1.5371785], dtype=float32),\n",
       "  'logistic': array([0.1769458], dtype=float32),\n",
       "  'probabilities': array([0.8230542, 0.1769458], dtype=float32),\n",
       "  'class_ids': array([0], dtype=int64),\n",
       "  'classes': array([b'0'], dtype=object)},\n",
       " {'logits': array([-0.8836658], dtype=float32),\n",
       "  'logistic': array([0.29241872], dtype=float32),\n",
       "  'probabilities': array([0.7075813 , 0.29241872], dtype=float32),\n",
       "  'class_ids': array([0], dtype=int64),\n",
       "  'classes': array([b'0'], dtype=object)},\n",
       " {'logits': array([-0.0225029], dtype=float32),\n",
       "  'logistic': array([0.4943745], dtype=float32),\n",
       "  'probabilities': array([0.5056255, 0.4943745], dtype=float32),\n",
       "  'class_ids': array([0], dtype=int64),\n",
       "  'classes': array([b'0'], dtype=object)},\n",
       " {'logits': array([-0.9480188], dtype=float32),\n",
       "  'logistic': array([0.27928343], dtype=float32),\n",
       "  'probabilities': array([0.72071654, 0.27928343], dtype=float32),\n",
       "  'class_ids': array([0], dtype=int64),\n",
       "  'classes': array([b'0'], dtype=object)},\n",
       " {'logits': array([-1.8495736], dtype=float32),\n",
       "  'logistic': array([0.13592297], dtype=float32),\n",
       "  'probabilities': array([0.864077  , 0.13592295], dtype=float32),\n",
       "  'class_ids': array([0], dtype=int64),\n",
       "  'classes': array([b'0'], dtype=object)},\n",
       " {'logits': array([1.627225], dtype=float32),\n",
       "  'logistic': array([0.8357891], dtype=float32),\n",
       "  'probabilities': array([0.16421086, 0.8357891 ], dtype=float32),\n",
       "  'class_ids': array([1], dtype=int64),\n",
       "  'classes': array([b'1'], dtype=object)},\n",
       " {'logits': array([0.7114748], dtype=float32),\n",
       "  'logistic': array([0.67072695], dtype=float32),\n",
       "  'probabilities': array([0.32927307, 0.67072695], dtype=float32),\n",
       "  'class_ids': array([1], dtype=int64),\n",
       "  'classes': array([b'1'], dtype=object)},\n",
       " {'logits': array([0.16813779], dtype=float32),\n",
       "  'logistic': array([0.5419357], dtype=float32),\n",
       "  'probabilities': array([0.4580643, 0.5419357], dtype=float32),\n",
       "  'class_ids': array([1], dtype=int64),\n",
       "  'classes': array([b'1'], dtype=object)},\n",
       " {'logits': array([1.0650517], dtype=float32),\n",
       "  'logistic': array([0.7436547], dtype=float32),\n",
       "  'probabilities': array([0.25634527, 0.7436547 ], dtype=float32),\n",
       "  'class_ids': array([1], dtype=int64),\n",
       "  'classes': array([b'1'], dtype=object)},\n",
       " {'logits': array([-1.7148952], dtype=float32),\n",
       "  'logistic': array([0.15252985], dtype=float32),\n",
       "  'probabilities': array([0.84747016, 0.15252987], dtype=float32),\n",
       "  'class_ids': array([0], dtype=int64),\n",
       "  'classes': array([b'0'], dtype=object)},\n",
       " {'logits': array([-1.7046659], dtype=float32),\n",
       "  'logistic': array([0.15385686], dtype=float32),\n",
       "  'probabilities': array([0.8461431 , 0.15385686], dtype=float32),\n",
       "  'class_ids': array([0], dtype=int64),\n",
       "  'classes': array([b'0'], dtype=object)},\n",
       " {'logits': array([-1.1437429], dtype=float32),\n",
       "  'logistic': array([0.24163382], dtype=float32),\n",
       "  'probabilities': array([0.75836617, 0.24163382], dtype=float32),\n",
       "  'class_ids': array([0], dtype=int64),\n",
       "  'classes': array([b'0'], dtype=object)},\n",
       " {'logits': array([-0.68561053], dtype=float32),\n",
       "  'logistic': array([0.33501023], dtype=float32),\n",
       "  'probabilities': array([0.66498977, 0.33501026], dtype=float32),\n",
       "  'class_ids': array([0], dtype=int64),\n",
       "  'classes': array([b'0'], dtype=object)},\n",
       " {'logits': array([-0.46949744], dtype=float32),\n",
       "  'logistic': array([0.3847352], dtype=float32),\n",
       "  'probabilities': array([0.61526483, 0.38473523], dtype=float32),\n",
       "  'class_ids': array([0], dtype=int64),\n",
       "  'classes': array([b'0'], dtype=object)},\n",
       " {'logits': array([0.26726854], dtype=float32),\n",
       "  'logistic': array([0.5664222], dtype=float32),\n",
       "  'probabilities': array([0.43357778, 0.5664222 ], dtype=float32),\n",
       "  'class_ids': array([1], dtype=int64),\n",
       "  'classes': array([b'1'], dtype=object)},\n",
       " {'logits': array([0.35712123], dtype=float32),\n",
       "  'logistic': array([0.5883434], dtype=float32),\n",
       "  'probabilities': array([0.41165662, 0.5883434 ], dtype=float32),\n",
       "  'class_ids': array([1], dtype=int64),\n",
       "  'classes': array([b'1'], dtype=object)},\n",
       " {'logits': array([-0.32404864], dtype=float32),\n",
       "  'logistic': array([0.4196894], dtype=float32),\n",
       "  'probabilities': array([0.5803106 , 0.41968936], dtype=float32),\n",
       "  'class_ids': array([0], dtype=int64),\n",
       "  'classes': array([b'0'], dtype=object)},\n",
       " {'logits': array([-0.42309827], dtype=float32),\n",
       "  'logistic': array([0.39577562], dtype=float32),\n",
       "  'probabilities': array([0.6042244, 0.3957756], dtype=float32),\n",
       "  'class_ids': array([0], dtype=int64),\n",
       "  'classes': array([b'0'], dtype=object)},\n",
       " {'logits': array([-0.6654609], dtype=float32),\n",
       "  'logistic': array([0.33951396], dtype=float32),\n",
       "  'probabilities': array([0.66048604, 0.33951396], dtype=float32),\n",
       "  'class_ids': array([0], dtype=int64),\n",
       "  'classes': array([b'0'], dtype=object)},\n",
       " {'logits': array([-1.4620417], dtype=float32),\n",
       "  'logistic': array([0.18815525], dtype=float32),\n",
       "  'probabilities': array([0.8118447 , 0.18815523], dtype=float32),\n",
       "  'class_ids': array([0], dtype=int64),\n",
       "  'classes': array([b'0'], dtype=object)},\n",
       " {'logits': array([0.5924388], dtype=float32),\n",
       "  'logistic': array([0.6439245], dtype=float32),\n",
       "  'probabilities': array([0.35607544, 0.6439245 ], dtype=float32),\n",
       "  'class_ids': array([1], dtype=int64),\n",
       "  'classes': array([b'1'], dtype=object)},\n",
       " {'logits': array([-1.7294089], dtype=float32),\n",
       "  'logistic': array([0.15066321], dtype=float32),\n",
       "  'probabilities': array([0.8493368 , 0.15066321], dtype=float32),\n",
       "  'class_ids': array([0], dtype=int64),\n",
       "  'classes': array([b'0'], dtype=object)},\n",
       " {'logits': array([-1.0618836], dtype=float32),\n",
       "  'logistic': array([0.25694966], dtype=float32),\n",
       "  'probabilities': array([0.74305034, 0.25694966], dtype=float32),\n",
       "  'class_ids': array([0], dtype=int64),\n",
       "  'classes': array([b'0'], dtype=object)},\n",
       " {'logits': array([0.3229308], dtype=float32),\n",
       "  'logistic': array([0.58003837], dtype=float32),\n",
       "  'probabilities': array([0.41996166, 0.58003837], dtype=float32),\n",
       "  'class_ids': array([1], dtype=int64),\n",
       "  'classes': array([b'1'], dtype=object)},\n",
       " {'logits': array([-0.46562916], dtype=float32),\n",
       "  'logistic': array([0.3856513], dtype=float32),\n",
       "  'probabilities': array([0.6143487 , 0.38565126], dtype=float32),\n",
       "  'class_ids': array([0], dtype=int64),\n",
       "  'classes': array([b'0'], dtype=object)},\n",
       " {'logits': array([-1.4399234], dtype=float32),\n",
       "  'logistic': array([0.1915572], dtype=float32),\n",
       "  'probabilities': array([0.80844283, 0.19155723], dtype=float32),\n",
       "  'class_ids': array([0], dtype=int64),\n",
       "  'classes': array([b'0'], dtype=object)},\n",
       " {'logits': array([-0.7864208], dtype=float32),\n",
       "  'logistic': array([0.3129377], dtype=float32),\n",
       "  'probabilities': array([0.68706226, 0.3129377 ], dtype=float32),\n",
       "  'class_ids': array([0], dtype=int64),\n",
       "  'classes': array([b'0'], dtype=object)},\n",
       " {'logits': array([-1.0356268], dtype=float32),\n",
       "  'logistic': array([0.2619947], dtype=float32),\n",
       "  'probabilities': array([0.7380053, 0.2619947], dtype=float32),\n",
       "  'class_ids': array([0], dtype=int64),\n",
       "  'classes': array([b'0'], dtype=object)},\n",
       " {'logits': array([-1.7090743], dtype=float32),\n",
       "  'logistic': array([0.15328382], dtype=float32),\n",
       "  'probabilities': array([0.8467162 , 0.15328383], dtype=float32),\n",
       "  'class_ids': array([0], dtype=int64),\n",
       "  'classes': array([b'0'], dtype=object)},\n",
       " {'logits': array([-1.1648754], dtype=float32),\n",
       "  'logistic': array([0.23778252], dtype=float32),\n",
       "  'probabilities': array([0.76221746, 0.23778252], dtype=float32),\n",
       "  'class_ids': array([0], dtype=int64),\n",
       "  'classes': array([b'0'], dtype=object)},\n",
       " {'logits': array([0.29105854], dtype=float32),\n",
       "  'logistic': array([0.57225525], dtype=float32),\n",
       "  'probabilities': array([0.42774475, 0.57225525], dtype=float32),\n",
       "  'class_ids': array([1], dtype=int64),\n",
       "  'classes': array([b'1'], dtype=object)},\n",
       " {'logits': array([0.86511266], dtype=float32),\n",
       "  'logistic': array([0.7037278], dtype=float32),\n",
       "  'probabilities': array([0.2962723, 0.7037278], dtype=float32),\n",
       "  'class_ids': array([1], dtype=int64),\n",
       "  'classes': array([b'1'], dtype=object)},\n",
       " {'logits': array([0.6088829], dtype=float32),\n",
       "  'logistic': array([0.64768595], dtype=float32),\n",
       "  'probabilities': array([0.35231408, 0.64768595], dtype=float32),\n",
       "  'class_ids': array([1], dtype=int64),\n",
       "  'classes': array([b'1'], dtype=object)},\n",
       " {'logits': array([0.888451], dtype=float32),\n",
       "  'logistic': array([0.7085704], dtype=float32),\n",
       "  'probabilities': array([0.2914296, 0.7085704], dtype=float32),\n",
       "  'class_ids': array([1], dtype=int64),\n",
       "  'classes': array([b'1'], dtype=object)},\n",
       " {'logits': array([-0.29741353], dtype=float32),\n",
       "  'logistic': array([0.4261899], dtype=float32),\n",
       "  'probabilities': array([0.5738101, 0.4261899], dtype=float32),\n",
       "  'class_ids': array([0], dtype=int64),\n",
       "  'classes': array([b'0'], dtype=object)},\n",
       " {'logits': array([-0.7196431], dtype=float32),\n",
       "  'logistic': array([0.32747158], dtype=float32),\n",
       "  'probabilities': array([0.67252845, 0.32747158], dtype=float32),\n",
       "  'class_ids': array([0], dtype=int64),\n",
       "  'classes': array([b'0'], dtype=object)},\n",
       " {'logits': array([0.18221545], dtype=float32),\n",
       "  'logistic': array([0.5454283], dtype=float32),\n",
       "  'probabilities': array([0.45457178, 0.5454283 ], dtype=float32),\n",
       "  'class_ids': array([1], dtype=int64),\n",
       "  'classes': array([b'1'], dtype=object)},\n",
       " {'logits': array([-1.3285061], dtype=float32),\n",
       "  'logistic': array([0.20940657], dtype=float32),\n",
       "  'probabilities': array([0.7905934 , 0.20940658], dtype=float32),\n",
       "  'class_ids': array([0], dtype=int64),\n",
       "  'classes': array([b'0'], dtype=object)},\n",
       " {'logits': array([-1.5334212], dtype=float32),\n",
       "  'logistic': array([0.17749369], dtype=float32),\n",
       "  'probabilities': array([0.8225063 , 0.17749368], dtype=float32),\n",
       "  'class_ids': array([0], dtype=int64),\n",
       "  'classes': array([b'0'], dtype=object)},\n",
       " {'logits': array([-1.3959149], dtype=float32),\n",
       "  'logistic': array([0.19846517], dtype=float32),\n",
       "  'probabilities': array([0.80153483, 0.19846515], dtype=float32),\n",
       "  'class_ids': array([0], dtype=int64),\n",
       "  'classes': array([b'0'], dtype=object)},\n",
       " {'logits': array([0.06057954], dtype=float32),\n",
       "  'logistic': array([0.5151403], dtype=float32),\n",
       "  'probabilities': array([0.4848598, 0.5151403], dtype=float32),\n",
       "  'class_ids': array([1], dtype=int64),\n",
       "  'classes': array([b'1'], dtype=object)},\n",
       " {'logits': array([-2.6703749], dtype=float32),\n",
       "  'logistic': array([0.06474426], dtype=float32),\n",
       "  'probabilities': array([0.93525577, 0.06474427], dtype=float32),\n",
       "  'class_ids': array([0], dtype=int64),\n",
       "  'classes': array([b'0'], dtype=object)},\n",
       " {'logits': array([-0.8790334], dtype=float32),\n",
       "  'logistic': array([0.2933781], dtype=float32),\n",
       "  'probabilities': array([0.7066219 , 0.29337814], dtype=float32),\n",
       "  'class_ids': array([0], dtype=int64),\n",
       "  'classes': array([b'0'], dtype=object)},\n",
       " {'logits': array([-1.5882945], dtype=float32),\n",
       "  'logistic': array([0.16962399], dtype=float32),\n",
       "  'probabilities': array([0.830376  , 0.16962399], dtype=float32),\n",
       "  'class_ids': array([0], dtype=int64),\n",
       "  'classes': array([b'0'], dtype=object)},\n",
       " {'logits': array([-1.0201247], dtype=float32),\n",
       "  'logistic': array([0.26500311], dtype=float32),\n",
       "  'probabilities': array([0.7349969 , 0.26500311], dtype=float32),\n",
       "  'class_ids': array([0], dtype=int64),\n",
       "  'classes': array([b'0'], dtype=object)},\n",
       " {'logits': array([-0.9540703], dtype=float32),\n",
       "  'logistic': array([0.278067], dtype=float32),\n",
       "  'probabilities': array([0.721933, 0.278067], dtype=float32),\n",
       "  'class_ids': array([0], dtype=int64),\n",
       "  'classes': array([b'0'], dtype=object)},\n",
       " {'logits': array([-0.8085744], dtype=float32),\n",
       "  'logistic': array([0.30819437], dtype=float32),\n",
       "  'probabilities': array([0.6918056 , 0.30819437], dtype=float32),\n",
       "  'class_ids': array([0], dtype=int64),\n",
       "  'classes': array([b'0'], dtype=object)},\n",
       " {'logits': array([1.3289322], dtype=float32),\n",
       "  'logistic': array([0.79066396], dtype=float32),\n",
       "  'probabilities': array([0.20933606, 0.79066396], dtype=float32),\n",
       "  'class_ids': array([1], dtype=int64),\n",
       "  'classes': array([b'1'], dtype=object)},\n",
       " {'logits': array([-1.3804303], dtype=float32),\n",
       "  'logistic': array([0.2009399], dtype=float32),\n",
       "  'probabilities': array([0.7990601 , 0.20093988], dtype=float32),\n",
       "  'class_ids': array([0], dtype=int64),\n",
       "  'classes': array([b'0'], dtype=object)},\n",
       " {'logits': array([-1.7752137], dtype=float32),\n",
       "  'logistic': array([0.14489515], dtype=float32),\n",
       "  'probabilities': array([0.85510486, 0.14489515], dtype=float32),\n",
       "  'class_ids': array([0], dtype=int64),\n",
       "  'classes': array([b'0'], dtype=object)},\n",
       " {'logits': array([0.45130038], dtype=float32),\n",
       "  'logistic': array([0.6109483], dtype=float32),\n",
       "  'probabilities': array([0.3890516, 0.6109483], dtype=float32),\n",
       "  'class_ids': array([1], dtype=int64),\n",
       "  'classes': array([b'1'], dtype=object)},\n",
       " {'logits': array([-0.12076044], dtype=float32),\n",
       "  'logistic': array([0.46984652], dtype=float32),\n",
       "  'probabilities': array([0.5301535 , 0.46984658], dtype=float32),\n",
       "  'class_ids': array([0], dtype=int64),\n",
       "  'classes': array([b'0'], dtype=object)},\n",
       " {'logits': array([1.8001846], dtype=float32),\n",
       "  'logistic': array([0.85817134], dtype=float32),\n",
       "  'probabilities': array([0.14182858, 0.85817134], dtype=float32),\n",
       "  'class_ids': array([1], dtype=int64),\n",
       "  'classes': array([b'1'], dtype=object)},\n",
       " {'logits': array([0.5569074], dtype=float32),\n",
       "  'logistic': array([0.6357367], dtype=float32),\n",
       "  'probabilities': array([0.36426336, 0.6357367 ], dtype=float32),\n",
       "  'class_ids': array([1], dtype=int64),\n",
       "  'classes': array([b'1'], dtype=object)},\n",
       " {'logits': array([-1.7662756], dtype=float32),\n",
       "  'logistic': array([0.14600609], dtype=float32),\n",
       "  'probabilities': array([0.8539939 , 0.14600609], dtype=float32),\n",
       "  'class_ids': array([0], dtype=int64),\n",
       "  'classes': array([b'0'], dtype=object)},\n",
       " {'logits': array([0.4842347], dtype=float32),\n",
       "  'logistic': array([0.61874735], dtype=float32),\n",
       "  'probabilities': array([0.38125268, 0.61874735], dtype=float32),\n",
       "  'class_ids': array([1], dtype=int64),\n",
       "  'classes': array([b'1'], dtype=object)}]"
      ]
     },
     "execution_count": 162,
     "metadata": {},
     "output_type": "execute_result"
    }
   ],
   "source": [
    "my_pred"
   ]
  },
  {
   "cell_type": "code",
   "execution_count": 163,
   "metadata": {},
   "outputs": [
    {
     "name": "stdout",
     "output_type": "stream",
     "text": [
      "INFO:tensorflow:Using default config.\n",
      "WARNING:tensorflow:Using temporary folder as model directory: C:\\Users\\andre\\AppData\\Local\\Temp\\tmpj40yi0m9\n",
      "INFO:tensorflow:Using config: {'_model_dir': 'C:\\\\Users\\\\andre\\\\AppData\\\\Local\\\\Temp\\\\tmpj40yi0m9', '_tf_random_seed': None, '_save_summary_steps': 100, '_save_checkpoints_steps': None, '_save_checkpoints_secs': 600, '_session_config': allow_soft_placement: true\n",
      "graph_options {\n",
      "  rewrite_options {\n",
      "    meta_optimizer_iterations: ONE\n",
      "  }\n",
      "}\n",
      ", '_keep_checkpoint_max': 5, '_keep_checkpoint_every_n_hours': 10000, '_log_step_count_steps': 100, '_train_distribute': None, '_device_fn': None, '_protocol': None, '_eval_distribute': None, '_experimental_distribute': None, '_service': None, '_cluster_spec': <tensorflow.python.training.server_lib.ClusterSpec object at 0x000001EA08845080>, '_task_type': 'worker', '_task_id': 0, '_global_id_in_cluster': 0, '_master': '', '_evaluation_master': '', '_is_chief': True, '_num_ps_replicas': 0, '_num_worker_replicas': 1}\n"
     ]
    }
   ],
   "source": [
    "dnn_model = tf.estimator.DNNClassifier( hidden_units = [ 10, 10, 10 ], feature_columns = feat_cols, n_classes = 2 )"
   ]
  },
  {
   "cell_type": "code",
   "execution_count": 166,
   "metadata": {},
   "outputs": [],
   "source": [
    "# If create your own embedded column via categorical list\n",
    "embedded_group_col = tf.feature_column.embedding_column( assigned_group, dimension = 4 )"
   ]
  },
  {
   "cell_type": "code",
   "execution_count": 168,
   "metadata": {},
   "outputs": [],
   "source": [
    "feat_cols = [ num_preg, plasma, pressure, tricep, insulin, bmi, pedigree, embedded_group_col, age_bucket ]"
   ]
  },
  {
   "cell_type": "code",
   "execution_count": 169,
   "metadata": {},
   "outputs": [],
   "source": [
    "input_func = tf.estimator.inputs.pandas_input_fn( X_train, y_train, batch_size = 10, num_epochs = 1000, shuffle = True )"
   ]
  },
  {
   "cell_type": "code",
   "execution_count": 170,
   "metadata": {},
   "outputs": [
    {
     "name": "stdout",
     "output_type": "stream",
     "text": [
      "INFO:tensorflow:Using default config.\n",
      "WARNING:tensorflow:Using temporary folder as model directory: C:\\Users\\andre\\AppData\\Local\\Temp\\tmpt8_lofp9\n",
      "INFO:tensorflow:Using config: {'_model_dir': 'C:\\\\Users\\\\andre\\\\AppData\\\\Local\\\\Temp\\\\tmpt8_lofp9', '_tf_random_seed': None, '_save_summary_steps': 100, '_save_checkpoints_steps': None, '_save_checkpoints_secs': 600, '_session_config': allow_soft_placement: true\n",
      "graph_options {\n",
      "  rewrite_options {\n",
      "    meta_optimizer_iterations: ONE\n",
      "  }\n",
      "}\n",
      ", '_keep_checkpoint_max': 5, '_keep_checkpoint_every_n_hours': 10000, '_log_step_count_steps': 100, '_train_distribute': None, '_device_fn': None, '_protocol': None, '_eval_distribute': None, '_experimental_distribute': None, '_service': None, '_cluster_spec': <tensorflow.python.training.server_lib.ClusterSpec object at 0x000001EA0C95BF28>, '_task_type': 'worker', '_task_id': 0, '_global_id_in_cluster': 0, '_master': '', '_evaluation_master': '', '_is_chief': True, '_num_ps_replicas': 0, '_num_worker_replicas': 1}\n"
     ]
    }
   ],
   "source": [
    "dnn_model = tf.estimator.DNNClassifier( hidden_units = [ 10, 10, 10 ], feature_columns = feat_cols, n_classes = 2 )"
   ]
  },
  {
   "cell_type": "code",
   "execution_count": 171,
   "metadata": {},
   "outputs": [
    {
     "name": "stdout",
     "output_type": "stream",
     "text": [
      "INFO:tensorflow:Calling model_fn.\n",
      "INFO:tensorflow:Done calling model_fn.\n",
      "INFO:tensorflow:Create CheckpointSaverHook.\n",
      "INFO:tensorflow:Graph was finalized.\n",
      "INFO:tensorflow:Running local_init_op.\n",
      "INFO:tensorflow:Done running local_init_op.\n",
      "INFO:tensorflow:Saving checkpoints for 0 into C:\\Users\\andre\\AppData\\Local\\Temp\\tmpt8_lofp9\\model.ckpt.\n",
      "INFO:tensorflow:loss = 6.7819614, step = 1\n",
      "INFO:tensorflow:global_step/sec: 262.696\n",
      "INFO:tensorflow:loss = 4.7282734, step = 101 (0.383 sec)\n",
      "INFO:tensorflow:global_step/sec: 514.194\n",
      "INFO:tensorflow:loss = 5.4226384, step = 201 (0.194 sec)\n",
      "INFO:tensorflow:global_step/sec: 563.302\n",
      "INFO:tensorflow:loss = 7.2791786, step = 301 (0.180 sec)\n",
      "INFO:tensorflow:global_step/sec: 522.226\n",
      "INFO:tensorflow:loss = 4.1582637, step = 401 (0.193 sec)\n",
      "INFO:tensorflow:global_step/sec: 522.154\n",
      "INFO:tensorflow:loss = 4.74926, step = 501 (0.189 sec)\n",
      "INFO:tensorflow:global_step/sec: 460.983\n",
      "INFO:tensorflow:loss = 8.344982, step = 601 (0.214 sec)\n",
      "INFO:tensorflow:global_step/sec: 461.017\n",
      "INFO:tensorflow:loss = 1.9904401, step = 701 (0.218 sec)\n",
      "INFO:tensorflow:global_step/sec: 397.885\n",
      "INFO:tensorflow:loss = 2.437078, step = 801 (0.255 sec)\n",
      "INFO:tensorflow:global_step/sec: 484.388\n",
      "INFO:tensorflow:loss = 4.411869, step = 901 (0.201 sec)\n",
      "INFO:tensorflow:Saving checkpoints for 1000 into C:\\Users\\andre\\AppData\\Local\\Temp\\tmpt8_lofp9\\model.ckpt.\n",
      "INFO:tensorflow:Loss for final step: 2.1732452.\n"
     ]
    },
    {
     "data": {
      "text/plain": [
       "<tensorflow.python.estimator.canned.dnn.DNNClassifier at 0x1ea08a21518>"
      ]
     },
     "execution_count": 171,
     "metadata": {},
     "output_type": "execute_result"
    }
   ],
   "source": [
    "dnn_model.train( input_fn = input_func, steps = 1000 )"
   ]
  },
  {
   "cell_type": "code",
   "execution_count": 172,
   "metadata": {},
   "outputs": [],
   "source": [
    "eval_input_func = tf.estimator.inputs.pandas_input_fn( x = X_test, y = y_test, batch_size = 10, num_epochs = 1, shuffle = False )"
   ]
  },
  {
   "cell_type": "code",
   "execution_count": 173,
   "metadata": {},
   "outputs": [
    {
     "name": "stdout",
     "output_type": "stream",
     "text": [
      "INFO:tensorflow:Calling model_fn.\n",
      "WARNING:tensorflow:Trapezoidal rule is known to produce incorrect PR-AUCs; please switch to \"careful_interpolation\" instead.\n",
      "WARNING:tensorflow:Trapezoidal rule is known to produce incorrect PR-AUCs; please switch to \"careful_interpolation\" instead.\n",
      "INFO:tensorflow:Done calling model_fn.\n",
      "INFO:tensorflow:Starting evaluation at 2019-02-05-01:05:54\n",
      "INFO:tensorflow:Graph was finalized.\n",
      "INFO:tensorflow:Restoring parameters from C:\\Users\\andre\\AppData\\Local\\Temp\\tmpt8_lofp9\\model.ckpt-1000\n",
      "INFO:tensorflow:Running local_init_op.\n",
      "INFO:tensorflow:Done running local_init_op.\n",
      "INFO:tensorflow:Finished evaluation at 2019-02-05-01:05:55\n",
      "INFO:tensorflow:Saving dict for global step 1000: accuracy = 0.77056277, accuracy_baseline = 0.64935064, auc = 0.8260082, auc_precision_recall = 0.6717447, average_loss = 0.4948228, global_step = 1000, label/mean = 0.35064936, loss = 4.7626696, precision = 0.67948717, prediction/mean = 0.3479227, recall = 0.654321\n",
      "INFO:tensorflow:Saving 'checkpoint_path' summary for global step 1000: C:\\Users\\andre\\AppData\\Local\\Temp\\tmpt8_lofp9\\model.ckpt-1000\n"
     ]
    },
    {
     "data": {
      "text/plain": [
       "{'accuracy': 0.77056277,\n",
       " 'accuracy_baseline': 0.64935064,\n",
       " 'auc': 0.8260082,\n",
       " 'auc_precision_recall': 0.6717447,\n",
       " 'average_loss': 0.4948228,\n",
       " 'label/mean': 0.35064936,\n",
       " 'loss': 4.7626696,\n",
       " 'precision': 0.67948717,\n",
       " 'prediction/mean': 0.3479227,\n",
       " 'recall': 0.654321,\n",
       " 'global_step': 1000}"
      ]
     },
     "execution_count": 173,
     "metadata": {},
     "output_type": "execute_result"
    }
   ],
   "source": [
    "dnn_model.evaluate( eval_input_func )"
   ]
  },
  {
   "cell_type": "markdown",
   "metadata": {},
   "source": [
    "### Save Model"
   ]
  },
  {
   "cell_type": "code",
   "execution_count": 1,
   "metadata": {},
   "outputs": [],
   "source": [
    "saver = tf.train.Saver()\n",
    "\n",
    "# Add the session run here\n",
    "\n",
    "saver.save( sess. 'models/test_model_saved.ckpt' )"
   ]
  },
  {
   "cell_type": "code",
   "execution_count": null,
   "metadata": {},
   "outputs": [],
   "source": [
    "# Load model\n",
    "with tf.Session() as sess:\n",
    "    saver.restore( sess, 'models/test_model_saved.ckpt' )\n",
    "    restored_model = sess.run( stuff_here )"
   ]
  },
  {
   "cell_type": "markdown",
   "metadata": {},
   "source": [
    "Good rule of thumb is to save the model for train data and then restore the moel for the testing phase."
   ]
  },
  {
   "cell_type": "code",
   "execution_count": null,
   "metadata": {},
   "outputs": [],
   "source": []
  }
 ],
 "metadata": {
  "kernelspec": {
   "display_name": "Python 3",
   "language": "python",
   "name": "python3"
  },
  "language_info": {
   "codemirror_mode": {
    "name": "ipython",
    "version": 3
   },
   "file_extension": ".py",
   "mimetype": "text/x-python",
   "name": "python",
   "nbconvert_exporter": "python",
   "pygments_lexer": "ipython3",
   "version": "3.6.0"
  }
 },
 "nbformat": 4,
 "nbformat_minor": 2
}
