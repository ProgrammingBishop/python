{
 "cells": [
  {
   "cell_type": "markdown",
   "metadata": {},
   "source": [
    "# Tensorboard"
   ]
  },
  {
   "cell_type": "code",
   "execution_count": 1,
   "metadata": {},
   "outputs": [],
   "source": [
    "import tensorflow as tf"
   ]
  },
  {
   "cell_type": "code",
   "execution_count": 10,
   "metadata": {},
   "outputs": [],
   "source": [
    "with tf.name_scope( 'Operation_A' ):\n",
    "    a  = tf.add( 1, 2, name = 'First_Add' )\n",
    "    a1 = tf.add( 100, 200, name = 'A_Add' )\n",
    "    a2 = tf.multiply( a, a1 )\n",
    "\n",
    "with tf.name_scope( 'Operation_B' ):\n",
    "    b  = tf.add( 3, 4, name = 'Second_Add' )\n",
    "    b1 = tf.add( 300, 400, name = 'B_Add' )\n",
    "    b2 = tf.multiply( b, b1 )\n",
    "\n",
    "with tf.name_scope( 'Operation_C' ):\n",
    "    c = tf.multiply( a2, b2, name = 'Final_Result' )"
   ]
  },
  {
   "cell_type": "code",
   "execution_count": 11,
   "metadata": {},
   "outputs": [],
   "source": [
    "with tf.Session() as sess:\n",
    "    writer = tf.summary.FileWriter( './output', sess.graph )\n",
    "    sess.run( c )\n",
    "    writer.close()"
   ]
  },
  {
   "cell_type": "markdown",
   "metadata": {},
   "source": [
    "In command line:\n",
    "- \\$ activate tensorflow  \n",
    "- \\$ tensorboard --logdir=\"filepath\"\n",
    "\n",
    "Paste URL in browser."
   ]
  },
  {
   "cell_type": "code",
   "execution_count": null,
   "metadata": {},
   "outputs": [],
   "source": []
  }
 ],
 "metadata": {
  "kernelspec": {
   "display_name": "Python 3",
   "language": "python",
   "name": "python3"
  },
  "language_info": {
   "codemirror_mode": {
    "name": "ipython",
    "version": 3
   },
   "file_extension": ".py",
   "mimetype": "text/x-python",
   "name": "python",
   "nbconvert_exporter": "python",
   "pygments_lexer": "ipython3",
   "version": "3.6.0"
  }
 },
 "nbformat": 4,
 "nbformat_minor": 2
}
