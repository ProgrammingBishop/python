{
 "cells": [
  {
   "cell_type": "markdown",
   "metadata": {},
   "source": [
    "Libraries"
   ]
  },
  {
   "cell_type": "code",
   "execution_count": 10,
   "metadata": {},
   "outputs": [],
   "source": [
    "import numpy             as np\n",
    "import matplotlib.pyplot as plt\n",
    "import matplotlib.ticker as ticker\n",
    "import math\n",
    "from sklearn.neighbors    import KNeighborsClassifier\n",
    "from sklearn.linear_model import LinearRegression"
   ]
  },
  {
   "cell_type": "markdown",
   "metadata": {},
   "source": [
    "Define Simulated X and Y Variables"
   ]
  },
  {
   "cell_type": "code",
   "execution_count": 11,
   "metadata": {
    "scrolled": true
   },
   "outputs": [],
   "source": [
    "np.random.seed(4042)\n",
    "\n",
    "centers = 10\n",
    "params  = 2 \n",
    "\n",
    "# Generate Class Labels\n",
    "y_vec_1 = np.zeros( (centers), dtype = int )\n",
    "y_vec_2 = np.ones ( (centers), dtype = int )\n",
    "\n",
    "# Create Centers\n",
    "m_1 = np.column_stack( (y_vec_1, y_vec_2) )\n",
    "m_2 = np.column_stack( (y_vec_2, y_vec_1) )\n",
    "\n",
    "# Generate X Matrices\n",
    "x_mat_1 = np.random.normal( 0.0, 1.0, (centers, params) ) + m_2\n",
    "x_mat_2 = np.random.normal( 0.0, 1.0, (centers, params) ) + m_1"
   ]
  },
  {
   "cell_type": "markdown",
   "metadata": {},
   "source": [
    "Function to Generate Data"
   ]
  },
  {
   "cell_type": "code",
   "execution_count": 12,
   "metadata": {},
   "outputs": [],
   "source": [
    "n_train = 100\n",
    "n_test  = 5000\n",
    "std_dev = math.sqrt(1 / 5)\n",
    "\n",
    "def CreateData(k, n, p, std):\n",
    "    alloc_1 = np.random.choice( range(k), n, replace = True )\n",
    "    alloc_2 = np.random.choice( range(k), n, replace = True )\n",
    "\n",
    "    x = np.random.normal( 0.0, 1.0, (2 * n, p) ) * std + np.concatenate( (x_mat_1[alloc_1], x_mat_2[alloc_2]) )\n",
    "    y = np.concatenate( ( np.ones(n, dtype = int), np.zeros(n, dtype = int) ) )\n",
    "    \n",
    "    return (x, y)"
   ]
  },
  {
   "cell_type": "markdown",
   "metadata": {},
   "source": [
    "Generate Data"
   ]
  },
  {
   "cell_type": "code",
   "execution_count": 13,
   "metadata": {},
   "outputs": [],
   "source": [
    "x_train, y_train = CreateData( centers, n_train, params, std_dev )\n",
    "x_test,  y_test  = CreateData( centers, n_test,  params, std_dev )"
   ]
  },
  {
   "cell_type": "markdown",
   "metadata": {},
   "source": [
    "K Nearest Neighbors Classifier"
   ]
  },
  {
   "cell_type": "code",
   "execution_count": 14,
   "metadata": {},
   "outputs": [],
   "source": [
    "n_neighbors = [151, 101, 69, 45, 31, 21, 11, 7, 5, 3, 1]\n",
    "iterations  = len(n_neighbors)\n",
    "\n",
    "train_err_knn = np.zeros(iterations)\n",
    "test_err_knn  = np.zeros(iterations)\n",
    "\n",
    "for i in range(iterations):\n",
    "    knn = KNeighborsClassifier(n_neighbors[i])\n",
    "    knn.fit(x_train, y_train)  \n",
    "    \n",
    "    y_train_pred     = knn.predict(x_train)\n",
    "    train_err_knn[i] = sum( y_train != y_train_pred ) / (2 * n_train)\n",
    "    \n",
    "    y_test_pred     = knn.predict(x_test)\n",
    "    test_err_knn[i] = sum( y_test != y_test_pred ) / (2 * n_test) "
   ]
  },
  {
   "cell_type": "markdown",
   "metadata": {},
   "source": [
    "Linear Regression Classifier"
   ]
  },
  {
   "cell_type": "code",
   "execution_count": 15,
   "metadata": {},
   "outputs": [],
   "source": [
    "reg_model = LinearRegression()\n",
    "reg_model.fit( x_train, y_train )\n",
    "\n",
    "coefs  = reg_model.coef_\n",
    "inter  = reg_model.intercept_\n",
    "\n",
    "y_train_pred = np.greater(reg_model.predict(x_train), 0.5).astype(int)\n",
    "y_test_pred  = np.greater(reg_model.predict(x_test),  0.5).astype(int)\n",
    "\n",
    "train_err_lm = sum( y_train != y_train_pred ) / len(y_train) \n",
    "test_err_lm  = sum( y_test  != y_test_pred )  / len(y_test) "
   ]
  },
  {
   "cell_type": "markdown",
   "metadata": {},
   "source": [
    "Function for Bayes Classifier"
   ]
  },
  {
   "cell_type": "code",
   "execution_count": 16,
   "metadata": {},
   "outputs": [],
   "source": [
    "def MixNorm(x):\n",
    "    return\\\n",
    "    np.sum(np.exp(-1 * np.sum( np.power( np.subtract( np.transpose(x_mat_1), x.reshape(2, 1) ), 2) ) * 5 / 2)) /\\\n",
    "    np.sum(np.exp(-1 * np.sum( np.power( np.subtract( np.transpose(x_mat_2), x.reshape(2, 1) ), 2) ) * 5 / 2))"
   ]
  },
  {
   "cell_type": "markdown",
   "metadata": {},
   "source": [
    "Bayes Classifier"
   ]
  },
  {
   "cell_type": "code",
   "execution_count": 17,
   "metadata": {},
   "outputs": [],
   "source": [
    "y_test_pred = np.apply_along_axis(MixNorm, 1, x_test)\n",
    "y_test_pred = np.greater(y_test_pred, 1).astype(int)\n",
    "\n",
    "test_err_bayes = sum(y_test != y_test_pred) / len(y_test)"
   ]
  },
  {
   "cell_type": "markdown",
   "metadata": {},
   "source": [
    "Visualization of the Errors"
   ]
  },
  {
   "cell_type": "code",
   "execution_count": 18,
   "metadata": {},
   "outputs": [
    {
     "data": {
      "image/png": "[encoded data removed]",
      "text/plain": [
       "<Figure size 720x360 with 1 Axes>"
      ]
     },
     "metadata": {},
     "output_type": "display_data"
    }
   ],
   "source": [
    "x_axis = np.round(np.divide(len(x_train), n_neighbors)).tolist()\n",
    "figure = plt.figure(figsize = (10, 5))\n",
    "axes   = figure.add_axes([0, 0, 1, 1])\n",
    "\n",
    "axes.plot(range(1, 12), test_err_knn,  color = \"blue\",   linestyle = \"-\", linewidth = 0.5, label = \"Test Error\",  marker = \"o\")\n",
    "axes.plot(range(1, 12), train_err_knn, color = \"orange\", linestyle = \"-\", linewidth = 0.5, label = \"Train Error\", marker = \"o\")\n",
    "\n",
    "axes.hlines(test_err_bayes, xmin = 1, xmax = 11, color = \"purple\", linestyle = \"--\", label = \"Bayes Error\")\n",
    "axes.hlines(train_err_lm,   xmin = 1, xmax = 11, color = \"red\",    linestyle = \"-\",  label = \"LM Train Error\")\n",
    "axes.hlines(test_err_lm,    xmin = 1, xmax = 11, color = \"green\",  linestyle = \"-\",  label = \"LM Test Error\")\n",
    "\n",
    "axes.xaxis.set_major_locator(ticker.IndexLocator(base = 1, offset = 0))\n",
    "axes.set_xticklabels(x_axis, rotation = 45)\n",
    "\n",
    "axes.set(xlabel = \"Degrees of Freedom\", ylabel = \"Error\", title = \"KNN, LM, & Bayes Error\")\n",
    "axes.legend(loc = \"lower left\", prop = {'size' : 12})\n",
    "\n",
    "figure.savefig(\"AssignmentOutput_1_4042_sbishop3.pdf\", bbox_inches = 'tight')\n",
    "plt.show()"
   ]
  }
 ],
 "metadata": {
  "kernelspec": {
   "display_name": "Python 3",
   "language": "python",
   "name": "python3"
  },
  "language_info": {
   "codemirror_mode": {
    "name": "ipython",
    "version": 3
   },
   "file_extension": ".py",
   "mimetype": "text/x-python",
   "name": "python",
   "nbconvert_exporter": "python",
   "pygments_lexer": "ipython3",
   "version": "3.6.5"
  }
 },
 "nbformat": 4,
 "nbformat_minor": 2
}
