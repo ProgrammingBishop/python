{
 "cells": [
  {
   "cell_type": "markdown",
   "metadata": {},
   "source": [
    "Libraries"
   ]
  },
  {
   "cell_type": "code",
   "execution_count": 602,
   "metadata": {},
   "outputs": [],
   "source": [
    "import random as rn\n",
    "import numpy  as np\n",
    "import math\n",
    "from sklearn.neighbors    import KNeighborsClassifier\n",
    "from sklearn.linear_model import LinearRegression"
   ]
  },
  {
   "cell_type": "markdown",
   "metadata": {},
   "source": [
    "Generate Data"
   ]
  },
  {
   "cell_type": "code",
   "execution_count": 731,
   "metadata": {
    "scrolled": true
   },
   "outputs": [],
   "source": [
    "random.seed(4042)\n",
    "\n",
    "centers = 10\n",
    "params  = 2 \n",
    "\n",
    "# Generate Class Labels\n",
    "y_vec_1 = np.zeros( (centers), dtype = int )\n",
    "y_vec_2 = np.ones ( (centers), dtype = int )\n",
    "\n",
    "# Create Centers\n",
    "m_1 = np.column_stack( (y_vec_1, y_vec_2) )\n",
    "m_2 = np.column_stack( (y_vec_2, y_vec_1) )\n",
    "\n",
    "# Generate X Matrices\n",
    "x_mat_1 = np.random.normal( 0.0, 1.0, (centers, params) ) + m_2\n",
    "x_mat_2 = np.random.normal( 0.0, 1.0, (centers, params) ) + m_1"
   ]
  },
  {
   "cell_type": "markdown",
   "metadata": {},
   "source": [
    "Function to Generate Data"
   ]
  },
  {
   "cell_type": "code",
   "execution_count": 732,
   "metadata": {},
   "outputs": [],
   "source": [
    "n_train = 100\n",
    "n_test  = 5000\n",
    "std_dev = math.sqrt(1 / 5)\n",
    "\n",
    "def CreateData(k, n, p, std):\n",
    "    alloc_1 = np.random.choice( range(k), n, replace = True )\n",
    "    alloc_2 = np.random.choice( range(k), n, replace = True )\n",
    "\n",
    "    x = np.random.normal( 0.0, 1.0, (2 * n, p) ) * std + np.concatenate( (x_mat_1[alloc_1], x_mat_2[alloc_2]) )\n",
    "    y = np.concatenate( ( np.ones(n, dtype = int), np.zeros(n, dtype = int) ) )\n",
    "    \n",
    "    return (x, y)"
   ]
  },
  {
   "cell_type": "markdown",
   "metadata": {},
   "source": [
    "Generate Data"
   ]
  },
  {
   "cell_type": "code",
   "execution_count": 733,
   "metadata": {},
   "outputs": [],
   "source": [
    "x_train, y_train = CreateData( centers, n_train, params, std_dev )\n",
    "x_test,  y_test  = CreateData( centers, n_test,  params, std_dev )"
   ]
  },
  {
   "cell_type": "markdown",
   "metadata": {},
   "source": [
    "K Nearest Neighbors"
   ]
  },
  {
   "cell_type": "code",
   "execution_count": 601,
   "metadata": {},
   "outputs": [],
   "source": [
    "n_neighbors = [151, 101, 69, 45, 31, 21, 11, 7, 5, 3, 1]\n",
    "iterations  = len(n_neighbors)\n",
    "\n",
    "train_err_knn = np.zeros(iterations)\n",
    "test_err_knn  = np.zeros(iterations)\n",
    "\n",
    "for i in range(iterations):\n",
    "    knn = KNeighborsClassifier(n_neighbors[i])\n",
    "    knn.fit(x_train, y_train)  \n",
    "    \n",
    "    y_train_pred     = knn.predict(x_train)\n",
    "    train_err_knn[i] = sum( y_train != y_train_pred ) / (2 * n_train)\n",
    "    \n",
    "    y_test_pred     = knn.predict(x_test)\n",
    "    test_err_knn[i] = sum( y_test != y_test_pred ) / (2 * n_test) "
   ]
  },
  {
   "cell_type": "markdown",
   "metadata": {},
   "source": [
    "Linear Regression"
   ]
  },
  {
   "cell_type": "code",
   "execution_count": 644,
   "metadata": {},
   "outputs": [],
   "source": [
    "reg_model = LinearRegression()\n",
    "reg_model.fit( x_train, y_train )\n",
    "\n",
    "coefs  = reg_model.coef_\n",
    "inter  = reg_model.intercept_\n",
    "\n",
    "y_train_pred = np.greater(reg_model.predict(x_train), 0.5).astype(int)\n",
    "y_test_pred  = inter +\\\n",
    "               (coefs[0] * x_test[:, 0]) +\\\n",
    "               (coefs[1] * x_test[:, 1])\n",
    "y_test_pred = np.greater(y_test_pred, 0.5).astype(int)\n",
    "\n",
    "train_err_lm = sum( y_train != y_train_pred ) / len(y_train) \n",
    "test_err_lm  = sum( y_test  != y_test_pred )  / len(y_test) "
   ]
  },
  {
   "cell_type": "markdown",
   "metadata": {},
   "source": [
    "Bayes"
   ]
  },
  {
   "cell_type": "code",
   "execution_count": null,
   "metadata": {},
   "outputs": [],
   "source": [
    "mixnorm=function(x){\n",
    "  ## return the density ratio for a point x, where each \n",
    "  ## density is a mixture of normal with 10 components\n",
    "  sum(\n",
    "      exp(\n",
    "          -apply( \n",
    "              (t(m1)-x)^2, 2, sum \n",
    "          ) \n",
    "          * \n",
    "          5/2 \n",
    "      ) \n",
    "  )\n",
    "  /\n",
    "  sum(\n",
    "      exp(\n",
    "          -apply(\n",
    "              (t(m0)-x)^2, 2, sum\n",
    "          )\n",
    "          *\n",
    "          5/2\n",
    "      )\n",
    "  )\n",
    "}\n",
    "\n",
    "Ytest_pred_Bayes = apply(testdata, 1, mixnorm)\n",
    "Ytest_pred_Bayes = as.numeric(Ytest_pred_Bayes > 1);\n",
    "table(Ytest, Ytest_pred_Bayes); \n",
    "test.err.Bayes = sum(Ytest !=  Ytest_pred_Bayes) / (2*N)"
   ]
  },
  {
   "cell_type": "code",
   "execution_count": 746,
   "metadata": {},
   "outputs": [
    {
     "data": {
      "text/plain": [
       "array([2.32813883, 1.14436976, 1.97462098, ..., 0.53763982, 0.9826446 ,\n",
       "       0.84501143])"
      ]
     },
     "execution_count": 746,
     "metadata": {},
     "output_type": "execute_result"
    }
   ],
   "source": [
    "def MixNorm(x):\n",
    "    return (np.sum( np.exp( np.power( np.subtract( np.transpose(x_mat_1), x[1:2] ), 2 ) * -1 * (5 / 2)) )) /\\\n",
    "    (np.sum( np.exp( np.power( np.subtract( np.transpose(x_mat_2), x[1:2] ), 2 ) * -1 * (5 / 2)) ))\n",
    "\n",
    "y_test_pred = np.apply_along_axis(MixNorm, 1, x_test)"
   ]
  }
 ],
 "metadata": {
  "kernelspec": {
   "display_name": "Python 3",
   "language": "python",
   "name": "python3"
  },
  "language_info": {
   "codemirror_mode": {
    "name": "ipython",
    "version": 3
   },
   "file_extension": ".py",
   "mimetype": "text/x-python",
   "name": "python",
   "nbconvert_exporter": "python",
   "pygments_lexer": "ipython3",
   "version": "3.6.5"
  }
 },
 "nbformat": 4,
 "nbformat_minor": 2
}
