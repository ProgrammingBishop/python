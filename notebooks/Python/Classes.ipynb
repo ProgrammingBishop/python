{
 "cells": [
  {
   "cell_type": "markdown",
   "metadata": {},
   "source": [
    "# Classes"
   ]
  },
  {
   "cell_type": "markdown",
   "metadata": {},
   "source": [
    "#### Instance Creation"
   ]
  },
  {
   "cell_type": "code",
   "execution_count": 62,
   "metadata": {},
   "outputs": [],
   "source": [
    "# object flags this as a parent class\n",
    "class Summoner( object ):\n",
    "    # Class attributes are the same for all instances\n",
    "    caster_type = 'summoner'\n",
    "    \n",
    "    # __ini__ is an object's initial attributes with default values (constructor)\n",
    "    # self is to track what values are affiliated with which instances (it represents the object itself and is called automatically; similar to this in C++ or Java)\n",
    "    # When you call a method of this object as myobject.method(arg1, arg2), this is automatically converted by Python into MyClass.method(myobject, arg1, arg2)\n",
    "    # these are instance attributes and are specific to each object\n",
    "    def __init__( self, name = None, summons = [] ):\n",
    "        self.name        = name\n",
    "        self.summons     = summons\n",
    "        \n",
    "    # First arg to methods needs to be self\n",
    "    def description( self ):\n",
    "        return \"{} is a {} and has the summons {}\".format( self.name, self.caster_type, self.summons )\n",
    "    \n",
    "    def number_summons( self ):\n",
    "        return \"{} has {} summons in all\".format( self.name, len( self.summons ) )\n",
    "    \n",
    "    pass"
   ]
  },
  {
   "cell_type": "code",
   "execution_count": 63,
   "metadata": {},
   "outputs": [],
   "source": [
    "rainne  = Summoner( name    = 'Rainne', \n",
    "                    summons = [ 'Bahamut', 'Shive', 'Ifrit' ] )"
   ]
  },
  {
   "cell_type": "code",
   "execution_count": 64,
   "metadata": {},
   "outputs": [
    {
     "data": {
      "text/plain": [
       "\"Rainne is a summoner and has the summons ['Bahamut', 'Shive', 'Ifrit']\""
      ]
     },
     "execution_count": 64,
     "metadata": {},
     "output_type": "execute_result"
    }
   ],
   "source": [
    "rainne.description()"
   ]
  },
  {
   "cell_type": "code",
   "execution_count": 65,
   "metadata": {},
   "outputs": [
    {
     "data": {
      "text/plain": [
       "'Rainne has 3 summons in all'"
      ]
     },
     "execution_count": 65,
     "metadata": {},
     "output_type": "execute_result"
    }
   ],
   "source": [
    "rainne.number_summons()"
   ]
  },
  {
   "cell_type": "markdown",
   "metadata": {},
   "source": [
    "#### Inheritance"
   ]
  },
  {
   "cell_type": "code",
   "execution_count": null,
   "metadata": {},
   "outputs": [],
   "source": [
    "# Child classes override/extend the functionality of parent classes."
   ]
  },
  {
   "cell_type": "code",
   "execution_count": 71,
   "metadata": {},
   "outputs": [],
   "source": [
    "class Conjurer( Summoner ):\n",
    "    # Override parent class caster_type\n",
    "    caster_type = 'Conjurer'\n",
    "    \n",
    "    def hit_points( self, hp ):\n",
    "        # Because this inherits from the summoner class, this child class has access to the summon class's name attribute\n",
    "        return \"{} has {} hit points.\".format( self.name, hp )"
   ]
  },
  {
   "cell_type": "code",
   "execution_count": 67,
   "metadata": {},
   "outputs": [],
   "source": [
    "class Oracle( Summoner ):\n",
    "    # Override parent class caster_type\n",
    "    caster_type = 'Oracle'\n",
    "    \n",
    "    def hit_points( self, hp ):\n",
    "        # Because this inherits from the summoner class, this child class has access to the summon class's name attribute\n",
    "        return \"{} has {} hit points.\".format( self.name, hp )"
   ]
  },
  {
   "cell_type": "code",
   "execution_count": 72,
   "metadata": {},
   "outputs": [],
   "source": [
    "rainne  = Conjurer( name    = 'Rainne', \n",
    "                    summons = [ 'Bahamut', 'Shive', 'Ifrit' ] )\n",
    "\n",
    "riyun = Oracle( name = 'Riyun', \n",
    "                summons = [ 'Carbuncle', 'Alexandria' ] )"
   ]
  },
  {
   "cell_type": "code",
   "execution_count": 73,
   "metadata": {},
   "outputs": [
    {
     "name": "stdout",
     "output_type": "stream",
     "text": [
      "Riyun is a Oracle and has the summons ['Carbuncle', 'Alexandria']\n",
      "Rainne is a Conjurer and has the summons ['Bahamut', 'Shive', 'Ifrit']\n"
     ]
    }
   ],
   "source": [
    "print( riyun.description() )\n",
    "print( rainne.description() )"
   ]
  },
  {
   "cell_type": "code",
   "execution_count": 74,
   "metadata": {},
   "outputs": [
    {
     "data": {
      "text/plain": [
       "'Riyun has 2 summons in all'"
      ]
     },
     "execution_count": 74,
     "metadata": {},
     "output_type": "execute_result"
    }
   ],
   "source": [
    "riyun.number_summons()"
   ]
  },
  {
   "cell_type": "code",
   "execution_count": 75,
   "metadata": {},
   "outputs": [
    {
     "data": {
      "text/plain": [
       "'Riyun'"
      ]
     },
     "execution_count": 75,
     "metadata": {},
     "output_type": "execute_result"
    }
   ],
   "source": [
    "riyun.name"
   ]
  },
  {
   "cell_type": "code",
   "execution_count": 76,
   "metadata": {},
   "outputs": [
    {
     "name": "stdout",
     "output_type": "stream",
     "text": [
      "Riyun has 2400 hit points.\n"
     ]
    }
   ],
   "source": [
    "# Extend Summoner Instance Riyun to Have 2400 HP\n",
    "print( riyun.hit_points( 2400 ) )"
   ]
  },
  {
   "cell_type": "code",
   "execution_count": 77,
   "metadata": {},
   "outputs": [
    {
     "name": "stdout",
     "output_type": "stream",
     "text": [
      "True\n"
     ]
    }
   ],
   "source": [
    "print( isinstance( riyun, Summoner ) )"
   ]
  },
  {
   "cell_type": "code",
   "execution_count": 78,
   "metadata": {},
   "outputs": [
    {
     "name": "stdout",
     "output_type": "stream",
     "text": [
      "False\n"
     ]
    }
   ],
   "source": [
    "print( isinstance( riyun, Conujurer ) )"
   ]
  },
  {
   "cell_type": "code",
   "execution_count": 82,
   "metadata": {},
   "outputs": [
    {
     "name": "stdout",
     "output_type": "stream",
     "text": [
      "True\n"
     ]
    }
   ],
   "source": [
    "print( isinstance( riyun, Oracle ) )"
   ]
  },
  {
   "cell_type": "code",
   "execution_count": null,
   "metadata": {},
   "outputs": [],
   "source": []
  }
 ],
 "metadata": {
  "kernelspec": {
   "display_name": "Python 3",
   "language": "python",
   "name": "python3"
  },
  "language_info": {
   "codemirror_mode": {
    "name": "ipython",
    "version": 3
   },
   "file_extension": ".py",
   "mimetype": "text/x-python",
   "name": "python",
   "nbconvert_exporter": "python",
   "pygments_lexer": "ipython3",
   "version": "3.6.0"
  }
 },
 "nbformat": 4,
 "nbformat_minor": 2
}
