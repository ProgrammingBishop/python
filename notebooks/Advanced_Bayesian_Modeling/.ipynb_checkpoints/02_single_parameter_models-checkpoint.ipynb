{
 "cells": [
  {
   "cell_type": "markdown",
   "metadata": {},
   "source": [
    "# 2.1"
   ]
  },
  {
   "cell_type": "markdown",
   "metadata": {},
   "source": [
    "The binomial sampling model is:\n",
    "\n",
    "$$p(y | \\theta) = Bin(y | n, \\theta) = {N\\choose y} \\theta^y(1 - \\theta)^{n - y}$$\n",
    "\n",
    "where $N$ is the number of exchangeable trials to choose from and $y$ is the number of successes in $n$ trials. Here $\\theta$ represents the proportion of successes in the population (i.e. the probability of success in each trial).\n",
    "\n",
    "$${N\\choose y} = \\frac{n!}{y!(n - y)!}$$\n",
    "\n",
    "for example:\n",
    "\n",
    "$${4\\choose 2} = \\frac{4!}{2!(4 - 2)!} = 12$$\n",
    "\n",
    "and since the denominator as $(4 - 2)!$ this will cancel out the 2! from the numerator leaving only $4*3$ and the denominator with $2*1$"
   ]
  },
  {
   "cell_type": "markdown",
   "metadata": {},
   "source": [
    "#### Example"
   ]
  },
  {
   "cell_type": "markdown",
   "metadata": {},
   "source": [
    "The currently accepted value of the proportion of female births in large European-race populations is $0.485$. For this example we define the parameter $\\theta$ to be the proportion of female births, but an alternative way of reporting this parameter is as a ratio of male to female birth rates, $\\phi = \\frac{(1 - \\theta)}{\\theta}$. Let $y$ be the number of girls in $n$ births. Using the formula above, we assume the $n$ births are conditionally independent given $\\theta$, with the probability of female birth equal to $\\theta$ for all cases.\n",
    "\n",
    "First we need a prior distribution for $\\theta$ before using the binomial distribution. We will assume it is a uniform interval $[0, 1]$. Posterior density for $\\theta$ is:\n",
    "\n",
    "$$p(\\theta | y) \\propto \\theta^y(1 - \\theta)^{n - y}$$\n",
    "\n",
    "With a fixed $n$ and $y$ the ${n \\choose y}$ can be treated as a constant when calculating the posterior distribution of $\\theta$.\n",
    "\n",
    "##### Sub-Example\n",
    "In analyzing the binomial model, Laplace also used the uniform prior distribution. His first serious application was to estimate the proportion of girl births in a population. A total of $241,945$ girls and $251,527$ boys were born in Paris from 1745 to 1770. Letting $\\theta$ be the probability that any birth is female, Laplace showed that:\n",
    "\n",
    "$$Pr( \\theta \\ge 0.5 | y = 241,945, n = 251,527 + 241,945 ) \\approx 1.15 * 10^{-42}$$\n",
    "\n",
    "Assume $\\tilde y$ is a single new trial, the outcome is:\n",
    "\n",
    "$$Pr(\\tilde y = 1 | y) = \\int_0^1 \\theta p(\\theta | y)d \\theta = \\frac{y + 1}{n + 2}$$"
   ]
  },
  {
   "cell_type": "markdown",
   "metadata": {},
   "source": [
    "# 2.2"
   ]
  },
  {
   "cell_type": "markdown",
   "metadata": {},
   "source": [
    "Prior distribution is $p(\\theta)$ and posterior distribution is $p(\\theta|y)$. Given:\n",
    "\n",
    "$$E(\\theta) = E(E(\\theta | y))$$\n",
    "\n",
    "the prior mean of $\\theta$ is the average of all possible posterior means over the distribution of possible data. The variance formula:\n",
    "\n",
    "$$var(u) = E(var(u | v)) + var(E(u | v))$$\n",
    "\n",
    "says that the posterior variance is on average smaller than the prior variance by an amount that depends on the variation in posterior mean over the distribution of possible data.\n",
    "\n",
    "The Beta Distribution:\n",
    "\n",
    "$$\\theta | y \\approx \\beta(y + 1, n - y + 1)$$"
   ]
  },
  {
   "cell_type": "markdown",
   "metadata": {},
   "source": [
    "# 2.3"
   ]
  },
  {
   "cell_type": "markdown",
   "metadata": {},
   "source": [
    "Mean, median, mode is used for the location of a distribution while variation is described by standard deviation, interquartile range, and other quantiles. Mean is the posterior expectation of the parameter, and mode may be interpreted as the single most likely value given the data and the model. Much practical inference relies on the use of normal approximations, often improved by applying a symmetrizing transformation to $\\theta$, and here the mean and standard deviation play key roles."
   ]
  },
  {
   "cell_type": "markdown",
   "metadata": {},
   "source": [
    "#### Posterior Qunatiles and Intervals"
   ]
  },
  {
   "cell_type": "code",
   "execution_count": null,
   "metadata": {},
   "outputs": [],
   "source": []
  }
 ],
 "metadata": {
  "kernelspec": {
   "display_name": "Python 3",
   "language": "python",
   "name": "python3"
  },
  "language_info": {
   "codemirror_mode": {
    "name": "ipython",
    "version": 3
   },
   "file_extension": ".py",
   "mimetype": "text/x-python",
   "name": "python",
   "nbconvert_exporter": "python",
   "pygments_lexer": "ipython3",
   "version": "3.6.0"
  }
 },
 "nbformat": 4,
 "nbformat_minor": 2
}
