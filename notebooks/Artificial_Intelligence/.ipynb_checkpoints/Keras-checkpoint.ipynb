{
 "cells": [
  {
   "cell_type": "markdown",
   "metadata": {},
   "source": [
    "# Keras"
   ]
  },
  {
   "cell_type": "markdown",
   "metadata": {},
   "source": [
    "### Overview"
   ]
  },
  {
   "cell_type": "markdown",
   "metadata": {},
   "source": [
    "Two types of models:\n",
    "- Sequential\n",
    "- Model Class"
   ]
  },
  {
   "cell_type": "code",
   "execution_count": 2,
   "metadata": {},
   "outputs": [],
   "source": [
    "# Save Model State, Reinstate Model State\n",
    "from keras.models import model_from_json\n",
    "from keras.models import model_from_yaml\n",
    "\n",
    "json_string = model.to_json()\n",
    "model       = model_from_json( json_string )\n",
    "\n",
    "# OR\n",
    "\n",
    "yaml_string = model.to_yaml()\n",
    "model       = model_from_yaml( yaml_string )"
   ]
  },
  {
   "cell_type": "markdown",
   "metadata": {},
   "source": [
    "You can also create your own customizable model by subclassing the Model class and implementing your own forward pass in the call method."
   ]
  },
  {
   "cell_type": "code",
   "execution_count": null,
   "metadata": {},
   "outputs": [],
   "source": [
    "# Layers Defined\n",
    "def __init__( self, ... )\n",
    "    # Forward Pass Defined\n",
    "    def call( self, inputs )"
   ]
  }
 ],
 "metadata": {
  "kernelspec": {
   "display_name": "Python 3",
   "language": "python",
   "name": "python3"
  },
  "language_info": {
   "codemirror_mode": {
    "name": "ipython",
    "version": 3
   },
   "file_extension": ".py",
   "mimetype": "text/x-python",
   "name": "python",
   "nbconvert_exporter": "python",
   "pygments_lexer": "ipython3",
   "version": "3.6.8"
  }
 },
 "nbformat": 4,
 "nbformat_minor": 2
}
