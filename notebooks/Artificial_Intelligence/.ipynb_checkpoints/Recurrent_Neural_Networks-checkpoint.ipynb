{
 "cells": [
  {
   "cell_type": "markdown",
   "metadata": {},
   "source": [
    "# Recurrent Neural Networks"
   ]
  },
  {
   "cell_type": "code",
   "execution_count": 1,
   "metadata": {},
   "outputs": [
    {
     "name": "stderr",
     "output_type": "stream",
     "text": [
      "Using TensorFlow backend.\n"
     ]
    }
   ],
   "source": [
    "import os\n",
    "import pandas            as pd\n",
    "import numpy             as np\n",
    "import matplotlib.pyplot as plt\n",
    "import keras"
   ]
  },
  {
   "cell_type": "code",
   "execution_count": 2,
   "metadata": {},
   "outputs": [],
   "source": [
    "file_path = \"C:\\\\Users\\\\andre\\\\Desktop\\\\GitHub\\\\Data\\\\\"\n",
    "test      = pd.read_csv( str(file_path) + \"Google_Stock_Price_Test.csv\" )\n",
    "train     = pd.read_csv( str(file_path) + \"Google_Stock_Price_Train.csv\" )"
   ]
  },
  {
   "cell_type": "code",
   "execution_count": 3,
   "metadata": {},
   "outputs": [],
   "source": [
    "train = train.iloc[ :, 1:2 ].values"
   ]
  },
  {
   "cell_type": "markdown",
   "metadata": {},
   "source": [
    "###### Standardization\n",
    "$x = \\frac{x - mean(x)}{sd(x)}$\n",
    "\n",
    "###### Normalization\n",
    "$x = \\frac{x - min(x)}{max(x) - min(x)}$\n",
    "\n",
    "Normalization is recommended for Sigmoid transformations, which is why it will be used for RNNs."
   ]
  },
  {
   "cell_type": "code",
   "execution_count": 4,
   "metadata": {},
   "outputs": [],
   "source": [
    "from sklearn.preprocessing import MinMaxScaler"
   ]
  },
  {
   "cell_type": "code",
   "execution_count": 5,
   "metadata": {},
   "outputs": [],
   "source": [
    "scaler = MinMaxScaler( feature_range = ( 0, 1 ) )\n",
    "train_scale = scaler.fit_transform( train )"
   ]
  },
  {
   "cell_type": "code",
   "execution_count": 11,
   "metadata": {},
   "outputs": [],
   "source": [
    "x_train   = []\n",
    "y_train   = []\n",
    "num_days  = 60\n",
    "\n",
    "# Start at 60th stock price, and iterate to last\n",
    "# Start at 60th as 0 - 59 are used as prior\n",
    "for i in range( num_days, len( train ) ):\n",
    "    x_train.append( train_scale[ i - num_days : i, 0 ] ) # Remember value at all previous steps\n",
    "    y_train.append( train_scale[ i, 0 ] )                # to predict the current value\n",
    "    \n",
    "# RNN needs numpy array\n",
    "x_train, y_train = np.array( x_train ), np.array( y_train )\n",
    "\n",
    "# At this point, for example, x_train will be an array of arrays. \n",
    "# The index will be the day starting at 60, \n",
    "# and the array at each index will represent all of the previous days from the current index."
   ]
  },
  {
   "cell_type": "code",
   "execution_count": 14,
   "metadata": {},
   "outputs": [],
   "source": [
    "# Keras needs:\n",
    "    # Number of inputs\n",
    "    # Number of timesteps\n",
    "    # Number of predictors\n",
    "x_train = np.reshape( x_train, ( len( x_train ), num_days, 1 ) )"
   ]
  },
  {
   "cell_type": "code",
   "execution_count": 15,
   "metadata": {},
   "outputs": [],
   "source": [
    "from keras.models import Sequential\n",
    "from keras.layers import Dense, LSTM, Dropout"
   ]
  },
  {
   "cell_type": "code",
   "execution_count": 16,
   "metadata": {},
   "outputs": [],
   "source": [
    "regressor = Sequential()\n",
    "\n",
    "# LSTM\n",
    "    # units: number of neurons (want high dimensionality)\n",
    "    # return_sequences: set to true with stacked layers\n",
    "    # input_shape: \n",
    "        # Number of inputs\n",
    "        # Number of timesteps\n",
    "        # Number of predictors\n",
    "regressor.add( LSTM( units = 50, return_sequences = True, input_shape = ( num_days, 1 ) ) )\n",
    "regressor.add( Dropout( 0.20 ) )\n",
    "\n",
    "# No input shape because the last layer specifies 50 neurons\n",
    "regressor.add( LSTM( units = 50, return_sequences = True ) )\n",
    "regressor.add( Dropout( 0.20 ) )\n",
    "\n",
    "regressor.add( LSTM( units = 50, return_sequences = True ) )\n",
    "regressor.add( Dropout( 0.20 ) )\n",
    "\n",
    "# Final layer so no return sequence is needed\n",
    "regressor.add( LSTM( units = 50 ) )\n",
    "regressor.add( Dropout( 0.20 ) )\n",
    "\n"
   ]
  },
  {
   "cell_type": "code",
   "execution_count": null,
   "metadata": {},
   "outputs": [],
   "source": []
  }
 ],
 "metadata": {
  "kernelspec": {
   "display_name": "Python 3",
   "language": "python",
   "name": "python3"
  },
  "language_info": {
   "codemirror_mode": {
    "name": "ipython",
    "version": 3
   },
   "file_extension": ".py",
   "mimetype": "text/x-python",
   "name": "python",
   "nbconvert_exporter": "python",
   "pygments_lexer": "ipython3",
   "version": "3.6.0"
  }
 },
 "nbformat": 4,
 "nbformat_minor": 2
}
