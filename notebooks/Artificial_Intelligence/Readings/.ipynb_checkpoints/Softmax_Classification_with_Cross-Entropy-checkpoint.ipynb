{
 "cells": [
  {
   "cell_type": "markdown",
   "metadata": {},
   "source": [
    "# Softmax Classification with Cross-Entropy"
   ]
  },
  {
   "cell_type": "code",
   "execution_count": 1,
   "metadata": {},
   "outputs": [],
   "source": [
    "import numpy as np"
   ]
  },
  {
   "cell_type": "markdown",
   "metadata": {},
   "source": [
    "Softmax function takes as input a C-dimensional vector $z$ and outputs a C-dimensional vector $y$ of real value between 0 and 1. This function is a normalized exponential and defined as:\n",
    "$$y_c = f(z)_c = \\frac{e^{z_c}}{\\sum_{d = 1^{e^{z_d}}}^C}$$\n",
    "\n",
    "for $c = 1 ... C$\n",
    "\n",
    "The denominator acts as a regularizer to assure the sum of all $C = 1$."
   ]
  },
  {
   "cell_type": "code",
   "execution_count": 2,
   "metadata": {},
   "outputs": [],
   "source": [
    "def softmax(z):\n",
    "    return np.exp(z) /\\\n",
    "           np.sum(np.exp(z))"
   ]
  },
  {
   "cell_type": "markdown",
   "metadata": {},
   "source": [
    "If $i = j$: $\\frac{\\partial y_i}{\\partial z_i} = y_i(1 - y_i)$ (this is similar to the logistic function)  \n",
    "If $i \\ne j$: $\\frac{\\partial y_i}{\\partial z_j} = -y_iy_j$"
   ]
  },
  {
   "cell_type": "markdown",
   "metadata": {},
   "source": [
    "###### Likelihood Function\n",
    "$$argmax_{theta} L(\\theta | t, z)$$\n",
    "\n",
    "which means the likelihood is the joint probability of generating $t$ and $z$ given the parameters $\\theta$. \n",
    "$$P(t, z | \\theta) = P(t | z, \\theta)P(z | \\theta)$$\n",
    "\n",
    "Since we are interested in the probability of $z$ we can ultimately deduce this as:\n",
    "$$-log( \\theta | t, z ) = -log \\prod_{i = c}^C y_c^{t_c} = \\sum_{i = c}^C t_c log(y_c)$$\n",
    "\n",
    "###### Cross-Entropy Error \n",
    "Over a batch of multiple campled of size $n$ can be calculated as:\n",
    "$$\\xi(T, Y) = \\sum_{i = 1}^n \\xi(t_i, y_i) = -\\sum_{i = 1}^n\\ \\sum_{i = 1}^C\\ t_{ic} log(y_{ic})$$\n",
    "\n",
    "where $t_{ic} = 1$ if sample $i$ belongs to class $c_1$ and $y_{ic}$ is the output probability that sample $i$ belongs to class $c$."
   ]
  },
  {
   "cell_type": "code",
   "execution_count": null,
   "metadata": {},
   "outputs": [],
   "source": []
  }
 ],
 "metadata": {
  "kernelspec": {
   "display_name": "Python 3",
   "language": "python",
   "name": "python3"
  },
  "language_info": {
   "codemirror_mode": {
    "name": "ipython",
    "version": 3
   },
   "file_extension": ".py",
   "mimetype": "text/x-python",
   "name": "python",
   "nbconvert_exporter": "python",
   "pygments_lexer": "ipython3",
   "version": "3.6.8"
  }
 },
 "nbformat": 4,
 "nbformat_minor": 2
}
