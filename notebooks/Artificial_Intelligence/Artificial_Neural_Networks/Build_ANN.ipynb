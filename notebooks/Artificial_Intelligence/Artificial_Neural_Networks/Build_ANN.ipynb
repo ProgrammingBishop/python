{
 "cells": [
  {
   "cell_type": "markdown",
   "metadata": {},
   "source": [
    "# Artificial Nerual Network"
   ]
  },
  {
   "cell_type": "markdown",
   "metadata": {},
   "source": [
    "#### Preprocessing"
   ]
  },
  {
   "cell_type": "code",
   "execution_count": 58,
   "metadata": {},
   "outputs": [],
   "source": [
    "import numpy as np\n",
    "import matplotlib.pyplot as plt\n",
    "import pandas as pd"
   ]
  },
  {
   "cell_type": "code",
   "execution_count": 59,
   "metadata": {},
   "outputs": [],
   "source": [
    "dataset = pd.read_csv( 'Churn_Modelling.csv' )\n",
    "\n",
    "X = dataset.drop( [ 'RowNumber', 'CustomerId', 'Surname', 'Exited' ], axis = 1 )\n",
    "y = dataset[ 'Exited' ]"
   ]
  },
  {
   "cell_type": "code",
   "execution_count": 60,
   "metadata": {},
   "outputs": [],
   "source": [
    "X = pd.get_dummies( X, columns = [ 'Geography', 'Gender' ], drop_first = True )"
   ]
  },
  {
   "cell_type": "code",
   "execution_count": 61,
   "metadata": {},
   "outputs": [],
   "source": [
    "from sklearn.model_selection import train_test_split"
   ]
  },
  {
   "cell_type": "code",
   "execution_count": 62,
   "metadata": {},
   "outputs": [],
   "source": [
    "X_train, X_test, y_train, y_test = train_test_split( X, y, \n",
    "                                                     test_size = 0.25, \n",
    "                                                     random_state = 42 )"
   ]
  },
  {
   "cell_type": "code",
   "execution_count": 63,
   "metadata": {},
   "outputs": [],
   "source": [
    "from sklearn.preprocessing import StandardScaler"
   ]
  },
  {
   "cell_type": "code",
   "execution_count": 64,
   "metadata": {},
   "outputs": [],
   "source": [
    "scaler = StandardScaler()"
   ]
  },
  {
   "cell_type": "code",
   "execution_count": 65,
   "metadata": {},
   "outputs": [
    {
     "name": "stderr",
     "output_type": "stream",
     "text": [
      "C:\\Users\\scott\\Anaconda3\\lib\\site-packages\\sklearn\\preprocessing\\data.py:625: DataConversionWarning: Data with input dtype uint8, int64, float64 were all converted to float64 by StandardScaler.\n",
      "  return self.partial_fit(X, y)\n",
      "C:\\Users\\scott\\Anaconda3\\lib\\site-packages\\sklearn\\base.py:462: DataConversionWarning: Data with input dtype uint8, int64, float64 were all converted to float64 by StandardScaler.\n",
      "  return self.fit(X, **fit_params).transform(X)\n",
      "C:\\Users\\scott\\Anaconda3\\lib\\site-packages\\ipykernel_launcher.py:2: DataConversionWarning: Data with input dtype uint8, int64, float64 were all converted to float64 by StandardScaler.\n",
      "  \n"
     ]
    }
   ],
   "source": [
    "X_train = pd.DataFrame( scaler.fit_transform( X_train ), columns = X_train.columns )\n",
    "X_test  = pd.DataFrame( scaler.transform( X_test ), columns = X_test.columns )"
   ]
  },
  {
   "cell_type": "code",
   "execution_count": 10,
   "metadata": {},
   "outputs": [
    {
     "data": {
      "text/html": [
       "<div>\n",
       "<style scoped>\n",
       "    .dataframe tbody tr th:only-of-type {\n",
       "        vertical-align: middle;\n",
       "    }\n",
       "\n",
       "    .dataframe tbody tr th {\n",
       "        vertical-align: top;\n",
       "    }\n",
       "\n",
       "    .dataframe thead th {\n",
       "        text-align: right;\n",
       "    }\n",
       "</style>\n",
       "<table border=\"1\" class=\"dataframe\">\n",
       "  <thead>\n",
       "    <tr style=\"text-align: right;\">\n",
       "      <th></th>\n",
       "      <th>CreditScore</th>\n",
       "      <th>Age</th>\n",
       "      <th>Tenure</th>\n",
       "      <th>Balance</th>\n",
       "      <th>NumOfProducts</th>\n",
       "      <th>HasCrCard</th>\n",
       "      <th>IsActiveMember</th>\n",
       "      <th>EstimatedSalary</th>\n",
       "      <th>Geography_Germany</th>\n",
       "      <th>Geography_Spain</th>\n",
       "      <th>Gender_Male</th>\n",
       "    </tr>\n",
       "  </thead>\n",
       "  <tbody>\n",
       "    <tr>\n",
       "      <th>0</th>\n",
       "      <td>0.218351</td>\n",
       "      <td>1.916619</td>\n",
       "      <td>-1.731689</td>\n",
       "      <td>1.629928</td>\n",
       "      <td>0.813111</td>\n",
       "      <td>-1.539736</td>\n",
       "      <td>0.969789</td>\n",
       "      <td>-1.382844</td>\n",
       "      <td>-0.577761</td>\n",
       "      <td>-0.577350</td>\n",
       "      <td>0.911867</td>\n",
       "    </tr>\n",
       "    <tr>\n",
       "      <th>1</th>\n",
       "      <td>2.057280</td>\n",
       "      <td>0.202109</td>\n",
       "      <td>1.041750</td>\n",
       "      <td>-0.246244</td>\n",
       "      <td>-0.911043</td>\n",
       "      <td>0.649462</td>\n",
       "      <td>-1.031152</td>\n",
       "      <td>-1.195890</td>\n",
       "      <td>1.730820</td>\n",
       "      <td>-0.577350</td>\n",
       "      <td>0.911867</td>\n",
       "    </tr>\n",
       "    <tr>\n",
       "      <th>2</th>\n",
       "      <td>0.758602</td>\n",
       "      <td>-0.750397</td>\n",
       "      <td>0.348390</td>\n",
       "      <td>-1.221027</td>\n",
       "      <td>-0.911043</td>\n",
       "      <td>-1.539736</td>\n",
       "      <td>-1.031152</td>\n",
       "      <td>-0.683422</td>\n",
       "      <td>-0.577761</td>\n",
       "      <td>-0.577350</td>\n",
       "      <td>-1.096651</td>\n",
       "    </tr>\n",
       "    <tr>\n",
       "      <th>3</th>\n",
       "      <td>-0.082942</td>\n",
       "      <td>-0.559895</td>\n",
       "      <td>0.695070</td>\n",
       "      <td>1.574101</td>\n",
       "      <td>-0.911043</td>\n",
       "      <td>-1.539736</td>\n",
       "      <td>0.969789</td>\n",
       "      <td>-0.985396</td>\n",
       "      <td>-0.577761</td>\n",
       "      <td>-0.577350</td>\n",
       "      <td>0.911867</td>\n",
       "    </tr>\n",
       "    <tr>\n",
       "      <th>4</th>\n",
       "      <td>0.530034</td>\n",
       "      <td>-0.940898</td>\n",
       "      <td>1.388429</td>\n",
       "      <td>-1.221027</td>\n",
       "      <td>0.813111</td>\n",
       "      <td>0.649462</td>\n",
       "      <td>-1.031152</td>\n",
       "      <td>-0.868375</td>\n",
       "      <td>-0.577761</td>\n",
       "      <td>1.732051</td>\n",
       "      <td>0.911867</td>\n",
       "    </tr>\n",
       "  </tbody>\n",
       "</table>\n",
       "</div>"
      ],
      "text/plain": [
       "   CreditScore       Age    Tenure   Balance  NumOfProducts  HasCrCard  \\\n",
       "0     0.218351  1.916619 -1.731689  1.629928       0.813111  -1.539736   \n",
       "1     2.057280  0.202109  1.041750 -0.246244      -0.911043   0.649462   \n",
       "2     0.758602 -0.750397  0.348390 -1.221027      -0.911043  -1.539736   \n",
       "3    -0.082942 -0.559895  0.695070  1.574101      -0.911043  -1.539736   \n",
       "4     0.530034 -0.940898  1.388429 -1.221027       0.813111   0.649462   \n",
       "\n",
       "   IsActiveMember  EstimatedSalary  Geography_Germany  Geography_Spain  \\\n",
       "0        0.969789        -1.382844          -0.577761        -0.577350   \n",
       "1       -1.031152        -1.195890           1.730820        -0.577350   \n",
       "2       -1.031152        -0.683422          -0.577761        -0.577350   \n",
       "3        0.969789        -0.985396          -0.577761        -0.577350   \n",
       "4       -1.031152        -0.868375          -0.577761         1.732051   \n",
       "\n",
       "   Gender_Male  \n",
       "0     0.911867  \n",
       "1     0.911867  \n",
       "2    -1.096651  \n",
       "3     0.911867  \n",
       "4     0.911867  "
      ]
     },
     "execution_count": 10,
     "metadata": {},
     "output_type": "execute_result"
    }
   ],
   "source": [
    "X_train.head()"
   ]
  },
  {
   "cell_type": "markdown",
   "metadata": {},
   "source": [
    "#### Build Artificial Nerual Network"
   ]
  },
  {
   "cell_type": "code",
   "execution_count": 66,
   "metadata": {},
   "outputs": [],
   "source": [
    "import keras"
   ]
  },
  {
   "cell_type": "code",
   "execution_count": 75,
   "metadata": {},
   "outputs": [],
   "source": [
    "from keras.models import Sequential\n",
    "from keras.layers import Dense, Dropout"
   ]
  },
  {
   "cell_type": "code",
   "execution_count": 13,
   "metadata": {},
   "outputs": [],
   "source": [
    "# Define ANN as a sequence of layers\n",
    "classifier = Sequential()"
   ]
  },
  {
   "cell_type": "code",
   "execution_count": 14,
   "metadata": {},
   "outputs": [
    {
     "name": "stderr",
     "output_type": "stream",
     "text": [
      "C:\\Users\\scott\\Anaconda3\\lib\\site-packages\\ipykernel_launcher.py:8: UserWarning: Update your `Dense` call to the Keras 2 API: `Dense(activation=\"relu\", input_dim=11, units=6, kernel_initializer=\"uniform\")`\n",
      "  \n"
     ]
    }
   ],
   "source": [
    "# .add allows you to add a hidden layer to the sequence of layers with dropout\n",
    "\n",
    "# output_dim is the number of nodes in hidden layer\n",
    "    # Rule-of-Thumb is N in input + N in output divided by 2\n",
    "# init is the initial weight values\n",
    "# activation is activation function\n",
    "# input_dim is the number of input nodes\n",
    "classifier.add( Dense( output_dim = 6, init = 'uniform', activation = 'relu', input_dim = 11 ) )\n",
    "classifier.add( Dropout( p = 0.1 ) )"
   ]
  },
  {
   "cell_type": "code",
   "execution_count": 15,
   "metadata": {},
   "outputs": [
    {
     "name": "stderr",
     "output_type": "stream",
     "text": [
      "C:\\Users\\scott\\Anaconda3\\lib\\site-packages\\ipykernel_launcher.py:2: UserWarning: Update your `Dense` call to the Keras 2 API: `Dense(activation=\"relu\", units=6, kernel_initializer=\"uniform\")`\n",
      "  \n"
     ]
    }
   ],
   "source": [
    "# Add an additional hidden layer\n",
    "classifier.add( Dense( output_dim = 6, init = 'uniform', activation = 'relu' ) )\n",
    "classifier.add( Dropout( p = 0.1 ) )"
   ]
  },
  {
   "cell_type": "code",
   "execution_count": 16,
   "metadata": {},
   "outputs": [
    {
     "name": "stderr",
     "output_type": "stream",
     "text": [
      "C:\\Users\\scott\\Anaconda3\\lib\\site-packages\\ipykernel_launcher.py:2: UserWarning: Update your `Dense` call to the Keras 2 API: `Dense(activation=\"sigmoid\", units=1, kernel_initializer=\"uniform\")`\n",
      "  \n"
     ]
    }
   ],
   "source": [
    "# Add the outpur layer\n",
    "classifier.add( Dense( output_dim = 1, init = 'uniform', activation = 'sigmoid' ) )"
   ]
  },
  {
   "cell_type": "code",
   "execution_count": 17,
   "metadata": {},
   "outputs": [],
   "source": [
    "# Compile ANN with Stochastic Gradient Descent\n",
    "\n",
    "# optimizer = algorithm to use to find optimum weights\n",
    "# loss = loss function in sgd algorithm\n",
    "# metrics = criterion used to eval model\n",
    "classifier.compile( optimizer = 'adam', loss = 'binary_crossentropy', metrics = [ 'accuracy' ] )"
   ]
  },
  {
   "cell_type": "code",
   "execution_count": 19,
   "metadata": {},
   "outputs": [
    {
     "name": "stdout",
     "output_type": "stream",
     "text": [
      "Epoch 1/100\n",
      "7500/7500 [==============================] - 1s 108us/step - loss: 0.4960 - acc: 0.7943\n",
      "Epoch 2/100\n",
      "7500/7500 [==============================] - 1s 67us/step - loss: 0.4316 - acc: 0.7947\n",
      "Epoch 3/100\n",
      "7500/7500 [==============================] - 0s 66us/step - loss: 0.4237 - acc: 0.8107\n",
      "Epoch 4/100\n",
      "7500/7500 [==============================] - 0s 63us/step - loss: 0.4170 - acc: 0.8316\n",
      "Epoch 5/100\n",
      "7500/7500 [==============================] - 0s 63us/step - loss: 0.4123 - acc: 0.8324\n",
      "Epoch 6/100\n",
      "7500/7500 [==============================] - 0s 62us/step - loss: 0.4090 - acc: 0.8340\n",
      "Epoch 7/100\n",
      "7500/7500 [==============================] - 0s 63us/step - loss: 0.4067 - acc: 0.8323\n",
      "Epoch 8/100\n",
      "7500/7500 [==============================] - 0s 60us/step - loss: 0.4054 - acc: 0.8307\n",
      "Epoch 9/100\n",
      "7500/7500 [==============================] - 0s 61us/step - loss: 0.4035 - acc: 0.8332\n",
      "Epoch 10/100\n",
      "7500/7500 [==============================] - 0s 63us/step - loss: 0.4031 - acc: 0.8327\n",
      "Epoch 11/100\n",
      "7500/7500 [==============================] - 1s 73us/step - loss: 0.4013 - acc: 0.8344\n",
      "Epoch 12/100\n",
      "7500/7500 [==============================] - 0s 61us/step - loss: 0.4017 - acc: 0.8343\n",
      "Epoch 13/100\n",
      "7500/7500 [==============================] - 0s 61us/step - loss: 0.4009 - acc: 0.8336\n",
      "Epoch 14/100\n",
      "7500/7500 [==============================] - 0s 62us/step - loss: 0.3998 - acc: 0.8340\n",
      "Epoch 15/100\n",
      "7500/7500 [==============================] - 0s 61us/step - loss: 0.4002 - acc: 0.8332\n",
      "Epoch 16/100\n",
      "7500/7500 [==============================] - 0s 61us/step - loss: 0.3989 - acc: 0.8344\n",
      "Epoch 17/100\n",
      "7500/7500 [==============================] - 0s 60us/step - loss: 0.3997 - acc: 0.8332\n",
      "Epoch 18/100\n",
      "7500/7500 [==============================] - 0s 62us/step - loss: 0.3992 - acc: 0.8348\n",
      "Epoch 19/100\n",
      "7500/7500 [==============================] - 0s 63us/step - loss: 0.3984 - acc: 0.8352\n",
      "Epoch 20/100\n",
      "7500/7500 [==============================] - 0s 62us/step - loss: 0.3986 - acc: 0.8341\n",
      "Epoch 21/100\n",
      "7500/7500 [==============================] - 0s 61us/step - loss: 0.3985 - acc: 0.8343\n",
      "Epoch 22/100\n",
      "7500/7500 [==============================] - 0s 62us/step - loss: 0.3979 - acc: 0.8333\n",
      "Epoch 23/100\n",
      "7500/7500 [==============================] - 0s 63us/step - loss: 0.3982 - acc: 0.8351\n",
      "Epoch 24/100\n",
      "7500/7500 [==============================] - 0s 63us/step - loss: 0.3973 - acc: 0.8353\n",
      "Epoch 25/100\n",
      "7500/7500 [==============================] - 0s 62us/step - loss: 0.3972 - acc: 0.8369\n",
      "Epoch 26/100\n",
      "7500/7500 [==============================] - 0s 63us/step - loss: 0.3971 - acc: 0.8351\n",
      "Epoch 27/100\n",
      "7500/7500 [==============================] - 0s 63us/step - loss: 0.3965 - acc: 0.8359\n",
      "Epoch 28/100\n",
      "7500/7500 [==============================] - 0s 62us/step - loss: 0.3961 - acc: 0.8337\n",
      "Epoch 29/100\n",
      "7500/7500 [==============================] - 0s 61us/step - loss: 0.3952 - acc: 0.8377\n",
      "Epoch 30/100\n",
      "7500/7500 [==============================] - 0s 62us/step - loss: 0.3948 - acc: 0.8360\n",
      "Epoch 31/100\n",
      "7500/7500 [==============================] - 0s 63us/step - loss: 0.3934 - acc: 0.8361\n",
      "Epoch 32/100\n",
      "7500/7500 [==============================] - 0s 64us/step - loss: 0.3926 - acc: 0.8373\n",
      "Epoch 33/100\n",
      "7500/7500 [==============================] - 0s 62us/step - loss: 0.3903 - acc: 0.8385\n",
      "Epoch 34/100\n",
      "7500/7500 [==============================] - 0s 62us/step - loss: 0.3882 - acc: 0.8387\n",
      "Epoch 35/100\n",
      "7500/7500 [==============================] - 0s 63us/step - loss: 0.3850 - acc: 0.8401\n",
      "Epoch 36/100\n",
      "7500/7500 [==============================] - 0s 63us/step - loss: 0.3814 - acc: 0.8423\n",
      "Epoch 37/100\n",
      "7500/7500 [==============================] - 0s 62us/step - loss: 0.3787 - acc: 0.8400\n",
      "Epoch 38/100\n",
      "7500/7500 [==============================] - 0s 61us/step - loss: 0.3768 - acc: 0.8413\n",
      "Epoch 39/100\n",
      "7500/7500 [==============================] - 0s 63us/step - loss: 0.3744 - acc: 0.8423\n",
      "Epoch 40/100\n",
      "7500/7500 [==============================] - 0s 64us/step - loss: 0.3724 - acc: 0.8444\n",
      "Epoch 41/100\n",
      "7500/7500 [==============================] - 0s 64us/step - loss: 0.3707 - acc: 0.8407\n",
      "Epoch 42/100\n",
      "7500/7500 [==============================] - 0s 63us/step - loss: 0.3686 - acc: 0.8445\n",
      "Epoch 43/100\n",
      "7500/7500 [==============================] - 0s 63us/step - loss: 0.3663 - acc: 0.8455\n",
      "Epoch 44/100\n",
      "7500/7500 [==============================] - 0s 64us/step - loss: 0.3645 - acc: 0.8467\n",
      "Epoch 45/100\n",
      "7500/7500 [==============================] - 0s 63us/step - loss: 0.3620 - acc: 0.8475\n",
      "Epoch 46/100\n",
      "7500/7500 [==============================] - 0s 62us/step - loss: 0.3597 - acc: 0.8499\n",
      "Epoch 47/100\n",
      "7500/7500 [==============================] - 0s 64us/step - loss: 0.3579 - acc: 0.8484\n",
      "Epoch 48/100\n",
      "7500/7500 [==============================] - 0s 63us/step - loss: 0.3554 - acc: 0.8509\n",
      "Epoch 49/100\n",
      "7500/7500 [==============================] - 0s 64us/step - loss: 0.3543 - acc: 0.8528\n",
      "Epoch 50/100\n",
      "7500/7500 [==============================] - 0s 63us/step - loss: 0.3541 - acc: 0.8507\n",
      "Epoch 51/100\n",
      "7500/7500 [==============================] - 0s 62us/step - loss: 0.3514 - acc: 0.8520\n",
      "Epoch 52/100\n",
      "7500/7500 [==============================] - 0s 63us/step - loss: 0.3511 - acc: 0.8521\n",
      "Epoch 53/100\n",
      "7500/7500 [==============================] - 0s 63us/step - loss: 0.3516 - acc: 0.8523\n",
      "Epoch 54/100\n",
      "7500/7500 [==============================] - 0s 64us/step - loss: 0.3495 - acc: 0.8540\n",
      "Epoch 55/100\n",
      "7500/7500 [==============================] - 0s 62us/step - loss: 0.3494 - acc: 0.8529\n",
      "Epoch 56/100\n",
      "7500/7500 [==============================] - 0s 65us/step - loss: 0.3490 - acc: 0.8539\n",
      "Epoch 57/100\n",
      "7500/7500 [==============================] - 0s 64us/step - loss: 0.3481 - acc: 0.8547\n",
      "Epoch 58/100\n",
      "7500/7500 [==============================] - 0s 64us/step - loss: 0.3480 - acc: 0.8529\n",
      "Epoch 59/100\n",
      "7500/7500 [==============================] - 0s 62us/step - loss: 0.3470 - acc: 0.8547\n",
      "Epoch 60/100\n",
      "7500/7500 [==============================] - 0s 63us/step - loss: 0.3472 - acc: 0.8513\n",
      "Epoch 61/100\n",
      "7500/7500 [==============================] - 0s 64us/step - loss: 0.3466 - acc: 0.8568\n",
      "Epoch 62/100\n",
      "7500/7500 [==============================] - 0s 64us/step - loss: 0.3465 - acc: 0.8548\n",
      "Epoch 63/100\n",
      "7500/7500 [==============================] - 0s 63us/step - loss: 0.3458 - acc: 0.8561\n",
      "Epoch 64/100\n",
      "7500/7500 [==============================] - 0s 64us/step - loss: 0.3444 - acc: 0.8551\n",
      "Epoch 65/100\n",
      "7500/7500 [==============================] - 0s 64us/step - loss: 0.3439 - acc: 0.8563\n",
      "Epoch 66/100\n",
      "7500/7500 [==============================] - 0s 64us/step - loss: 0.3447 - acc: 0.8567\n",
      "Epoch 67/100\n",
      "7500/7500 [==============================] - 0s 62us/step - loss: 0.3446 - acc: 0.8561\n",
      "Epoch 68/100\n",
      "7500/7500 [==============================] - 0s 64us/step - loss: 0.3440 - acc: 0.8561\n",
      "Epoch 69/100\n",
      "7500/7500 [==============================] - 0s 64us/step - loss: 0.3441 - acc: 0.8577\n",
      "Epoch 70/100\n",
      "7500/7500 [==============================] - 0s 64us/step - loss: 0.3434 - acc: 0.8583\n",
      "Epoch 71/100\n",
      "7500/7500 [==============================] - 0s 63us/step - loss: 0.3440 - acc: 0.8568\n",
      "Epoch 72/100\n",
      "7500/7500 [==============================] - 0s 63us/step - loss: 0.3443 - acc: 0.8580\n",
      "Epoch 73/100\n",
      "7500/7500 [==============================] - 0s 64us/step - loss: 0.3436 - acc: 0.8565\n",
      "Epoch 74/100\n",
      "7500/7500 [==============================] - 0s 64us/step - loss: 0.3440 - acc: 0.8557\n",
      "Epoch 75/100\n",
      "7500/7500 [==============================] - 0s 62us/step - loss: 0.3426 - acc: 0.8539\n",
      "Epoch 76/100\n",
      "7500/7500 [==============================] - 0s 63us/step - loss: 0.3439 - acc: 0.8564\n",
      "Epoch 77/100\n",
      "7500/7500 [==============================] - 0s 64us/step - loss: 0.3427 - acc: 0.8552\n",
      "Epoch 78/100\n",
      "7500/7500 [==============================] - 0s 65us/step - loss: 0.3434 - acc: 0.8565\n",
      "Epoch 79/100\n",
      "7500/7500 [==============================] - 0s 64us/step - loss: 0.3427 - acc: 0.8559\n",
      "Epoch 80/100\n",
      "7500/7500 [==============================] - 0s 63us/step - loss: 0.3432 - acc: 0.8580\n",
      "Epoch 81/100\n",
      "7500/7500 [==============================] - 0s 64us/step - loss: 0.3434 - acc: 0.8551\n",
      "Epoch 82/100\n",
      "7500/7500 [==============================] - 0s 64us/step - loss: 0.3430 - acc: 0.8557\n",
      "Epoch 83/100\n"
     ]
    },
    {
     "name": "stdout",
     "output_type": "stream",
     "text": [
      "7500/7500 [==============================] - 0s 59us/step - loss: 0.3414 - acc: 0.8601\n",
      "Epoch 84/100\n",
      "7500/7500 [==============================] - 0s 57us/step - loss: 0.3425 - acc: 0.8565\n",
      "Epoch 85/100\n",
      "7500/7500 [==============================] - 0s 59us/step - loss: 0.3413 - acc: 0.8567\n",
      "Epoch 86/100\n",
      "7500/7500 [==============================] - 0s 59us/step - loss: 0.3419 - acc: 0.8577\n",
      "Epoch 87/100\n",
      "7500/7500 [==============================] - 0s 58us/step - loss: 0.3429 - acc: 0.8565\n",
      "Epoch 88/100\n",
      "7500/7500 [==============================] - 0s 58us/step - loss: 0.3434 - acc: 0.8544\n",
      "Epoch 89/100\n",
      "7500/7500 [==============================] - 0s 57us/step - loss: 0.3421 - acc: 0.8583\n",
      "Epoch 90/100\n",
      "7500/7500 [==============================] - 0s 58us/step - loss: 0.3418 - acc: 0.8577\n",
      "Epoch 91/100\n",
      "7500/7500 [==============================] - 0s 59us/step - loss: 0.3423 - acc: 0.8576\n",
      "Epoch 92/100\n",
      "7500/7500 [==============================] - 0s 59us/step - loss: 0.3435 - acc: 0.8569\n",
      "Epoch 93/100\n",
      "7500/7500 [==============================] - 0s 58us/step - loss: 0.3421 - acc: 0.8587\n",
      "Epoch 94/100\n",
      "7500/7500 [==============================] - 0s 59us/step - loss: 0.3411 - acc: 0.8579\n",
      "Epoch 95/100\n",
      "7500/7500 [==============================] - 0s 58us/step - loss: 0.3419 - acc: 0.8585\n",
      "Epoch 96/100\n",
      "7500/7500 [==============================] - 0s 58us/step - loss: 0.3424 - acc: 0.8545\n",
      "Epoch 97/100\n",
      "7500/7500 [==============================] - 0s 58us/step - loss: 0.3410 - acc: 0.8576\n",
      "Epoch 98/100\n",
      "7500/7500 [==============================] - 0s 57us/step - loss: 0.3406 - acc: 0.8587\n",
      "Epoch 99/100\n",
      "7500/7500 [==============================] - 0s 58us/step - loss: 0.3418 - acc: 0.8565\n",
      "Epoch 100/100\n",
      "7500/7500 [==============================] - 0s 59us/step - loss: 0.3414 - acc: 0.8584\n"
     ]
    },
    {
     "data": {
      "text/plain": [
       "<keras.callbacks.History at 0x23ae9ab3518>"
      ]
     },
     "execution_count": 19,
     "metadata": {},
     "output_type": "execute_result"
    }
   ],
   "source": [
    "classifier.fit( X_train, y_train, batch_size = 10, epochs = 100 )"
   ]
  },
  {
   "cell_type": "code",
   "execution_count": 25,
   "metadata": {},
   "outputs": [],
   "source": [
    "y_pred = classifier.predict( X_test )"
   ]
  },
  {
   "cell_type": "code",
   "execution_count": 29,
   "metadata": {},
   "outputs": [],
   "source": [
    "y_pred = ( y_pred > 0.5 )"
   ]
  },
  {
   "cell_type": "code",
   "execution_count": 30,
   "metadata": {},
   "outputs": [],
   "source": [
    "from sklearn.metrics import confusion_matrix, classification_report"
   ]
  },
  {
   "cell_type": "code",
   "execution_count": 31,
   "metadata": {},
   "outputs": [
    {
     "name": "stdout",
     "output_type": "stream",
     "text": [
      "[[1900  103]\n",
      " [ 255  242]]\n"
     ]
    }
   ],
   "source": [
    "print( confusion_matrix( y_test, y_pred ) )"
   ]
  },
  {
   "cell_type": "code",
   "execution_count": 32,
   "metadata": {},
   "outputs": [
    {
     "name": "stdout",
     "output_type": "stream",
     "text": [
      "              precision    recall  f1-score   support\n",
      "\n",
      "           0       0.88      0.95      0.91      2003\n",
      "           1       0.70      0.49      0.57       497\n",
      "\n",
      "   micro avg       0.86      0.86      0.86      2500\n",
      "   macro avg       0.79      0.72      0.74      2500\n",
      "weighted avg       0.85      0.86      0.85      2500\n",
      "\n"
     ]
    }
   ],
   "source": [
    "print( classification_report( y_test, y_pred ) )"
   ]
  },
  {
   "cell_type": "markdown",
   "metadata": {},
   "source": [
    "#### Make New Prediction with Model"
   ]
  },
  {
   "cell_type": "code",
   "execution_count": 50,
   "metadata": {},
   "outputs": [],
   "source": [
    "new_customer = np.array( [ [ \n",
    "    0, \n",
    "    0,\n",
    "    600,\n",
    "    1,\n",
    "    40,\n",
    "    3,\n",
    "    60000,\n",
    "    2,\n",
    "    1,\n",
    "    1,\n",
    "    50000\n",
    "] ] )"
   ]
  },
  {
   "cell_type": "code",
   "execution_count": 51,
   "metadata": {},
   "outputs": [
    {
     "name": "stderr",
     "output_type": "stream",
     "text": [
      "C:\\Users\\scott\\Anaconda3\\lib\\site-packages\\sklearn\\utils\\validation.py:595: DataConversionWarning: Data with input dtype int32 was converted to float64 by StandardScaler.\n",
      "  warnings.warn(msg, DataConversionWarning)\n"
     ]
    },
    {
     "data": {
      "text/plain": [
       "array([[-6.77373543e+00, -3.70316394e+00,  2.06276189e+02,\n",
       "        -1.22101127e+00,  6.63309916e+01,  5.02785785e+00,\n",
       "         1.20055435e+05, -1.74871668e+00,  1.73082000e+00,\n",
       "         1.73205081e+00,  1.00424809e+05]])"
      ]
     },
     "execution_count": 51,
     "metadata": {},
     "output_type": "execute_result"
    }
   ],
   "source": [
    "scaler.transform( new_customer )"
   ]
  },
  {
   "cell_type": "code",
   "execution_count": 52,
   "metadata": {},
   "outputs": [],
   "source": [
    "new_pred = classifier.predict( new_customer )\n",
    "new_pred = ( new_pred > 0.5 )"
   ]
  },
  {
   "cell_type": "code",
   "execution_count": 53,
   "metadata": {},
   "outputs": [
    {
     "data": {
      "text/plain": [
       "array([[False]])"
      ]
     },
     "execution_count": 53,
     "metadata": {},
     "output_type": "execute_result"
    }
   ],
   "source": [
    "new_pred"
   ]
  },
  {
   "cell_type": "markdown",
   "metadata": {},
   "source": [
    "#### Evaluating the Artificial Neural Network with K-Fold Evaluation"
   ]
  },
  {
   "cell_type": "code",
   "execution_count": 76,
   "metadata": {},
   "outputs": [],
   "source": [
    "from keras.wrappers.scikit_learn import KerasClassifier\n",
    "from sklearn.model_selection     import cross_val_score, GridSearchCV"
   ]
  },
  {
   "cell_type": "code",
   "execution_count": 82,
   "metadata": {},
   "outputs": [],
   "source": [
    "def build_classifier( optimizer = 'adam' ):\n",
    "    classifier = Sequential()\n",
    "    \n",
    "    classifier.add( Dense( output_dim = 6, init = 'uniform', activation = 'relu', input_dim = 11 ) )\n",
    "    classifier.add( Dense( output_dim = 6, init = 'uniform', activation = 'relu' ) )\n",
    "    classifier.add( Dense( output_dim = 1, init = 'uniform', activation = 'sigmoid' ) )\n",
    "    classifier.compile( optimizer = optimizer, loss = 'binary_crossentropy', metrics = [ 'accuracy' ] )\n",
    "    \n",
    "    return classifier"
   ]
  },
  {
   "cell_type": "code",
   "execution_count": 83,
   "metadata": {},
   "outputs": [],
   "source": [
    "classifier = KerasClassifier( build_fn = build_classifier )"
   ]
  },
  {
   "cell_type": "code",
   "execution_count": 72,
   "metadata": {},
   "outputs": [],
   "source": [
    "accuracies = cross_val_score( estimator = classifier, X = X_train, y = y_train, cv = 10, n_jobs = -1 )"
   ]
  },
  {
   "cell_type": "code",
   "execution_count": 73,
   "metadata": {},
   "outputs": [],
   "source": [
    "mean     = accuracies.mean()\n",
    "variance = accuracies.std()"
   ]
  },
  {
   "cell_type": "code",
   "execution_count": 74,
   "metadata": {},
   "outputs": [
    {
     "name": "stdout",
     "output_type": "stream",
     "text": [
      "0.8374666617314022\n",
      "0.01765295078615336\n"
     ]
    }
   ],
   "source": [
    "print( mean )\n",
    "print( variance )"
   ]
  },
  {
   "cell_type": "markdown",
   "metadata": {},
   "source": [
    "#### Tuning Artificial Neural Network with Grid Search"
   ]
  },
  {
   "cell_type": "code",
   "execution_count": 84,
   "metadata": {},
   "outputs": [],
   "source": [
    "param_grid = {\n",
    "    'batch_size' : [ 25, 32 ],\n",
    "    'epochs'     : [ 100, 500 ],\n",
    "    'optimizer'  : [ 'adam', 'rmsprop' ]\n",
    "}"
   ]
  },
  {
   "cell_type": "code",
   "execution_count": 85,
   "metadata": {},
   "outputs": [],
   "source": [
    "grid_search = GridSearchCV( estimator  = classifier,\n",
    "                            param_grid = param_grid, \n",
    "                            scoring    = 'accuracy',\n",
    "                            cv         = 10, \n",
    "                            n_jobs     = -1 )"
   ]
  },
  {
   "cell_type": "code",
   "execution_count": 86,
   "metadata": {},
   "outputs": [],
   "source": [
    "# grid_search   = grid_search.fit( X_train, y_train )\n",
    "# best_params   = grid_search.best_params_\n",
    "# best_accuracy = grid_search.best_score_"
   ]
  }
 ],
 "metadata": {
  "kernelspec": {
   "display_name": "Python 3",
   "language": "python",
   "name": "python3"
  },
  "language_info": {
   "codemirror_mode": {
    "name": "ipython",
    "version": 3
   },
   "file_extension": ".py",
   "mimetype": "text/x-python",
   "name": "python",
   "nbconvert_exporter": "python",
   "pygments_lexer": "ipython3",
   "version": "3.6.8"
  }
 },
 "nbformat": 4,
 "nbformat_minor": 2
}
