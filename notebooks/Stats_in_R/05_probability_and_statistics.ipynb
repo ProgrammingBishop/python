{
 "cells": [
  {
   "cell_type": "markdown",
   "metadata": {},
   "source": [
    "# 5.1"
   ]
  },
  {
   "cell_type": "markdown",
   "metadata": {},
   "source": [
    "Want to know one of four things when making probabilistic statements about a distribution:\n",
    "- Density (pdf) at particular value (dname)\n",
    "- Distribution (cfd) as a particular value (pname)\n",
    "- Quantile value corresponding to a particular probability (qname)\n",
    "- Random draw of values from a particular distribution (rname)\n",
    "\n",
    "name in the above R functions symbolize the name of the distribution (i.e. dnorm). To calculate the value of the pdf at $x = 3$ (height of curve at $x = 3$) use:"
   ]
  },
  {
   "cell_type": "code",
   "execution_count": 1,
   "metadata": {},
   "outputs": [
    {
     "data": {
      "text/html": [
       "0.0782085387950912"
      ],
      "text/latex": [
       "0.0782085387950912"
      ],
      "text/markdown": [
       "0.0782085387950912"
      ],
      "text/plain": [
       "[1] 0.07820854"
      ]
     },
     "metadata": {},
     "output_type": "display_data"
    }
   ],
   "source": [
    "dnorm( x = 3, mean = 2, sd = 5 )"
   ]
  },
  {
   "cell_type": "markdown",
   "metadata": {},
   "source": [
    "To calculate the value of the cdf at $x = 3$ (that is $P(X \\le 3)$ ), the probability that $X$ is less than or equal to $3$ use:"
   ]
  },
  {
   "cell_type": "code",
   "execution_count": 2,
   "metadata": {},
   "outputs": [
    {
     "data": {
      "text/html": [
       "0.579259709439103"
      ],
      "text/latex": [
       "0.579259709439103"
      ],
      "text/markdown": [
       "0.579259709439103"
      ],
      "text/plain": [
       "[1] 0.5792597"
      ]
     },
     "metadata": {},
     "output_type": "display_data"
    }
   ],
   "source": [
    "pnorm( q = 3, mean = 2, sd = 5 )"
   ]
  },
  {
   "cell_type": "markdown",
   "metadata": {},
   "source": [
    "Or to calculate the quantile for probability $0.975$ use:"
   ]
  },
  {
   "cell_type": "code",
   "execution_count": 4,
   "metadata": {},
   "outputs": [
    {
     "data": {
      "text/html": [
       "11.7998199227003"
      ],
      "text/latex": [
       "11.7998199227003"
      ],
      "text/markdown": [
       "11.7998199227003"
      ],
      "text/plain": [
       "[1] 11.79982"
      ]
     },
     "metadata": {},
     "output_type": "display_data"
    }
   ],
   "source": [
    "qnorm( p = 0.975, mean = 2, sd = 5 )"
   ]
  },
  {
   "cell_type": "markdown",
   "metadata": {},
   "source": [
    "To generate a random sample of size $n = 10$ use:"
   ]
  },
  {
   "cell_type": "code",
   "execution_count": 5,
   "metadata": {},
   "outputs": [
    {
     "data": {
      "text/html": [
       "<ol class=list-inline>\n",
       "\t<li>1.08060453575574</li>\n",
       "\t<li>6.34156096290634</li>\n",
       "\t<li>12.3953322507071</li>\n",
       "\t<li>-4.08581870923379</li>\n",
       "\t<li>4.07222938464311</li>\n",
       "\t<li>-3.01796105469854</li>\n",
       "\t<li>4.65275683846367</li>\n",
       "\t<li>-1.83693680778062</li>\n",
       "\t<li>2.98793730328806</li>\n",
       "\t<li>-7.87777153571679</li>\n",
       "</ol>\n"
      ],
      "text/latex": [
       "\\begin{enumerate*}\n",
       "\\item 1.08060453575574\n",
       "\\item 6.34156096290634\n",
       "\\item 12.3953322507071\n",
       "\\item -4.08581870923379\n",
       "\\item 4.07222938464311\n",
       "\\item -3.01796105469854\n",
       "\\item 4.65275683846367\n",
       "\\item -1.83693680778062\n",
       "\\item 2.98793730328806\n",
       "\\item -7.87777153571679\n",
       "\\end{enumerate*}\n"
      ],
      "text/markdown": [
       "1. 1.08060453575574\n",
       "2. 6.34156096290634\n",
       "3. 12.3953322507071\n",
       "4. -4.08581870923379\n",
       "5. 4.07222938464311\n",
       "6. -3.01796105469854\n",
       "7. 4.65275683846367\n",
       "8. -1.83693680778062\n",
       "9. 2.98793730328806\n",
       "10. -7.87777153571679\n",
       "\n",
       "\n"
      ],
      "text/plain": [
       " [1]  1.080605  6.341561 12.395332 -4.085819  4.072229 -3.017961  4.652757\n",
       " [8] -1.836937  2.987937 -7.877772"
      ]
     },
     "metadata": {},
     "output_type": "display_data"
    }
   ],
   "source": [
    "rnorm( n = 10, mean = 2, sd = 5 )"
   ]
  },
  {
   "cell_type": "markdown",
   "metadata": {},
   "source": [
    "Other name beyond norm include:\n",
    "- *binom\n",
    "- *t\n",
    "- *pois\n",
    "- *f\n",
    "- *chisq\n",
    "\n",
    "where the * can be d, p, q, and r. Example of getting probability of flipping a coin $10$ times and seeing $6$ heads given the probability of heads is $0.75$ use:"
   ]
  },
  {
   "cell_type": "code",
   "execution_count": 6,
   "metadata": {},
   "outputs": [
    {
     "data": {
      "text/html": [
       "0.145998001098633"
      ],
      "text/latex": [
       "0.145998001098633"
      ],
      "text/markdown": [
       "0.145998001098633"
      ],
      "text/plain": [
       "[1] 0.145998"
      ]
     },
     "metadata": {},
     "output_type": "display_data"
    }
   ],
   "source": [
    "dbinom( x = 6, size = 10, prob = 0.75 )"
   ]
  },
  {
   "cell_type": "markdown",
   "metadata": {},
   "source": [
    "Binomial Distribution Formula:\n",
    "\n",
    "$${N \\choose y}\\ \\theta^y\\ ( 1 - \\theta )^{ N - y }$$\n",
    "\n",
    "Or formally $P( Y = 6 )$ if $Y \\sim b( n = 10, p = 0.75 )$"
   ]
  },
  {
   "cell_type": "code",
   "execution_count": 27,
   "metadata": {},
   "outputs": [
    {
     "data": {
      "text/html": [
       "0.145998001098633"
      ],
      "text/latex": [
       "0.145998001098633"
      ],
      "text/markdown": [
       "0.145998001098633"
      ],
      "text/plain": [
       "[1] 0.145998"
      ]
     },
     "metadata": {},
     "output_type": "display_data"
    }
   ],
   "source": [
    "# Can also do choose( 10, 6 )\n",
    "n_choose_y <- ( 10 * 9 * 8 * 7 * 6 * 5 ) / ( 6 * 5 * 4 * 3 * 2 * 1 )\n",
    "theta      <- 0.75\n",
    "n          <- 10\n",
    "y          <- 6\n",
    "\n",
    "n_choose_y * theta ^ y * ( 1 - theta ) ^ ( n - y )"
   ]
  },
  {
   "cell_type": "markdown",
   "metadata": {},
   "source": [
    "# 5.2"
   ]
  },
  {
   "cell_type": "markdown",
   "metadata": {},
   "source": [
    "#### Hypothesis Testing"
   ]
  },
  {
   "cell_type": "markdown",
   "metadata": {},
   "source": [
    "##### One Sample t-Test\n",
    "\n",
    "Suppose $x_i \\sim N( \\mu, \\sigma^2 )$ and we want to test $H_0: \\mu = \\mu_0$ versus $H_1: \\mu \\neq \\mu_1$. If we assume $\\sigma$ is unknown, we use one-sample $t$ statistic:\n",
    "\n",
    "$$t = \\frac{x - \\mu_0}{\\frac{s}{\\sqrt(n)}} \\sim t_{n - 1}$$\n",
    "\n",
    "where\n",
    "\n",
    "$$x = \\frac{\\sum_{i = 1}^n\\ x_i}{n}$$\n",
    "\n",
    "and\n",
    "\n",
    "$$s = \\sqrt(\\frac{1}{n - 1}\\ sum_{i = 1}^ n\\ (x_i - x)^2)$$\n",
    "\n",
    "A $100(1 - \\alpha)\\%$ confidence interval for $\\mu$ is given by:\n",
    "\n",
    "$$x \\pm t_{n - 1}( \\frac{\\alpha}{2} ) \\frac{s}{\\sqrt(n)}$$\n",
    "\n",
    "where $t_{n - 1(\\frac{\\alpha}{2})}$ is the critical value such that:\n",
    "\n",
    "$$P(t > t_{n - 1}( \\frac{\\alpha}{2} )) = \\frac{\\alpha}{2}$$ \n",
    "\n",
    "for $n -1$ degrees of freedom."
   ]
  },
  {
   "cell_type": "markdown",
   "metadata": {},
   "source": [
    "#### Example"
   ]
  },
  {
   "cell_type": "markdown",
   "metadata": {},
   "source": [
    "Suppose a grocery store sells 16 ounce boxes of cereal. A random sample of 9 boxes is taken and weighed:"
   ]
  },
  {
   "cell_type": "code",
   "execution_count": 28,
   "metadata": {},
   "outputs": [],
   "source": [
    "cereal <- data.frame( weight = c( 15.5, 16.2, 16.1, 15.8, 15.6, 16.0, 15.8, 15.9, 16.2 ) )"
   ]
  },
  {
   "cell_type": "markdown",
   "metadata": {},
   "source": [
    "The claim is a boxe weighs at least 16 ounces. Assume the weight is normally distributed and use a $0.05$ level of significance to test the claim. So:  \n",
    "- $H_0: \\mu \\ge 16$\n",
    "- $H_1: \\mu < 16$"
   ]
  },
  {
   "cell_type": "code",
   "execution_count": 29,
   "metadata": {},
   "outputs": [
    {
     "data": {
      "text/html": [
       "-1.2"
      ],
      "text/latex": [
       "-1.2"
      ],
      "text/markdown": [
       "-1.2"
      ],
      "text/plain": [
       "[1] -1.2"
      ]
     },
     "metadata": {},
     "output_type": "display_data"
    }
   ],
   "source": [
    "x_bar <- mean( cereal$weight )\n",
    "s     <- sd( cereal$weight )\n",
    "mu_0  <- 16\n",
    "n     <- 9\n",
    "\n",
    "t <- ( x_bar - mu_0 ) / ( s / sqrt( n ) )\n",
    "t"
   ]
  },
  {
   "cell_type": "markdown",
   "metadata": {},
   "source": [
    "Under the null hypothesis the test statistic has a $t$ distribution with $n - 1$ degrees of freedom, which is 8 in this case. Let's get the p-value of the test. Since this is a one-sided test with a less-than alternative,, we need the area to the left of $-1.2$ for a $t$ distribution with $8$ degrees of freedom:\n",
    "\n",
    "$$P( t_8 < -1.2 )$$"
   ]
  },
  {
   "cell_type": "code",
   "execution_count": 30,
   "metadata": {},
   "outputs": [
    {
     "data": {
      "text/html": [
       "0.132233552600909"
      ],
      "text/latex": [
       "0.132233552600909"
      ],
      "text/markdown": [
       "0.132233552600909"
      ],
      "text/plain": [
       "[1] 0.1322336"
      ]
     },
     "metadata": {},
     "output_type": "display_data"
    }
   ],
   "source": [
    "pt( t, df = n - 1 )"
   ]
  },
  {
   "cell_type": "markdown",
   "metadata": {},
   "source": [
    "The p-value is greater than our significance level of $0.05$, so we fail to reject the null hypothesis. A more condensed way to run the test in R is as follows:"
   ]
  },
  {
   "cell_type": "code",
   "execution_count": 31,
   "metadata": {},
   "outputs": [
    {
     "data": {
      "text/plain": [
       "\n",
       "\tOne Sample t-test\n",
       "\n",
       "data:  cereal\n",
       "t = -1.2, df = 8, p-value = 0.1322\n",
       "alternative hypothesis: true mean is less than 16\n",
       "95 percent confidence interval:\n",
       "     -Inf 16.05496\n",
       "sample estimates:\n",
       "mean of x \n",
       "     15.9 \n"
      ]
     },
     "metadata": {},
     "output_type": "display_data"
    }
   ],
   "source": [
    "t.test( x = cereal, mu = 16, alternative = c('less'), conf.level = 0.95 )"
   ]
  },
  {
   "cell_type": "code",
   "execution_count": 33,
   "metadata": {},
   "outputs": [],
   "source": [
    "# For Two Sided Test\n",
    "cereal_results <- t.test( x = cereal, mu = 16, alternative = c('two.sided'), conf.level = 0.95 )"
   ]
  },
  {
   "cell_type": "code",
   "execution_count": 34,
   "metadata": {},
   "outputs": [
    {
     "data": {
      "text/html": [
       "<ol class=list-inline>\n",
       "\t<li>'statistic'</li>\n",
       "\t<li>'parameter'</li>\n",
       "\t<li>'p.value'</li>\n",
       "\t<li>'conf.int'</li>\n",
       "\t<li>'estimate'</li>\n",
       "\t<li>'null.value'</li>\n",
       "\t<li>'alternative'</li>\n",
       "\t<li>'method'</li>\n",
       "\t<li>'data.name'</li>\n",
       "</ol>\n"
      ],
      "text/latex": [
       "\\begin{enumerate*}\n",
       "\\item 'statistic'\n",
       "\\item 'parameter'\n",
       "\\item 'p.value'\n",
       "\\item 'conf.int'\n",
       "\\item 'estimate'\n",
       "\\item 'null.value'\n",
       "\\item 'alternative'\n",
       "\\item 'method'\n",
       "\\item 'data.name'\n",
       "\\end{enumerate*}\n"
      ],
      "text/markdown": [
       "1. 'statistic'\n",
       "2. 'parameter'\n",
       "3. 'p.value'\n",
       "4. 'conf.int'\n",
       "5. 'estimate'\n",
       "6. 'null.value'\n",
       "7. 'alternative'\n",
       "8. 'method'\n",
       "9. 'data.name'\n",
       "\n",
       "\n"
      ],
      "text/plain": [
       "[1] \"statistic\"   \"parameter\"   \"p.value\"     \"conf.int\"    \"estimate\"   \n",
       "[6] \"null.value\"  \"alternative\" \"method\"      \"data.name\"  "
      ]
     },
     "metadata": {},
     "output_type": "display_data"
    }
   ],
   "source": [
    "names( cereal_results )"
   ]
  },
  {
   "cell_type": "code",
   "execution_count": 35,
   "metadata": {},
   "outputs": [
    {
     "data": {
      "text/html": [
       "<ol class=list-inline>\n",
       "\t<li>15.707832988733</li>\n",
       "\t<li>16.092167011267</li>\n",
       "</ol>\n"
      ],
      "text/latex": [
       "\\begin{enumerate*}\n",
       "\\item 15.707832988733\n",
       "\\item 16.092167011267\n",
       "\\end{enumerate*}\n"
      ],
      "text/markdown": [
       "1. 15.707832988733\n",
       "2. 16.092167011267\n",
       "\n",
       "\n"
      ],
      "text/plain": [
       "[1] 15.70783 16.09217\n",
       "attr(,\"conf.level\")\n",
       "[1] 0.95"
      ]
     },
     "metadata": {},
     "output_type": "display_data"
    }
   ],
   "source": [
    "cereal_results$conf.int"
   ]
  },
  {
   "cell_type": "markdown",
   "metadata": {},
   "source": [
    "Let us check this by hand, but first we need to get the critical value:\n",
    "\n",
    "$$t_{n - 1}(\\frac{\\alpha}{2} ) = t_8( 0.025 )$$ "
   ]
  },
  {
   "cell_type": "code",
   "execution_count": 36,
   "metadata": {},
   "outputs": [
    {
     "data": {
      "text/html": [
       "2.30600413520417"
      ],
      "text/latex": [
       "2.30600413520417"
      ],
      "text/markdown": [
       "2.30600413520417"
      ],
      "text/plain": [
       "[1] 2.306004"
      ]
     },
     "metadata": {},
     "output_type": "display_data"
    }
   ],
   "source": [
    "qt( 0.975, df = 8 )"
   ]
  },
  {
   "cell_type": "markdown",
   "metadata": {},
   "source": [
    "Now plug into formula:\n",
    "\n",
    "$$x \\pm t_{n - 1}( \\frac{\\alpha}{2} ) \\frac{s}{\\sqrt(n)}$$"
   ]
  },
  {
   "cell_type": "code",
   "execution_count": 43,
   "metadata": {},
   "outputs": [
    {
     "data": {
      "text/html": [
       "<ol class=list-inline>\n",
       "\t<li>15.707832988733</li>\n",
       "\t<li>16.092167011267</li>\n",
       "</ol>\n"
      ],
      "text/latex": [
       "\\begin{enumerate*}\n",
       "\\item 15.707832988733\n",
       "\\item 16.092167011267\n",
       "\\end{enumerate*}\n"
      ],
      "text/markdown": [
       "1. 15.707832988733\n",
       "2. 16.092167011267\n",
       "\n",
       "\n"
      ],
      "text/plain": [
       "[1] 15.70783 16.09217"
      ]
     },
     "metadata": {},
     "output_type": "display_data"
    }
   ],
   "source": [
    "c( \n",
    "    mean( cereal$weight ) - qt( 0.975, df = 8 ) * sd( cereal$weight ) / sqrt(9), \n",
    "    mean( cereal$weight ) + qt( 0.975, df = 8 ) * sd( cereal$weight ) / sqrt(9)\n",
    ")"
   ]
  },
  {
   "cell_type": "markdown",
   "metadata": {},
   "source": [
    "#### Two-Sample t-Test"
   ]
  },
  {
   "cell_type": "markdown",
   "metadata": {},
   "source": [
    "Suppose:\n",
    "- $x_i \\sim N(\\mu_x, \\sigma^2)$\n",
    "- $y_i \\sim N(\\mu_y, \\sigma^2)$\n",
    "\n",
    "We want to test:\n",
    "- $H_0: \\mu_x - \\mu_y = \\mu_0$\n",
    "- $H_1: \\mu_x - \\mu_y \\neq \\mu_0$\n",
    "\n",
    "If $\\sigma$ is unknown, then the two-sample t-test statistic:\n",
    "\n",
    "$$t = \\frac{(\\bar x - \\bar y) - \\mu_0}{s_p \\sqrt(\\frac{1}{n} + \\frac{1}{m})} \\sim t_{n + m - 2}$$\n",
    "\n",
    "where:\n",
    "\n",
    "$$\\bar x = \\frac{\\sum_{i = 1}^ n\\ x_i}{n}, \\bar y = \\frac{\\sum_{i = 1}^m}{m}, s_p^2 = \\frac{(n - 1)s_x^2 + (m - 1)s^2_y}{n + m - 2}$$\n",
    "\n",
    "where:\n",
    "\n",
    "$$t_{n + m - 2(\\frac{\\alpha}{2})}$$\n",
    "\n",
    "is a critical value such that $P(t > t_{n + m - 2(\\frac{\\alpha}{2})}) = \\frac{\\alpha}{2}$"
   ]
  },
  {
   "cell_type": "markdown",
   "metadata": {},
   "source": [
    "#### Example"
   ]
  },
  {
   "cell_type": "markdown",
   "metadata": {},
   "source": [
    "Given $n = 6$ observations of $X$ and $m = 8$ observations of $Y$"
   ]
  },
  {
   "cell_type": "code",
   "execution_count": 46,
   "metadata": {},
   "outputs": [],
   "source": [
    "x <- c( 70, 82, 78, 74, 94, 82 )\n",
    "n <- length( x )\n",
    "\n",
    "y <- c( 64, 72, 60, 76, 72, 80, 84, 68 )\n",
    "m <- length( y )"
   ]
  },
  {
   "cell_type": "markdown",
   "metadata": {},
   "source": [
    "Test:\n",
    "- $H_0: \\mu_1 = \\mu_2$\n",
    "- $H_1: \\mu_1 > \\mu_2$"
   ]
  },
  {
   "cell_type": "code",
   "execution_count": 47,
   "metadata": {},
   "outputs": [],
   "source": [
    "x_bar <- mean(x)\n",
    "s_x   <- sd(x)\n",
    "\n",
    "y_bar <- mean(y)\n",
    "s_y   <- sd(y)"
   ]
  },
  {
   "cell_type": "markdown",
   "metadata": {},
   "source": [
    "Now calculate the pooled standard deviation:"
   ]
  },
  {
   "cell_type": "code",
   "execution_count": 48,
   "metadata": {},
   "outputs": [],
   "source": [
    "s_p <- sqrt( ( ( n - 1 ) * s_x ^ 2 + ( m - 1 ) * s_y ^ 2 ) / ( n + m - 2 ) )"
   ]
  },
  {
   "cell_type": "markdown",
   "metadata": {},
   "source": [
    "And the test statistic is"
   ]
  },
  {
   "cell_type": "code",
   "execution_count": 49,
   "metadata": {},
   "outputs": [
    {
     "data": {
      "text/html": [
       "1.82336922335421"
      ],
      "text/latex": [
       "1.82336922335421"
      ],
      "text/markdown": [
       "1.82336922335421"
      ],
      "text/plain": [
       "[1] 1.823369"
      ]
     },
     "metadata": {},
     "output_type": "display_data"
    }
   ],
   "source": [
    "t <- ( ( x_bar - y_bar ) - 0 ) / ( s_p * sqrt( 1 / n + 1 / m ) )\n",
    "t"
   ]
  },
  {
   "cell_type": "markdown",
   "metadata": {},
   "source": [
    "Now calculate the p-value"
   ]
  },
  {
   "cell_type": "code",
   "execution_count": 50,
   "metadata": {},
   "outputs": [
    {
     "data": {
      "text/html": [
       "0.0466196099841378"
      ],
      "text/latex": [
       "0.0466196099841378"
      ],
      "text/markdown": [
       "0.0466196099841378"
      ],
      "text/plain": [
       "[1] 0.04661961"
      ]
     },
     "metadata": {},
     "output_type": "display_data"
    }
   ],
   "source": [
    "1 - pt( t, df = n + m - 2 )"
   ]
  },
  {
   "cell_type": "markdown",
   "metadata": {},
   "source": [
    "Or shortcut"
   ]
  },
  {
   "cell_type": "code",
   "execution_count": 51,
   "metadata": {},
   "outputs": [
    {
     "data": {
      "text/plain": [
       "\n",
       "\tTwo Sample t-test\n",
       "\n",
       "data:  x and y\n",
       "t = 1.8234, df = 12, p-value = 0.04662\n",
       "alternative hypothesis: true difference in means is greater than 0\n",
       "95 percent confidence interval:\n",
       " 0.1802451       Inf\n",
       "sample estimates:\n",
       "mean of x mean of y \n",
       "       80        72 \n"
      ]
     },
     "metadata": {},
     "output_type": "display_data"
    }
   ],
   "source": [
    "t.test( x, y, alternative = c( 'greater' ), var.equal = TRUE )"
   ]
  },
  {
   "cell_type": "markdown",
   "metadata": {},
   "source": [
    "# Simulation"
   ]
  },
  {
   "cell_type": "markdown",
   "metadata": {},
   "source": [
    "Simulation and Model fitting are related, but opposites:\n",
    "- Simulation: data generating process is known. Know form of the model as well as the value of each of the parameters. Control the distribution and parameters which define the randomness, or noise in the data.\n",
    "- Model Fitting: data is known. Assume a certain form of the model and find the best possible values of the parameters given the observed data. Seeking to uncover the truth. Often attempt to fit many models, and we will learn metrics to assess which model fits best."
   ]
  },
  {
   "cell_type": "markdown",
   "metadata": {},
   "source": [
    "#### Paired Differences"
   ]
  },
  {
   "cell_type": "markdown",
   "metadata": {},
   "source": [
    "Consider the model:\n",
    "- $X_{11}, ..., X_{1n} \\sim N(\\mu_1, \\sigma^2)$\n",
    "- $X_{21}, ..., X_{2n} \\sim N(\\mu_2, \\sigma^2)$\n",
    "\n",
    "Assume $\\mu_1 = 6$, $\\mu_2 = 5$, $\\sigma^2 = 4$, and $n = 25$. Also let $D = X_1 - X_2$. Suppose we would like to calculate $P(0 < D < 2)$. First we will need to obtain the distribution of $D$.\n",
    "\n",
    "$$D = \\bar X_1 - \\bar X_2 \\sim N(\\mu_1 - \\mu_2, \\frac{\\sigma^2}{n} + \\frac{\\sigma^2}{n}) = N(6 - 5, \\frac{4}{25} + \\frac{4}{25})$$\n",
    "\n",
    "In other words:\n",
    "\n",
    "$$D \\sim N(\\mu = 1, \\sigma^2 = 0.32)$$\n",
    "\n",
    "and thus:\n",
    "\n",
    "$$P(0 < D < 2) = P(D < 2) - P(D < 0)$$\n",
    "\n",
    "Using R:"
   ]
  },
  {
   "cell_type": "code",
   "execution_count": 54,
   "metadata": {},
   "outputs": [
    {
     "data": {
      "text/html": [
       "0.922900128256458"
      ],
      "text/latex": [
       "0.922900128256458"
      ],
      "text/markdown": [
       "0.922900128256458"
      ],
      "text/plain": [
       "[1] 0.9229001"
      ]
     },
     "metadata": {},
     "output_type": "display_data"
    }
   ],
   "source": [
    "pnorm( 2, mean = 1, sd = sqrt( 0.32 ) ) - pnorm( 0, mean = 1, sd = sqrt( 0.32 ) )"
   ]
  },
  {
   "cell_type": "markdown",
   "metadata": {},
   "source": [
    "An alternative is to simulate a large number of observations of $D$ then use the Empirical Distribution to calculate the probability. THe strategy is to repreatedly:\n",
    "- Generata a sample of $25$ random observations from $N(\\mu_1 = 6, \\sigma^2 = 4)$ and call the mean of this $X_{1s}$\n",
    "- Generata a sample of $25$ random observations from $N(\\mu_1 = 5, \\sigma^2 = 4)$ and call the mean of this $X_{2s}$\n",
    "- Calculate the differences of the means $d_s = X_{s1} - X_{2x}$\n",
    "\n",
    "Repeat a large number of times and then use the distribution of the simulated bservations of $d_s$ as an estimate for the true distribution of $D$."
   ]
  },
  {
   "cell_type": "code",
   "execution_count": 55,
   "metadata": {},
   "outputs": [
    {
     "data": {
      "text/html": [
       "0.9214"
      ],
      "text/latex": [
       "0.9214"
      ],
      "text/markdown": [
       "0.9214"
      ],
      "text/plain": [
       "[1] 0.9214"
      ]
     },
     "metadata": {},
     "output_type": "display_data"
    }
   ],
   "source": [
    "set.seed( 19920917 )\n",
    "\n",
    "num_samples <- 10000\n",
    "differences <- rep( 0, num_samples ) # Store the d_s\n",
    "\n",
    "for ( s in 1:num_samples ) {\n",
    "    x1 <- rnorm( n = 25, mean = 6, sd = 2 )\n",
    "    x2 <- rnorm( n = 25, mean = 5, sd = 2 )\n",
    "    differences[s] = mean(x1) - mean(x2)\n",
    "}\n",
    "\n",
    "mean( 0 < differences & differences < 2 )"
   ]
  },
  {
   "cell_type": "code",
   "execution_count": 57,
   "metadata": {},
   "outputs": [
    {
     "ename": "ERROR",
     "evalue": "Error in png(tf, width, height, \"in\", pointsize, bg, res, antialias = antialias): unable to start png() device\n",
     "output_type": "error",
     "traceback": [
      "Error in png(tf, width, height, \"in\", pointsize, bg, res, antialias = antialias): unable to start png() device\nTraceback:\n"
     ]
    },
    {
     "data": {
      "text/plain": [
       "Plot with title \"Empirical Distribution of D\""
      ]
     },
     "metadata": {},
     "output_type": "display_data"
    }
   ],
   "source": [
    "hist(\n",
    "    differences,\n",
    "    breaks = 20,\n",
    "    main   = 'Empirical Distribution of D',\n",
    "    xlab   = 'Simulated Values of D',\n",
    "    col    = 'dodgerblue',\n",
    "    border = 'darkorange'\n",
    ")"
   ]
  },
  {
   "cell_type": "code",
   "execution_count": 58,
   "metadata": {},
   "outputs": [
    {
     "data": {
      "text/html": [
       "1.01142375714277"
      ],
      "text/latex": [
       "1.01142375714277"
      ],
      "text/markdown": [
       "1.01142375714277"
      ],
      "text/plain": [
       "[1] 1.011424"
      ]
     },
     "metadata": {},
     "output_type": "display_data"
    }
   ],
   "source": [
    "mean( differences )"
   ]
  },
  {
   "cell_type": "code",
   "execution_count": 59,
   "metadata": {},
   "outputs": [
    {
     "data": {
      "text/html": [
       "0.317724470869243"
      ],
      "text/latex": [
       "0.317724470869243"
      ],
      "text/markdown": [
       "0.317724470869243"
      ],
      "text/plain": [
       "[1] 0.3177245"
      ]
     },
     "metadata": {},
     "output_type": "display_data"
    }
   ],
   "source": [
    "var( differences )"
   ]
  },
  {
   "cell_type": "markdown",
   "metadata": {},
   "source": [
    "#### Distribution of Sample Mean"
   ]
  },
  {
   "cell_type": "markdown",
   "metadata": {},
   "source": [
    "Simulate for a Poisson Distribution.\n",
    "\n",
    "$$X \\sim Pois(\\mu)$$\n",
    "\n",
    "then:\n",
    "\n",
    "$$E[X] = \\mu$$\n",
    "\n",
    "and \n",
    "\n",
    "$$Var[X] = \\mu$$\n",
    "\n",
    "For a random variable $X$ with finite mean $\\mu$ and finite variance $\\sigma^2$, the central limit theorem tells us that the mean $\\bar X$ of random samples of size $n$ is approximately normal for large values of $n$. Assume $\\mu = 10$ and $n = 50$"
   ]
  },
  {
   "cell_type": "code",
   "execution_count": 60,
   "metadata": {},
   "outputs": [],
   "source": [
    "set.seed( 19920917 )\n",
    "\n",
    "mu          = 10\n",
    "sample_size = 50\n",
    "samples     = 100000\n",
    "x_bars      = rep( 0, samples )\n",
    "\n",
    "for( i in 1:samples ) {\n",
    "    x_bars[i] = mean( rpois( sample_size, lambda = mu ) )\n",
    "}"
   ]
  },
  {
   "cell_type": "markdown",
   "metadata": {},
   "source": [
    "Now compare sample statistics from the empirical distribution with their known values based on the parent distribution:"
   ]
  },
  {
   "cell_type": "code",
   "execution_count": 61,
   "metadata": {},
   "outputs": [
    {
     "data": {
      "text/html": [
       "<ol class=list-inline>\n",
       "\t<li>10.0015292</li>\n",
       "\t<li>10</li>\n",
       "</ol>\n"
      ],
      "text/latex": [
       "\\begin{enumerate*}\n",
       "\\item 10.0015292\n",
       "\\item 10\n",
       "\\end{enumerate*}\n"
      ],
      "text/markdown": [
       "1. 10.0015292\n",
       "2. 10\n",
       "\n",
       "\n"
      ],
      "text/plain": [
       "[1] 10.00153 10.00000"
      ]
     },
     "metadata": {},
     "output_type": "display_data"
    }
   ],
   "source": [
    "c( mean( x_bars ), mu )"
   ]
  },
  {
   "cell_type": "code",
   "execution_count": 62,
   "metadata": {},
   "outputs": [
    {
     "data": {
      "text/html": [
       "<ol class=list-inline>\n",
       "\t<li>0.200782645373814</li>\n",
       "\t<li>0.2</li>\n",
       "</ol>\n"
      ],
      "text/latex": [
       "\\begin{enumerate*}\n",
       "\\item 0.200782645373814\n",
       "\\item 0.2\n",
       "\\end{enumerate*}\n"
      ],
      "text/markdown": [
       "1. 0.200782645373814\n",
       "2. 0.2\n",
       "\n",
       "\n"
      ],
      "text/plain": [
       "[1] 0.2007826 0.2000000"
      ]
     },
     "metadata": {},
     "output_type": "display_data"
    }
   ],
   "source": [
    "c( var( x_bars ), mu / sample_size )"
   ]
  },
  {
   "cell_type": "code",
   "execution_count": 63,
   "metadata": {},
   "outputs": [
    {
     "data": {
      "text/html": [
       "<ol class=list-inline>\n",
       "\t<li>0.448087765257894</li>\n",
       "\t<li>0.447213595499958</li>\n",
       "</ol>\n"
      ],
      "text/latex": [
       "\\begin{enumerate*}\n",
       "\\item 0.448087765257894\n",
       "\\item 0.447213595499958\n",
       "\\end{enumerate*}\n"
      ],
      "text/markdown": [
       "1. 0.448087765257894\n",
       "2. 0.447213595499958\n",
       "\n",
       "\n"
      ],
      "text/plain": [
       "[1] 0.4480878 0.4472136"
      ]
     },
     "metadata": {},
     "output_type": "display_data"
    }
   ],
   "source": [
    "c( sd( x_bars ), sqrt( mu ) / sqrt( sample_size ) )"
   ]
  },
  {
   "cell_type": "markdown",
   "metadata": {},
   "source": [
    "Calculate the proportion of sample means that are within 2 standard deviations of the population mean:"
   ]
  },
  {
   "cell_type": "code",
   "execution_count": 65,
   "metadata": {},
   "outputs": [
    {
     "data": {
      "text/html": [
       "0.95277"
      ],
      "text/latex": [
       "0.95277"
      ],
      "text/markdown": [
       "0.95277"
      ],
      "text/plain": [
       "[1] 0.95277"
      ]
     },
     "metadata": {},
     "output_type": "display_data"
    }
   ],
   "source": [
    "mean(\n",
    "    x_bars > mu - 2 * sqrt( mu ) / sqrt( sample_size ) &\n",
    "    x_bars < mu + 2 * sqrt( mu ) / sqrt( sample_size )\n",
    ")"
   ]
  },
  {
   "cell_type": "code",
   "execution_count": null,
   "metadata": {},
   "outputs": [],
   "source": []
  }
 ],
 "metadata": {
  "kernelspec": {
   "display_name": "R",
   "language": "R",
   "name": "ir"
  },
  "language_info": {
   "codemirror_mode": "r",
   "file_extension": ".r",
   "mimetype": "text/x-r-source",
   "name": "R",
   "pygments_lexer": "r",
   "version": "3.5.1"
  }
 },
 "nbformat": 4,
 "nbformat_minor": 2
}
