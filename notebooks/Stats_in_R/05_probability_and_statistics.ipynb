{
 "cells": [
  {
   "cell_type": "markdown",
   "metadata": {},
   "source": [
    "# 5.1"
   ]
  },
  {
   "cell_type": "markdown",
   "metadata": {},
   "source": [
    "Want to know one of four things when making probabilistic statements about a distribution:\n",
    "- Density (pdf) at particular value (dname)\n",
    "- Distribution (cfd) as a particular value (pname)\n",
    "- Quantile value corresponding to a particular probability (qname)\n",
    "- Random draw of values from a particular distribution (rname)\n",
    "\n",
    "name in the above R functions symbolize the name of the distribution (i.e. dnorm). To calculate the value of the pdf at $x = 3$ (height of curve at $x = 3$) use:"
   ]
  },
  {
   "cell_type": "code",
   "execution_count": 1,
   "metadata": {},
   "outputs": [
    {
     "data": {
      "text/html": [
       "0.0782085387950912"
      ],
      "text/latex": [
       "0.0782085387950912"
      ],
      "text/markdown": [
       "0.0782085387950912"
      ],
      "text/plain": [
       "[1] 0.07820854"
      ]
     },
     "metadata": {},
     "output_type": "display_data"
    }
   ],
   "source": [
    "dnorm( x = 3, mean = 2, sd = 5 )"
   ]
  },
  {
   "cell_type": "markdown",
   "metadata": {},
   "source": [
    "To calculate the value of the cdf at $x = 3$ (that is $P(X \\le 3)$ ), the probability that $X$ is less than or equal to $3$ use:"
   ]
  },
  {
   "cell_type": "code",
   "execution_count": 2,
   "metadata": {},
   "outputs": [
    {
     "data": {
      "text/html": [
       "0.579259709439103"
      ],
      "text/latex": [
       "0.579259709439103"
      ],
      "text/markdown": [
       "0.579259709439103"
      ],
      "text/plain": [
       "[1] 0.5792597"
      ]
     },
     "metadata": {},
     "output_type": "display_data"
    }
   ],
   "source": [
    "pnorm( q = 3, mean = 2, sd = 5 )"
   ]
  },
  {
   "cell_type": "markdown",
   "metadata": {},
   "source": [
    "Or to calculate the quantile for probability $0.975$ use:"
   ]
  },
  {
   "cell_type": "code",
   "execution_count": 4,
   "metadata": {},
   "outputs": [
    {
     "data": {
      "text/html": [
       "11.7998199227003"
      ],
      "text/latex": [
       "11.7998199227003"
      ],
      "text/markdown": [
       "11.7998199227003"
      ],
      "text/plain": [
       "[1] 11.79982"
      ]
     },
     "metadata": {},
     "output_type": "display_data"
    }
   ],
   "source": [
    "qnorm( p = 0.975, mean = 2, sd = 5 )"
   ]
  },
  {
   "cell_type": "markdown",
   "metadata": {},
   "source": [
    "To generate a random sample of size $n = 10$ use:"
   ]
  },
  {
   "cell_type": "code",
   "execution_count": 5,
   "metadata": {},
   "outputs": [
    {
     "data": {
      "text/html": [
       "<ol class=list-inline>\n",
       "\t<li>1.08060453575574</li>\n",
       "\t<li>6.34156096290634</li>\n",
       "\t<li>12.3953322507071</li>\n",
       "\t<li>-4.08581870923379</li>\n",
       "\t<li>4.07222938464311</li>\n",
       "\t<li>-3.01796105469854</li>\n",
       "\t<li>4.65275683846367</li>\n",
       "\t<li>-1.83693680778062</li>\n",
       "\t<li>2.98793730328806</li>\n",
       "\t<li>-7.87777153571679</li>\n",
       "</ol>\n"
      ],
      "text/latex": [
       "\\begin{enumerate*}\n",
       "\\item 1.08060453575574\n",
       "\\item 6.34156096290634\n",
       "\\item 12.3953322507071\n",
       "\\item -4.08581870923379\n",
       "\\item 4.07222938464311\n",
       "\\item -3.01796105469854\n",
       "\\item 4.65275683846367\n",
       "\\item -1.83693680778062\n",
       "\\item 2.98793730328806\n",
       "\\item -7.87777153571679\n",
       "\\end{enumerate*}\n"
      ],
      "text/markdown": [
       "1. 1.08060453575574\n",
       "2. 6.34156096290634\n",
       "3. 12.3953322507071\n",
       "4. -4.08581870923379\n",
       "5. 4.07222938464311\n",
       "6. -3.01796105469854\n",
       "7. 4.65275683846367\n",
       "8. -1.83693680778062\n",
       "9. 2.98793730328806\n",
       "10. -7.87777153571679\n",
       "\n",
       "\n"
      ],
      "text/plain": [
       " [1]  1.080605  6.341561 12.395332 -4.085819  4.072229 -3.017961  4.652757\n",
       " [8] -1.836937  2.987937 -7.877772"
      ]
     },
     "metadata": {},
     "output_type": "display_data"
    }
   ],
   "source": [
    "rnorm( n = 10, mean = 2, sd = 5 )"
   ]
  },
  {
   "cell_type": "markdown",
   "metadata": {},
   "source": [
    "Other name beyond norm include:\n",
    "- *binom\n",
    "- *t\n",
    "- *pois\n",
    "- *f\n",
    "- *chisq\n",
    "\n",
    "where the * can be d, p, q, and r. Example of getting probability of flipping a coin $10$ times and seeing $6$ heads given the probability of heads is $0.75$ use:"
   ]
  },
  {
   "cell_type": "code",
   "execution_count": 6,
   "metadata": {},
   "outputs": [
    {
     "data": {
      "text/html": [
       "0.145998001098633"
      ],
      "text/latex": [
       "0.145998001098633"
      ],
      "text/markdown": [
       "0.145998001098633"
      ],
      "text/plain": [
       "[1] 0.145998"
      ]
     },
     "metadata": {},
     "output_type": "display_data"
    }
   ],
   "source": [
    "dbinom( x = 6, size = 10, prob = 0.75 )"
   ]
  },
  {
   "cell_type": "markdown",
   "metadata": {},
   "source": [
    "Binomial Distribution Formula:\n",
    "\n",
    "$${N \\choose y}\\ \\theta^y\\ ( 1 - \\theta )^{ N - y }$$\n",
    "\n",
    "Or formally $P( Y = 6 )$ if $Y \\sim b( n = 10, p = 0.75 )$"
   ]
  },
  {
   "cell_type": "code",
   "execution_count": 27,
   "metadata": {},
   "outputs": [
    {
     "data": {
      "text/html": [
       "0.145998001098633"
      ],
      "text/latex": [
       "0.145998001098633"
      ],
      "text/markdown": [
       "0.145998001098633"
      ],
      "text/plain": [
       "[1] 0.145998"
      ]
     },
     "metadata": {},
     "output_type": "display_data"
    }
   ],
   "source": [
    "# Can also do choose( 10, 6 )\n",
    "n_choose_y <- ( 10 * 9 * 8 * 7 * 6 * 5 ) / ( 6 * 5 * 4 * 3 * 2 * 1 )\n",
    "theta      <- 0.75\n",
    "n          <- 10\n",
    "y          <- 6\n",
    "\n",
    "n_choose_y * theta ^ y * ( 1 - theta ) ^ ( n - y )"
   ]
  },
  {
   "cell_type": "markdown",
   "metadata": {},
   "source": [
    "# 5.2"
   ]
  },
  {
   "cell_type": "markdown",
   "metadata": {},
   "source": [
    "#### Hypothesis Testing"
   ]
  },
  {
   "cell_type": "markdown",
   "metadata": {},
   "source": [
    "##### One Sample t-Test\n",
    "\n",
    "Suppose $x_i \\sim N( \\mu, \\sigma^2 )$ and we want to test $H_0: \\mu = \\mu_0$ versus $H_1: \\mu \\neq \\mu_1$. If we assume $\\sigma$ is unknown, we use one-sample $t$ statistic:\n",
    "\n",
    "$$t = \\frac{x - \\mu_0}{\\frac{s}{\\sqrt(n)}} \\sim t_{n - 1}$$\n",
    "\n",
    "where\n",
    "\n",
    "$$x = \\frac{\\sum_{i = 1}^n\\ x_i}{n}$$\n",
    "\n",
    "and\n",
    "\n",
    "$$s = \\sqrt(\\frac{1}{n - 1}\\ sum_{i = 1}^ n\\ (x_i - x)^2)$$\n",
    "\n",
    "A $100(1 - \\alpha)\\%$ confidence interval for $\\mu$ is given by:\n",
    "\n",
    "$$x \\pm t_{n - 1}( \\frac{\\alpha}{2} ) \\frac{s}{\\sqrt(n)}$$\n",
    "\n",
    "where $t_{n - 1(\\frac{\\alpha}{2})}$ is the critical value such that:\n",
    "\n",
    "$$P(t > t_{n - 1}( \\frac{\\alpha}{2} )) = \\frac{\\alpha}{2}$$ \n",
    "\n",
    "for $n -1$ degrees of freedom."
   ]
  },
  {
   "cell_type": "markdown",
   "metadata": {},
   "source": [
    "#### Example"
   ]
  },
  {
   "cell_type": "markdown",
   "metadata": {},
   "source": [
    "Suppose a grocery store sells 16 ounce boxes of cereal. A random sample of 9 boxes is taken and weighed:"
   ]
  },
  {
   "cell_type": "code",
   "execution_count": 28,
   "metadata": {},
   "outputs": [],
   "source": [
    "cereal <- data.frame( weight = c( 15.5, 16.2, 16.1, 15.8, 15.6, 16.0, 15.8, 15.9, 16.2 ) )"
   ]
  },
  {
   "cell_type": "markdown",
   "metadata": {},
   "source": [
    "The claim is a boxe weighs at least 16 ounces. Assume the weight is normally distributed and use a $0.05$ level of significance to test the claim. So:  \n",
    "- $H_0: \\mu \\ge 16$\n",
    "- $H_1: \\mu < 16$"
   ]
  },
  {
   "cell_type": "code",
   "execution_count": 29,
   "metadata": {},
   "outputs": [
    {
     "data": {
      "text/html": [
       "-1.2"
      ],
      "text/latex": [
       "-1.2"
      ],
      "text/markdown": [
       "-1.2"
      ],
      "text/plain": [
       "[1] -1.2"
      ]
     },
     "metadata": {},
     "output_type": "display_data"
    }
   ],
   "source": [
    "x_bar <- mean( cereal$weight )\n",
    "s     <- sd( cereal$weight )\n",
    "mu_0  <- 16\n",
    "n     <- 9\n",
    "\n",
    "t <- ( x_bar - mu_0 ) / ( s / sqrt( n ) )\n",
    "t"
   ]
  },
  {
   "cell_type": "markdown",
   "metadata": {},
   "source": [
    "Under the null hypothesis the test statistic has a $t$ distribution with $n - 1$ degrees of freedom, which is 8 in this case. Let's get the p-value of the test. Since this is a one-sided test with a less-than alternative,, we need the area to the left of $-1.2$ for a $t$ distribution with $8$ degrees of freedom:\n",
    "\n",
    "$$P( t_8 < -1.2 )$$"
   ]
  },
  {
   "cell_type": "code",
   "execution_count": 30,
   "metadata": {},
   "outputs": [
    {
     "data": {
      "text/html": [
       "0.132233552600909"
      ],
      "text/latex": [
       "0.132233552600909"
      ],
      "text/markdown": [
       "0.132233552600909"
      ],
      "text/plain": [
       "[1] 0.1322336"
      ]
     },
     "metadata": {},
     "output_type": "display_data"
    }
   ],
   "source": [
    "pt( t, df = n - 1 )"
   ]
  },
  {
   "cell_type": "markdown",
   "metadata": {},
   "source": [
    "The p-value is greater than our significance level of $0.05$, so we fail to reject the null hypothesis. A more condensed way to run the test in R is as follows:"
   ]
  },
  {
   "cell_type": "code",
   "execution_count": 31,
   "metadata": {},
   "outputs": [
    {
     "data": {
      "text/plain": [
       "\n",
       "\tOne Sample t-test\n",
       "\n",
       "data:  cereal\n",
       "t = -1.2, df = 8, p-value = 0.1322\n",
       "alternative hypothesis: true mean is less than 16\n",
       "95 percent confidence interval:\n",
       "     -Inf 16.05496\n",
       "sample estimates:\n",
       "mean of x \n",
       "     15.9 \n"
      ]
     },
     "metadata": {},
     "output_type": "display_data"
    }
   ],
   "source": [
    "t.test( x = cereal, mu = 16, alternative = c('less'), conf.level = 0.95 )"
   ]
  },
  {
   "cell_type": "code",
   "execution_count": 33,
   "metadata": {},
   "outputs": [],
   "source": [
    "# For Two Sided Test\n",
    "cereal_results <- t.test( x = cereal, mu = 16, alternative = c('two.sided'), conf.level = 0.95 )"
   ]
  },
  {
   "cell_type": "code",
   "execution_count": 34,
   "metadata": {},
   "outputs": [
    {
     "data": {
      "text/html": [
       "<ol class=list-inline>\n",
       "\t<li>'statistic'</li>\n",
       "\t<li>'parameter'</li>\n",
       "\t<li>'p.value'</li>\n",
       "\t<li>'conf.int'</li>\n",
       "\t<li>'estimate'</li>\n",
       "\t<li>'null.value'</li>\n",
       "\t<li>'alternative'</li>\n",
       "\t<li>'method'</li>\n",
       "\t<li>'data.name'</li>\n",
       "</ol>\n"
      ],
      "text/latex": [
       "\\begin{enumerate*}\n",
       "\\item 'statistic'\n",
       "\\item 'parameter'\n",
       "\\item 'p.value'\n",
       "\\item 'conf.int'\n",
       "\\item 'estimate'\n",
       "\\item 'null.value'\n",
       "\\item 'alternative'\n",
       "\\item 'method'\n",
       "\\item 'data.name'\n",
       "\\end{enumerate*}\n"
      ],
      "text/markdown": [
       "1. 'statistic'\n",
       "2. 'parameter'\n",
       "3. 'p.value'\n",
       "4. 'conf.int'\n",
       "5. 'estimate'\n",
       "6. 'null.value'\n",
       "7. 'alternative'\n",
       "8. 'method'\n",
       "9. 'data.name'\n",
       "\n",
       "\n"
      ],
      "text/plain": [
       "[1] \"statistic\"   \"parameter\"   \"p.value\"     \"conf.int\"    \"estimate\"   \n",
       "[6] \"null.value\"  \"alternative\" \"method\"      \"data.name\"  "
      ]
     },
     "metadata": {},
     "output_type": "display_data"
    }
   ],
   "source": [
    "names( cereal_results )"
   ]
  },
  {
   "cell_type": "code",
   "execution_count": 35,
   "metadata": {},
   "outputs": [
    {
     "data": {
      "text/html": [
       "<ol class=list-inline>\n",
       "\t<li>15.707832988733</li>\n",
       "\t<li>16.092167011267</li>\n",
       "</ol>\n"
      ],
      "text/latex": [
       "\\begin{enumerate*}\n",
       "\\item 15.707832988733\n",
       "\\item 16.092167011267\n",
       "\\end{enumerate*}\n"
      ],
      "text/markdown": [
       "1. 15.707832988733\n",
       "2. 16.092167011267\n",
       "\n",
       "\n"
      ],
      "text/plain": [
       "[1] 15.70783 16.09217\n",
       "attr(,\"conf.level\")\n",
       "[1] 0.95"
      ]
     },
     "metadata": {},
     "output_type": "display_data"
    }
   ],
   "source": [
    "cereal_results$conf.int"
   ]
  },
  {
   "cell_type": "markdown",
   "metadata": {},
   "source": [
    "Let us check this by hand, but first we need to get the critical value:\n",
    "\n",
    "$$t_{n - 1}(\\frac{\\alpha}{2} ) = t_8( 0.025 )$$ "
   ]
  },
  {
   "cell_type": "code",
   "execution_count": 36,
   "metadata": {},
   "outputs": [
    {
     "data": {
      "text/html": [
       "2.30600413520417"
      ],
      "text/latex": [
       "2.30600413520417"
      ],
      "text/markdown": [
       "2.30600413520417"
      ],
      "text/plain": [
       "[1] 2.306004"
      ]
     },
     "metadata": {},
     "output_type": "display_data"
    }
   ],
   "source": [
    "qt( 0.975, df = 8 )"
   ]
  },
  {
   "cell_type": "markdown",
   "metadata": {},
   "source": [
    "Now plug into formula:\n",
    "\n",
    "$$x \\pm t_{n - 1}( \\frac{\\alpha}{2} ) \\frac{s}{\\sqrt(n)}$$"
   ]
  },
  {
   "cell_type": "code",
   "execution_count": 42,
   "metadata": {},
   "outputs": [
    {
     "ename": "ERROR",
     "evalue": "Error in c(mean(cereal$weight) - qt(0.975, df = 8) * sd(cereal$weight)/sqrt(9), : argument 3 is empty\n",
     "output_type": "error",
     "traceback": [
      "Error in c(mean(cereal$weight) - qt(0.975, df = 8) * sd(cereal$weight)/sqrt(9), : argument 3 is empty\nTraceback:\n"
     ]
    }
   ],
   "source": [
    "c( \n",
    "    mean( cereal$weight ) - qt( 0.975, df = 8 ) * sd( cereal$weight ) / sqrt(9), \n",
    "    mean( cereal$weight ) + qt( 0.975, df = 8 ) * sd( cereal$weight ) / sqrt(9),\n",
    ")"
   ]
  },
  {
   "cell_type": "code",
   "execution_count": null,
   "metadata": {},
   "outputs": [],
   "source": []
  }
 ],
 "metadata": {
  "kernelspec": {
   "display_name": "R",
   "language": "R",
   "name": "ir"
  },
  "language_info": {
   "codemirror_mode": "r",
   "file_extension": ".r",
   "mimetype": "text/x-r-source",
   "name": "R",
   "pygments_lexer": "r",
   "version": "3.5.1"
  }
 },
 "nbformat": 4,
 "nbformat_minor": 2
}
