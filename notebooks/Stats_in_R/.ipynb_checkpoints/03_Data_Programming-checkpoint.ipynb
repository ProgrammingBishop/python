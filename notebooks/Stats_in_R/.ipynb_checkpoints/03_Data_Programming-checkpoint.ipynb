{
 "cells": [
  {
   "cell_type": "markdown",
   "metadata": {},
   "source": [
    "# Lists"
   ]
  },
  {
   "cell_type": "code",
   "execution_count": 3,
   "metadata": {},
   "outputs": [
    {
     "data": {
      "text/html": [
       "<ol class=list-inline>\n",
       "\t<li>1</li>\n",
       "\t<li>2</li>\n",
       "\t<li>3</li>\n",
       "\t<li>4</li>\n",
       "</ol>\n"
      ],
      "text/latex": [
       "\\begin{enumerate*}\n",
       "\\item 1\n",
       "\\item 2\n",
       "\\item 3\n",
       "\\item 4\n",
       "\\end{enumerate*}\n"
      ],
      "text/markdown": [
       "1. 1\n",
       "2. 2\n",
       "3. 3\n",
       "4. 4\n",
       "\n",
       "\n"
      ],
      "text/plain": [
       "[1] 1 2 3 4"
      ]
     },
     "metadata": {},
     "output_type": "display_data"
    }
   ],
   "source": [
    "list.a <- c( 1, 2, 3, 4 )\n",
    "list.a"
   ]
  },
  {
   "cell_type": "code",
   "execution_count": 4,
   "metadata": {},
   "outputs": [
    {
     "data": {
      "text/html": [
       "<ol class=list-inline>\n",
       "\t<li>1</li>\n",
       "\t<li>2</li>\n",
       "\t<li>3</li>\n",
       "\t<li>4</li>\n",
       "\t<li>5</li>\n",
       "\t<li>6</li>\n",
       "\t<li>7</li>\n",
       "\t<li>8</li>\n",
       "\t<li>9</li>\n",
       "\t<li>10</li>\n",
       "\t<li>11</li>\n",
       "\t<li>12</li>\n",
       "\t<li>13</li>\n",
       "\t<li>14</li>\n",
       "\t<li>15</li>\n",
       "\t<li>16</li>\n",
       "\t<li>17</li>\n",
       "\t<li>18</li>\n",
       "\t<li>19</li>\n",
       "\t<li>20</li>\n",
       "\t<li>21</li>\n",
       "\t<li>22</li>\n",
       "\t<li>23</li>\n",
       "\t<li>24</li>\n",
       "\t<li>25</li>\n",
       "\t<li>26</li>\n",
       "\t<li>27</li>\n",
       "\t<li>28</li>\n",
       "\t<li>29</li>\n",
       "\t<li>30</li>\n",
       "\t<li>31</li>\n",
       "\t<li>32</li>\n",
       "\t<li>33</li>\n",
       "\t<li>34</li>\n",
       "\t<li>35</li>\n",
       "\t<li>36</li>\n",
       "\t<li>37</li>\n",
       "\t<li>38</li>\n",
       "\t<li>39</li>\n",
       "\t<li>40</li>\n",
       "\t<li>41</li>\n",
       "\t<li>42</li>\n",
       "\t<li>43</li>\n",
       "\t<li>44</li>\n",
       "\t<li>45</li>\n",
       "\t<li>46</li>\n",
       "\t<li>47</li>\n",
       "\t<li>48</li>\n",
       "\t<li>49</li>\n",
       "\t<li>50</li>\n",
       "\t<li>51</li>\n",
       "\t<li>52</li>\n",
       "\t<li>53</li>\n",
       "\t<li>54</li>\n",
       "\t<li>55</li>\n",
       "\t<li>56</li>\n",
       "\t<li>57</li>\n",
       "\t<li>58</li>\n",
       "\t<li>59</li>\n",
       "\t<li>60</li>\n",
       "\t<li>61</li>\n",
       "\t<li>62</li>\n",
       "\t<li>63</li>\n",
       "\t<li>64</li>\n",
       "\t<li>65</li>\n",
       "\t<li>66</li>\n",
       "\t<li>67</li>\n",
       "\t<li>68</li>\n",
       "\t<li>69</li>\n",
       "\t<li>70</li>\n",
       "\t<li>71</li>\n",
       "\t<li>72</li>\n",
       "\t<li>73</li>\n",
       "\t<li>74</li>\n",
       "\t<li>75</li>\n",
       "\t<li>76</li>\n",
       "\t<li>77</li>\n",
       "\t<li>78</li>\n",
       "\t<li>79</li>\n",
       "\t<li>80</li>\n",
       "\t<li>81</li>\n",
       "\t<li>82</li>\n",
       "\t<li>83</li>\n",
       "\t<li>84</li>\n",
       "\t<li>85</li>\n",
       "\t<li>86</li>\n",
       "\t<li>87</li>\n",
       "\t<li>88</li>\n",
       "\t<li>89</li>\n",
       "\t<li>90</li>\n",
       "\t<li>91</li>\n",
       "\t<li>92</li>\n",
       "\t<li>93</li>\n",
       "\t<li>94</li>\n",
       "\t<li>95</li>\n",
       "\t<li>96</li>\n",
       "\t<li>97</li>\n",
       "\t<li>98</li>\n",
       "\t<li>99</li>\n",
       "\t<li>100</li>\n",
       "</ol>\n"
      ],
      "text/latex": [
       "\\begin{enumerate*}\n",
       "\\item 1\n",
       "\\item 2\n",
       "\\item 3\n",
       "\\item 4\n",
       "\\item 5\n",
       "\\item 6\n",
       "\\item 7\n",
       "\\item 8\n",
       "\\item 9\n",
       "\\item 10\n",
       "\\item 11\n",
       "\\item 12\n",
       "\\item 13\n",
       "\\item 14\n",
       "\\item 15\n",
       "\\item 16\n",
       "\\item 17\n",
       "\\item 18\n",
       "\\item 19\n",
       "\\item 20\n",
       "\\item 21\n",
       "\\item 22\n",
       "\\item 23\n",
       "\\item 24\n",
       "\\item 25\n",
       "\\item 26\n",
       "\\item 27\n",
       "\\item 28\n",
       "\\item 29\n",
       "\\item 30\n",
       "\\item 31\n",
       "\\item 32\n",
       "\\item 33\n",
       "\\item 34\n",
       "\\item 35\n",
       "\\item 36\n",
       "\\item 37\n",
       "\\item 38\n",
       "\\item 39\n",
       "\\item 40\n",
       "\\item 41\n",
       "\\item 42\n",
       "\\item 43\n",
       "\\item 44\n",
       "\\item 45\n",
       "\\item 46\n",
       "\\item 47\n",
       "\\item 48\n",
       "\\item 49\n",
       "\\item 50\n",
       "\\item 51\n",
       "\\item 52\n",
       "\\item 53\n",
       "\\item 54\n",
       "\\item 55\n",
       "\\item 56\n",
       "\\item 57\n",
       "\\item 58\n",
       "\\item 59\n",
       "\\item 60\n",
       "\\item 61\n",
       "\\item 62\n",
       "\\item 63\n",
       "\\item 64\n",
       "\\item 65\n",
       "\\item 66\n",
       "\\item 67\n",
       "\\item 68\n",
       "\\item 69\n",
       "\\item 70\n",
       "\\item 71\n",
       "\\item 72\n",
       "\\item 73\n",
       "\\item 74\n",
       "\\item 75\n",
       "\\item 76\n",
       "\\item 77\n",
       "\\item 78\n",
       "\\item 79\n",
       "\\item 80\n",
       "\\item 81\n",
       "\\item 82\n",
       "\\item 83\n",
       "\\item 84\n",
       "\\item 85\n",
       "\\item 86\n",
       "\\item 87\n",
       "\\item 88\n",
       "\\item 89\n",
       "\\item 90\n",
       "\\item 91\n",
       "\\item 92\n",
       "\\item 93\n",
       "\\item 94\n",
       "\\item 95\n",
       "\\item 96\n",
       "\\item 97\n",
       "\\item 98\n",
       "\\item 99\n",
       "\\item 100\n",
       "\\end{enumerate*}\n"
      ],
      "text/markdown": [
       "1. 1\n",
       "2. 2\n",
       "3. 3\n",
       "4. 4\n",
       "5. 5\n",
       "6. 6\n",
       "7. 7\n",
       "8. 8\n",
       "9. 9\n",
       "10. 10\n",
       "11. 11\n",
       "12. 12\n",
       "13. 13\n",
       "14. 14\n",
       "15. 15\n",
       "16. 16\n",
       "17. 17\n",
       "18. 18\n",
       "19. 19\n",
       "20. 20\n",
       "21. 21\n",
       "22. 22\n",
       "23. 23\n",
       "24. 24\n",
       "25. 25\n",
       "26. 26\n",
       "27. 27\n",
       "28. 28\n",
       "29. 29\n",
       "30. 30\n",
       "31. 31\n",
       "32. 32\n",
       "33. 33\n",
       "34. 34\n",
       "35. 35\n",
       "36. 36\n",
       "37. 37\n",
       "38. 38\n",
       "39. 39\n",
       "40. 40\n",
       "41. 41\n",
       "42. 42\n",
       "43. 43\n",
       "44. 44\n",
       "45. 45\n",
       "46. 46\n",
       "47. 47\n",
       "48. 48\n",
       "49. 49\n",
       "50. 50\n",
       "51. 51\n",
       "52. 52\n",
       "53. 53\n",
       "54. 54\n",
       "55. 55\n",
       "56. 56\n",
       "57. 57\n",
       "58. 58\n",
       "59. 59\n",
       "60. 60\n",
       "61. 61\n",
       "62. 62\n",
       "63. 63\n",
       "64. 64\n",
       "65. 65\n",
       "66. 66\n",
       "67. 67\n",
       "68. 68\n",
       "69. 69\n",
       "70. 70\n",
       "71. 71\n",
       "72. 72\n",
       "73. 73\n",
       "74. 74\n",
       "75. 75\n",
       "76. 76\n",
       "77. 77\n",
       "78. 78\n",
       "79. 79\n",
       "80. 80\n",
       "81. 81\n",
       "82. 82\n",
       "83. 83\n",
       "84. 84\n",
       "85. 85\n",
       "86. 86\n",
       "87. 87\n",
       "88. 88\n",
       "89. 89\n",
       "90. 90\n",
       "91. 91\n",
       "92. 92\n",
       "93. 93\n",
       "94. 94\n",
       "95. 95\n",
       "96. 96\n",
       "97. 97\n",
       "98. 98\n",
       "99. 99\n",
       "100. 100\n",
       "\n",
       "\n"
      ],
      "text/plain": [
       "  [1]   1   2   3   4   5   6   7   8   9  10  11  12  13  14  15  16  17  18\n",
       " [19]  19  20  21  22  23  24  25  26  27  28  29  30  31  32  33  34  35  36\n",
       " [37]  37  38  39  40  41  42  43  44  45  46  47  48  49  50  51  52  53  54\n",
       " [55]  55  56  57  58  59  60  61  62  63  64  65  66  67  68  69  70  71  72\n",
       " [73]  73  74  75  76  77  78  79  80  81  82  83  84  85  86  87  88  89  90\n",
       " [91]  91  92  93  94  95  96  97  98  99 100"
      ]
     },
     "metadata": {},
     "output_type": "display_data"
    }
   ],
   "source": [
    "( y = 1:100 )"
   ]
  },
  {
   "cell_type": "code",
   "execution_count": 5,
   "metadata": {},
   "outputs": [
    {
     "data": {
      "text/html": [
       "<ol class=list-inline>\n",
       "\t<li>0</li>\n",
       "\t<li>0.5</li>\n",
       "\t<li>1</li>\n",
       "\t<li>1.5</li>\n",
       "\t<li>2</li>\n",
       "\t<li>2.5</li>\n",
       "\t<li>3</li>\n",
       "\t<li>3.5</li>\n",
       "\t<li>4</li>\n",
       "\t<li>4.5</li>\n",
       "\t<li>5</li>\n",
       "</ol>\n"
      ],
      "text/latex": [
       "\\begin{enumerate*}\n",
       "\\item 0\n",
       "\\item 0.5\n",
       "\\item 1\n",
       "\\item 1.5\n",
       "\\item 2\n",
       "\\item 2.5\n",
       "\\item 3\n",
       "\\item 3.5\n",
       "\\item 4\n",
       "\\item 4.5\n",
       "\\item 5\n",
       "\\end{enumerate*}\n"
      ],
      "text/markdown": [
       "1. 0\n",
       "2. 0.5\n",
       "3. 1\n",
       "4. 1.5\n",
       "5. 2\n",
       "6. 2.5\n",
       "7. 3\n",
       "8. 3.5\n",
       "9. 4\n",
       "10. 4.5\n",
       "11. 5\n",
       "\n",
       "\n"
      ],
      "text/plain": [
       " [1] 0.0 0.5 1.0 1.5 2.0 2.5 3.0 3.5 4.0 4.5 5.0"
      ]
     },
     "metadata": {},
     "output_type": "display_data"
    }
   ],
   "source": [
    "seq( from = 0, to = 5, by = 0.5 )"
   ]
  },
  {
   "cell_type": "code",
   "execution_count": 6,
   "metadata": {},
   "outputs": [
    {
     "data": {
      "text/html": [
       "<ol class=list-inline>\n",
       "\t<li>0</li>\n",
       "\t<li>0</li>\n",
       "\t<li>0</li>\n",
       "\t<li>0</li>\n",
       "\t<li>0</li>\n",
       "\t<li>0</li>\n",
       "\t<li>0</li>\n",
       "\t<li>0</li>\n",
       "\t<li>0</li>\n",
       "\t<li>0</li>\n",
       "\t<li>0</li>\n",
       "\t<li>0</li>\n",
       "\t<li>0</li>\n",
       "\t<li>0</li>\n",
       "\t<li>0</li>\n",
       "\t<li>0</li>\n",
       "\t<li>0</li>\n",
       "\t<li>0</li>\n",
       "\t<li>0</li>\n",
       "\t<li>0</li>\n",
       "\t<li>0</li>\n",
       "\t<li>0</li>\n",
       "\t<li>0</li>\n",
       "\t<li>0</li>\n",
       "\t<li>0</li>\n",
       "\t<li>0</li>\n",
       "\t<li>0</li>\n",
       "\t<li>0</li>\n",
       "\t<li>0</li>\n",
       "\t<li>0</li>\n",
       "\t<li>0</li>\n",
       "\t<li>0</li>\n",
       "\t<li>0</li>\n",
       "\t<li>0</li>\n",
       "\t<li>0</li>\n",
       "\t<li>0</li>\n",
       "\t<li>0</li>\n",
       "\t<li>0</li>\n",
       "\t<li>0</li>\n",
       "\t<li>0</li>\n",
       "\t<li>0</li>\n",
       "\t<li>0</li>\n",
       "\t<li>0</li>\n",
       "\t<li>0</li>\n",
       "\t<li>0</li>\n",
       "\t<li>0</li>\n",
       "\t<li>0</li>\n",
       "\t<li>0</li>\n",
       "\t<li>0</li>\n",
       "\t<li>0</li>\n",
       "\t<li>0</li>\n",
       "\t<li>0</li>\n",
       "\t<li>0</li>\n",
       "\t<li>0</li>\n",
       "\t<li>0</li>\n",
       "\t<li>0</li>\n",
       "\t<li>0</li>\n",
       "\t<li>0</li>\n",
       "\t<li>0</li>\n",
       "\t<li>0</li>\n",
       "\t<li>0</li>\n",
       "\t<li>0</li>\n",
       "\t<li>0</li>\n",
       "\t<li>0</li>\n",
       "\t<li>0</li>\n",
       "\t<li>0</li>\n",
       "\t<li>0</li>\n",
       "\t<li>0</li>\n",
       "\t<li>0</li>\n",
       "\t<li>0</li>\n",
       "\t<li>0</li>\n",
       "\t<li>0</li>\n",
       "\t<li>0</li>\n",
       "\t<li>0</li>\n",
       "\t<li>0</li>\n",
       "\t<li>0</li>\n",
       "\t<li>0</li>\n",
       "\t<li>0</li>\n",
       "\t<li>0</li>\n",
       "\t<li>0</li>\n",
       "\t<li>0</li>\n",
       "\t<li>0</li>\n",
       "\t<li>0</li>\n",
       "\t<li>0</li>\n",
       "\t<li>0</li>\n",
       "\t<li>0</li>\n",
       "\t<li>0</li>\n",
       "\t<li>0</li>\n",
       "\t<li>0</li>\n",
       "\t<li>0</li>\n",
       "\t<li>0</li>\n",
       "\t<li>0</li>\n",
       "\t<li>0</li>\n",
       "\t<li>0</li>\n",
       "\t<li>0</li>\n",
       "\t<li>0</li>\n",
       "\t<li>0</li>\n",
       "\t<li>0</li>\n",
       "\t<li>0</li>\n",
       "\t<li>0</li>\n",
       "</ol>\n"
      ],
      "text/latex": [
       "\\begin{enumerate*}\n",
       "\\item 0\n",
       "\\item 0\n",
       "\\item 0\n",
       "\\item 0\n",
       "\\item 0\n",
       "\\item 0\n",
       "\\item 0\n",
       "\\item 0\n",
       "\\item 0\n",
       "\\item 0\n",
       "\\item 0\n",
       "\\item 0\n",
       "\\item 0\n",
       "\\item 0\n",
       "\\item 0\n",
       "\\item 0\n",
       "\\item 0\n",
       "\\item 0\n",
       "\\item 0\n",
       "\\item 0\n",
       "\\item 0\n",
       "\\item 0\n",
       "\\item 0\n",
       "\\item 0\n",
       "\\item 0\n",
       "\\item 0\n",
       "\\item 0\n",
       "\\item 0\n",
       "\\item 0\n",
       "\\item 0\n",
       "\\item 0\n",
       "\\item 0\n",
       "\\item 0\n",
       "\\item 0\n",
       "\\item 0\n",
       "\\item 0\n",
       "\\item 0\n",
       "\\item 0\n",
       "\\item 0\n",
       "\\item 0\n",
       "\\item 0\n",
       "\\item 0\n",
       "\\item 0\n",
       "\\item 0\n",
       "\\item 0\n",
       "\\item 0\n",
       "\\item 0\n",
       "\\item 0\n",
       "\\item 0\n",
       "\\item 0\n",
       "\\item 0\n",
       "\\item 0\n",
       "\\item 0\n",
       "\\item 0\n",
       "\\item 0\n",
       "\\item 0\n",
       "\\item 0\n",
       "\\item 0\n",
       "\\item 0\n",
       "\\item 0\n",
       "\\item 0\n",
       "\\item 0\n",
       "\\item 0\n",
       "\\item 0\n",
       "\\item 0\n",
       "\\item 0\n",
       "\\item 0\n",
       "\\item 0\n",
       "\\item 0\n",
       "\\item 0\n",
       "\\item 0\n",
       "\\item 0\n",
       "\\item 0\n",
       "\\item 0\n",
       "\\item 0\n",
       "\\item 0\n",
       "\\item 0\n",
       "\\item 0\n",
       "\\item 0\n",
       "\\item 0\n",
       "\\item 0\n",
       "\\item 0\n",
       "\\item 0\n",
       "\\item 0\n",
       "\\item 0\n",
       "\\item 0\n",
       "\\item 0\n",
       "\\item 0\n",
       "\\item 0\n",
       "\\item 0\n",
       "\\item 0\n",
       "\\item 0\n",
       "\\item 0\n",
       "\\item 0\n",
       "\\item 0\n",
       "\\item 0\n",
       "\\item 0\n",
       "\\item 0\n",
       "\\item 0\n",
       "\\item 0\n",
       "\\end{enumerate*}\n"
      ],
      "text/markdown": [
       "1. 0\n",
       "2. 0\n",
       "3. 0\n",
       "4. 0\n",
       "5. 0\n",
       "6. 0\n",
       "7. 0\n",
       "8. 0\n",
       "9. 0\n",
       "10. 0\n",
       "11. 0\n",
       "12. 0\n",
       "13. 0\n",
       "14. 0\n",
       "15. 0\n",
       "16. 0\n",
       "17. 0\n",
       "18. 0\n",
       "19. 0\n",
       "20. 0\n",
       "21. 0\n",
       "22. 0\n",
       "23. 0\n",
       "24. 0\n",
       "25. 0\n",
       "26. 0\n",
       "27. 0\n",
       "28. 0\n",
       "29. 0\n",
       "30. 0\n",
       "31. 0\n",
       "32. 0\n",
       "33. 0\n",
       "34. 0\n",
       "35. 0\n",
       "36. 0\n",
       "37. 0\n",
       "38. 0\n",
       "39. 0\n",
       "40. 0\n",
       "41. 0\n",
       "42. 0\n",
       "43. 0\n",
       "44. 0\n",
       "45. 0\n",
       "46. 0\n",
       "47. 0\n",
       "48. 0\n",
       "49. 0\n",
       "50. 0\n",
       "51. 0\n",
       "52. 0\n",
       "53. 0\n",
       "54. 0\n",
       "55. 0\n",
       "56. 0\n",
       "57. 0\n",
       "58. 0\n",
       "59. 0\n",
       "60. 0\n",
       "61. 0\n",
       "62. 0\n",
       "63. 0\n",
       "64. 0\n",
       "65. 0\n",
       "66. 0\n",
       "67. 0\n",
       "68. 0\n",
       "69. 0\n",
       "70. 0\n",
       "71. 0\n",
       "72. 0\n",
       "73. 0\n",
       "74. 0\n",
       "75. 0\n",
       "76. 0\n",
       "77. 0\n",
       "78. 0\n",
       "79. 0\n",
       "80. 0\n",
       "81. 0\n",
       "82. 0\n",
       "83. 0\n",
       "84. 0\n",
       "85. 0\n",
       "86. 0\n",
       "87. 0\n",
       "88. 0\n",
       "89. 0\n",
       "90. 0\n",
       "91. 0\n",
       "92. 0\n",
       "93. 0\n",
       "94. 0\n",
       "95. 0\n",
       "96. 0\n",
       "97. 0\n",
       "98. 0\n",
       "99. 0\n",
       "100. 0\n",
       "\n",
       "\n"
      ],
      "text/plain": [
       "  [1] 0 0 0 0 0 0 0 0 0 0 0 0 0 0 0 0 0 0 0 0 0 0 0 0 0 0 0 0 0 0 0 0 0 0 0 0 0\n",
       " [38] 0 0 0 0 0 0 0 0 0 0 0 0 0 0 0 0 0 0 0 0 0 0 0 0 0 0 0 0 0 0 0 0 0 0 0 0 0\n",
       " [75] 0 0 0 0 0 0 0 0 0 0 0 0 0 0 0 0 0 0 0 0 0 0 0 0 0 0"
      ]
     },
     "metadata": {},
     "output_type": "display_data"
    }
   ],
   "source": [
    "rep( 0, times = 100 )"
   ]
  },
  {
   "cell_type": "code",
   "execution_count": 7,
   "metadata": {},
   "outputs": [
    {
     "ename": "ERROR",
     "evalue": "Error in eval(expr, envir, enclos): object 'empty.list' not found\n",
     "output_type": "error",
     "traceback": [
      "Error in eval(expr, envir, enclos): object 'empty.list' not found\nTraceback:\n"
     ]
    }
   ],
   "source": [
    "length( empty.list )"
   ]
  },
  {
   "cell_type": "markdown",
   "metadata": {},
   "source": [
    "# Subsetting"
   ]
  },
  {
   "cell_type": "code",
   "execution_count": 8,
   "metadata": {},
   "outputs": [
    {
     "data": {
      "text/html": [
       "1"
      ],
      "text/latex": [
       "1"
      ],
      "text/markdown": [
       "1"
      ],
      "text/plain": [
       "[1] 1"
      ]
     },
     "metadata": {},
     "output_type": "display_data"
    }
   ],
   "source": [
    "list.a[ 1 ]"
   ]
  },
  {
   "cell_type": "code",
   "execution_count": 9,
   "metadata": {},
   "outputs": [
    {
     "data": {
      "text/html": [
       "<ol class=list-inline>\n",
       "\t<li>1</li>\n",
       "\t<li>3</li>\n",
       "\t<li>4</li>\n",
       "</ol>\n"
      ],
      "text/latex": [
       "\\begin{enumerate*}\n",
       "\\item 1\n",
       "\\item 3\n",
       "\\item 4\n",
       "\\end{enumerate*}\n"
      ],
      "text/markdown": [
       "1. 1\n",
       "2. 3\n",
       "3. 4\n",
       "\n",
       "\n"
      ],
      "text/plain": [
       "[1] 1 3 4"
      ]
     },
     "metadata": {},
     "output_type": "display_data"
    }
   ],
   "source": [
    "list.a[ -2 ]"
   ]
  },
  {
   "cell_type": "code",
   "execution_count": 10,
   "metadata": {},
   "outputs": [
    {
     "data": {
      "text/html": [
       "<ol class=list-inline>\n",
       "\t<li>1</li>\n",
       "\t<li>2</li>\n",
       "\t<li>3</li>\n",
       "</ol>\n"
      ],
      "text/latex": [
       "\\begin{enumerate*}\n",
       "\\item 1\n",
       "\\item 2\n",
       "\\item 3\n",
       "\\end{enumerate*}\n"
      ],
      "text/markdown": [
       "1. 1\n",
       "2. 2\n",
       "3. 3\n",
       "\n",
       "\n"
      ],
      "text/plain": [
       "[1] 1 2 3"
      ]
     },
     "metadata": {},
     "output_type": "display_data"
    }
   ],
   "source": [
    "list.a[ 1:3 ]"
   ]
  },
  {
   "cell_type": "code",
   "execution_count": 11,
   "metadata": {},
   "outputs": [
    {
     "data": {
      "text/html": [
       "<ol class=list-inline>\n",
       "\t<li>1</li>\n",
       "\t<li>3</li>\n",
       "\t<li>&lt;NA&gt;</li>\n",
       "</ol>\n"
      ],
      "text/latex": [
       "\\begin{enumerate*}\n",
       "\\item 1\n",
       "\\item 3\n",
       "\\item <NA>\n",
       "\\end{enumerate*}\n"
      ],
      "text/markdown": [
       "1. 1\n",
       "2. 3\n",
       "3. &lt;NA&gt;\n",
       "\n",
       "\n"
      ],
      "text/plain": [
       "[1]  1  3 NA"
      ]
     },
     "metadata": {},
     "output_type": "display_data"
    }
   ],
   "source": [
    "list.a[ c( 1, 3, 5 ) ]"
   ]
  },
  {
   "cell_type": "code",
   "execution_count": 12,
   "metadata": {},
   "outputs": [
    {
     "data": {
      "text/html": [
       "<ol class=list-inline>\n",
       "\t<li>1</li>\n",
       "\t<li>2</li>\n",
       "\t<li>4</li>\n",
       "</ol>\n"
      ],
      "text/latex": [
       "\\begin{enumerate*}\n",
       "\\item 1\n",
       "\\item 2\n",
       "\\item 4\n",
       "\\end{enumerate*}\n"
      ],
      "text/markdown": [
       "1. 1\n",
       "2. 2\n",
       "3. 4\n",
       "\n",
       "\n"
      ],
      "text/plain": [
       "[1] 1 2 4"
      ]
     },
     "metadata": {},
     "output_type": "display_data"
    }
   ],
   "source": [
    "z <- c( TRUE, TRUE, FALSE, TRUE )\n",
    "list.a[ z ]"
   ]
  },
  {
   "cell_type": "markdown",
   "metadata": {},
   "source": [
    "# Vectorization"
   ]
  },
  {
   "cell_type": "code",
   "execution_count": 13,
   "metadata": {},
   "outputs": [
    {
     "data": {
      "text/html": [
       "<ol class=list-inline>\n",
       "\t<li>2</li>\n",
       "\t<li>3</li>\n",
       "\t<li>4</li>\n",
       "\t<li>5</li>\n",
       "\t<li>6</li>\n",
       "\t<li>7</li>\n",
       "\t<li>8</li>\n",
       "\t<li>9</li>\n",
       "\t<li>10</li>\n",
       "\t<li>11</li>\n",
       "</ol>\n"
      ],
      "text/latex": [
       "\\begin{enumerate*}\n",
       "\\item 2\n",
       "\\item 3\n",
       "\\item 4\n",
       "\\item 5\n",
       "\\item 6\n",
       "\\item 7\n",
       "\\item 8\n",
       "\\item 9\n",
       "\\item 10\n",
       "\\item 11\n",
       "\\end{enumerate*}\n"
      ],
      "text/markdown": [
       "1. 2\n",
       "2. 3\n",
       "3. 4\n",
       "4. 5\n",
       "5. 6\n",
       "6. 7\n",
       "7. 8\n",
       "8. 9\n",
       "9. 10\n",
       "10. 11\n",
       "\n",
       "\n"
      ],
      "text/plain": [
       " [1]  2  3  4  5  6  7  8  9 10 11"
      ]
     },
     "metadata": {},
     "output_type": "display_data"
    }
   ],
   "source": [
    "x <- 1:10\n",
    "x + 1"
   ]
  },
  {
   "cell_type": "code",
   "execution_count": 14,
   "metadata": {},
   "outputs": [
    {
     "data": {
      "text/html": [
       "<ol class=list-inline>\n",
       "\t<li>2</li>\n",
       "\t<li>4</li>\n",
       "\t<li>8</li>\n",
       "\t<li>16</li>\n",
       "\t<li>32</li>\n",
       "\t<li>64</li>\n",
       "\t<li>128</li>\n",
       "\t<li>256</li>\n",
       "\t<li>512</li>\n",
       "\t<li>1024</li>\n",
       "</ol>\n"
      ],
      "text/latex": [
       "\\begin{enumerate*}\n",
       "\\item 2\n",
       "\\item 4\n",
       "\\item 8\n",
       "\\item 16\n",
       "\\item 32\n",
       "\\item 64\n",
       "\\item 128\n",
       "\\item 256\n",
       "\\item 512\n",
       "\\item 1024\n",
       "\\end{enumerate*}\n"
      ],
      "text/markdown": [
       "1. 2\n",
       "2. 4\n",
       "3. 8\n",
       "4. 16\n",
       "5. 32\n",
       "6. 64\n",
       "7. 128\n",
       "8. 256\n",
       "9. 512\n",
       "10. 1024\n",
       "\n",
       "\n"
      ],
      "text/plain": [
       " [1]    2    4    8   16   32   64  128  256  512 1024"
      ]
     },
     "metadata": {},
     "output_type": "display_data"
    }
   ],
   "source": [
    "2 ^ x"
   ]
  },
  {
   "cell_type": "code",
   "execution_count": 15,
   "metadata": {},
   "outputs": [
    {
     "data": {
      "text/html": [
       "<ol class=list-inline>\n",
       "\t<li>1</li>\n",
       "\t<li>1.4142135623731</li>\n",
       "\t<li>1.73205080756888</li>\n",
       "\t<li>2</li>\n",
       "\t<li>2.23606797749979</li>\n",
       "\t<li>2.44948974278318</li>\n",
       "\t<li>2.64575131106459</li>\n",
       "\t<li>2.82842712474619</li>\n",
       "\t<li>3</li>\n",
       "\t<li>3.16227766016838</li>\n",
       "</ol>\n"
      ],
      "text/latex": [
       "\\begin{enumerate*}\n",
       "\\item 1\n",
       "\\item 1.4142135623731\n",
       "\\item 1.73205080756888\n",
       "\\item 2\n",
       "\\item 2.23606797749979\n",
       "\\item 2.44948974278318\n",
       "\\item 2.64575131106459\n",
       "\\item 2.82842712474619\n",
       "\\item 3\n",
       "\\item 3.16227766016838\n",
       "\\end{enumerate*}\n"
      ],
      "text/markdown": [
       "1. 1\n",
       "2. 1.4142135623731\n",
       "3. 1.73205080756888\n",
       "4. 2\n",
       "5. 2.23606797749979\n",
       "6. 2.44948974278318\n",
       "7. 2.64575131106459\n",
       "8. 2.82842712474619\n",
       "9. 3\n",
       "10. 3.16227766016838\n",
       "\n",
       "\n"
      ],
      "text/plain": [
       " [1] 1.000000 1.414214 1.732051 2.000000 2.236068 2.449490 2.645751 2.828427\n",
       " [9] 3.000000 3.162278"
      ]
     },
     "metadata": {},
     "output_type": "display_data"
    }
   ],
   "source": [
    "sqrt( x )"
   ]
  },
  {
   "cell_type": "code",
   "execution_count": 16,
   "metadata": {},
   "outputs": [
    {
     "data": {
      "text/html": [
       "<ol class=list-inline>\n",
       "\t<li>0</li>\n",
       "\t<li>0.693147180559945</li>\n",
       "\t<li>1.09861228866811</li>\n",
       "\t<li>1.38629436111989</li>\n",
       "\t<li>1.6094379124341</li>\n",
       "\t<li>1.79175946922805</li>\n",
       "\t<li>1.94591014905531</li>\n",
       "\t<li>2.07944154167984</li>\n",
       "\t<li>2.19722457733622</li>\n",
       "\t<li>2.30258509299405</li>\n",
       "</ol>\n"
      ],
      "text/latex": [
       "\\begin{enumerate*}\n",
       "\\item 0\n",
       "\\item 0.693147180559945\n",
       "\\item 1.09861228866811\n",
       "\\item 1.38629436111989\n",
       "\\item 1.6094379124341\n",
       "\\item 1.79175946922805\n",
       "\\item 1.94591014905531\n",
       "\\item 2.07944154167984\n",
       "\\item 2.19722457733622\n",
       "\\item 2.30258509299405\n",
       "\\end{enumerate*}\n"
      ],
      "text/markdown": [
       "1. 0\n",
       "2. 0.693147180559945\n",
       "3. 1.09861228866811\n",
       "4. 1.38629436111989\n",
       "5. 1.6094379124341\n",
       "6. 1.79175946922805\n",
       "7. 1.94591014905531\n",
       "8. 2.07944154167984\n",
       "9. 2.19722457733622\n",
       "10. 2.30258509299405\n",
       "\n",
       "\n"
      ],
      "text/plain": [
       " [1] 0.0000000 0.6931472 1.0986123 1.3862944 1.6094379 1.7917595 1.9459101\n",
       " [8] 2.0794415 2.1972246 2.3025851"
      ]
     },
     "metadata": {},
     "output_type": "display_data"
    }
   ],
   "source": [
    "log( x )"
   ]
  },
  {
   "cell_type": "code",
   "execution_count": 17,
   "metadata": {},
   "outputs": [
    {
     "data": {
      "text/html": [
       "<ol class=list-inline>\n",
       "\t<li>2.71828182845905</li>\n",
       "\t<li>7.38905609893065</li>\n",
       "\t<li>20.0855369231877</li>\n",
       "\t<li>54.5981500331442</li>\n",
       "\t<li>148.413159102577</li>\n",
       "\t<li>403.428793492735</li>\n",
       "\t<li>1096.63315842846</li>\n",
       "\t<li>2980.95798704173</li>\n",
       "\t<li>8103.08392757538</li>\n",
       "\t<li>22026.4657948067</li>\n",
       "</ol>\n"
      ],
      "text/latex": [
       "\\begin{enumerate*}\n",
       "\\item 2.71828182845905\n",
       "\\item 7.38905609893065\n",
       "\\item 20.0855369231877\n",
       "\\item 54.5981500331442\n",
       "\\item 148.413159102577\n",
       "\\item 403.428793492735\n",
       "\\item 1096.63315842846\n",
       "\\item 2980.95798704173\n",
       "\\item 8103.08392757538\n",
       "\\item 22026.4657948067\n",
       "\\end{enumerate*}\n"
      ],
      "text/markdown": [
       "1. 2.71828182845905\n",
       "2. 7.38905609893065\n",
       "3. 20.0855369231877\n",
       "4. 54.5981500331442\n",
       "5. 148.413159102577\n",
       "6. 403.428793492735\n",
       "7. 1096.63315842846\n",
       "8. 2980.95798704173\n",
       "9. 8103.08392757538\n",
       "10. 22026.4657948067\n",
       "\n",
       "\n"
      ],
      "text/plain": [
       " [1]     2.718282     7.389056    20.085537    54.598150   148.413159\n",
       " [6]   403.428793  1096.633158  2980.957987  8103.083928 22026.465795"
      ]
     },
     "metadata": {},
     "output_type": "display_data"
    }
   ],
   "source": [
    "exp( x )"
   ]
  },
  {
   "cell_type": "markdown",
   "metadata": {},
   "source": [
    "#### Indexing Vectors"
   ]
  },
  {
   "cell_type": "code",
   "execution_count": 18,
   "metadata": {},
   "outputs": [
    {
     "data": {
      "text/html": [
       "<ol class=list-inline>\n",
       "\t<li>3</li>\n",
       "\t<li>4</li>\n",
       "</ol>\n"
      ],
      "text/latex": [
       "\\begin{enumerate*}\n",
       "\\item 3\n",
       "\\item 4\n",
       "\\end{enumerate*}\n"
      ],
      "text/markdown": [
       "1. 3\n",
       "2. 4\n",
       "\n",
       "\n"
      ],
      "text/plain": [
       "[1] 3 4"
      ]
     },
     "metadata": {},
     "output_type": "display_data"
    }
   ],
   "source": [
    "list.a[ list.a > 2 ]"
   ]
  },
  {
   "cell_type": "code",
   "execution_count": 19,
   "metadata": {},
   "outputs": [
    {
     "data": {
      "text/html": [
       "<ol class=list-inline>\n",
       "\t<li>'3'</li>\n",
       "\t<li>'4'</li>\n",
       "</ol>\n"
      ],
      "text/latex": [
       "\\begin{enumerate*}\n",
       "\\item '3'\n",
       "\\item '4'\n",
       "\\end{enumerate*}\n"
      ],
      "text/markdown": [
       "1. '3'\n",
       "2. '4'\n",
       "\n",
       "\n"
      ],
      "text/plain": [
       "[1] \"3\" \"4\""
      ]
     },
     "metadata": {},
     "output_type": "display_data"
    }
   ],
   "source": [
    "as.character( list.a[ list.a > 2 ] )"
   ]
  },
  {
   "cell_type": "code",
   "execution_count": 20,
   "metadata": {},
   "outputs": [
    {
     "data": {
      "text/html": [
       "<ol class=list-inline>\n",
       "\t<li>5</li>\n",
       "\t<li>6</li>\n",
       "</ol>\n"
      ],
      "text/latex": [
       "\\begin{enumerate*}\n",
       "\\item 5\n",
       "\\item 6\n",
       "\\end{enumerate*}\n"
      ],
      "text/markdown": [
       "1. 5\n",
       "2. 6\n",
       "\n",
       "\n"
      ],
      "text/plain": [
       "[1] 5 6"
      ]
     },
     "metadata": {},
     "output_type": "display_data"
    }
   ],
   "source": [
    "list.b <- c( 10, 34, 56, 34, 234, 675 )\n",
    "which( list.b > 56 )"
   ]
  },
  {
   "cell_type": "code",
   "execution_count": 21,
   "metadata": {},
   "outputs": [
    {
     "data": {
      "text/html": [
       "<ol class=list-inline>\n",
       "\t<li>234</li>\n",
       "\t<li>675</li>\n",
       "</ol>\n"
      ],
      "text/latex": [
       "\\begin{enumerate*}\n",
       "\\item 234\n",
       "\\item 675\n",
       "\\end{enumerate*}\n"
      ],
      "text/markdown": [
       "1. 234\n",
       "2. 675\n",
       "\n",
       "\n"
      ],
      "text/plain": [
       "[1] 234 675"
      ]
     },
     "metadata": {},
     "output_type": "display_data"
    }
   ],
   "source": [
    "list.b[ which( list.b > 56 ) ]"
   ]
  },
  {
   "cell_type": "code",
   "execution_count": 22,
   "metadata": {},
   "outputs": [
    {
     "data": {
      "text/html": [
       "675"
      ],
      "text/latex": [
       "675"
      ],
      "text/markdown": [
       "675"
      ],
      "text/plain": [
       "[1] 675"
      ]
     },
     "metadata": {},
     "output_type": "display_data"
    }
   ],
   "source": [
    "max( list.b )"
   ]
  },
  {
   "cell_type": "code",
   "execution_count": 23,
   "metadata": {},
   "outputs": [
    {
     "data": {
      "text/html": [
       "6"
      ],
      "text/latex": [
       "6"
      ],
      "text/markdown": [
       "6"
      ],
      "text/plain": [
       "[1] 6"
      ]
     },
     "metadata": {},
     "output_type": "display_data"
    }
   ],
   "source": [
    "which.max( list.b )"
   ]
  },
  {
   "cell_type": "markdown",
   "metadata": {},
   "source": [
    "# Matrices"
   ]
  },
  {
   "cell_type": "code",
   "execution_count": 24,
   "metadata": {},
   "outputs": [
    {
     "name": "stderr",
     "output_type": "stream",
     "text": [
      "Warning message in matrix(seq(0, 100, 1), nrow = 10, ncol = 10):\n",
      "\"data length [101] is not a sub-multiple or multiple of the number of rows [10]\""
     ]
    },
    {
     "data": {
      "text/html": [
       "<table>\n",
       "<tbody>\n",
       "\t<tr><td>0 </td><td>10</td><td>20</td><td>30</td><td>40</td><td>50</td><td>60</td><td>70</td><td>80</td><td>90</td></tr>\n",
       "\t<tr><td>1 </td><td>11</td><td>21</td><td>31</td><td>41</td><td>51</td><td>61</td><td>71</td><td>81</td><td>91</td></tr>\n",
       "\t<tr><td>2 </td><td>12</td><td>22</td><td>32</td><td>42</td><td>52</td><td>62</td><td>72</td><td>82</td><td>92</td></tr>\n",
       "\t<tr><td>3 </td><td>13</td><td>23</td><td>33</td><td>43</td><td>53</td><td>63</td><td>73</td><td>83</td><td>93</td></tr>\n",
       "\t<tr><td>4 </td><td>14</td><td>24</td><td>34</td><td>44</td><td>54</td><td>64</td><td>74</td><td>84</td><td>94</td></tr>\n",
       "\t<tr><td>5 </td><td>15</td><td>25</td><td>35</td><td>45</td><td>55</td><td>65</td><td>75</td><td>85</td><td>95</td></tr>\n",
       "\t<tr><td>6 </td><td>16</td><td>26</td><td>36</td><td>46</td><td>56</td><td>66</td><td>76</td><td>86</td><td>96</td></tr>\n",
       "\t<tr><td>7 </td><td>17</td><td>27</td><td>37</td><td>47</td><td>57</td><td>67</td><td>77</td><td>87</td><td>97</td></tr>\n",
       "\t<tr><td>8 </td><td>18</td><td>28</td><td>38</td><td>48</td><td>58</td><td>68</td><td>78</td><td>88</td><td>98</td></tr>\n",
       "\t<tr><td>9 </td><td>19</td><td>29</td><td>39</td><td>49</td><td>59</td><td>69</td><td>79</td><td>89</td><td>99</td></tr>\n",
       "</tbody>\n",
       "</table>\n"
      ],
      "text/latex": [
       "\\begin{tabular}{llllllllll}\n",
       "\t 0  & 10 & 20 & 30 & 40 & 50 & 60 & 70 & 80 & 90\\\\\n",
       "\t 1  & 11 & 21 & 31 & 41 & 51 & 61 & 71 & 81 & 91\\\\\n",
       "\t 2  & 12 & 22 & 32 & 42 & 52 & 62 & 72 & 82 & 92\\\\\n",
       "\t 3  & 13 & 23 & 33 & 43 & 53 & 63 & 73 & 83 & 93\\\\\n",
       "\t 4  & 14 & 24 & 34 & 44 & 54 & 64 & 74 & 84 & 94\\\\\n",
       "\t 5  & 15 & 25 & 35 & 45 & 55 & 65 & 75 & 85 & 95\\\\\n",
       "\t 6  & 16 & 26 & 36 & 46 & 56 & 66 & 76 & 86 & 96\\\\\n",
       "\t 7  & 17 & 27 & 37 & 47 & 57 & 67 & 77 & 87 & 97\\\\\n",
       "\t 8  & 18 & 28 & 38 & 48 & 58 & 68 & 78 & 88 & 98\\\\\n",
       "\t 9  & 19 & 29 & 39 & 49 & 59 & 69 & 79 & 89 & 99\\\\\n",
       "\\end{tabular}\n"
      ],
      "text/markdown": [
       "\n",
       "| 0  | 10 | 20 | 30 | 40 | 50 | 60 | 70 | 80 | 90 | \n",
       "| 1  | 11 | 21 | 31 | 41 | 51 | 61 | 71 | 81 | 91 | \n",
       "| 2  | 12 | 22 | 32 | 42 | 52 | 62 | 72 | 82 | 92 | \n",
       "| 3  | 13 | 23 | 33 | 43 | 53 | 63 | 73 | 83 | 93 | \n",
       "| 4  | 14 | 24 | 34 | 44 | 54 | 64 | 74 | 84 | 94 | \n",
       "| 5  | 15 | 25 | 35 | 45 | 55 | 65 | 75 | 85 | 95 | \n",
       "| 6  | 16 | 26 | 36 | 46 | 56 | 66 | 76 | 86 | 96 | \n",
       "| 7  | 17 | 27 | 37 | 47 | 57 | 67 | 77 | 87 | 97 | \n",
       "| 8  | 18 | 28 | 38 | 48 | 58 | 68 | 78 | 88 | 98 | \n",
       "| 9  | 19 | 29 | 39 | 49 | 59 | 69 | 79 | 89 | 99 | \n",
       "\n",
       "\n"
      ],
      "text/plain": [
       "      [,1] [,2] [,3] [,4] [,5] [,6] [,7] [,8] [,9] [,10]\n",
       " [1,] 0    10   20   30   40   50   60   70   80   90   \n",
       " [2,] 1    11   21   31   41   51   61   71   81   91   \n",
       " [3,] 2    12   22   32   42   52   62   72   82   92   \n",
       " [4,] 3    13   23   33   43   53   63   73   83   93   \n",
       " [5,] 4    14   24   34   44   54   64   74   84   94   \n",
       " [6,] 5    15   25   35   45   55   65   75   85   95   \n",
       " [7,] 6    16   26   36   46   56   66   76   86   96   \n",
       " [8,] 7    17   27   37   47   57   67   77   87   97   \n",
       " [9,] 8    18   28   38   48   58   68   78   88   98   \n",
       "[10,] 9    19   29   39   49   59   69   79   89   99   "
      ]
     },
     "metadata": {},
     "output_type": "display_data"
    }
   ],
   "source": [
    "X <- matrix( seq( 0, 100, 1 ), nrow = 10, ncol = 10 )\n",
    "X"
   ]
  },
  {
   "cell_type": "code",
   "execution_count": 25,
   "metadata": {},
   "outputs": [
    {
     "name": "stderr",
     "output_type": "stream",
     "text": [
      "Warning message in matrix(seq(0, 100, 1), nrow = 10, ncol = 10, byrow = TRUE):\n",
      "\"data length [101] is not a sub-multiple or multiple of the number of rows [10]\""
     ]
    },
    {
     "data": {
      "text/html": [
       "<table>\n",
       "<tbody>\n",
       "\t<tr><td> 0</td><td> 1</td><td> 2</td><td> 3</td><td> 4</td><td> 5</td><td> 6</td><td> 7</td><td> 8</td><td> 9</td></tr>\n",
       "\t<tr><td>10</td><td>11</td><td>12</td><td>13</td><td>14</td><td>15</td><td>16</td><td>17</td><td>18</td><td>19</td></tr>\n",
       "\t<tr><td>20</td><td>21</td><td>22</td><td>23</td><td>24</td><td>25</td><td>26</td><td>27</td><td>28</td><td>29</td></tr>\n",
       "\t<tr><td>30</td><td>31</td><td>32</td><td>33</td><td>34</td><td>35</td><td>36</td><td>37</td><td>38</td><td>39</td></tr>\n",
       "\t<tr><td>40</td><td>41</td><td>42</td><td>43</td><td>44</td><td>45</td><td>46</td><td>47</td><td>48</td><td>49</td></tr>\n",
       "\t<tr><td>50</td><td>51</td><td>52</td><td>53</td><td>54</td><td>55</td><td>56</td><td>57</td><td>58</td><td>59</td></tr>\n",
       "\t<tr><td>60</td><td>61</td><td>62</td><td>63</td><td>64</td><td>65</td><td>66</td><td>67</td><td>68</td><td>69</td></tr>\n",
       "\t<tr><td>70</td><td>71</td><td>72</td><td>73</td><td>74</td><td>75</td><td>76</td><td>77</td><td>78</td><td>79</td></tr>\n",
       "\t<tr><td>80</td><td>81</td><td>82</td><td>83</td><td>84</td><td>85</td><td>86</td><td>87</td><td>88</td><td>89</td></tr>\n",
       "\t<tr><td>90</td><td>91</td><td>92</td><td>93</td><td>94</td><td>95</td><td>96</td><td>97</td><td>98</td><td>99</td></tr>\n",
       "</tbody>\n",
       "</table>\n"
      ],
      "text/latex": [
       "\\begin{tabular}{llllllllll}\n",
       "\t  0 &  1 &  2 &  3 &  4 &  5 &  6 &  7 &  8 &  9\\\\\n",
       "\t 10 & 11 & 12 & 13 & 14 & 15 & 16 & 17 & 18 & 19\\\\\n",
       "\t 20 & 21 & 22 & 23 & 24 & 25 & 26 & 27 & 28 & 29\\\\\n",
       "\t 30 & 31 & 32 & 33 & 34 & 35 & 36 & 37 & 38 & 39\\\\\n",
       "\t 40 & 41 & 42 & 43 & 44 & 45 & 46 & 47 & 48 & 49\\\\\n",
       "\t 50 & 51 & 52 & 53 & 54 & 55 & 56 & 57 & 58 & 59\\\\\n",
       "\t 60 & 61 & 62 & 63 & 64 & 65 & 66 & 67 & 68 & 69\\\\\n",
       "\t 70 & 71 & 72 & 73 & 74 & 75 & 76 & 77 & 78 & 79\\\\\n",
       "\t 80 & 81 & 82 & 83 & 84 & 85 & 86 & 87 & 88 & 89\\\\\n",
       "\t 90 & 91 & 92 & 93 & 94 & 95 & 96 & 97 & 98 & 99\\\\\n",
       "\\end{tabular}\n"
      ],
      "text/markdown": [
       "\n",
       "|  0 |  1 |  2 |  3 |  4 |  5 |  6 |  7 |  8 |  9 | \n",
       "| 10 | 11 | 12 | 13 | 14 | 15 | 16 | 17 | 18 | 19 | \n",
       "| 20 | 21 | 22 | 23 | 24 | 25 | 26 | 27 | 28 | 29 | \n",
       "| 30 | 31 | 32 | 33 | 34 | 35 | 36 | 37 | 38 | 39 | \n",
       "| 40 | 41 | 42 | 43 | 44 | 45 | 46 | 47 | 48 | 49 | \n",
       "| 50 | 51 | 52 | 53 | 54 | 55 | 56 | 57 | 58 | 59 | \n",
       "| 60 | 61 | 62 | 63 | 64 | 65 | 66 | 67 | 68 | 69 | \n",
       "| 70 | 71 | 72 | 73 | 74 | 75 | 76 | 77 | 78 | 79 | \n",
       "| 80 | 81 | 82 | 83 | 84 | 85 | 86 | 87 | 88 | 89 | \n",
       "| 90 | 91 | 92 | 93 | 94 | 95 | 96 | 97 | 98 | 99 | \n",
       "\n",
       "\n"
      ],
      "text/plain": [
       "      [,1] [,2] [,3] [,4] [,5] [,6] [,7] [,8] [,9] [,10]\n",
       " [1,]  0    1    2    3    4    5    6    7    8    9   \n",
       " [2,] 10   11   12   13   14   15   16   17   18   19   \n",
       " [3,] 20   21   22   23   24   25   26   27   28   29   \n",
       " [4,] 30   31   32   33   34   35   36   37   38   39   \n",
       " [5,] 40   41   42   43   44   45   46   47   48   49   \n",
       " [6,] 50   51   52   53   54   55   56   57   58   59   \n",
       " [7,] 60   61   62   63   64   65   66   67   68   69   \n",
       " [8,] 70   71   72   73   74   75   76   77   78   79   \n",
       " [9,] 80   81   82   83   84   85   86   87   88   89   \n",
       "[10,] 90   91   92   93   94   95   96   97   98   99   "
      ]
     },
     "metadata": {},
     "output_type": "display_data"
    }
   ],
   "source": [
    "X <- matrix( seq( 0, 100, 1 ), nrow = 10, ncol = 10, byrow = TRUE )\n",
    "X"
   ]
  },
  {
   "cell_type": "code",
   "execution_count": 26,
   "metadata": {},
   "outputs": [
    {
     "data": {
      "text/html": [
       "44"
      ],
      "text/latex": [
       "44"
      ],
      "text/markdown": [
       "44"
      ],
      "text/plain": [
       "[1] 44"
      ]
     },
     "metadata": {},
     "output_type": "display_data"
    }
   ],
   "source": [
    "X[ 5, 5 ]"
   ]
  },
  {
   "cell_type": "code",
   "execution_count": 27,
   "metadata": {},
   "outputs": [
    {
     "data": {
      "text/html": [
       "<ol class=list-inline>\n",
       "\t<li>40</li>\n",
       "\t<li>41</li>\n",
       "\t<li>42</li>\n",
       "\t<li>43</li>\n",
       "\t<li>44</li>\n",
       "\t<li>45</li>\n",
       "\t<li>46</li>\n",
       "\t<li>47</li>\n",
       "\t<li>48</li>\n",
       "\t<li>49</li>\n",
       "</ol>\n"
      ],
      "text/latex": [
       "\\begin{enumerate*}\n",
       "\\item 40\n",
       "\\item 41\n",
       "\\item 42\n",
       "\\item 43\n",
       "\\item 44\n",
       "\\item 45\n",
       "\\item 46\n",
       "\\item 47\n",
       "\\item 48\n",
       "\\item 49\n",
       "\\end{enumerate*}\n"
      ],
      "text/markdown": [
       "1. 40\n",
       "2. 41\n",
       "3. 42\n",
       "4. 43\n",
       "5. 44\n",
       "6. 45\n",
       "7. 46\n",
       "8. 47\n",
       "9. 48\n",
       "10. 49\n",
       "\n",
       "\n"
      ],
      "text/plain": [
       " [1] 40 41 42 43 44 45 46 47 48 49"
      ]
     },
     "metadata": {},
     "output_type": "display_data"
    }
   ],
   "source": [
    "X[ 5, ]"
   ]
  },
  {
   "cell_type": "code",
   "execution_count": 28,
   "metadata": {},
   "outputs": [
    {
     "data": {
      "text/html": [
       "<ol class=list-inline>\n",
       "\t<li>4</li>\n",
       "\t<li>14</li>\n",
       "\t<li>24</li>\n",
       "\t<li>34</li>\n",
       "\t<li>44</li>\n",
       "\t<li>54</li>\n",
       "\t<li>64</li>\n",
       "\t<li>74</li>\n",
       "\t<li>84</li>\n",
       "\t<li>94</li>\n",
       "</ol>\n"
      ],
      "text/latex": [
       "\\begin{enumerate*}\n",
       "\\item 4\n",
       "\\item 14\n",
       "\\item 24\n",
       "\\item 34\n",
       "\\item 44\n",
       "\\item 54\n",
       "\\item 64\n",
       "\\item 74\n",
       "\\item 84\n",
       "\\item 94\n",
       "\\end{enumerate*}\n"
      ],
      "text/markdown": [
       "1. 4\n",
       "2. 14\n",
       "3. 24\n",
       "4. 34\n",
       "5. 44\n",
       "6. 54\n",
       "7. 64\n",
       "8. 74\n",
       "9. 84\n",
       "10. 94\n",
       "\n",
       "\n"
      ],
      "text/plain": [
       " [1]  4 14 24 34 44 54 64 74 84 94"
      ]
     },
     "metadata": {},
     "output_type": "display_data"
    }
   ],
   "source": [
    "X[ , 5 ]"
   ]
  },
  {
   "cell_type": "code",
   "execution_count": 29,
   "metadata": {},
   "outputs": [
    {
     "data": {
      "text/html": [
       "<ol class=list-inline>\n",
       "\t<li>12</li>\n",
       "\t<li>18</li>\n",
       "</ol>\n"
      ],
      "text/latex": [
       "\\begin{enumerate*}\n",
       "\\item 12\n",
       "\\item 18\n",
       "\\end{enumerate*}\n"
      ],
      "text/markdown": [
       "1. 12\n",
       "2. 18\n",
       "\n",
       "\n"
      ],
      "text/plain": [
       "[1] 12 18"
      ]
     },
     "metadata": {},
     "output_type": "display_data"
    }
   ],
   "source": [
    "X[ 2, c( 3, 9 ) ]"
   ]
  },
  {
   "cell_type": "code",
   "execution_count": 30,
   "metadata": {},
   "outputs": [
    {
     "data": {
      "text/html": [
       "<ol class=list-inline>\n",
       "\t<li>21</li>\n",
       "\t<li>81</li>\n",
       "</ol>\n"
      ],
      "text/latex": [
       "\\begin{enumerate*}\n",
       "\\item 21\n",
       "\\item 81\n",
       "\\end{enumerate*}\n"
      ],
      "text/markdown": [
       "1. 21\n",
       "2. 81\n",
       "\n",
       "\n"
      ],
      "text/plain": [
       "[1] 21 81"
      ]
     },
     "metadata": {},
     "output_type": "display_data"
    }
   ],
   "source": [
    "X[ c( 3, 9 ), 2 ]"
   ]
  },
  {
   "cell_type": "code",
   "execution_count": 31,
   "metadata": {},
   "outputs": [
    {
     "data": {
      "text/html": [
       "<ol class=list-inline>\n",
       "\t<li>9</li>\n",
       "\t<li>8</li>\n",
       "\t<li>7</li>\n",
       "\t<li>6</li>\n",
       "\t<li>5</li>\n",
       "\t<li>4</li>\n",
       "\t<li>3</li>\n",
       "\t<li>2</li>\n",
       "\t<li>1</li>\n",
       "\t<li>0</li>\n",
       "</ol>\n"
      ],
      "text/latex": [
       "\\begin{enumerate*}\n",
       "\\item 9\n",
       "\\item 8\n",
       "\\item 7\n",
       "\\item 6\n",
       "\\item 5\n",
       "\\item 4\n",
       "\\item 3\n",
       "\\item 2\n",
       "\\item 1\n",
       "\\item 0\n",
       "\\end{enumerate*}\n"
      ],
      "text/markdown": [
       "1. 9\n",
       "2. 8\n",
       "3. 7\n",
       "4. 6\n",
       "5. 5\n",
       "6. 4\n",
       "7. 3\n",
       "8. 2\n",
       "9. 1\n",
       "10. 0\n",
       "\n",
       "\n"
      ],
      "text/plain": [
       " [1] 9 8 7 6 5 4 3 2 1 0"
      ]
     },
     "metadata": {},
     "output_type": "display_data"
    }
   ],
   "source": [
    "x.2 <- 0:9\n",
    "rev( x.2 )"
   ]
  },
  {
   "cell_type": "code",
   "execution_count": 32,
   "metadata": {},
   "outputs": [
    {
     "data": {
      "text/html": [
       "<table>\n",
       "<tbody>\n",
       "\t<tr><td> 0</td><td> 1</td><td> 2</td><td> 3</td><td> 4</td><td> 5</td><td> 6</td><td> 7</td><td> 8</td><td> 9</td></tr>\n",
       "\t<tr><td>10</td><td>11</td><td>12</td><td>13</td><td>14</td><td>15</td><td>16</td><td>17</td><td>18</td><td>19</td></tr>\n",
       "\t<tr><td>20</td><td>21</td><td>22</td><td>23</td><td>24</td><td>25</td><td>26</td><td>27</td><td>28</td><td>29</td></tr>\n",
       "\t<tr><td>30</td><td>31</td><td>32</td><td>33</td><td>34</td><td>35</td><td>36</td><td>37</td><td>38</td><td>39</td></tr>\n",
       "\t<tr><td>40</td><td>41</td><td>42</td><td>43</td><td>44</td><td>45</td><td>46</td><td>47</td><td>48</td><td>49</td></tr>\n",
       "\t<tr><td>50</td><td>51</td><td>52</td><td>53</td><td>54</td><td>55</td><td>56</td><td>57</td><td>58</td><td>59</td></tr>\n",
       "\t<tr><td>60</td><td>61</td><td>62</td><td>63</td><td>64</td><td>65</td><td>66</td><td>67</td><td>68</td><td>69</td></tr>\n",
       "\t<tr><td>70</td><td>71</td><td>72</td><td>73</td><td>74</td><td>75</td><td>76</td><td>77</td><td>78</td><td>79</td></tr>\n",
       "\t<tr><td>80</td><td>81</td><td>82</td><td>83</td><td>84</td><td>85</td><td>86</td><td>87</td><td>88</td><td>89</td></tr>\n",
       "\t<tr><td>90</td><td>91</td><td>92</td><td>93</td><td>94</td><td>95</td><td>96</td><td>97</td><td>98</td><td>99</td></tr>\n",
       "\t<tr><td>10</td><td> 9</td><td> 8</td><td> 7</td><td> 6</td><td> 5</td><td> 4</td><td> 3</td><td> 2</td><td> 1</td></tr>\n",
       "\t<tr><td> 9</td><td> 9</td><td> 9</td><td> 9</td><td> 9</td><td> 9</td><td> 9</td><td> 9</td><td> 9</td><td> 9</td></tr>\n",
       "</tbody>\n",
       "</table>\n"
      ],
      "text/latex": [
       "\\begin{tabular}{llllllllll}\n",
       "\t  0 &  1 &  2 &  3 &  4 &  5 &  6 &  7 &  8 &  9\\\\\n",
       "\t 10 & 11 & 12 & 13 & 14 & 15 & 16 & 17 & 18 & 19\\\\\n",
       "\t 20 & 21 & 22 & 23 & 24 & 25 & 26 & 27 & 28 & 29\\\\\n",
       "\t 30 & 31 & 32 & 33 & 34 & 35 & 36 & 37 & 38 & 39\\\\\n",
       "\t 40 & 41 & 42 & 43 & 44 & 45 & 46 & 47 & 48 & 49\\\\\n",
       "\t 50 & 51 & 52 & 53 & 54 & 55 & 56 & 57 & 58 & 59\\\\\n",
       "\t 60 & 61 & 62 & 63 & 64 & 65 & 66 & 67 & 68 & 69\\\\\n",
       "\t 70 & 71 & 72 & 73 & 74 & 75 & 76 & 77 & 78 & 79\\\\\n",
       "\t 80 & 81 & 82 & 83 & 84 & 85 & 86 & 87 & 88 & 89\\\\\n",
       "\t 90 & 91 & 92 & 93 & 94 & 95 & 96 & 97 & 98 & 99\\\\\n",
       "\t 10 &  9 &  8 &  7 &  6 &  5 &  4 &  3 &  2 &  1\\\\\n",
       "\t  9 &  9 &  9 &  9 &  9 &  9 &  9 &  9 &  9 &  9\\\\\n",
       "\\end{tabular}\n"
      ],
      "text/markdown": [
       "\n",
       "|  0 |  1 |  2 |  3 |  4 |  5 |  6 |  7 |  8 |  9 | \n",
       "| 10 | 11 | 12 | 13 | 14 | 15 | 16 | 17 | 18 | 19 | \n",
       "| 20 | 21 | 22 | 23 | 24 | 25 | 26 | 27 | 28 | 29 | \n",
       "| 30 | 31 | 32 | 33 | 34 | 35 | 36 | 37 | 38 | 39 | \n",
       "| 40 | 41 | 42 | 43 | 44 | 45 | 46 | 47 | 48 | 49 | \n",
       "| 50 | 51 | 52 | 53 | 54 | 55 | 56 | 57 | 58 | 59 | \n",
       "| 60 | 61 | 62 | 63 | 64 | 65 | 66 | 67 | 68 | 69 | \n",
       "| 70 | 71 | 72 | 73 | 74 | 75 | 76 | 77 | 78 | 79 | \n",
       "| 80 | 81 | 82 | 83 | 84 | 85 | 86 | 87 | 88 | 89 | \n",
       "| 90 | 91 | 92 | 93 | 94 | 95 | 96 | 97 | 98 | 99 | \n",
       "| 10 |  9 |  8 |  7 |  6 |  5 |  4 |  3 |  2 |  1 | \n",
       "|  9 |  9 |  9 |  9 |  9 |  9 |  9 |  9 |  9 |  9 | \n",
       "\n",
       "\n"
      ],
      "text/plain": [
       "      [,1] [,2] [,3] [,4] [,5] [,6] [,7] [,8] [,9] [,10]\n",
       " [1,]  0    1    2    3    4    5    6    7    8    9   \n",
       " [2,] 10   11   12   13   14   15   16   17   18   19   \n",
       " [3,] 20   21   22   23   24   25   26   27   28   29   \n",
       " [4,] 30   31   32   33   34   35   36   37   38   39   \n",
       " [5,] 40   41   42   43   44   45   46   47   48   49   \n",
       " [6,] 50   51   52   53   54   55   56   57   58   59   \n",
       " [7,] 60   61   62   63   64   65   66   67   68   69   \n",
       " [8,] 70   71   72   73   74   75   76   77   78   79   \n",
       " [9,] 80   81   82   83   84   85   86   87   88   89   \n",
       "[10,] 90   91   92   93   94   95   96   97   98   99   \n",
       "[11,] 10    9    8    7    6    5    4    3    2    1   \n",
       "[12,]  9    9    9    9    9    9    9    9    9    9   "
      ]
     },
     "metadata": {},
     "output_type": "display_data"
    }
   ],
   "source": [
    "rbind( X, rev( x ), rep( 9:9 ) )"
   ]
  },
  {
   "cell_type": "code",
   "execution_count": 34,
   "metadata": {},
   "outputs": [
    {
     "data": {
      "text/html": [
       "<table>\n",
       "<tbody>\n",
       "\t<tr><td>  0</td><td>  2</td><td>  4</td><td>  6</td><td>  8</td><td> 10</td><td> 12</td><td> 14</td><td> 16</td><td> 18</td></tr>\n",
       "\t<tr><td> 20</td><td> 22</td><td> 24</td><td> 26</td><td> 28</td><td> 30</td><td> 32</td><td> 34</td><td> 36</td><td> 38</td></tr>\n",
       "\t<tr><td> 40</td><td> 42</td><td> 44</td><td> 46</td><td> 48</td><td> 50</td><td> 52</td><td> 54</td><td> 56</td><td> 58</td></tr>\n",
       "\t<tr><td> 60</td><td> 62</td><td> 64</td><td> 66</td><td> 68</td><td> 70</td><td> 72</td><td> 74</td><td> 76</td><td> 78</td></tr>\n",
       "\t<tr><td> 80</td><td> 82</td><td> 84</td><td> 86</td><td> 88</td><td> 90</td><td> 92</td><td> 94</td><td> 96</td><td> 98</td></tr>\n",
       "\t<tr><td>100</td><td>102</td><td>104</td><td>106</td><td>108</td><td>110</td><td>112</td><td>114</td><td>116</td><td>118</td></tr>\n",
       "\t<tr><td>120</td><td>122</td><td>124</td><td>126</td><td>128</td><td>130</td><td>132</td><td>134</td><td>136</td><td>138</td></tr>\n",
       "\t<tr><td>140</td><td>142</td><td>144</td><td>146</td><td>148</td><td>150</td><td>152</td><td>154</td><td>156</td><td>158</td></tr>\n",
       "\t<tr><td>160</td><td>162</td><td>164</td><td>166</td><td>168</td><td>170</td><td>172</td><td>174</td><td>176</td><td>178</td></tr>\n",
       "\t<tr><td>180</td><td>182</td><td>184</td><td>186</td><td>188</td><td>190</td><td>192</td><td>194</td><td>196</td><td>198</td></tr>\n",
       "</tbody>\n",
       "</table>\n"
      ],
      "text/latex": [
       "\\begin{tabular}{llllllllll}\n",
       "\t   0 &   2 &   4 &   6 &   8 &  10 &  12 &  14 &  16 &  18\\\\\n",
       "\t  20 &  22 &  24 &  26 &  28 &  30 &  32 &  34 &  36 &  38\\\\\n",
       "\t  40 &  42 &  44 &  46 &  48 &  50 &  52 &  54 &  56 &  58\\\\\n",
       "\t  60 &  62 &  64 &  66 &  68 &  70 &  72 &  74 &  76 &  78\\\\\n",
       "\t  80 &  82 &  84 &  86 &  88 &  90 &  92 &  94 &  96 &  98\\\\\n",
       "\t 100 & 102 & 104 & 106 & 108 & 110 & 112 & 114 & 116 & 118\\\\\n",
       "\t 120 & 122 & 124 & 126 & 128 & 130 & 132 & 134 & 136 & 138\\\\\n",
       "\t 140 & 142 & 144 & 146 & 148 & 150 & 152 & 154 & 156 & 158\\\\\n",
       "\t 160 & 162 & 164 & 166 & 168 & 170 & 172 & 174 & 176 & 178\\\\\n",
       "\t 180 & 182 & 184 & 186 & 188 & 190 & 192 & 194 & 196 & 198\\\\\n",
       "\\end{tabular}\n"
      ],
      "text/markdown": [
       "\n",
       "|   0 |   2 |   4 |   6 |   8 |  10 |  12 |  14 |  16 |  18 | \n",
       "|  20 |  22 |  24 |  26 |  28 |  30 |  32 |  34 |  36 |  38 | \n",
       "|  40 |  42 |  44 |  46 |  48 |  50 |  52 |  54 |  56 |  58 | \n",
       "|  60 |  62 |  64 |  66 |  68 |  70 |  72 |  74 |  76 |  78 | \n",
       "|  80 |  82 |  84 |  86 |  88 |  90 |  92 |  94 |  96 |  98 | \n",
       "| 100 | 102 | 104 | 106 | 108 | 110 | 112 | 114 | 116 | 118 | \n",
       "| 120 | 122 | 124 | 126 | 128 | 130 | 132 | 134 | 136 | 138 | \n",
       "| 140 | 142 | 144 | 146 | 148 | 150 | 152 | 154 | 156 | 158 | \n",
       "| 160 | 162 | 164 | 166 | 168 | 170 | 172 | 174 | 176 | 178 | \n",
       "| 180 | 182 | 184 | 186 | 188 | 190 | 192 | 194 | 196 | 198 | \n",
       "\n",
       "\n"
      ],
      "text/plain": [
       "      [,1] [,2] [,3] [,4] [,5] [,6] [,7] [,8] [,9] [,10]\n",
       " [1,]   0    2    4    6    8   10   12   14   16   18  \n",
       " [2,]  20   22   24   26   28   30   32   34   36   38  \n",
       " [3,]  40   42   44   46   48   50   52   54   56   58  \n",
       " [4,]  60   62   64   66   68   70   72   74   76   78  \n",
       " [5,]  80   82   84   86   88   90   92   94   96   98  \n",
       " [6,] 100  102  104  106  108  110  112  114  116  118  \n",
       " [7,] 120  122  124  126  128  130  132  134  136  138  \n",
       " [8,] 140  142  144  146  148  150  152  154  156  158  \n",
       " [9,] 160  162  164  166  168  170  172  174  176  178  \n",
       "[10,] 180  182  184  186  188  190  192  194  196  198  "
      ]
     },
     "metadata": {},
     "output_type": "display_data"
    }
   ],
   "source": [
    "X + X"
   ]
  },
  {
   "cell_type": "code",
   "execution_count": 36,
   "metadata": {},
   "outputs": [
    {
     "data": {
      "text/html": [
       "<table>\n",
       "<tbody>\n",
       "\t<tr><td>   0</td><td>   1</td><td>   4</td><td>   9</td><td>  16</td><td>  25</td><td>  36</td><td>  49</td><td>  64</td><td>  81</td></tr>\n",
       "\t<tr><td> 100</td><td> 121</td><td> 144</td><td> 169</td><td> 196</td><td> 225</td><td> 256</td><td> 289</td><td> 324</td><td> 361</td></tr>\n",
       "\t<tr><td> 400</td><td> 441</td><td> 484</td><td> 529</td><td> 576</td><td> 625</td><td> 676</td><td> 729</td><td> 784</td><td> 841</td></tr>\n",
       "\t<tr><td> 900</td><td> 961</td><td>1024</td><td>1089</td><td>1156</td><td>1225</td><td>1296</td><td>1369</td><td>1444</td><td>1521</td></tr>\n",
       "\t<tr><td>1600</td><td>1681</td><td>1764</td><td>1849</td><td>1936</td><td>2025</td><td>2116</td><td>2209</td><td>2304</td><td>2401</td></tr>\n",
       "\t<tr><td>2500</td><td>2601</td><td>2704</td><td>2809</td><td>2916</td><td>3025</td><td>3136</td><td>3249</td><td>3364</td><td>3481</td></tr>\n",
       "\t<tr><td>3600</td><td>3721</td><td>3844</td><td>3969</td><td>4096</td><td>4225</td><td>4356</td><td>4489</td><td>4624</td><td>4761</td></tr>\n",
       "\t<tr><td>4900</td><td>5041</td><td>5184</td><td>5329</td><td>5476</td><td>5625</td><td>5776</td><td>5929</td><td>6084</td><td>6241</td></tr>\n",
       "\t<tr><td>6400</td><td>6561</td><td>6724</td><td>6889</td><td>7056</td><td>7225</td><td>7396</td><td>7569</td><td>7744</td><td>7921</td></tr>\n",
       "\t<tr><td>8100</td><td>8281</td><td>8464</td><td>8649</td><td>8836</td><td>9025</td><td>9216</td><td>9409</td><td>9604</td><td>9801</td></tr>\n",
       "</tbody>\n",
       "</table>\n"
      ],
      "text/latex": [
       "\\begin{tabular}{llllllllll}\n",
       "\t    0 &    1 &    4 &    9 &   16 &   25 &   36 &   49 &   64 &   81\\\\\n",
       "\t  100 &  121 &  144 &  169 &  196 &  225 &  256 &  289 &  324 &  361\\\\\n",
       "\t  400 &  441 &  484 &  529 &  576 &  625 &  676 &  729 &  784 &  841\\\\\n",
       "\t  900 &  961 & 1024 & 1089 & 1156 & 1225 & 1296 & 1369 & 1444 & 1521\\\\\n",
       "\t 1600 & 1681 & 1764 & 1849 & 1936 & 2025 & 2116 & 2209 & 2304 & 2401\\\\\n",
       "\t 2500 & 2601 & 2704 & 2809 & 2916 & 3025 & 3136 & 3249 & 3364 & 3481\\\\\n",
       "\t 3600 & 3721 & 3844 & 3969 & 4096 & 4225 & 4356 & 4489 & 4624 & 4761\\\\\n",
       "\t 4900 & 5041 & 5184 & 5329 & 5476 & 5625 & 5776 & 5929 & 6084 & 6241\\\\\n",
       "\t 6400 & 6561 & 6724 & 6889 & 7056 & 7225 & 7396 & 7569 & 7744 & 7921\\\\\n",
       "\t 8100 & 8281 & 8464 & 8649 & 8836 & 9025 & 9216 & 9409 & 9604 & 9801\\\\\n",
       "\\end{tabular}\n"
      ],
      "text/markdown": [
       "\n",
       "|    0 |    1 |    4 |    9 |   16 |   25 |   36 |   49 |   64 |   81 | \n",
       "|  100 |  121 |  144 |  169 |  196 |  225 |  256 |  289 |  324 |  361 | \n",
       "|  400 |  441 |  484 |  529 |  576 |  625 |  676 |  729 |  784 |  841 | \n",
       "|  900 |  961 | 1024 | 1089 | 1156 | 1225 | 1296 | 1369 | 1444 | 1521 | \n",
       "| 1600 | 1681 | 1764 | 1849 | 1936 | 2025 | 2116 | 2209 | 2304 | 2401 | \n",
       "| 2500 | 2601 | 2704 | 2809 | 2916 | 3025 | 3136 | 3249 | 3364 | 3481 | \n",
       "| 3600 | 3721 | 3844 | 3969 | 4096 | 4225 | 4356 | 4489 | 4624 | 4761 | \n",
       "| 4900 | 5041 | 5184 | 5329 | 5476 | 5625 | 5776 | 5929 | 6084 | 6241 | \n",
       "| 6400 | 6561 | 6724 | 6889 | 7056 | 7225 | 7396 | 7569 | 7744 | 7921 | \n",
       "| 8100 | 8281 | 8464 | 8649 | 8836 | 9025 | 9216 | 9409 | 9604 | 9801 | \n",
       "\n",
       "\n"
      ],
      "text/plain": [
       "      [,1] [,2] [,3] [,4] [,5] [,6] [,7] [,8] [,9] [,10]\n",
       " [1,]    0    1    4    9   16   25   36   49   64   81 \n",
       " [2,]  100  121  144  169  196  225  256  289  324  361 \n",
       " [3,]  400  441  484  529  576  625  676  729  784  841 \n",
       " [4,]  900  961 1024 1089 1156 1225 1296 1369 1444 1521 \n",
       " [5,] 1600 1681 1764 1849 1936 2025 2116 2209 2304 2401 \n",
       " [6,] 2500 2601 2704 2809 2916 3025 3136 3249 3364 3481 \n",
       " [7,] 3600 3721 3844 3969 4096 4225 4356 4489 4624 4761 \n",
       " [8,] 4900 5041 5184 5329 5476 5625 5776 5929 6084 6241 \n",
       " [9,] 6400 6561 6724 6889 7056 7225 7396 7569 7744 7921 \n",
       "[10,] 8100 8281 8464 8649 8836 9025 9216 9409 9604 9801 "
      ]
     },
     "metadata": {},
     "output_type": "display_data"
    }
   ],
   "source": [
    "# Not matrix multiplication, but element-wise (same for division)\n",
    "X * X"
   ]
  },
  {
   "cell_type": "code",
   "execution_count": 37,
   "metadata": {},
   "outputs": [
    {
     "data": {
      "text/html": [
       "<table>\n",
       "<tbody>\n",
       "\t<tr><td> 2850</td><td> 2895</td><td> 2940</td><td> 2985</td><td> 3030</td><td> 3075</td><td> 3120</td><td> 3165</td><td> 3210</td><td> 3255</td></tr>\n",
       "\t<tr><td> 7350</td><td> 7495</td><td> 7640</td><td> 7785</td><td> 7930</td><td> 8075</td><td> 8220</td><td> 8365</td><td> 8510</td><td> 8655</td></tr>\n",
       "\t<tr><td>11850</td><td>12095</td><td>12340</td><td>12585</td><td>12830</td><td>13075</td><td>13320</td><td>13565</td><td>13810</td><td>14055</td></tr>\n",
       "\t<tr><td>16350</td><td>16695</td><td>17040</td><td>17385</td><td>17730</td><td>18075</td><td>18420</td><td>18765</td><td>19110</td><td>19455</td></tr>\n",
       "\t<tr><td>20850</td><td>21295</td><td>21740</td><td>22185</td><td>22630</td><td>23075</td><td>23520</td><td>23965</td><td>24410</td><td>24855</td></tr>\n",
       "\t<tr><td>25350</td><td>25895</td><td>26440</td><td>26985</td><td>27530</td><td>28075</td><td>28620</td><td>29165</td><td>29710</td><td>30255</td></tr>\n",
       "\t<tr><td>29850</td><td>30495</td><td>31140</td><td>31785</td><td>32430</td><td>33075</td><td>33720</td><td>34365</td><td>35010</td><td>35655</td></tr>\n",
       "\t<tr><td>34350</td><td>35095</td><td>35840</td><td>36585</td><td>37330</td><td>38075</td><td>38820</td><td>39565</td><td>40310</td><td>41055</td></tr>\n",
       "\t<tr><td>38850</td><td>39695</td><td>40540</td><td>41385</td><td>42230</td><td>43075</td><td>43920</td><td>44765</td><td>45610</td><td>46455</td></tr>\n",
       "\t<tr><td>43350</td><td>44295</td><td>45240</td><td>46185</td><td>47130</td><td>48075</td><td>49020</td><td>49965</td><td>50910</td><td>51855</td></tr>\n",
       "</tbody>\n",
       "</table>\n"
      ],
      "text/latex": [
       "\\begin{tabular}{llllllllll}\n",
       "\t  2850 &  2895 &  2940 &  2985 &  3030 &  3075 &  3120 &  3165 &  3210 &  3255\\\\\n",
       "\t  7350 &  7495 &  7640 &  7785 &  7930 &  8075 &  8220 &  8365 &  8510 &  8655\\\\\n",
       "\t 11850 & 12095 & 12340 & 12585 & 12830 & 13075 & 13320 & 13565 & 13810 & 14055\\\\\n",
       "\t 16350 & 16695 & 17040 & 17385 & 17730 & 18075 & 18420 & 18765 & 19110 & 19455\\\\\n",
       "\t 20850 & 21295 & 21740 & 22185 & 22630 & 23075 & 23520 & 23965 & 24410 & 24855\\\\\n",
       "\t 25350 & 25895 & 26440 & 26985 & 27530 & 28075 & 28620 & 29165 & 29710 & 30255\\\\\n",
       "\t 29850 & 30495 & 31140 & 31785 & 32430 & 33075 & 33720 & 34365 & 35010 & 35655\\\\\n",
       "\t 34350 & 35095 & 35840 & 36585 & 37330 & 38075 & 38820 & 39565 & 40310 & 41055\\\\\n",
       "\t 38850 & 39695 & 40540 & 41385 & 42230 & 43075 & 43920 & 44765 & 45610 & 46455\\\\\n",
       "\t 43350 & 44295 & 45240 & 46185 & 47130 & 48075 & 49020 & 49965 & 50910 & 51855\\\\\n",
       "\\end{tabular}\n"
      ],
      "text/markdown": [
       "\n",
       "|  2850 |  2895 |  2940 |  2985 |  3030 |  3075 |  3120 |  3165 |  3210 |  3255 | \n",
       "|  7350 |  7495 |  7640 |  7785 |  7930 |  8075 |  8220 |  8365 |  8510 |  8655 | \n",
       "| 11850 | 12095 | 12340 | 12585 | 12830 | 13075 | 13320 | 13565 | 13810 | 14055 | \n",
       "| 16350 | 16695 | 17040 | 17385 | 17730 | 18075 | 18420 | 18765 | 19110 | 19455 | \n",
       "| 20850 | 21295 | 21740 | 22185 | 22630 | 23075 | 23520 | 23965 | 24410 | 24855 | \n",
       "| 25350 | 25895 | 26440 | 26985 | 27530 | 28075 | 28620 | 29165 | 29710 | 30255 | \n",
       "| 29850 | 30495 | 31140 | 31785 | 32430 | 33075 | 33720 | 34365 | 35010 | 35655 | \n",
       "| 34350 | 35095 | 35840 | 36585 | 37330 | 38075 | 38820 | 39565 | 40310 | 41055 | \n",
       "| 38850 | 39695 | 40540 | 41385 | 42230 | 43075 | 43920 | 44765 | 45610 | 46455 | \n",
       "| 43350 | 44295 | 45240 | 46185 | 47130 | 48075 | 49020 | 49965 | 50910 | 51855 | \n",
       "\n",
       "\n"
      ],
      "text/plain": [
       "      [,1]  [,2]  [,3]  [,4]  [,5]  [,6]  [,7]  [,8]  [,9]  [,10]\n",
       " [1,]  2850  2895  2940  2985  3030  3075  3120  3165  3210  3255\n",
       " [2,]  7350  7495  7640  7785  7930  8075  8220  8365  8510  8655\n",
       " [3,] 11850 12095 12340 12585 12830 13075 13320 13565 13810 14055\n",
       " [4,] 16350 16695 17040 17385 17730 18075 18420 18765 19110 19455\n",
       " [5,] 20850 21295 21740 22185 22630 23075 23520 23965 24410 24855\n",
       " [6,] 25350 25895 26440 26985 27530 28075 28620 29165 29710 30255\n",
       " [7,] 29850 30495 31140 31785 32430 33075 33720 34365 35010 35655\n",
       " [8,] 34350 35095 35840 36585 37330 38075 38820 39565 40310 41055\n",
       " [9,] 38850 39695 40540 41385 42230 43075 43920 44765 45610 46455\n",
       "[10,] 43350 44295 45240 46185 47130 48075 49020 49965 50910 51855"
      ]
     },
     "metadata": {},
     "output_type": "display_data"
    }
   ],
   "source": [
    "# Matrix multiplication\n",
    "X %*% X"
   ]
  },
  {
   "cell_type": "code",
   "execution_count": 38,
   "metadata": {},
   "outputs": [
    {
     "data": {
      "text/html": [
       "<table>\n",
       "<tbody>\n",
       "\t<tr><td>0 </td><td>10</td><td>20</td><td>30</td><td>40</td><td>50</td><td>60</td><td>70</td><td>80</td><td>90</td></tr>\n",
       "\t<tr><td>1 </td><td>11</td><td>21</td><td>31</td><td>41</td><td>51</td><td>61</td><td>71</td><td>81</td><td>91</td></tr>\n",
       "\t<tr><td>2 </td><td>12</td><td>22</td><td>32</td><td>42</td><td>52</td><td>62</td><td>72</td><td>82</td><td>92</td></tr>\n",
       "\t<tr><td>3 </td><td>13</td><td>23</td><td>33</td><td>43</td><td>53</td><td>63</td><td>73</td><td>83</td><td>93</td></tr>\n",
       "\t<tr><td>4 </td><td>14</td><td>24</td><td>34</td><td>44</td><td>54</td><td>64</td><td>74</td><td>84</td><td>94</td></tr>\n",
       "\t<tr><td>5 </td><td>15</td><td>25</td><td>35</td><td>45</td><td>55</td><td>65</td><td>75</td><td>85</td><td>95</td></tr>\n",
       "\t<tr><td>6 </td><td>16</td><td>26</td><td>36</td><td>46</td><td>56</td><td>66</td><td>76</td><td>86</td><td>96</td></tr>\n",
       "\t<tr><td>7 </td><td>17</td><td>27</td><td>37</td><td>47</td><td>57</td><td>67</td><td>77</td><td>87</td><td>97</td></tr>\n",
       "\t<tr><td>8 </td><td>18</td><td>28</td><td>38</td><td>48</td><td>58</td><td>68</td><td>78</td><td>88</td><td>98</td></tr>\n",
       "\t<tr><td>9 </td><td>19</td><td>29</td><td>39</td><td>49</td><td>59</td><td>69</td><td>79</td><td>89</td><td>99</td></tr>\n",
       "</tbody>\n",
       "</table>\n"
      ],
      "text/latex": [
       "\\begin{tabular}{llllllllll}\n",
       "\t 0  & 10 & 20 & 30 & 40 & 50 & 60 & 70 & 80 & 90\\\\\n",
       "\t 1  & 11 & 21 & 31 & 41 & 51 & 61 & 71 & 81 & 91\\\\\n",
       "\t 2  & 12 & 22 & 32 & 42 & 52 & 62 & 72 & 82 & 92\\\\\n",
       "\t 3  & 13 & 23 & 33 & 43 & 53 & 63 & 73 & 83 & 93\\\\\n",
       "\t 4  & 14 & 24 & 34 & 44 & 54 & 64 & 74 & 84 & 94\\\\\n",
       "\t 5  & 15 & 25 & 35 & 45 & 55 & 65 & 75 & 85 & 95\\\\\n",
       "\t 6  & 16 & 26 & 36 & 46 & 56 & 66 & 76 & 86 & 96\\\\\n",
       "\t 7  & 17 & 27 & 37 & 47 & 57 & 67 & 77 & 87 & 97\\\\\n",
       "\t 8  & 18 & 28 & 38 & 48 & 58 & 68 & 78 & 88 & 98\\\\\n",
       "\t 9  & 19 & 29 & 39 & 49 & 59 & 69 & 79 & 89 & 99\\\\\n",
       "\\end{tabular}\n"
      ],
      "text/markdown": [
       "\n",
       "| 0  | 10 | 20 | 30 | 40 | 50 | 60 | 70 | 80 | 90 | \n",
       "| 1  | 11 | 21 | 31 | 41 | 51 | 61 | 71 | 81 | 91 | \n",
       "| 2  | 12 | 22 | 32 | 42 | 52 | 62 | 72 | 82 | 92 | \n",
       "| 3  | 13 | 23 | 33 | 43 | 53 | 63 | 73 | 83 | 93 | \n",
       "| 4  | 14 | 24 | 34 | 44 | 54 | 64 | 74 | 84 | 94 | \n",
       "| 5  | 15 | 25 | 35 | 45 | 55 | 65 | 75 | 85 | 95 | \n",
       "| 6  | 16 | 26 | 36 | 46 | 56 | 66 | 76 | 86 | 96 | \n",
       "| 7  | 17 | 27 | 37 | 47 | 57 | 67 | 77 | 87 | 97 | \n",
       "| 8  | 18 | 28 | 38 | 48 | 58 | 68 | 78 | 88 | 98 | \n",
       "| 9  | 19 | 29 | 39 | 49 | 59 | 69 | 79 | 89 | 99 | \n",
       "\n",
       "\n"
      ],
      "text/plain": [
       "      [,1] [,2] [,3] [,4] [,5] [,6] [,7] [,8] [,9] [,10]\n",
       " [1,] 0    10   20   30   40   50   60   70   80   90   \n",
       " [2,] 1    11   21   31   41   51   61   71   81   91   \n",
       " [3,] 2    12   22   32   42   52   62   72   82   92   \n",
       " [4,] 3    13   23   33   43   53   63   73   83   93   \n",
       " [5,] 4    14   24   34   44   54   64   74   84   94   \n",
       " [6,] 5    15   25   35   45   55   65   75   85   95   \n",
       " [7,] 6    16   26   36   46   56   66   76   86   96   \n",
       " [8,] 7    17   27   37   47   57   67   77   87   97   \n",
       " [9,] 8    18   28   38   48   58   68   78   88   98   \n",
       "[10,] 9    19   29   39   49   59   69   79   89   99   "
      ]
     },
     "metadata": {},
     "output_type": "display_data"
    }
   ],
   "source": [
    "t(X)"
   ]
  },
  {
   "cell_type": "code",
   "execution_count": 47,
   "metadata": {},
   "outputs": [
    {
     "data": {
      "text/html": [
       "<table>\n",
       "<tbody>\n",
       "\t<tr><td> 0.12931034</td><td>-0.05603448</td><td>0.01724138 </td></tr>\n",
       "\t<tr><td>-0.05603448</td><td> 0.29094828</td><td>0.02586207 </td></tr>\n",
       "\t<tr><td> 0.01724138</td><td> 0.02586207</td><td>0.06896552 </td></tr>\n",
       "</tbody>\n",
       "</table>\n"
      ],
      "text/latex": [
       "\\begin{tabular}{lll}\n",
       "\t  0.12931034 & -0.05603448 & 0.01724138 \\\\\n",
       "\t -0.05603448 &  0.29094828 & 0.02586207 \\\\\n",
       "\t  0.01724138 &  0.02586207 & 0.06896552 \\\\\n",
       "\\end{tabular}\n"
      ],
      "text/markdown": [
       "\n",
       "|  0.12931034 | -0.05603448 | 0.01724138  | \n",
       "| -0.05603448 |  0.29094828 | 0.02586207  | \n",
       "|  0.01724138 |  0.02586207 | 0.06896552  | \n",
       "\n",
       "\n"
      ],
      "text/plain": [
       "     [,1]        [,2]        [,3]      \n",
       "[1,]  0.12931034 -0.05603448 0.01724138\n",
       "[2,] -0.05603448  0.29094828 0.02586207\n",
       "[3,]  0.01724138  0.02586207 0.06896552"
      ]
     },
     "metadata": {},
     "output_type": "display_data"
    }
   ],
   "source": [
    "Z <- matrix( c( 9, 2, -3, 2, 4, -2, -3, -2, 16 ), 3, byrow = TRUE )\n",
    "# Inversion of Square Matrix if Solvable\n",
    "solve(Z)"
   ]
  },
  {
   "cell_type": "code",
   "execution_count": 48,
   "metadata": {},
   "outputs": [
    {
     "data": {
      "text/html": [
       "<table>\n",
       "<tbody>\n",
       "\t<tr><td> 1.000000e+00</td><td>-6.245005e-17</td><td> 0.000000e+00</td></tr>\n",
       "\t<tr><td> 8.326673e-17</td><td> 1.000000e+00</td><td>-5.551115e-17</td></tr>\n",
       "\t<tr><td>-2.775558e-17</td><td> 0.000000e+00</td><td> 1.000000e+00</td></tr>\n",
       "</tbody>\n",
       "</table>\n"
      ],
      "text/latex": [
       "\\begin{tabular}{lll}\n",
       "\t  1.000000e+00 & -6.245005e-17 &  0.000000e+00\\\\\n",
       "\t  8.326673e-17 &  1.000000e+00 & -5.551115e-17\\\\\n",
       "\t -2.775558e-17 &  0.000000e+00 &  1.000000e+00\\\\\n",
       "\\end{tabular}\n"
      ],
      "text/markdown": [
       "\n",
       "|  1.000000e+00 | -6.245005e-17 |  0.000000e+00 | \n",
       "|  8.326673e-17 |  1.000000e+00 | -5.551115e-17 | \n",
       "| -2.775558e-17 |  0.000000e+00 |  1.000000e+00 | \n",
       "\n",
       "\n"
      ],
      "text/plain": [
       "     [,1]          [,2]          [,3]         \n",
       "[1,]  1.000000e+00 -6.245005e-17  0.000000e+00\n",
       "[2,]  8.326673e-17  1.000000e+00 -5.551115e-17\n",
       "[3,] -2.775558e-17  0.000000e+00  1.000000e+00"
      ]
     },
     "metadata": {},
     "output_type": "display_data"
    }
   ],
   "source": [
    "# Should return identity, but because of computation issues better to use all.equal()\n",
    "solve(Z) %*% Z"
   ]
  },
  {
   "cell_type": "code",
   "execution_count": 49,
   "metadata": {},
   "outputs": [
    {
     "data": {
      "text/html": [
       "<table>\n",
       "<tbody>\n",
       "\t<tr><td>1</td><td>0</td><td>0</td></tr>\n",
       "\t<tr><td>0</td><td>1</td><td>0</td></tr>\n",
       "\t<tr><td>0</td><td>0</td><td>1</td></tr>\n",
       "</tbody>\n",
       "</table>\n"
      ],
      "text/latex": [
       "\\begin{tabular}{lll}\n",
       "\t 1 & 0 & 0\\\\\n",
       "\t 0 & 1 & 0\\\\\n",
       "\t 0 & 0 & 1\\\\\n",
       "\\end{tabular}\n"
      ],
      "text/markdown": [
       "\n",
       "| 1 | 0 | 0 | \n",
       "| 0 | 1 | 0 | \n",
       "| 0 | 0 | 1 | \n",
       "\n",
       "\n"
      ],
      "text/plain": [
       "     [,1] [,2] [,3]\n",
       "[1,] 1    0    0   \n",
       "[2,] 0    1    0   \n",
       "[3,] 0    0    1   "
      ]
     },
     "metadata": {},
     "output_type": "display_data"
    }
   ],
   "source": [
    "diag(3)"
   ]
  },
  {
   "cell_type": "code",
   "execution_count": 50,
   "metadata": {},
   "outputs": [
    {
     "data": {
      "text/html": [
       "TRUE"
      ],
      "text/latex": [
       "TRUE"
      ],
      "text/markdown": [
       "TRUE"
      ],
      "text/plain": [
       "[1] TRUE"
      ]
     },
     "metadata": {},
     "output_type": "display_data"
    }
   ],
   "source": [
    "all.equal( solve(Z) %*% Z, diag(3) )"
   ]
  },
  {
   "cell_type": "code",
   "execution_count": 51,
   "metadata": {},
   "outputs": [
    {
     "data": {
      "text/html": [
       "<ol class=list-inline>\n",
       "\t<li>3</li>\n",
       "\t<li>3</li>\n",
       "</ol>\n"
      ],
      "text/latex": [
       "\\begin{enumerate*}\n",
       "\\item 3\n",
       "\\item 3\n",
       "\\end{enumerate*}\n"
      ],
      "text/markdown": [
       "1. 3\n",
       "2. 3\n",
       "\n",
       "\n"
      ],
      "text/plain": [
       "[1] 3 3"
      ]
     },
     "metadata": {},
     "output_type": "display_data"
    }
   ],
   "source": [
    "dim(Z)"
   ]
  },
  {
   "cell_type": "code",
   "execution_count": 53,
   "metadata": {},
   "outputs": [
    {
     "data": {
      "text/html": [
       "<ol class=list-inline>\n",
       "\t<li>8</li>\n",
       "\t<li>4</li>\n",
       "\t<li>11</li>\n",
       "</ol>\n"
      ],
      "text/latex": [
       "\\begin{enumerate*}\n",
       "\\item 8\n",
       "\\item 4\n",
       "\\item 11\n",
       "\\end{enumerate*}\n"
      ],
      "text/markdown": [
       "1. 8\n",
       "2. 4\n",
       "3. 11\n",
       "\n",
       "\n"
      ],
      "text/plain": [
       "[1]  8  4 11"
      ]
     },
     "metadata": {},
     "output_type": "display_data"
    }
   ],
   "source": [
    "rowSums(Z)"
   ]
  },
  {
   "cell_type": "code",
   "execution_count": 54,
   "metadata": {},
   "outputs": [
    {
     "data": {
      "text/html": [
       "<ol class=list-inline>\n",
       "\t<li>8</li>\n",
       "\t<li>4</li>\n",
       "\t<li>11</li>\n",
       "</ol>\n"
      ],
      "text/latex": [
       "\\begin{enumerate*}\n",
       "\\item 8\n",
       "\\item 4\n",
       "\\item 11\n",
       "\\end{enumerate*}\n"
      ],
      "text/markdown": [
       "1. 8\n",
       "2. 4\n",
       "3. 11\n",
       "\n",
       "\n"
      ],
      "text/plain": [
       "[1]  8  4 11"
      ]
     },
     "metadata": {},
     "output_type": "display_data"
    }
   ],
   "source": [
    "colSums(Z)"
   ]
  },
  {
   "cell_type": "code",
   "execution_count": 55,
   "metadata": {},
   "outputs": [
    {
     "data": {
      "text/html": [
       "<ol class=list-inline>\n",
       "\t<li>2.66666666666667</li>\n",
       "\t<li>1.33333333333333</li>\n",
       "\t<li>3.66666666666667</li>\n",
       "</ol>\n"
      ],
      "text/latex": [
       "\\begin{enumerate*}\n",
       "\\item 2.66666666666667\n",
       "\\item 1.33333333333333\n",
       "\\item 3.66666666666667\n",
       "\\end{enumerate*}\n"
      ],
      "text/markdown": [
       "1. 2.66666666666667\n",
       "2. 1.33333333333333\n",
       "3. 3.66666666666667\n",
       "\n",
       "\n"
      ],
      "text/plain": [
       "[1] 2.666667 1.333333 3.666667"
      ]
     },
     "metadata": {},
     "output_type": "display_data"
    }
   ],
   "source": [
    "rowMeans(Z)"
   ]
  },
  {
   "cell_type": "code",
   "execution_count": 56,
   "metadata": {},
   "outputs": [
    {
     "data": {
      "text/html": [
       "<ol class=list-inline>\n",
       "\t<li>2.66666666666667</li>\n",
       "\t<li>1.33333333333333</li>\n",
       "\t<li>3.66666666666667</li>\n",
       "</ol>\n"
      ],
      "text/latex": [
       "\\begin{enumerate*}\n",
       "\\item 2.66666666666667\n",
       "\\item 1.33333333333333\n",
       "\\item 3.66666666666667\n",
       "\\end{enumerate*}\n"
      ],
      "text/markdown": [
       "1. 2.66666666666667\n",
       "2. 1.33333333333333\n",
       "3. 3.66666666666667\n",
       "\n",
       "\n"
      ],
      "text/plain": [
       "[1] 2.666667 1.333333 3.666667"
      ]
     },
     "metadata": {},
     "output_type": "display_data"
    }
   ],
   "source": [
    "colMeans(Z)"
   ]
  },
  {
   "cell_type": "code",
   "execution_count": 57,
   "metadata": {},
   "outputs": [
    {
     "data": {
      "text/html": [
       "<ol class=list-inline>\n",
       "\t<li>9</li>\n",
       "\t<li>4</li>\n",
       "\t<li>16</li>\n",
       "</ol>\n"
      ],
      "text/latex": [
       "\\begin{enumerate*}\n",
       "\\item 9\n",
       "\\item 4\n",
       "\\item 16\n",
       "\\end{enumerate*}\n"
      ],
      "text/markdown": [
       "1. 9\n",
       "2. 4\n",
       "3. 16\n",
       "\n",
       "\n"
      ],
      "text/plain": [
       "[1]  9  4 16"
      ]
     },
     "metadata": {},
     "output_type": "display_data"
    }
   ],
   "source": [
    "diag(Z)"
   ]
  },
  {
   "cell_type": "code",
   "execution_count": 59,
   "metadata": {},
   "outputs": [
    {
     "data": {
      "text/html": [
       "<table>\n",
       "<tbody>\n",
       "\t<tr><td>1</td><td>0</td><td>0</td><td>0</td><td>0</td></tr>\n",
       "\t<tr><td>0</td><td>2</td><td>0</td><td>0</td><td>0</td></tr>\n",
       "\t<tr><td>0</td><td>0</td><td>3</td><td>0</td><td>0</td></tr>\n",
       "\t<tr><td>0</td><td>0</td><td>0</td><td>4</td><td>0</td></tr>\n",
       "\t<tr><td>0</td><td>0</td><td>0</td><td>0</td><td>5</td></tr>\n",
       "</tbody>\n",
       "</table>\n"
      ],
      "text/latex": [
       "\\begin{tabular}{lllll}\n",
       "\t 1 & 0 & 0 & 0 & 0\\\\\n",
       "\t 0 & 2 & 0 & 0 & 0\\\\\n",
       "\t 0 & 0 & 3 & 0 & 0\\\\\n",
       "\t 0 & 0 & 0 & 4 & 0\\\\\n",
       "\t 0 & 0 & 0 & 0 & 5\\\\\n",
       "\\end{tabular}\n"
      ],
      "text/markdown": [
       "\n",
       "| 1 | 0 | 0 | 0 | 0 | \n",
       "| 0 | 2 | 0 | 0 | 0 | \n",
       "| 0 | 0 | 3 | 0 | 0 | \n",
       "| 0 | 0 | 0 | 4 | 0 | \n",
       "| 0 | 0 | 0 | 0 | 5 | \n",
       "\n",
       "\n"
      ],
      "text/plain": [
       "     [,1] [,2] [,3] [,4] [,5]\n",
       "[1,] 1    0    0    0    0   \n",
       "[2,] 0    2    0    0    0   \n",
       "[3,] 0    0    3    0    0   \n",
       "[4,] 0    0    0    4    0   \n",
       "[5,] 0    0    0    0    5   "
      ]
     },
     "metadata": {},
     "output_type": "display_data"
    }
   ],
   "source": [
    "diag(1:5)"
   ]
  },
  {
   "cell_type": "code",
   "execution_count": 60,
   "metadata": {},
   "outputs": [
    {
     "data": {
      "text/html": [
       "<table>\n",
       "<tbody>\n",
       "\t<tr><td>1</td><td>0</td><td>0</td><td>0</td><td>0</td></tr>\n",
       "\t<tr><td>0</td><td>1</td><td>0</td><td>0</td><td>0</td></tr>\n",
       "\t<tr><td>0</td><td>0</td><td>1</td><td>0</td><td>0</td></tr>\n",
       "\t<tr><td>0</td><td>0</td><td>0</td><td>1</td><td>0</td></tr>\n",
       "\t<tr><td>0</td><td>0</td><td>0</td><td>0</td><td>1</td></tr>\n",
       "</tbody>\n",
       "</table>\n"
      ],
      "text/latex": [
       "\\begin{tabular}{lllll}\n",
       "\t 1 & 0 & 0 & 0 & 0\\\\\n",
       "\t 0 & 1 & 0 & 0 & 0\\\\\n",
       "\t 0 & 0 & 1 & 0 & 0\\\\\n",
       "\t 0 & 0 & 0 & 1 & 0\\\\\n",
       "\t 0 & 0 & 0 & 0 & 1\\\\\n",
       "\\end{tabular}\n"
      ],
      "text/markdown": [
       "\n",
       "| 1 | 0 | 0 | 0 | 0 | \n",
       "| 0 | 1 | 0 | 0 | 0 | \n",
       "| 0 | 0 | 1 | 0 | 0 | \n",
       "| 0 | 0 | 0 | 1 | 0 | \n",
       "| 0 | 0 | 0 | 0 | 1 | \n",
       "\n",
       "\n"
      ],
      "text/plain": [
       "     [,1] [,2] [,3] [,4] [,5]\n",
       "[1,] 1    0    0    0    0   \n",
       "[2,] 0    1    0    0    0   \n",
       "[3,] 0    0    1    0    0   \n",
       "[4,] 0    0    0    1    0   \n",
       "[5,] 0    0    0    0    1   "
      ]
     },
     "metadata": {},
     "output_type": "display_data"
    }
   ],
   "source": [
    "diag(5)"
   ]
  },
  {
   "cell_type": "markdown",
   "metadata": {},
   "source": [
    "# Calculations with Vectors and Matrices"
   ]
  },
  {
   "cell_type": "code",
   "execution_count": 61,
   "metadata": {},
   "outputs": [],
   "source": [
    "a_vec = c(1, 2, 3)\n",
    "b_vec = c(2, 2, 2)"
   ]
  },
  {
   "cell_type": "code",
   "execution_count": 62,
   "metadata": {},
   "outputs": [
    {
     "data": {
      "text/html": [
       "<table>\n",
       "<tbody>\n",
       "\t<tr><td>12</td></tr>\n",
       "</tbody>\n",
       "</table>\n"
      ],
      "text/latex": [
       "\\begin{tabular}{l}\n",
       "\t 12\\\\\n",
       "\\end{tabular}\n"
      ],
      "text/markdown": [
       "\n",
       "| 12 | \n",
       "\n",
       "\n"
      ],
      "text/plain": [
       "     [,1]\n",
       "[1,] 12  "
      ]
     },
     "metadata": {},
     "output_type": "display_data"
    }
   ],
   "source": [
    "# If two vectors, %*% is used for dot/inner product\n",
    "a_vec %*% b_vec"
   ]
  },
  {
   "cell_type": "code",
   "execution_count": 63,
   "metadata": {},
   "outputs": [
    {
     "data": {
      "text/html": [
       "<table>\n",
       "<tbody>\n",
       "\t<tr><td>2</td><td>2</td><td>2</td></tr>\n",
       "\t<tr><td>4</td><td>4</td><td>4</td></tr>\n",
       "\t<tr><td>6</td><td>6</td><td>6</td></tr>\n",
       "</tbody>\n",
       "</table>\n"
      ],
      "text/latex": [
       "\\begin{tabular}{lll}\n",
       "\t 2 & 2 & 2\\\\\n",
       "\t 4 & 4 & 4\\\\\n",
       "\t 6 & 6 & 6\\\\\n",
       "\\end{tabular}\n"
      ],
      "text/markdown": [
       "\n",
       "| 2 | 2 | 2 | \n",
       "| 4 | 4 | 4 | \n",
       "| 6 | 6 | 6 | \n",
       "\n",
       "\n"
      ],
      "text/plain": [
       "     [,1] [,2] [,3]\n",
       "[1,] 2    2    2   \n",
       "[2,] 4    4    4   \n",
       "[3,] 6    6    6   "
      ]
     },
     "metadata": {},
     "output_type": "display_data"
    }
   ],
   "source": [
    "# Outer Product\n",
    "a_vec %o% b_vec"
   ]
  },
  {
   "cell_type": "code",
   "execution_count": 64,
   "metadata": {},
   "outputs": [
    {
     "data": {
      "text/html": [
       "<table>\n",
       "<tbody>\n",
       "\t<tr><td>12</td></tr>\n",
       "</tbody>\n",
       "</table>\n"
      ],
      "text/latex": [
       "\\begin{tabular}{l}\n",
       "\t 12\\\\\n",
       "\\end{tabular}\n"
      ],
      "text/markdown": [
       "\n",
       "| 12 | \n",
       "\n",
       "\n"
      ],
      "text/plain": [
       "     [,1]\n",
       "[1,] 12  "
      ]
     },
     "metadata": {},
     "output_type": "display_data"
    }
   ],
   "source": [
    "# Coerce vector into a matrix makes it a n x 1 matrix\n",
    "# Also use crossprod() for cross product of matrices\n",
    "crossprod( a_vec, b_vec )"
   ]
  },
  {
   "cell_type": "code",
   "execution_count": 65,
   "metadata": {},
   "outputs": [
    {
     "data": {
      "text/html": [
       "<table>\n",
       "<tbody>\n",
       "\t<tr><td>2</td><td>2</td><td>2</td></tr>\n",
       "\t<tr><td>4</td><td>4</td><td>4</td></tr>\n",
       "\t<tr><td>6</td><td>6</td><td>6</td></tr>\n",
       "</tbody>\n",
       "</table>\n"
      ],
      "text/latex": [
       "\\begin{tabular}{lll}\n",
       "\t 2 & 2 & 2\\\\\n",
       "\t 4 & 4 & 4\\\\\n",
       "\t 6 & 6 & 6\\\\\n",
       "\\end{tabular}\n"
      ],
      "text/markdown": [
       "\n",
       "| 2 | 2 | 2 | \n",
       "| 4 | 4 | 4 | \n",
       "| 6 | 6 | 6 | \n",
       "\n",
       "\n"
      ],
      "text/plain": [
       "     [,1] [,2] [,3]\n",
       "[1,] 2    2    2   \n",
       "[2,] 4    4    4   \n",
       "[3,] 6    6    6   "
      ]
     },
     "metadata": {},
     "output_type": "display_data"
    }
   ],
   "source": [
    "# Outer product\n",
    "tcrossprod(a_vec, b_vec)"
   ]
  },
  {
   "cell_type": "code",
   "execution_count": 66,
   "metadata": {},
   "outputs": [],
   "source": [
    "# THe above does X^tY when dealing with matrics \n",
    "# Or X^tX when dealing with linear models"
   ]
  },
  {
   "cell_type": "markdown",
   "metadata": {},
   "source": [
    "# Lists"
   ]
  },
  {
   "cell_type": "code",
   "execution_count": 67,
   "metadata": {},
   "outputs": [],
   "source": [
    "ex_list = list(\n",
    "    a = c( 1, 2, 3, 4 ),\n",
    "    b = TRUE,\n",
    "    c = 'Hello',\n",
    "    d = function(arg = 42) {print('Hello')},\n",
    "    e = diag(5)\n",
    ")"
   ]
  },
  {
   "cell_type": "code",
   "execution_count": 68,
   "metadata": {},
   "outputs": [
    {
     "data": {
      "text/html": [
       "<strong>$a</strong> = <ol class=list-inline>\n",
       "\t<li>1</li>\n",
       "\t<li>2</li>\n",
       "\t<li>3</li>\n",
       "\t<li>4</li>\n",
       "</ol>\n"
      ],
      "text/latex": [
       "\\textbf{\\$a} = \\begin{enumerate*}\n",
       "\\item 1\n",
       "\\item 2\n",
       "\\item 3\n",
       "\\item 4\n",
       "\\end{enumerate*}\n"
      ],
      "text/markdown": [
       "**$a** = 1. 1\n",
       "2. 2\n",
       "3. 3\n",
       "4. 4\n",
       "\n",
       "\n"
      ],
      "text/plain": [
       "$a\n",
       "[1] 1 2 3 4\n"
      ]
     },
     "metadata": {},
     "output_type": "display_data"
    }
   ],
   "source": [
    "ex_list[1]"
   ]
  },
  {
   "cell_type": "code",
   "execution_count": 69,
   "metadata": {},
   "outputs": [
    {
     "data": {
      "text/html": [
       "<ol class=list-inline>\n",
       "\t<li>1</li>\n",
       "\t<li>2</li>\n",
       "\t<li>3</li>\n",
       "\t<li>4</li>\n",
       "</ol>\n"
      ],
      "text/latex": [
       "\\begin{enumerate*}\n",
       "\\item 1\n",
       "\\item 2\n",
       "\\item 3\n",
       "\\item 4\n",
       "\\end{enumerate*}\n"
      ],
      "text/markdown": [
       "1. 1\n",
       "2. 2\n",
       "3. 3\n",
       "4. 4\n",
       "\n",
       "\n"
      ],
      "text/plain": [
       "[1] 1 2 3 4"
      ]
     },
     "metadata": {},
     "output_type": "display_data"
    }
   ],
   "source": [
    "ex_list[[1]]"
   ]
  },
  {
   "cell_type": "code",
   "execution_count": 70,
   "metadata": {},
   "outputs": [
    {
     "data": {
      "text/html": [
       "<table>\n",
       "<tbody>\n",
       "\t<tr><td>1</td><td>0</td><td>0</td><td>0</td><td>0</td></tr>\n",
       "\t<tr><td>0</td><td>1</td><td>0</td><td>0</td><td>0</td></tr>\n",
       "\t<tr><td>0</td><td>0</td><td>1</td><td>0</td><td>0</td></tr>\n",
       "\t<tr><td>0</td><td>0</td><td>0</td><td>1</td><td>0</td></tr>\n",
       "\t<tr><td>0</td><td>0</td><td>0</td><td>0</td><td>1</td></tr>\n",
       "</tbody>\n",
       "</table>\n"
      ],
      "text/latex": [
       "\\begin{tabular}{lllll}\n",
       "\t 1 & 0 & 0 & 0 & 0\\\\\n",
       "\t 0 & 1 & 0 & 0 & 0\\\\\n",
       "\t 0 & 0 & 1 & 0 & 0\\\\\n",
       "\t 0 & 0 & 0 & 1 & 0\\\\\n",
       "\t 0 & 0 & 0 & 0 & 1\\\\\n",
       "\\end{tabular}\n"
      ],
      "text/markdown": [
       "\n",
       "| 1 | 0 | 0 | 0 | 0 | \n",
       "| 0 | 1 | 0 | 0 | 0 | \n",
       "| 0 | 0 | 1 | 0 | 0 | \n",
       "| 0 | 0 | 0 | 1 | 0 | \n",
       "| 0 | 0 | 0 | 0 | 1 | \n",
       "\n",
       "\n"
      ],
      "text/plain": [
       "     [,1] [,2] [,3] [,4] [,5]\n",
       "[1,] 1    0    0    0    0   \n",
       "[2,] 0    1    0    0    0   \n",
       "[3,] 0    0    1    0    0   \n",
       "[4,] 0    0    0    1    0   \n",
       "[5,] 0    0    0    0    1   "
      ]
     },
     "metadata": {},
     "output_type": "display_data"
    }
   ],
   "source": [
    "ex_list$e"
   ]
  },
  {
   "cell_type": "code",
   "execution_count": 71,
   "metadata": {},
   "outputs": [
    {
     "data": {
      "text/html": [
       "<dl>\n",
       "\t<dt>$a</dt>\n",
       "\t\t<dd><ol class=list-inline>\n",
       "\t<li>1</li>\n",
       "\t<li>2</li>\n",
       "\t<li>3</li>\n",
       "\t<li>4</li>\n",
       "</ol>\n",
       "</dd>\n",
       "\t<dt>$b</dt>\n",
       "\t\t<dd>TRUE</dd>\n",
       "</dl>\n"
      ],
      "text/latex": [
       "\\begin{description}\n",
       "\\item[\\$a] \\begin{enumerate*}\n",
       "\\item 1\n",
       "\\item 2\n",
       "\\item 3\n",
       "\\item 4\n",
       "\\end{enumerate*}\n",
       "\n",
       "\\item[\\$b] TRUE\n",
       "\\end{description}\n"
      ],
      "text/markdown": [
       "$a\n",
       ":   1. 1\n",
       "2. 2\n",
       "3. 3\n",
       "4. 4\n",
       "\n",
       "\n",
       "\n",
       "$b\n",
       ":   TRUE\n",
       "\n",
       "\n"
      ],
      "text/plain": [
       "$a\n",
       "[1] 1 2 3 4\n",
       "\n",
       "$b\n",
       "[1] TRUE\n"
      ]
     },
     "metadata": {},
     "output_type": "display_data"
    }
   ],
   "source": [
    "ex_list[1:2]"
   ]
  },
  {
   "cell_type": "code",
   "execution_count": 72,
   "metadata": {},
   "outputs": [
    {
     "data": {
      "text/html": [
       "<dl>\n",
       "\t<dt>$e</dt>\n",
       "\t\t<dd><table>\n",
       "<tbody>\n",
       "\t<tr><td>1</td><td>0</td><td>0</td><td>0</td><td>0</td></tr>\n",
       "\t<tr><td>0</td><td>1</td><td>0</td><td>0</td><td>0</td></tr>\n",
       "\t<tr><td>0</td><td>0</td><td>1</td><td>0</td><td>0</td></tr>\n",
       "\t<tr><td>0</td><td>0</td><td>0</td><td>1</td><td>0</td></tr>\n",
       "\t<tr><td>0</td><td>0</td><td>0</td><td>0</td><td>1</td></tr>\n",
       "</tbody>\n",
       "</table>\n",
       "</dd>\n",
       "\t<dt>$a</dt>\n",
       "\t\t<dd><ol class=list-inline>\n",
       "\t<li>1</li>\n",
       "\t<li>2</li>\n",
       "\t<li>3</li>\n",
       "\t<li>4</li>\n",
       "</ol>\n",
       "</dd>\n",
       "</dl>\n"
      ],
      "text/latex": [
       "\\begin{description}\n",
       "\\item[\\$e] \\begin{tabular}{lllll}\n",
       "\t 1 & 0 & 0 & 0 & 0\\\\\n",
       "\t 0 & 1 & 0 & 0 & 0\\\\\n",
       "\t 0 & 0 & 1 & 0 & 0\\\\\n",
       "\t 0 & 0 & 0 & 1 & 0\\\\\n",
       "\t 0 & 0 & 0 & 0 & 1\\\\\n",
       "\\end{tabular}\n",
       "\n",
       "\\item[\\$a] \\begin{enumerate*}\n",
       "\\item 1\n",
       "\\item 2\n",
       "\\item 3\n",
       "\\item 4\n",
       "\\end{enumerate*}\n",
       "\n",
       "\\end{description}\n"
      ],
      "text/markdown": [
       "$e\n",
       ":   \n",
       "| 1 | 0 | 0 | 0 | 0 | \n",
       "| 0 | 1 | 0 | 0 | 0 | \n",
       "| 0 | 0 | 1 | 0 | 0 | \n",
       "| 0 | 0 | 0 | 1 | 0 | \n",
       "| 0 | 0 | 0 | 0 | 1 | \n",
       "\n",
       "\n",
       "\n",
       "$a\n",
       ":   1. 1\n",
       "2. 2\n",
       "3. 3\n",
       "4. 4\n",
       "\n",
       "\n",
       "\n",
       "\n",
       "\n"
      ],
      "text/plain": [
       "$e\n",
       "     [,1] [,2] [,3] [,4] [,5]\n",
       "[1,]    1    0    0    0    0\n",
       "[2,]    0    1    0    0    0\n",
       "[3,]    0    0    1    0    0\n",
       "[4,]    0    0    0    1    0\n",
       "[5,]    0    0    0    0    1\n",
       "\n",
       "$a\n",
       "[1] 1 2 3 4\n"
      ]
     },
     "metadata": {},
     "output_type": "display_data"
    }
   ],
   "source": [
    "ex_list[ c(\"e\", \"a\") ]"
   ]
  },
  {
   "cell_type": "code",
   "execution_count": 73,
   "metadata": {},
   "outputs": [
    {
     "name": "stdout",
     "output_type": "stream",
     "text": [
      "[1] \"Hello\"\n"
     ]
    }
   ],
   "source": [
    "ex_list$d(arg = 1)"
   ]
  },
  {
   "cell_type": "markdown",
   "metadata": {},
   "source": [
    "# Data Frames"
   ]
  },
  {
   "cell_type": "code",
   "execution_count": 74,
   "metadata": {},
   "outputs": [],
   "source": [
    "example_data <- data.frame(\n",
    "    x = c( 1, 3, 5, 7, 9, 1, 3, 5, 7, 9 ),\n",
    "    y = c( rep( 'Hello', 9 ), 'Goodbye' ),\n",
    "    z = rep( c( TRUE, FALSE ), 5 )\n",
    ")"
   ]
  },
  {
   "cell_type": "code",
   "execution_count": 75,
   "metadata": {},
   "outputs": [
    {
     "data": {
      "text/html": [
       "<table>\n",
       "<thead><tr><th scope=col>x</th><th scope=col>y</th><th scope=col>z</th></tr></thead>\n",
       "<tbody>\n",
       "\t<tr><td>1      </td><td>Hello  </td><td> TRUE  </td></tr>\n",
       "\t<tr><td>3      </td><td>Hello  </td><td>FALSE  </td></tr>\n",
       "\t<tr><td>5      </td><td>Hello  </td><td> TRUE  </td></tr>\n",
       "\t<tr><td>7      </td><td>Hello  </td><td>FALSE  </td></tr>\n",
       "\t<tr><td>9      </td><td>Hello  </td><td> TRUE  </td></tr>\n",
       "\t<tr><td>1      </td><td>Hello  </td><td>FALSE  </td></tr>\n",
       "\t<tr><td>3      </td><td>Hello  </td><td> TRUE  </td></tr>\n",
       "\t<tr><td>5      </td><td>Hello  </td><td>FALSE  </td></tr>\n",
       "\t<tr><td>7      </td><td>Hello  </td><td> TRUE  </td></tr>\n",
       "\t<tr><td>9      </td><td>Goodbye</td><td>FALSE  </td></tr>\n",
       "</tbody>\n",
       "</table>\n"
      ],
      "text/latex": [
       "\\begin{tabular}{r|lll}\n",
       " x & y & z\\\\\n",
       "\\hline\n",
       "\t 1       & Hello   &  TRUE  \\\\\n",
       "\t 3       & Hello   & FALSE  \\\\\n",
       "\t 5       & Hello   &  TRUE  \\\\\n",
       "\t 7       & Hello   & FALSE  \\\\\n",
       "\t 9       & Hello   &  TRUE  \\\\\n",
       "\t 1       & Hello   & FALSE  \\\\\n",
       "\t 3       & Hello   &  TRUE  \\\\\n",
       "\t 5       & Hello   & FALSE  \\\\\n",
       "\t 7       & Hello   &  TRUE  \\\\\n",
       "\t 9       & Goodbye & FALSE  \\\\\n",
       "\\end{tabular}\n"
      ],
      "text/markdown": [
       "\n",
       "x | y | z | \n",
       "|---|---|---|---|---|---|---|---|---|---|\n",
       "| 1       | Hello   |  TRUE   | \n",
       "| 3       | Hello   | FALSE   | \n",
       "| 5       | Hello   |  TRUE   | \n",
       "| 7       | Hello   | FALSE   | \n",
       "| 9       | Hello   |  TRUE   | \n",
       "| 1       | Hello   | FALSE   | \n",
       "| 3       | Hello   |  TRUE   | \n",
       "| 5       | Hello   | FALSE   | \n",
       "| 7       | Hello   |  TRUE   | \n",
       "| 9       | Goodbye | FALSE   | \n",
       "\n",
       "\n"
      ],
      "text/plain": [
       "   x y       z    \n",
       "1  1 Hello    TRUE\n",
       "2  3 Hello   FALSE\n",
       "3  5 Hello    TRUE\n",
       "4  7 Hello   FALSE\n",
       "5  9 Hello    TRUE\n",
       "6  1 Hello   FALSE\n",
       "7  3 Hello    TRUE\n",
       "8  5 Hello   FALSE\n",
       "9  7 Hello    TRUE\n",
       "10 9 Goodbye FALSE"
      ]
     },
     "metadata": {},
     "output_type": "display_data"
    }
   ],
   "source": [
    "example_data"
   ]
  },
  {
   "cell_type": "code",
   "execution_count": 76,
   "metadata": {},
   "outputs": [
    {
     "data": {
      "text/html": [
       "<ol class=list-inline>\n",
       "\t<li>1</li>\n",
       "\t<li>3</li>\n",
       "\t<li>5</li>\n",
       "\t<li>7</li>\n",
       "\t<li>9</li>\n",
       "\t<li>1</li>\n",
       "\t<li>3</li>\n",
       "\t<li>5</li>\n",
       "\t<li>7</li>\n",
       "\t<li>9</li>\n",
       "</ol>\n"
      ],
      "text/latex": [
       "\\begin{enumerate*}\n",
       "\\item 1\n",
       "\\item 3\n",
       "\\item 5\n",
       "\\item 7\n",
       "\\item 9\n",
       "\\item 1\n",
       "\\item 3\n",
       "\\item 5\n",
       "\\item 7\n",
       "\\item 9\n",
       "\\end{enumerate*}\n"
      ],
      "text/markdown": [
       "1. 1\n",
       "2. 3\n",
       "3. 5\n",
       "4. 7\n",
       "5. 9\n",
       "6. 1\n",
       "7. 3\n",
       "8. 5\n",
       "9. 7\n",
       "10. 9\n",
       "\n",
       "\n"
      ],
      "text/plain": [
       " [1] 1 3 5 7 9 1 3 5 7 9"
      ]
     },
     "metadata": {},
     "output_type": "display_data"
    }
   ],
   "source": [
    "example_data$x"
   ]
  },
  {
   "cell_type": "code",
   "execution_count": 77,
   "metadata": {},
   "outputs": [
    {
     "name": "stdout",
     "output_type": "stream",
     "text": [
      "'data.frame':\t10 obs. of  3 variables:\n",
      " $ x: num  1 3 5 7 9 1 3 5 7 9\n",
      " $ y: Factor w/ 2 levels \"Goodbye\",\"Hello\": 2 2 2 2 2 2 2 2 2 1\n",
      " $ z: logi  TRUE FALSE TRUE FALSE TRUE FALSE ...\n"
     ]
    }
   ],
   "source": [
    "str( example_data )"
   ]
  },
  {
   "cell_type": "code",
   "execution_count": 78,
   "metadata": {},
   "outputs": [
    {
     "data": {
      "text/html": [
       "10"
      ],
      "text/latex": [
       "10"
      ],
      "text/markdown": [
       "10"
      ],
      "text/plain": [
       "[1] 10"
      ]
     },
     "metadata": {},
     "output_type": "display_data"
    }
   ],
   "source": [
    "nrow( example_data )"
   ]
  },
  {
   "cell_type": "code",
   "execution_count": 79,
   "metadata": {},
   "outputs": [
    {
     "data": {
      "text/html": [
       "3"
      ],
      "text/latex": [
       "3"
      ],
      "text/markdown": [
       "3"
      ],
      "text/plain": [
       "[1] 3"
      ]
     },
     "metadata": {},
     "output_type": "display_data"
    }
   ],
   "source": [
    "ncol( example_data )"
   ]
  },
  {
   "cell_type": "code",
   "execution_count": 80,
   "metadata": {},
   "outputs": [
    {
     "data": {
      "text/html": [
       "<ol class=list-inline>\n",
       "\t<li>10</li>\n",
       "\t<li>3</li>\n",
       "</ol>\n"
      ],
      "text/latex": [
       "\\begin{enumerate*}\n",
       "\\item 10\n",
       "\\item 3\n",
       "\\end{enumerate*}\n"
      ],
      "text/markdown": [
       "1. 10\n",
       "2. 3\n",
       "\n",
       "\n"
      ],
      "text/plain": [
       "[1] 10  3"
      ]
     },
     "metadata": {},
     "output_type": "display_data"
    }
   ],
   "source": [
    "dim( example_data )"
   ]
  },
  {
   "cell_type": "code",
   "execution_count": 81,
   "metadata": {},
   "outputs": [],
   "source": [
    "library( readr )"
   ]
  },
  {
   "cell_type": "code",
   "execution_count": null,
   "metadata": {},
   "outputs": [],
   "source": [
    "example_data_from_csv = read_csv( \"filepath\" )"
   ]
  },
  {
   "cell_type": "code",
   "execution_count": null,
   "metadata": {},
   "outputs": [],
   "source": []
  }
 ],
 "metadata": {
  "kernelspec": {
   "display_name": "R",
   "language": "R",
   "name": "ir"
  }
 },
 "nbformat": 4,
 "nbformat_minor": 2
}
