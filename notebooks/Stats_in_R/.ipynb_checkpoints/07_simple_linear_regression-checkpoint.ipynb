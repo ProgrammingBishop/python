{
 "cells": [
  {
   "cell_type": "code",
   "execution_count": 4,
   "metadata": {},
   "outputs": [],
   "source": [
    "library(repr)"
   ]
  },
  {
   "cell_type": "code",
   "execution_count": 70,
   "metadata": {},
   "outputs": [],
   "source": [
    "options( repr.plot.width = 5, repr.plot.height = 5 )"
   ]
  },
  {
   "cell_type": "markdown",
   "metadata": {},
   "source": [
    "# Modeling"
   ]
  },
  {
   "cell_type": "code",
   "execution_count": 42,
   "metadata": {},
   "outputs": [
    {
     "data": {
      "image/png": "[encoded data removed]",
      "text/plain": [
       "Plot with title \"Stopping Distance vs Speed\""
      ]
     },
     "metadata": {},
     "output_type": "display_data"
    }
   ],
   "source": [
    "plot(\n",
    "    dist ~ speed,\n",
    "    data= cars,\n",
    "    xlab = 'Speed (in Miles Per Hour)',\n",
    "    ylab = 'Stopping Distance (in Feet)',\n",
    "    main = 'Stopping Distance vs Speed',\n",
    "    pch = 20,\n",
    "    cex = 1.5,\n",
    "    col = 'grey'\n",
    ")"
   ]
  },
  {
   "cell_type": "markdown",
   "metadata": {},
   "source": [
    "The relationship between $X$ an $Y$ can use the form:\n",
    "\n",
    "$$Y = f(X) + \\epsilon$$\n",
    "\n",
    "But a more concise way to write this is to add in parameters $\\beta$ to account for the slope of $X$ in relation to $Y$:\n",
    "\n",
    "$$Y = \\beta_0 + \\beta_1 X + \\epsilon$$\n",
    "\n",
    "where \n",
    "\n",
    "$$\\epsilon \\sim N(0, \\sigma^2)$$"
   ]
  },
  {
   "cell_type": "markdown",
   "metadata": {},
   "source": [
    "# Simple Linear Regression"
   ]
  },
  {
   "cell_type": "markdown",
   "metadata": {},
   "source": [
    "The model above has three variables that need to be estimated: $\\beta_0, \\beta_2, \\sigma^2$. We can think of each $Y_i$ having a different distribution for each $X_i$. While $X_i$ can be a fixed constant based on the observed value for that observation, $Y_i$ is variable because of the randomness of the $\\epsilon$. With this notion, we can think of each $Y_i$ as having a different distribution for each $X$, i.e. $Y_i$ has a conditonal distribution dependent on the value of $X$ written as $x_i$. So think of a linear function plotted on an (x, y) cartesian map, and at each $x_i$ the result of $y_i$ can be seen as normally distributed $y_i \\sim N(0, \\sigma^2)$. Or a better way to think of this is:\n",
    "\n",
    "$$Y_i | X_i \\sim N(\\beta_0 + \\beta_1 x_i, \\sigma^2)$$\n",
    "\n",
    "and the mean can be written as:\n",
    "\n",
    "$$E[Y_i |X_i = x_i] = \\beta_0 + \\beta_1 x_i$$\n",
    "\n",
    "but the variance remains constant for each $x_i$:\n",
    "\n",
    "$$Var[Y_i | X_i = x_i] = \\sigma^2$$"
   ]
  },
  {
   "cell_type": "markdown",
   "metadata": {},
   "source": [
    "A linear model can be described using LINE:\n",
    "- Linear\n",
    "- Independent / errors are independent\n",
    "- Normal / errors are normally distributed\n",
    "- Equal Variance / variance for $Y$ at each value of $x$ has the same $\\sigma^2$"
   ]
  },
  {
   "cell_type": "markdown",
   "metadata": {},
   "source": [
    "How to measure the line best fit to the data through Least Squares:\n",
    "\n",
    "$$argmin_{\\beta_0, \\beta_1}\\ \\sum_{i = 1}^n\\ (y_i - (\\beta_0 + \\beta_1 x_i))^2$$\n",
    "\n",
    "In order to find the values of $\\beta$ that minimizes this function we take the partial derivative of each $\\beta$:\n",
    "- $\\frac{\\partial f}{\\partial \\beta_0} = -2 \\sum_{i = 1}^n (y_i - \\beta_0 - \\beta_1 x_i) = 0$\n",
    "- $\\frac{\\partial f}{\\partial \\beta_1} = -2 \\sum_{i = 1}^n (x_i)(y_i - \\beta_0 - \\beta_1x_i) = 0$\n",
    "\n",
    "Then solve the system of equations:\n",
    "- $\\hat \\beta_1 = \\frac{\\sum_{xy}}{\\sum_{xx}}$\n",
    "- $\\hat \\beta_0 = \\bar y - \\hat \\beta_1 \\bar x$\n",
    "\n",
    "where:\n",
    "\n",
    "$$\\frac{\\sum_{xy}}{\\sum_{xx}} = \\frac{\\sum_{i = 1}^n x_i y_i - \\frac{(\\sum_{i = 1}^n x_i)(\\sum_{i = 1}^n y_i)}{n}}{\\sum_{i = 1}^n x_i^2\\ - \\frac{(\\sum_{i = 1}^n\\ x_i)^2}{n}}$$\n",
    "\n",
    "and to simplify these summations:\n",
    "\n",
    "$$\\sum_{xy} = \\sum_{i = 1}^n (x_i - \\bar x)(y_i - \\bar y)$$\n",
    "$$\\sum_{xx} = \\sum_{i = 1}^n (x_i - x)^2$$\n",
    "$$\\sum_{yy} = \\sum_{i = 1}^n (y_i - \\bar y)^2$$\n",
    "\n",
    "so then to simplify the equation for $\\hat \\beta_1$:\n",
    "\n",
    "$$\\frac{\\sum_{xy} = \\sum_{i = 1}^n (x_i - \\bar x)(y_i - \\bar y)}{\\sum_{i = 1}^n (x_i - x)^2}$$"
   ]
  },
  {
   "cell_type": "code",
   "execution_count": 17,
   "metadata": {},
   "outputs": [
    {
     "data": {
      "text/html": [
       "<ol class=list-inline>\n",
       "\t<li>5387.4</li>\n",
       "\t<li>1370</li>\n",
       "\t<li>32538.98</li>\n",
       "</ol>\n"
      ],
      "text/latex": [
       "\\begin{enumerate*}\n",
       "\\item 5387.4\n",
       "\\item 1370\n",
       "\\item 32538.98\n",
       "\\end{enumerate*}\n"
      ],
      "text/markdown": [
       "1. 5387.4\n",
       "2. 1370\n",
       "3. 32538.98\n",
       "\n",
       "\n"
      ],
      "text/plain": [
       "[1]  5387.40  1370.00 32538.98"
      ]
     },
     "metadata": {},
     "output_type": "display_data"
    }
   ],
   "source": [
    "x <- cars$speed\n",
    "y <- cars$dist\n",
    "\n",
    "Sxy <- sum( (x - mean(x)) * (y - mean(y)) )\n",
    "Sxx <- sum( (x - mean(x)) ^ 2 )\n",
    "Syy <- sum( (y - mean(y)) ^ 2 )\n",
    "\n",
    "c(Sxy, Sxx, Syy)"
   ]
  },
  {
   "cell_type": "code",
   "execution_count": 18,
   "metadata": {},
   "outputs": [
    {
     "data": {
      "text/html": [
       "<ol class=list-inline>\n",
       "\t<li>-17.579094890511</li>\n",
       "\t<li>3.93240875912409</li>\n",
       "</ol>\n"
      ],
      "text/latex": [
       "\\begin{enumerate*}\n",
       "\\item -17.579094890511\n",
       "\\item 3.93240875912409\n",
       "\\end{enumerate*}\n"
      ],
      "text/markdown": [
       "1. -17.579094890511\n",
       "2. 3.93240875912409\n",
       "\n",
       "\n"
      ],
      "text/plain": [
       "[1] -17.579095   3.932409"
      ]
     },
     "metadata": {},
     "output_type": "display_data"
    }
   ],
   "source": [
    "beta_1_hat <- Sxy / Sxx\n",
    "beta_0_hat <- mean(y) - beta_1_hat * mean(x)\n",
    "\n",
    "c(beta_0_hat, beta_1_hat)"
   ]
  },
  {
   "cell_type": "markdown",
   "metadata": {},
   "source": [
    "#### Interpretation of Regression Coefficients"
   ]
  },
  {
   "cell_type": "markdown",
   "metadata": {},
   "source": [
    "Slope parameter $\\beta_1$ tells us that for an increase in speed of one mile per hour (one unit of $x$), the mean stopping distance $y$ increases by $\\beta_1$. So $\\beta_1$ tells us how the mean of $Y$ is affected by a change in $x$. So the estimate for $\\beta_1 = 3.93$ above tells us that for an increase in speed by 1 mile per hour, the estimated mean stopping distance increases by $3.93$ feet.\n",
    "\n",
    "The intercept parameter $\\beta_0$ tells ud the mean stopping distance for a car traveling 0 miles an hour. The estimated $\\beta_0 = -17.58$ tells us the estimated mean stopping distance for a car traveling 0 miles an hour is $-17.58$ feet. Obviously Extrapolation is the reason for a nonsensical negative value."
   ]
  },
  {
   "cell_type": "markdown",
   "metadata": {},
   "source": [
    "# Making Predictions"
   ]
  },
  {
   "cell_type": "markdown",
   "metadata": {},
   "source": [
    "With the above calculations, the estimated line is:\n",
    "\n",
    "$$\\hat y = -17.58 + 3.93x$$\n",
    "\n",
    "Now just add in the $x$ value to get an estimated value for $\\hat y$."
   ]
  },
  {
   "cell_type": "code",
   "execution_count": 19,
   "metadata": {},
   "outputs": [
    {
     "data": {
      "text/html": [
       "13.8801751824817"
      ],
      "text/latex": [
       "13.8801751824817"
      ],
      "text/markdown": [
       "13.8801751824817"
      ],
      "text/plain": [
       "[1] 13.88018"
      ]
     },
     "metadata": {},
     "output_type": "display_data"
    }
   ],
   "source": [
    "x     <- 8\n",
    "hat_y <- beta_0_hat + beta_1_hat * x\n",
    "hat_y"
   ]
  },
  {
   "cell_type": "markdown",
   "metadata": {},
   "source": [
    "This tells us that the mean stopping distance for a car traveling $8$ miles per hour is $13.88$ feet. Let's make an interpolation for 21. Not an observed value for $y$, but does fall in the range of the dataset:"
   ]
  },
  {
   "cell_type": "code",
   "execution_count": 21,
   "metadata": {},
   "outputs": [
    {
     "data": {
      "text/html": [
       "65.0014890510949"
      ],
      "text/latex": [
       "65.0014890510949"
      ],
      "text/markdown": [
       "65.0014890510949"
      ],
      "text/plain": [
       "[1] 65.00149"
      ]
     },
     "metadata": {},
     "output_type": "display_data"
    }
   ],
   "source": [
    "x     <- 21\n",
    "hat_y <- beta_0_hat + beta_1_hat * x\n",
    "hat_y"
   ]
  },
  {
   "cell_type": "markdown",
   "metadata": {},
   "source": [
    "Extrapolation for a car traveling 50 miles per hour is dangerous as it falls outside the range of our data:"
   ]
  },
  {
   "cell_type": "code",
   "execution_count": 22,
   "metadata": {},
   "outputs": [
    {
     "data": {
      "text/html": [
       "179.041343065693"
      ],
      "text/latex": [
       "179.041343065693"
      ],
      "text/markdown": [
       "179.041343065693"
      ],
      "text/plain": [
       "[1] 179.0413"
      ]
     },
     "metadata": {},
     "output_type": "display_data"
    }
   ],
   "source": [
    "x     <- 50\n",
    "hat_y <- beta_0_hat + beta_1_hat * x\n",
    "hat_y"
   ]
  },
  {
   "cell_type": "markdown",
   "metadata": {},
   "source": [
    "# Residuals"
   ]
  },
  {
   "cell_type": "markdown",
   "metadata": {},
   "source": [
    "Residual can be seen as the error term $\\epsilon$:\n",
    "\n",
    "$$\\epsilon_i = y_i - \\hat y_i$$"
   ]
  },
  {
   "cell_type": "code",
   "execution_count": 23,
   "metadata": {},
   "outputs": [
    {
     "data": {
      "text/html": [
       "5"
      ],
      "text/latex": [
       "5"
      ],
      "text/markdown": [
       "5"
      ],
      "text/plain": [
       "[1] 5"
      ]
     },
     "metadata": {},
     "output_type": "display_data"
    }
   ],
   "source": [
    "which( cars$speed == 8 )"
   ]
  },
  {
   "cell_type": "code",
   "execution_count": 24,
   "metadata": {},
   "outputs": [
    {
     "data": {
      "text/html": [
       "<table>\n",
       "<thead><tr><th></th><th scope=col>speed</th><th scope=col>dist</th></tr></thead>\n",
       "<tbody>\n",
       "\t<tr><th scope=row>5</th><td>8 </td><td>16</td></tr>\n",
       "</tbody>\n",
       "</table>\n"
      ],
      "text/latex": [
       "\\begin{tabular}{r|ll}\n",
       "  & speed & dist\\\\\n",
       "\\hline\n",
       "\t5 & 8  & 16\\\\\n",
       "\\end{tabular}\n"
      ],
      "text/markdown": [
       "\n",
       "| <!--/--> | speed | dist | \n",
       "|---|\n",
       "| 5 | 8  | 16 | \n",
       "\n",
       "\n"
      ],
      "text/plain": [
       "  speed dist\n",
       "5 8     16  "
      ]
     },
     "metadata": {},
     "output_type": "display_data"
    }
   ],
   "source": [
    "cars[5, ]"
   ]
  },
  {
   "cell_type": "code",
   "execution_count": 25,
   "metadata": {},
   "outputs": [
    {
     "data": {
      "text/html": [
       "2.12"
      ],
      "text/latex": [
       "2.12"
      ],
      "text/markdown": [
       "2.12"
      ],
      "text/plain": [
       "[1] 2.12"
      ]
     },
     "metadata": {},
     "output_type": "display_data"
    }
   ],
   "source": [
    "e = cars[5, ]$dist - 13.88\n",
    "e"
   ]
  },
  {
   "cell_type": "markdown",
   "metadata": {},
   "source": [
    "This means the predicted value is actually $2.12$ feet more than what was predicted."
   ]
  },
  {
   "cell_type": "markdown",
   "metadata": {},
   "source": [
    "# Variance"
   ]
  },
  {
   "cell_type": "markdown",
   "metadata": {},
   "source": [
    "We were able to get the unknown parameters $\\beta_0, \\beta_1$, now we can solve for the unknown parameter $\\sigma^2$, which we will define as $s_e^2$:\n",
    "\n",
    "$$s_e^2 = \\frac{1}{n - 2}\\ \\sum_{i = 1}^n (y_i - (\\hat \\beta_0 + \\hat \\beta_1 x_i))^2 = \\frac{1}{n - 2} \\sum_{i = 1}^n \\epsilon_i^2$$\n",
    "\n",
    "Each $y_i$ will have a different estimate of the mean as each $Y_i$ will have a different value for each $x_i$"
   ]
  },
  {
   "cell_type": "code",
   "execution_count": 28,
   "metadata": {},
   "outputs": [
    {
     "data": {
      "text/html": [
       "236.531688564477"
      ],
      "text/latex": [
       "236.531688564477"
      ],
      "text/markdown": [
       "236.531688564477"
      ],
      "text/plain": [
       "[1] 236.5317"
      ]
     },
     "metadata": {},
     "output_type": "display_data"
    }
   ],
   "source": [
    "x     <- cars$speed\n",
    "y_hat <- beta_0_hat + beta_1_hat * x\n",
    "e     <- y - y_hat\n",
    "n     <- length( e )\n",
    "s2_e  <- sum( e ^ 2 ) / ( n - 2 )\n",
    "s2_e"
   ]
  },
  {
   "cell_type": "markdown",
   "metadata": {},
   "source": [
    "By taking the square root of this value we compute the standard deviation of the residuals (residual standard error)"
   ]
  },
  {
   "cell_type": "code",
   "execution_count": 29,
   "metadata": {},
   "outputs": [
    {
     "data": {
      "text/html": [
       "15.3795867488199"
      ],
      "text/latex": [
       "15.3795867488199"
      ],
      "text/markdown": [
       "15.3795867488199"
      ],
      "text/plain": [
       "[1] 15.37959"
      ]
     },
     "metadata": {},
     "output_type": "display_data"
    }
   ],
   "source": [
    "s_e <- sqrt( s2_e )\n",
    "s_e"
   ]
  },
  {
   "cell_type": "markdown",
   "metadata": {},
   "source": [
    "This tells us that our estimate of mean stopping distance are 'typically' off by 15.38 feet."
   ]
  },
  {
   "cell_type": "markdown",
   "metadata": {},
   "source": [
    "# Decomposition of Variance"
   ]
  },
  {
   "cell_type": "markdown",
   "metadata": {},
   "source": [
    "We can redefine the deviation of $y$ in the following way:\n",
    "\n",
    "$$y_i - \\bar y_i = (y_i - \\hat y_i) + (\\hat y_i = \\bar y)$$\n",
    "\n",
    "which is a smart way to add 0. This measures the deviation of an observation from the fitted regression line and $\\hat y_i - \\bar y$ measures the deviation of the fitted regression line from the sampe mean."
   ]
  },
  {
   "cell_type": "markdown",
   "metadata": {},
   "source": [
    "##### Sum of Square Total\n",
    "$$SST = \\sum_{i = 1}^n (y_i - \\bar y)^2$$\n",
    "\n",
    "and is the total variation of the observed $y$ values\n",
    "\n",
    "##### Sum of Squares Regression\n",
    "$$SSReg = \\sum_{i = 1}^n (\\hat y_i - \\bar y)^2$$\n",
    "\n",
    "is the explained variation of the observed $y$ values\n",
    "\n",
    "##### Sum of Squares Error\n",
    "$$SSE = RSS = \\sum_{i = 1}^n (y_i - \\hat y_i)^2$$\n",
    "\n",
    "and this represents the unexlained variation of the observed $y$ values. "
   ]
  },
  {
   "cell_type": "code",
   "execution_count": 33,
   "metadata": {},
   "outputs": [
    {
     "data": {
      "text/html": [
       "<dl class=dl-horizontal>\n",
       "\t<dt>SST</dt>\n",
       "\t\t<dd>32538.98</dd>\n",
       "\t<dt>SSReg</dt>\n",
       "\t\t<dd>21185.4589489051</dd>\n",
       "\t<dt>SSE</dt>\n",
       "\t\t<dd>11353.5210510949</dd>\n",
       "</dl>\n"
      ],
      "text/latex": [
       "\\begin{description*}\n",
       "\\item[SST] 32538.98\n",
       "\\item[SSReg] 21185.4589489051\n",
       "\\item[SSE] 11353.5210510949\n",
       "\\end{description*}\n"
      ],
      "text/markdown": [
       "SST\n",
       ":   32538.98SSReg\n",
       ":   21185.4589489051SSE\n",
       ":   11353.5210510949\n",
       "\n"
      ],
      "text/plain": [
       "     SST    SSReg      SSE \n",
       "32538.98 21185.46 11353.52 "
      ]
     },
     "metadata": {},
     "output_type": "display_data"
    }
   ],
   "source": [
    "SST   <- sum( (y - mean(y)) ^ 2 )\n",
    "SSReg <- sum( (y_hat - mean(y)) ^ 2 )\n",
    "SSE   <- sum( (y - y_hat) ^ 2 )\n",
    "\n",
    "c( SST = SST, SSReg = SSReg, SSE = SSE )"
   ]
  },
  {
   "cell_type": "markdown",
   "metadata": {},
   "source": [
    "# Coefficient of Determination"
   ]
  },
  {
   "cell_type": "markdown",
   "metadata": {},
   "source": [
    "This is $R^2$:\n",
    "\n",
    "$$R^2 = \\frac{SSReg}{SST}$$\n",
    "\n",
    "or \n",
    "\n",
    "$$1 - \\frac{SSE}{SST}$$\n",
    "\n",
    "and this is interpreted as the proportion of the observed variation in $y$ that can be explained by the simple linear regression model."
   ]
  },
  {
   "cell_type": "code",
   "execution_count": 34,
   "metadata": {},
   "outputs": [
    {
     "data": {
      "text/html": [
       "0.651079380758251"
      ],
      "text/latex": [
       "0.651079380758251"
      ],
      "text/markdown": [
       "0.651079380758251"
      ],
      "text/plain": [
       "[1] 0.6510794"
      ]
     },
     "metadata": {},
     "output_type": "display_data"
    }
   ],
   "source": [
    "R2 <- SSReg / SST\n",
    "R2"
   ]
  },
  {
   "cell_type": "markdown",
   "metadata": {},
   "source": [
    "We can say $65\\%$ of the observed variability in stopping distance is explained by the linear relationship with speed."
   ]
  },
  {
   "cell_type": "markdown",
   "metadata": {},
   "source": [
    "# Linear Model Function"
   ]
  },
  {
   "cell_type": "code",
   "execution_count": 36,
   "metadata": {},
   "outputs": [
    {
     "data": {
      "text/plain": [
       "\n",
       "Call:\n",
       "lm(formula = dist ~ speed, data = cars)\n",
       "\n",
       "Coefficients:\n",
       "(Intercept)        speed  \n",
       "    -17.579        3.932  \n"
      ]
     },
     "metadata": {},
     "output_type": "display_data"
    }
   ],
   "source": [
    "stop_dist_model <- lm( dist ~ speed, data = cars )\n",
    "stop_dist_model"
   ]
  },
  {
   "cell_type": "code",
   "execution_count": 43,
   "metadata": {},
   "outputs": [
    {
     "data": {
      "image/png": "[encoded data removed]",
      "text/plain": [
       "Plot with title \"Stopping Distance vs Speed\""
      ]
     },
     "metadata": {},
     "output_type": "display_data"
    }
   ],
   "source": [
    "plot(\n",
    "    dist ~ speed,\n",
    "    data= cars,\n",
    "    xlab = 'Speed (in Miles Per Hour)',\n",
    "    ylab = 'Stopping Distance (in Feet)',\n",
    "    main = 'Stopping Distance vs Speed',\n",
    "    pch = 20,\n",
    "    cex = 1.5,\n",
    "    col = 'grey'\n",
    ")\n",
    "abline( stop_dist_model, lwd = 2, col = 'darkorange' )"
   ]
  },
  {
   "cell_type": "code",
   "execution_count": 44,
   "metadata": {},
   "outputs": [
    {
     "data": {
      "text/html": [
       "<ol class=list-inline>\n",
       "\t<li>'coefficients'</li>\n",
       "\t<li>'residuals'</li>\n",
       "\t<li>'effects'</li>\n",
       "\t<li>'rank'</li>\n",
       "\t<li>'fitted.values'</li>\n",
       "\t<li>'assign'</li>\n",
       "\t<li>'qr'</li>\n",
       "\t<li>'df.residual'</li>\n",
       "\t<li>'xlevels'</li>\n",
       "\t<li>'call'</li>\n",
       "\t<li>'terms'</li>\n",
       "\t<li>'model'</li>\n",
       "</ol>\n"
      ],
      "text/latex": [
       "\\begin{enumerate*}\n",
       "\\item 'coefficients'\n",
       "\\item 'residuals'\n",
       "\\item 'effects'\n",
       "\\item 'rank'\n",
       "\\item 'fitted.values'\n",
       "\\item 'assign'\n",
       "\\item 'qr'\n",
       "\\item 'df.residual'\n",
       "\\item 'xlevels'\n",
       "\\item 'call'\n",
       "\\item 'terms'\n",
       "\\item 'model'\n",
       "\\end{enumerate*}\n"
      ],
      "text/markdown": [
       "1. 'coefficients'\n",
       "2. 'residuals'\n",
       "3. 'effects'\n",
       "4. 'rank'\n",
       "5. 'fitted.values'\n",
       "6. 'assign'\n",
       "7. 'qr'\n",
       "8. 'df.residual'\n",
       "9. 'xlevels'\n",
       "10. 'call'\n",
       "11. 'terms'\n",
       "12. 'model'\n",
       "\n",
       "\n"
      ],
      "text/plain": [
       " [1] \"coefficients\"  \"residuals\"     \"effects\"       \"rank\"         \n",
       " [5] \"fitted.values\" \"assign\"        \"qr\"            \"df.residual\"  \n",
       " [9] \"xlevels\"       \"call\"          \"terms\"         \"model\"        "
      ]
     },
     "metadata": {},
     "output_type": "display_data"
    }
   ],
   "source": [
    "names( stop_dist_model )"
   ]
  },
  {
   "cell_type": "code",
   "execution_count": 51,
   "metadata": {},
   "outputs": [],
   "source": [
    "# stop_dist_model$residuals"
   ]
  },
  {
   "cell_type": "code",
   "execution_count": 48,
   "metadata": {},
   "outputs": [
    {
     "data": {
      "text/html": [
       "<dl class=dl-horizontal>\n",
       "\t<dt>(Intercept)</dt>\n",
       "\t\t<dd>-17.5790948905109</dd>\n",
       "\t<dt>speed</dt>\n",
       "\t\t<dd>3.93240875912409</dd>\n",
       "</dl>\n"
      ],
      "text/latex": [
       "\\begin{description*}\n",
       "\\item[(Intercept)] -17.5790948905109\n",
       "\\item[speed] 3.93240875912409\n",
       "\\end{description*}\n"
      ],
      "text/markdown": [
       "(Intercept)\n",
       ":   -17.5790948905109speed\n",
       ":   3.93240875912409\n",
       "\n"
      ],
      "text/plain": [
       "(Intercept)       speed \n",
       " -17.579095    3.932409 "
      ]
     },
     "metadata": {},
     "output_type": "display_data"
    }
   ],
   "source": [
    "coef( stop_dist_model )"
   ]
  },
  {
   "cell_type": "code",
   "execution_count": 50,
   "metadata": {},
   "outputs": [],
   "source": [
    "# resid( stop_dist_model )"
   ]
  },
  {
   "cell_type": "code",
   "execution_count": 53,
   "metadata": {},
   "outputs": [],
   "source": [
    "# fitted( stop_dist_model )"
   ]
  },
  {
   "cell_type": "code",
   "execution_count": 54,
   "metadata": {},
   "outputs": [
    {
     "data": {
      "text/plain": [
       "\n",
       "Call:\n",
       "lm(formula = dist ~ speed, data = cars)\n",
       "\n",
       "Residuals:\n",
       "    Min      1Q  Median      3Q     Max \n",
       "-29.069  -9.525  -2.272   9.215  43.201 \n",
       "\n",
       "Coefficients:\n",
       "            Estimate Std. Error t value Pr(>|t|)    \n",
       "(Intercept) -17.5791     6.7584  -2.601   0.0123 *  \n",
       "speed         3.9324     0.4155   9.464 1.49e-12 ***\n",
       "---\n",
       "Signif. codes:  0 '***' 0.001 '**' 0.01 '*' 0.05 '.' 0.1 ' ' 1\n",
       "\n",
       "Residual standard error: 15.38 on 48 degrees of freedom\n",
       "Multiple R-squared:  0.6511,\tAdjusted R-squared:  0.6438 \n",
       "F-statistic: 89.57 on 1 and 48 DF,  p-value: 1.49e-12\n"
      ]
     },
     "metadata": {},
     "output_type": "display_data"
    }
   ],
   "source": [
    "summary( stop_dist_model )"
   ]
  },
  {
   "cell_type": "code",
   "execution_count": 55,
   "metadata": {},
   "outputs": [
    {
     "data": {
      "text/html": [
       "<ol class=list-inline>\n",
       "\t<li>'call'</li>\n",
       "\t<li>'terms'</li>\n",
       "\t<li>'residuals'</li>\n",
       "\t<li>'coefficients'</li>\n",
       "\t<li>'aliased'</li>\n",
       "\t<li>'sigma'</li>\n",
       "\t<li>'df'</li>\n",
       "\t<li>'r.squared'</li>\n",
       "\t<li>'adj.r.squared'</li>\n",
       "\t<li>'fstatistic'</li>\n",
       "\t<li>'cov.unscaled'</li>\n",
       "</ol>\n"
      ],
      "text/latex": [
       "\\begin{enumerate*}\n",
       "\\item 'call'\n",
       "\\item 'terms'\n",
       "\\item 'residuals'\n",
       "\\item 'coefficients'\n",
       "\\item 'aliased'\n",
       "\\item 'sigma'\n",
       "\\item 'df'\n",
       "\\item 'r.squared'\n",
       "\\item 'adj.r.squared'\n",
       "\\item 'fstatistic'\n",
       "\\item 'cov.unscaled'\n",
       "\\end{enumerate*}\n"
      ],
      "text/markdown": [
       "1. 'call'\n",
       "2. 'terms'\n",
       "3. 'residuals'\n",
       "4. 'coefficients'\n",
       "5. 'aliased'\n",
       "6. 'sigma'\n",
       "7. 'df'\n",
       "8. 'r.squared'\n",
       "9. 'adj.r.squared'\n",
       "10. 'fstatistic'\n",
       "11. 'cov.unscaled'\n",
       "\n",
       "\n"
      ],
      "text/plain": [
       " [1] \"call\"          \"terms\"         \"residuals\"     \"coefficients\" \n",
       " [5] \"aliased\"       \"sigma\"         \"df\"            \"r.squared\"    \n",
       " [9] \"adj.r.squared\" \"fstatistic\"    \"cov.unscaled\" "
      ]
     },
     "metadata": {},
     "output_type": "display_data"
    }
   ],
   "source": [
    "names( summary( stop_dist_model ) )"
   ]
  },
  {
   "cell_type": "code",
   "execution_count": 56,
   "metadata": {},
   "outputs": [
    {
     "data": {
      "text/html": [
       "0.651079380758251"
      ],
      "text/latex": [
       "0.651079380758251"
      ],
      "text/markdown": [
       "0.651079380758251"
      ],
      "text/plain": [
       "[1] 0.6510794"
      ]
     },
     "metadata": {},
     "output_type": "display_data"
    }
   ],
   "source": [
    "summary( stop_dist_model )$r.squared"
   ]
  },
  {
   "cell_type": "code",
   "execution_count": 57,
   "metadata": {},
   "outputs": [
    {
     "data": {
      "text/html": [
       "15.3795867488199"
      ],
      "text/latex": [
       "15.3795867488199"
      ],
      "text/markdown": [
       "15.3795867488199"
      ],
      "text/plain": [
       "[1] 15.37959"
      ]
     },
     "metadata": {},
     "output_type": "display_data"
    }
   ],
   "source": [
    "# S_e\n",
    "summary( stop_dist_model )$sigma"
   ]
  },
  {
   "cell_type": "code",
   "execution_count": 59,
   "metadata": {},
   "outputs": [
    {
     "data": {
      "text/html": [
       "<dl class=dl-horizontal>\n",
       "\t<dt>1</dt>\n",
       "\t\t<dd>13.8801751824818</dd>\n",
       "\t<dt>2</dt>\n",
       "\t\t<dd>65.0014890510949</dd>\n",
       "\t<dt>3</dt>\n",
       "\t\t<dd>179.041343065693</dd>\n",
       "</dl>\n"
      ],
      "text/latex": [
       "\\begin{description*}\n",
       "\\item[1] 13.8801751824818\n",
       "\\item[2] 65.0014890510949\n",
       "\\item[3] 179.041343065693\n",
       "\\end{description*}\n"
      ],
      "text/markdown": [
       "1\n",
       ":   13.88017518248182\n",
       ":   65.00148905109493\n",
       ":   179.041343065693\n",
       "\n"
      ],
      "text/plain": [
       "        1         2         3 \n",
       " 13.88018  65.00149 179.04134 "
      ]
     },
     "metadata": {},
     "output_type": "display_data"
    }
   ],
   "source": [
    "predict( stop_dist_model, newdata = data.frame( speed = c(8, 21, 50) ) )"
   ]
  },
  {
   "cell_type": "markdown",
   "metadata": {},
   "source": [
    "# Maximum Likelihood Estimation (MLE) Approach"
   ]
  },
  {
   "cell_type": "markdown",
   "metadata": {},
   "source": [
    "The PDF of a random variable $X \\sim N(\\mu, \\sigma^2)$ is given by:\n",
    "\n",
    "$$f_x(x; \\mu, \\sigma^2) = \\frac{1}{\\sqrt(2 \\pi \\sigma^2)} exp[-\\frac{1}{2}(\\frac{x - \\mu}{\\sigma})^2]$$\n",
    "\n",
    "so the PDF for each $Y_i$ value can be written as:\n",
    "\n",
    "$$f_{Y_i}(y_i; x_i, \\beta_0, \\beta_1, \\sigma^2) = \\frac{1}{\\sqrt(2 \\pi \\sigma^2)} exp[-\\frac{1}{2}(\\frac{y_i - (\\beta_0 + \\beta_1 x_i)}{\\sigma})^2]$$\n",
    "\n",
    "Given the $n$ data points $(x_i, y_i)$ we can write the likelihood, which is a function of the three parameters $\\beta_0, \\beta_1, \\sigma^2$. Since the data has been observed we use $y_i$ to denote these values are no longer random:\n",
    "\n",
    "$$L(\\beta_0, \\beta_1, \\sigma^2) = \\prod_{i = 1}^n \\frac{1}{\\sqrt(2 \\pi \\sigma^2)} exp[-\\frac{1}{2}(\\frac{y_i - \\beta_0 - \\beta_1 x_i}{\\sigma})^2]$$\n",
    "\n",
    "and the goal is to find the values for $\\beta_0, \\beta_1, \\sigma^2$ to maximize this function. We can do a rearranging to simplify the above equation:\n",
    "\n",
    "$$L(\\beta_0, \\beta_1, \\sigma^2) = (\\frac{1}{\\sqrt(2 \\pi \\sigma^2)})^n exp[-\\frac{1}{2 \\sigma^2} \\sum_{i = 1}^n (y_i - \\beta_0 - \\beta_1 x_i)^2]$$\n",
    "\n",
    "Then we can take the natural logarithm of the likelihood function since the log is a monotonically increasing function.\n",
    "\n",
    "$$log $L(\\beta_0, \\beta_1, \\sigma^2) = -\\frac{n}{2} log(2 \\pi) - \\frac{n}{2} log(\\sigma^2) - \\frac{1}{2 \\sigma^2} \\sum_{i = 1}^n (y_i - \\beta_0 - \\beta_1 x_i)^2$$\n",
    "\n",
    "Then take the partial derivative with respect to each of the parameters, then set each to 0 to solve. The $\\beta$ parameters will end up being the same derivation as Least Sqaures, but the value for $\\sigma^2$ will be different as:\n",
    "\n",
    "$$\\hat \\sigma^2 = \\frac{1}{n} \\sum_{i = 1}^n (y_i - \\hat y_i)^2 = \\frac{1}{n} \\sum_{i = 1}^n e_i^2$$"
   ]
  },
  {
   "cell_type": "markdown",
   "metadata": {},
   "source": [
    "# Simulation"
   ]
  },
  {
   "cell_type": "markdown",
   "metadata": {},
   "source": [
    "In simulation you decide the true model and and simulate data from it in an attempt to recover information about the unknown true model. We will simulate $n = 21$ using a $\\mu = 5$and $\\beta_1 = 2$ adn we will let $\\epsilon \\sim N(\\mu = 0, \\sigma^2 = 9)$"
   ]
  },
  {
   "cell_type": "code",
   "execution_count": 63,
   "metadata": {},
   "outputs": [
    {
     "data": {
      "text/html": [
       "<dl class=dl-horizontal>\n",
       "\t<dt>(Intercept)</dt>\n",
       "\t\t<dd>4.09810557162751</dd>\n",
       "\t<dt>x_vals</dt>\n",
       "\t\t<dd>-1.84202554740639</dd>\n",
       "</dl>\n"
      ],
      "text/latex": [
       "\\begin{description*}\n",
       "\\item[(Intercept)] 4.09810557162751\n",
       "\\item[x\\textbackslash{}\\_vals] -1.84202554740639\n",
       "\\end{description*}\n"
      ],
      "text/markdown": [
       "(Intercept)\n",
       ":   4.09810557162751x_vals\n",
       ":   -1.84202554740639\n",
       "\n"
      ],
      "text/plain": [
       "(Intercept)      x_vals \n",
       "   4.098106   -1.842026 "
      ]
     },
     "metadata": {},
     "output_type": "display_data"
    }
   ],
   "source": [
    "num_obs <- 21\n",
    "beta_0  <- 5\n",
    "beta_1  <- -2\n",
    "sigma   <- 3\n",
    "\n",
    "set.seed( 19920917 )\n",
    "\n",
    "epsilon <- rnorm( n = num_obs, mean = 0, sd = sigma )\n",
    "x_vals  <- seq( from = 0, to = 10, length.out = num_obs )\n",
    "y_vals  <- beta_0 + beta_1 * x_vals + epsilon\n",
    "\n",
    "sim_fit <- lm( y_vals ~ x_vals )\n",
    "coef( sim_fit )"
   ]
  },
  {
   "cell_type": "code",
   "execution_count": 64,
   "metadata": {},
   "outputs": [
    {
     "data": {
      "image/png": "[encoded data removed]",
      "text/plain": [
       "plot without title"
      ]
     },
     "metadata": {},
     "output_type": "display_data"
    }
   ],
   "source": [
    "plot( y_vals ~ x_vals )\n",
    "abline( sim_fit )"
   ]
  },
  {
   "cell_type": "markdown",
   "metadata": {},
   "source": [
    "It is better to write a function and store data in a dataframe, so a bett approach is:"
   ]
  },
  {
   "cell_type": "code",
   "execution_count": 65,
   "metadata": {},
   "outputs": [],
   "source": [
    "sim_slr <- function( x, beta_0 = 10, beta_1 = 5, sigma = 1 ) {\n",
    "    n       <- length(x)\n",
    "    epsilon <- rnorm( n, mean = 0, sd = sigma )\n",
    "    y       <- beta_0 + beta_1 * x + epsilon\n",
    "    data.frame( predictor = x, response = y )\n",
    "}"
   ]
  },
  {
   "cell_type": "code",
   "execution_count": 66,
   "metadata": {},
   "outputs": [
    {
     "data": {
      "text/html": [
       "<table>\n",
       "<thead><tr><th scope=col>predictor</th><th scope=col>response</th></tr></thead>\n",
       "<tbody>\n",
       "\t<tr><td>0.0        </td><td> 1.71313550</td></tr>\n",
       "\t<tr><td>0.5        </td><td> 2.66863733</td></tr>\n",
       "\t<tr><td>1.0        </td><td> 1.91157192</td></tr>\n",
       "\t<tr><td>1.5        </td><td>-0.09131574</td></tr>\n",
       "\t<tr><td>2.0        </td><td> 2.00290038</td></tr>\n",
       "\t<tr><td>2.5        </td><td> 3.94291844</td></tr>\n",
       "</tbody>\n",
       "</table>\n"
      ],
      "text/latex": [
       "\\begin{tabular}{r|ll}\n",
       " predictor & response\\\\\n",
       "\\hline\n",
       "\t 0.0         &  1.71313550\\\\\n",
       "\t 0.5         &  2.66863733\\\\\n",
       "\t 1.0         &  1.91157192\\\\\n",
       "\t 1.5         & -0.09131574\\\\\n",
       "\t 2.0         &  2.00290038\\\\\n",
       "\t 2.5         &  3.94291844\\\\\n",
       "\\end{tabular}\n"
      ],
      "text/markdown": [
       "\n",
       "predictor | response | \n",
       "|---|---|---|---|---|---|\n",
       "| 0.0         |  1.71313550 | \n",
       "| 0.5         |  2.66863733 | \n",
       "| 1.0         |  1.91157192 | \n",
       "| 1.5         | -0.09131574 | \n",
       "| 2.0         |  2.00290038 | \n",
       "| 2.5         |  3.94291844 | \n",
       "\n",
       "\n"
      ],
      "text/plain": [
       "  predictor response   \n",
       "1 0.0        1.71313550\n",
       "2 0.5        2.66863733\n",
       "3 1.0        1.91157192\n",
       "4 1.5       -0.09131574\n",
       "5 2.0        2.00290038\n",
       "6 2.5        3.94291844"
      ]
     },
     "metadata": {},
     "output_type": "display_data"
    }
   ],
   "source": [
    "set.seed( 19920917 )\n",
    "\n",
    "sim_data <- sim_slr( x = x_vals, beta_0 = 5, beta_1 = -2, sigma = 3 )\n",
    "head( sim_data )"
   ]
  },
  {
   "cell_type": "code",
   "execution_count": 67,
   "metadata": {},
   "outputs": [
    {
     "data": {
      "text/html": [
       "<dl class=dl-horizontal>\n",
       "\t<dt>(Intercept)</dt>\n",
       "\t\t<dd>4.09810557162751</dd>\n",
       "\t<dt>predictor</dt>\n",
       "\t\t<dd>-1.84202554740639</dd>\n",
       "</dl>\n"
      ],
      "text/latex": [
       "\\begin{description*}\n",
       "\\item[(Intercept)] 4.09810557162751\n",
       "\\item[predictor] -1.84202554740639\n",
       "\\end{description*}\n"
      ],
      "text/markdown": [
       "(Intercept)\n",
       ":   4.09810557162751predictor\n",
       ":   -1.84202554740639\n",
       "\n"
      ],
      "text/plain": [
       "(Intercept)   predictor \n",
       "   4.098106   -1.842026 "
      ]
     },
     "metadata": {},
     "output_type": "display_data"
    }
   ],
   "source": [
    "sim_fit <- lm( response ~ predictor, data = sim_data )\n",
    "coef( sim_fit )"
   ]
  },
  {
   "cell_type": "code",
   "execution_count": 71,
   "metadata": {},
   "outputs": [
    {
     "data": {
      "image/png": "[encoded data removed]",
      "text/plain": [
       "Plot with title \"Simulated Regression Data\""
      ]
     },
     "metadata": {},
     "output_type": "display_data"
    }
   ],
   "source": [
    "plot( \n",
    "    response ~ predictor,\n",
    "    data = sim_data,\n",
    "    xlab = 'Simulated Predictor Variable',\n",
    "    ylab = 'Simulated Response Variable',\n",
    "    main = 'Simulated Regression Data',\n",
    "    pch  = 20,\n",
    "    cex  = 1.5,\n",
    "    col  = 'grey'\n",
    ")\n",
    "\n",
    "abline( sim_fit, lwd = 3, lty = 1, col = 'darkorange' )\n",
    "abline( beta_0, beta_1, lwd = 3, lty = 2, col = 'dodgerblue' )\n",
    "\n",
    "legend( \n",
    "    'topright', \n",
    "    c( 'Estimate', 'Truth' ),\n",
    "    lty = c( 1, 2 ),\n",
    "    lwd = 1,\n",
    "    col = c( 'darkorange', 'dodgerblue' )\n",
    ")"
   ]
  },
  {
   "cell_type": "code",
   "execution_count": null,
   "metadata": {},
   "outputs": [],
   "source": []
  }
 ],
 "metadata": {
  "kernelspec": {
   "display_name": "R",
   "language": "R",
   "name": "ir"
  },
  "language_info": {
   "codemirror_mode": "r",
   "file_extension": ".r",
   "mimetype": "text/x-r-source",
   "name": "R",
   "pygments_lexer": "r",
   "version": "3.5.1"
  }
 },
 "nbformat": 4,
 "nbformat_minor": 2
}
