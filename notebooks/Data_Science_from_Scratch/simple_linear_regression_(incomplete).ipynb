{
 "cells": [
  {
   "cell_type": "code",
   "execution_count": 84,
   "metadata": {},
   "outputs": [],
   "source": [
    "import numpy  as np\n",
    "import pandas as pd\n",
    "import random as rn\n",
    "import math"
   ]
  },
  {
   "cell_type": "markdown",
   "metadata": {},
   "source": [
    "#### Linear Algebra Functions"
   ]
  },
  {
   "cell_type": "code",
   "execution_count": 69,
   "metadata": {},
   "outputs": [],
   "source": [
    "def dot(v_1, v_2):\n",
    "    return sum( v_1_i * v_2_i for v_1_i, v_2_i in zip(v_1, v_2) )\n",
    "\n",
    "def sum_of_squares(v):\n",
    "    return dot(v, v)\n",
    "    "
   ]
  },
  {
   "cell_type": "markdown",
   "metadata": {},
   "source": [
    "#### Statistical Functions"
   ]
  },
  {
   "cell_type": "code",
   "execution_count": 56,
   "metadata": {},
   "outputs": [],
   "source": [
    "def mean_norm(X):\n",
    "    x_bar = mean(X)\n",
    "    \n",
    "    return [x_i - x_bar for x_i in X]\n",
    "\n",
    "def variance(X):\n",
    "    n          = len(X)\n",
    "    deviations = mean_norm(X)\n",
    "    \n",
    "    return sum_of_squares(deviations) /\\\n",
    "           (n - 1)\n",
    "\n",
    "def standard_deviation(X):\n",
    "    return math.sqrt( variance(X) )\n",
    "\n",
    "def covariance(X, y):\n",
    "    n = len(X)\n",
    "    \n",
    "    return dot( mean_norm(X), mean_norm(y) ) /\\\n",
    "           (n - 1)\n",
    "\n",
    "def correlation(X, y):\n",
    "    std_dev_x = standard_deviation(X)\n",
    "    std_dev_y = standard_deviation(y)\n",
    "    \n",
    "    if std_dev_x > 0 and std_dev_y > 0:\n",
    "        return covariance(X, y) /\\\n",
    "               std_dev_x / std_dev_y\n",
    "    else:\n",
    "        return 0"
   ]
  },
  {
   "cell_type": "markdown",
   "metadata": {},
   "source": [
    "#### Simple Linear Regression"
   ]
  },
  {
   "cell_type": "code",
   "execution_count": 57,
   "metadata": {},
   "outputs": [],
   "source": [
    "def predict(intercept, beta, X):\n",
    "    return intercept + (beta * X)"
   ]
  },
  {
   "cell_type": "code",
   "execution_count": 58,
   "metadata": {},
   "outputs": [],
   "source": [
    "def error(intercept, beta, X, y):\n",
    "    return y - predict(intercept, beta, X)"
   ]
  },
  {
   "cell_type": "code",
   "execution_count": 80,
   "metadata": {},
   "outputs": [],
   "source": [
    "def sum_of_squared_errors(intercept, beta, X, y):\n",
    "    return sum( error(intercept, beta, x_i, y_i) ** 2\n",
    "                for x_i, y_i in zip(X, y) )"
   ]
  },
  {
   "cell_type": "code",
   "execution_count": 60,
   "metadata": {},
   "outputs": [],
   "source": [
    "def least_squares_fit(X, y):\n",
    "    beta      = ( correlation(X, y) * standard_deviation(y) ) /\\\n",
    "                standard_deviation(X)\n",
    "    intercept = mean(y) - beta * mean(X)\n",
    "    \n",
    "    return intercept, beta"
   ]
  },
  {
   "cell_type": "markdown",
   "metadata": {},
   "source": [
    "#### Obtain Coefficients"
   ]
  },
  {
   "cell_type": "code",
   "execution_count": 74,
   "metadata": {},
   "outputs": [],
   "source": [
    "X = np.random.randint( 1, 5000, 100 ) \n",
    "y = np.random.randint( 1, 5, 100 ) \n",
    "\n",
    "intercept, beta = least_squares_fit(X, y)"
   ]
  },
  {
   "cell_type": "markdown",
   "metadata": {},
   "source": [
    "#### Get Prediction"
   ]
  },
  {
   "cell_type": "code",
   "execution_count": 77,
   "metadata": {},
   "outputs": [],
   "source": [
    "def prediction(X):\n",
    "    intercept, beta = least_squares_fit(X, y)\n",
    "\n",
    "    return intercept + (beta * X)"
   ]
  },
  {
   "cell_type": "markdown",
   "metadata": {},
   "source": [
    "#### Estimate Errors"
   ]
  },
  {
   "cell_type": "code",
   "execution_count": 82,
   "metadata": {},
   "outputs": [],
   "source": [
    "def total_sum_of_squares(y):\n",
    "    return sum( v ** 2 for v in mean_norm(y) )\n",
    "\n",
    "def r_sqaured(intercept, beta, X, y):\n",
    "    return 1.0 - ( sum_of_squared_errors(intercept, beta, X, y) /\\\n",
    "                   total_sum_of_squares(y) )"
   ]
  },
  {
   "cell_type": "code",
   "execution_count": 83,
   "metadata": {},
   "outputs": [
    {
     "data": {
      "text/plain": [
       "7.955578450458134e-06"
      ]
     },
     "execution_count": 83,
     "metadata": {},
     "output_type": "execute_result"
    }
   ],
   "source": [
    "r_sqaured(intercept, beta, X, y)"
   ]
  },
  {
   "cell_type": "markdown",
   "metadata": {},
   "source": [
    "#### Using Gradient Descent"
   ]
  },
  {
   "cell_type": "code",
   "execution_count": 85,
   "metadata": {},
   "outputs": [],
   "source": [
    "def squared_error(X, y, theta):\n",
    "    intercept, beta = theta\n",
    "    \n",
    "    return error(intercept, beta, X, y) ** 2\n",
    "\n",
    "def squared_error_gradient(X, y, theta):\n",
    "    intercept, beta = theta\n",
    "    calc_error      = -2 * error( intercept, beta, X, y )\n",
    "    \n",
    "    return [ calc_error, (calc_error * X) ]\n",
    "\n",
    "def negate(f):\n",
    "    return lambda *args, **kwargs: -f(*args, **kwargs)\n",
    "\n",
    "def negate_all(f):\n",
    "    return lambda *args, **kwargs: [ -y for y in f(*args, **kwargs) ]\n",
    "\n",
    "\n",
    "\n",
    "def in_random_order(data):\n",
    "    indexes = [ i for i, _ in enumerate(data) ]\n",
    "    random.shuffle(indexes)\n",
    "    \n",
    "    for i in indexes:\n",
    "        yield data[i]\n",
    "\n",
    "def minimize_stochastic( target_function, gradient_function, X, y, theta_0, alpha_0 ):\n",
    "    data                           = zip(X, y)\n",
    "    theta                          = theta_0\n",
    "    alpha                          = alpha_0\n",
    "    min_theta, min_value           = None, float('inf')\n",
    "    iterations_with_no_improvement = 0\n",
    "    \n",
    "    while iterations_with_no_improvement < 100:\n",
    "        value = sum( target_function(x_i, y_i, theta) for x_i, y_i in data )\n",
    "        \n",
    "        if value < min_value:\n",
    "            min_theta, min_value           = theta, value\n",
    "            iterations_with_no_improvement = 0\n",
    "            alpha                          = alpha_0\n",
    "            \n",
    "        else:\n",
    "            iterations_with_no_improvement += 1\n",
    "            alpha                          *= 0.9\n",
    "            \n",
    "        for x_i, y_i in in_random_order(data):\n",
    "            gradient_i = gradient_function(x_i, y_i, theta)\n",
    "            theta      = vector_subtract( theta, scaler_multiply(alpha, gradient_i) )\n",
    "            \n",
    "        return min_theta\n",
    "    \n",
    "def maximize_stochastic( target_function, gradient_function, X, y, theta_0, alpha_0 ):\n",
    "    return minimize_stochastic( negate(target_function),\n",
    "                                negate_all(gradient_function),\n",
    "                                X,\n",
    "                                y,\n",
    "                                theta_0,\n",
    "                                alpha_0 )"
   ]
  },
  {
   "cell_type": "code",
   "execution_count": 86,
   "metadata": {},
   "outputs": [
    {
     "ename": "NameError",
     "evalue": "name 'minimize_stochastic' is not defined",
     "output_type": "error",
     "traceback": [
      "\u001b[1;31m---------------------------------------------------------------------------\u001b[0m",
      "\u001b[1;31mNameError\u001b[0m                                 Traceback (most recent call last)",
      "\u001b[1;32m<ipython-input-86-af11f5ae572a>\u001b[0m in \u001b[0;36m<module>\u001b[1;34m()\u001b[0m\n\u001b[0;32m      2\u001b[0m \u001b[1;33m\u001b[0m\u001b[0m\n\u001b[0;32m      3\u001b[0m \u001b[0mtheta\u001b[0m           \u001b[1;33m=\u001b[0m \u001b[1;33m[\u001b[0m \u001b[0mrn\u001b[0m\u001b[1;33m.\u001b[0m\u001b[0mrandom\u001b[0m\u001b[1;33m(\u001b[0m\u001b[1;33m)\u001b[0m\u001b[1;33m,\u001b[0m \u001b[0mrn\u001b[0m\u001b[1;33m.\u001b[0m\u001b[0mrandom\u001b[0m\u001b[1;33m(\u001b[0m\u001b[1;33m)\u001b[0m \u001b[1;33m]\u001b[0m\u001b[1;33m\u001b[0m\u001b[0m\n\u001b[1;32m----> 4\u001b[1;33m intercept, beta = minimize_stochastic( squared_error,\n\u001b[0m\u001b[0;32m      5\u001b[0m                                        \u001b[0msquared_error_gradient\u001b[0m\u001b[1;33m,\u001b[0m\u001b[1;33m\u001b[0m\u001b[0m\n\u001b[0;32m      6\u001b[0m                                        \u001b[0mX\u001b[0m\u001b[1;33m,\u001b[0m\u001b[1;33m\u001b[0m\u001b[0m\n",
      "\u001b[1;31mNameError\u001b[0m: name 'minimize_stochastic' is not defined"
     ]
    }
   ],
   "source": [
    "rn.seed(0)\n",
    "\n",
    "theta           = [ rn.random(), rn.random() ]\n",
    "intercept, beta = minimize_stochastic( squared_error,\n",
    "                                       squared_error_gradient,\n",
    "                                       X,\n",
    "                                       y,\n",
    "                                       theta,\n",
    "                                       0.001 )\n",
    "\n",
    "print(intercept, beta)"
   ]
  },
  {
   "cell_type": "code",
   "execution_count": null,
   "metadata": {},
   "outputs": [],
   "source": []
  }
 ],
 "metadata": {
  "kernelspec": {
   "display_name": "Python 3",
   "language": "python",
   "name": "python3"
  },
  "language_info": {
   "codemirror_mode": {
    "name": "ipython",
    "version": 3
   },
   "file_extension": ".py",
   "mimetype": "text/x-python",
   "name": "python",
   "nbconvert_exporter": "python",
   "pygments_lexer": "ipython3",
   "version": "3.6.5"
  }
 },
 "nbformat": 4,
 "nbformat_minor": 2
}
