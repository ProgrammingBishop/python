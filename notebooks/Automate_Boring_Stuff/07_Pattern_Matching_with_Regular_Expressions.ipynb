{
 "cells": [
  {
   "cell_type": "code",
   "execution_count": 36,
   "metadata": {},
   "outputs": [],
   "source": [
    "import re"
   ]
  },
  {
   "cell_type": "markdown",
   "metadata": {},
   "source": [
    "#### Creating Regex Objects\n",
    "\n",
    "Passing a string value representing a regular expression to re.compile() returns a Regex pattern object. "
   ]
  },
  {
   "cell_type": "code",
   "execution_count": 6,
   "metadata": {},
   "outputs": [
    {
     "name": "stdout",
     "output_type": "stream",
     "text": [
      "Phone number found: 415-555-4242\n"
     ]
    }
   ],
   "source": [
    "# r represents a raw string, which does not escape characters. This is easier when using re.compile()\n",
    "phone_number_regex = re.compile(r'\\d\\d\\d-\\d\\d\\d-\\d\\d\\d\\d')\n",
    "\n",
    "# Regex Object's search method searches a string it is passed for any matches to the regex. \n",
    "    # If a match is found the search method returns a Match object, which have a group() method that returns the actual matched text from the search string.\n",
    "mo = phone_number_regex.search('My number is 415-555-4242.')\n",
    "print( 'Phone number found: ' + mo.group() )"
   ]
  },
  {
   "cell_type": "markdown",
   "metadata": {},
   "source": [
    "#### Pattern Matching with Regular Expressions\n",
    "\n",
    "###### Grouping with Parenthesis"
   ]
  },
  {
   "cell_type": "code",
   "execution_count": 10,
   "metadata": {},
   "outputs": [
    {
     "name": "stdout",
     "output_type": "stream",
     "text": [
      "415\n",
      "555-4242\n",
      "415-555-4242\n",
      "('415', '555-4242')\n"
     ]
    }
   ],
   "source": [
    "phone_number_regex = re.compile( r'(\\d\\d\\d)-(\\d\\d\\d-\\d\\d\\d\\d)' )\n",
    "mo                 = phone_number_regex.search( 'My number is 415-555-4242.' )\n",
    "print( mo.group(1) )\n",
    "print( mo.group(2) )\n",
    "print( mo.group(0) )\n",
    "print( mo.groups() )"
   ]
  },
  {
   "cell_type": "code",
   "execution_count": 12,
   "metadata": {},
   "outputs": [
    {
     "name": "stdout",
     "output_type": "stream",
     "text": [
      "415\n",
      "555-4242\n"
     ]
    }
   ],
   "source": [
    "area, main = mo.groups()\n",
    "print( area )\n",
    "print( main )"
   ]
  },
  {
   "cell_type": "markdown",
   "metadata": {},
   "source": [
    "###### Matching Multiple Groups with the Pipe\n",
    "\n",
    "Use the | character to match one or more expressions. If both items in strin match, then only the first will be returned."
   ]
  },
  {
   "cell_type": "code",
   "execution_count": 13,
   "metadata": {},
   "outputs": [
    {
     "data": {
      "text/plain": [
       "'Batman'"
      ]
     },
     "execution_count": 13,
     "metadata": {},
     "output_type": "execute_result"
    }
   ],
   "source": [
    "hero_regex = re.compile( r'Batman|Tina Fey' )\n",
    "mo1        = hero_regex.search( 'Batman and Tina Fey.' )\n",
    "\n",
    "mo1.group()"
   ]
  },
  {
   "cell_type": "code",
   "execution_count": 14,
   "metadata": {},
   "outputs": [
    {
     "data": {
      "text/plain": [
       "'Batmobile'"
      ]
     },
     "execution_count": 14,
     "metadata": {},
     "output_type": "execute_result"
    }
   ],
   "source": [
    "# Use parenthesis to specify a prefix pattern only once.\n",
    "batRegex = re.compile( r'Bat(man|mobile|copter|bat)' )\n",
    "mo       = batRegex.search( 'Batmobile lost a wheel' )\n",
    "\n",
    "mo.group()"
   ]
  },
  {
   "cell_type": "markdown",
   "metadata": {},
   "source": [
    "###### Optional Matching with the Question Mark\n",
    "\n",
    "Regex finds a match whether or not a bit of pattern is present. The ? flags the proceeding content as an optional part of the pattern. "
   ]
  },
  {
   "cell_type": "code",
   "execution_count": 15,
   "metadata": {},
   "outputs": [
    {
     "data": {
      "text/plain": [
       "'Batman'"
      ]
     },
     "execution_count": 15,
     "metadata": {},
     "output_type": "execute_result"
    }
   ],
   "source": [
    "# (wo)? is an optional part of the expression\n",
    "bat_regex = re.compile( r'Bat(wo)?man' )\n",
    "mo1       = bat_regex.search( 'The Adventures of Batman' )\n",
    "\n",
    "mo1.group()"
   ]
  },
  {
   "cell_type": "code",
   "execution_count": 17,
   "metadata": {},
   "outputs": [
    {
     "data": {
      "text/plain": [
       "'Batwoman'"
      ]
     },
     "execution_count": 17,
     "metadata": {},
     "output_type": "execute_result"
    }
   ],
   "source": [
    "mo2 = bat_regex.search( 'The Adventures of Batwoman' )\n",
    "mo2.group()"
   ]
  },
  {
   "cell_type": "markdown",
   "metadata": {},
   "source": [
    "###### Matching Zero or More with the Star\n",
    "\n",
    "The * means match zero or more. The group preceeding the star can occur any number of times in the text. It can be absent or repeated any number of times in the text."
   ]
  },
  {
   "cell_type": "code",
   "execution_count": 21,
   "metadata": {},
   "outputs": [
    {
     "data": {
      "text/plain": [
       "'Batman'"
      ]
     },
     "execution_count": 21,
     "metadata": {},
     "output_type": "execute_result"
    }
   ],
   "source": [
    "bat_regex = re.compile( r'Bat(wo)*man' )\n",
    "mo1       = bat_regex.search( 'The Adventures of Batman' )\n",
    "\n",
    "mo1.group()"
   ]
  },
  {
   "cell_type": "code",
   "execution_count": 19,
   "metadata": {},
   "outputs": [
    {
     "data": {
      "text/plain": [
       "'Batwoman'"
      ]
     },
     "execution_count": 19,
     "metadata": {},
     "output_type": "execute_result"
    }
   ],
   "source": [
    "bat_regex = re.compile( r'Bat(wo)*man' )\n",
    "mo2       = bat_regex.search( 'The Adventures of Batwoman' )\n",
    "\n",
    "mo2.group()"
   ]
  },
  {
   "cell_type": "code",
   "execution_count": 20,
   "metadata": {},
   "outputs": [
    {
     "data": {
      "text/plain": [
       "'Batwowowowoman'"
      ]
     },
     "execution_count": 20,
     "metadata": {},
     "output_type": "execute_result"
    }
   ],
   "source": [
    "bat_regex = re.compile( r'Bat(wo)*man' )\n",
    "mo3       = bat_regex.search( 'The Adventures of Batwowowowoman' )\n",
    "\n",
    "mo3.group()"
   ]
  },
  {
   "cell_type": "markdown",
   "metadata": {},
   "source": [
    "###### Matching One or More with the Plus\n",
    "\n",
    "A group proceeding a plus must appear at least once. "
   ]
  },
  {
   "cell_type": "code",
   "execution_count": 26,
   "metadata": {},
   "outputs": [
    {
     "data": {
      "text/plain": [
       "'Batwoman'"
      ]
     },
     "execution_count": 26,
     "metadata": {},
     "output_type": "execute_result"
    }
   ],
   "source": [
    "bat_regex = re.compile( r'Bat(wo)+man' )\n",
    "mo1       = bat_regex.search( 'The Adventures of Batwoman' )\n",
    "\n",
    "mo1.group()"
   ]
  },
  {
   "cell_type": "code",
   "execution_count": 27,
   "metadata": {},
   "outputs": [
    {
     "data": {
      "text/plain": [
       "True"
      ]
     },
     "execution_count": 27,
     "metadata": {},
     "output_type": "execute_result"
    }
   ],
   "source": [
    "mo2 = bat_regex.search( 'The Adventures of Batman' )\n",
    "\n",
    "# Wo needs to appeat at least once. If it does not then no sting will be returned.\n",
    "mo2 == None"
   ]
  },
  {
   "cell_type": "markdown",
   "metadata": {},
   "source": [
    "###### Match Repetitions with Curly Braces\n",
    "\n",
    "You can match a string by placing a number in curly braces after the pattern {3}, create a range to match {3,5}, or even have an unbounded amount to match { , 4} or { 4, }"
   ]
  },
  {
   "cell_type": "code",
   "execution_count": 31,
   "metadata": {},
   "outputs": [
    {
     "data": {
      "text/plain": [
       "'HaHaHa'"
      ]
     },
     "execution_count": 31,
     "metadata": {},
     "output_type": "execute_result"
    }
   ],
   "source": [
    "ha_regex = re.compile( r'(Ha){3}' )\n",
    "mo1      = ha_regex.search( 'HaHaHa' )\n",
    "\n",
    "mo1.group()"
   ]
  },
  {
   "cell_type": "markdown",
   "metadata": {},
   "source": [
    "#### Greedy and Non-Greedy Matching\n",
    "\n",
    "The regular expressions are greedy by default. That means in ambiguous situations involving {} will always match the longest string. To get the shortest string follow the {} by a question mark ?. "
   ]
  },
  {
   "cell_type": "code",
   "execution_count": 42,
   "metadata": {},
   "outputs": [
    {
     "data": {
      "text/plain": [
       "'HaHaHa'"
      ]
     },
     "execution_count": 42,
     "metadata": {},
     "output_type": "execute_result"
    }
   ],
   "source": [
    "non_greedy_regex = re.compile( r'(Ha){3}?' )\n",
    "mo1              = non_greedy_regex.search( 'HaHaHaHa' )\n",
    "\n",
    "mo1.group()"
   ]
  },
  {
   "cell_type": "markdown",
   "metadata": {},
   "source": [
    "###### More on the findall() method"
   ]
  },
  {
   "cell_type": "code",
   "execution_count": 44,
   "metadata": {},
   "outputs": [
    {
     "data": {
      "text/plain": [
       "[('415', '555', '9999'), ('212', '555', '0000')]"
      ]
     },
     "execution_count": 44,
     "metadata": {},
     "output_type": "execute_result"
    }
   ],
   "source": [
    "phone_regex = re.compile( r'(\\d\\d\\d)-(\\d\\d\\d)-(\\d\\d\\d\\d)' )\n",
    "\n",
    "phone_regex.findall( 'Cell: 415-555-9999, Work: 212-555-0000' )"
   ]
  },
  {
   "cell_type": "markdown",
   "metadata": {},
   "source": [
    "#### Character Classes\n",
    "\n",
    "- \\d is any number or digit  \n",
    "- \\D is any character that is not a numeric digit  \n",
    "- \\w is any letter, numeric digit, or the underscore character  \n",
    "- \\W is any character that is not a letter, numeric digit, or the underscore character  \n",
    "- \\s is any space, tab, or newline character  \n",
    "- \\S is any character that is not a space, tab, or newline  \n",
    "\n",
    "For example r'\\d+\\s\\w+' will match anything that has 1 or more numeric followed by a space followed by 1 or more letter. "
   ]
  },
  {
   "cell_type": "markdown",
   "metadata": {},
   "source": [
    "#### Making Your Own Character Classes\n",
    "\n",
    "You can define your own character classes using square brackets. Inside the square brackets normal regular expression symbols are not interpreted as such. So escape characters are not necessary. By adding a carrot ^ before the pattern within the brackets [] creates a negative pattern match (match characters not in character class). A popular matching pattern is [a-zA-Z0-9]"
   ]
  },
  {
   "cell_type": "code",
   "execution_count": 45,
   "metadata": {},
   "outputs": [
    {
     "data": {
      "text/plain": [
       "['o', 'o', 'o', 'e', 'a', 'a', 'o', 'o', 'A', 'O', 'O']"
      ]
     },
     "execution_count": 45,
     "metadata": {},
     "output_type": "execute_result"
    }
   ],
   "source": [
    "vowel_regex = re.compile( r'[aeiouAEIOU]' )\n",
    "vowel_regex.findall( 'RoboCop eats baby food. BABY FOOD.' )"
   ]
  },
  {
   "cell_type": "code",
   "execution_count": 48,
   "metadata": {},
   "outputs": [
    {
     "data": {
      "text/plain": [
       "['R',\n",
       " 'b',\n",
       " 'C',\n",
       " 'p',\n",
       " ' ',\n",
       " 't',\n",
       " 's',\n",
       " ' ',\n",
       " 'b',\n",
       " 'b',\n",
       " 'y',\n",
       " ' ',\n",
       " 'f',\n",
       " 'd',\n",
       " '.',\n",
       " ' ',\n",
       " 'B',\n",
       " 'B',\n",
       " 'Y',\n",
       " ' ',\n",
       " 'F',\n",
       " 'D',\n",
       " '.']"
      ]
     },
     "execution_count": 48,
     "metadata": {},
     "output_type": "execute_result"
    }
   ],
   "source": [
    "consonant_regex = re.compile( r'[^aeiouAEIOU]' )\n",
    "consonant_regex.findall( 'RoboCop eats baby food. BABY FOOD.' )"
   ]
  },
  {
   "cell_type": "markdown",
   "metadata": {},
   "source": [
    "#### Caret and Dollar Sign Characters\n",
    "\n",
    "By adding a carrot ^ before the regex pattern indicates a match must occure at the beginning of searched text. Likewise, by adding a dollar sign at the end of the regex indicates that a string must end with a regex pattern. By wrapping a string in ^ and $ indiciates that the string must match the regex (not a subset)."
   ]
  },
  {
   "cell_type": "code",
   "execution_count": 49,
   "metadata": {},
   "outputs": [
    {
     "data": {
      "text/plain": [
       "<_sre.SRE_Match object; span=(0, 5), match='Hello'>"
      ]
     },
     "execution_count": 49,
     "metadata": {},
     "output_type": "execute_result"
    }
   ],
   "source": [
    "begin_with_hello = re.compile( r'^Hello' )\n",
    "begin_with_hello.search( 'Hello World!' )"
   ]
  },
  {
   "cell_type": "code",
   "execution_count": 50,
   "metadata": {},
   "outputs": [
    {
     "data": {
      "text/plain": [
       "True"
      ]
     },
     "execution_count": 50,
     "metadata": {},
     "output_type": "execute_result"
    }
   ],
   "source": [
    "begin_with_hello.search( 'He said hello' ) == None"
   ]
  },
  {
   "cell_type": "code",
   "execution_count": 51,
   "metadata": {},
   "outputs": [
    {
     "data": {
      "text/plain": [
       "<_sre.SRE_Match object; span=(16, 17), match='2'>"
      ]
     },
     "execution_count": 51,
     "metadata": {},
     "output_type": "execute_result"
    }
   ],
   "source": [
    "ends_with_number = re.compile( r'\\d$' )\n",
    "ends_with_number.search( 'Your number is 42' )"
   ]
  },
  {
   "cell_type": "code",
   "execution_count": 52,
   "metadata": {},
   "outputs": [
    {
     "data": {
      "text/plain": [
       "True"
      ]
     },
     "execution_count": 52,
     "metadata": {},
     "output_type": "execute_result"
    }
   ],
   "source": [
    "ends_with_number.search( 'Your number is forty two' ) == None"
   ]
  },
  {
   "cell_type": "code",
   "execution_count": 53,
   "metadata": {},
   "outputs": [
    {
     "data": {
      "text/plain": [
       "<_sre.SRE_Match object; span=(0, 10), match='1234567890'>"
      ]
     },
     "execution_count": 53,
     "metadata": {},
     "output_type": "execute_result"
    }
   ],
   "source": [
    "whole_string_is_num = re.compile( r'^\\d+$' )\n",
    "whole_string_is_num.search( '1234567890' )"
   ]
  },
  {
   "cell_type": "code",
   "execution_count": 54,
   "metadata": {},
   "outputs": [
    {
     "data": {
      "text/plain": [
       "True"
      ]
     },
     "execution_count": 54,
     "metadata": {},
     "output_type": "execute_result"
    }
   ],
   "source": [
    "whole_string_is_num.search( '12345xyz67890' ) == None"
   ]
  },
  {
   "cell_type": "code",
   "execution_count": 55,
   "metadata": {},
   "outputs": [
    {
     "data": {
      "text/plain": [
       "True"
      ]
     },
     "execution_count": 55,
     "metadata": {},
     "output_type": "execute_result"
    }
   ],
   "source": [
    "whole_string_is_num.search( '12345 67890' ) == None"
   ]
  },
  {
   "cell_type": "markdown",
   "metadata": {},
   "source": [
    "#### Wildcard Character\n",
    "\n",
    "The period will match any character except for a newline. "
   ]
  },
  {
   "cell_type": "code",
   "execution_count": 56,
   "metadata": {},
   "outputs": [
    {
     "data": {
      "text/plain": [
       "['cat', 'hat', 'sat', 'lat', 'mat']"
      ]
     },
     "execution_count": 56,
     "metadata": {},
     "output_type": "execute_result"
    }
   ],
   "source": [
    "at_regex = re.compile( r'.at' )\n",
    "at_regex.findall( 'The cat in the hat sat on the flat mat.' )"
   ]
  },
  {
   "cell_type": "markdown",
   "metadata": {},
   "source": [
    "###### Matching Everything with Dot Star\n",
    "\n",
    "Dot Star means to match zero or more of the proceeding characters. The dot star has greedy mode and will match the longest string that it can. The dot, star, and question mark will select text in a non-greedy fashion. "
   ]
  },
  {
   "cell_type": "code",
   "execution_count": 57,
   "metadata": {},
   "outputs": [
    {
     "data": {
      "text/plain": [
       "'Rayne'"
      ]
     },
     "execution_count": 57,
     "metadata": {},
     "output_type": "execute_result"
    }
   ],
   "source": [
    "name_regex = re.compile( r'First Name: (.*) Last Name: (.*)' )\n",
    "mo         = name_regex.search( 'First Name: Rayne Last Name: Aveson' )\n",
    "mo.group(1)"
   ]
  },
  {
   "cell_type": "markdown",
   "metadata": {},
   "source": [
    "###### Matching Newlines with the Dot Character"
   ]
  },
  {
   "cell_type": "code",
   "execution_count": 58,
   "metadata": {},
   "outputs": [
    {
     "data": {
      "text/plain": [
       "'Serve the public trust.'"
      ]
     },
     "execution_count": 58,
     "metadata": {},
     "output_type": "execute_result"
    }
   ],
   "source": [
    "no_new_line_regex = re.compile( '.*' )\n",
    "no_new_line_regex.search( 'Serve the public trust.\\nProtect the innocent.\\nUphold the law' ).group()"
   ]
  },
  {
   "cell_type": "code",
   "execution_count": 59,
   "metadata": {},
   "outputs": [
    {
     "data": {
      "text/plain": [
       "'Serve the public trust.\\nProtect the innocent.\\nUphold the law'"
      ]
     },
     "execution_count": 59,
     "metadata": {},
     "output_type": "execute_result"
    }
   ],
   "source": [
    "no_new_line_regex = re.compile( '.*', re.DOTALL )\n",
    "no_new_line_regex.search( 'Serve the public trust.\\nProtect the innocent.\\nUphold the law' ).group()"
   ]
  },
  {
   "cell_type": "markdown",
   "metadata": {},
   "source": [
    "###### Other Parameters to re.compile()\n",
    "\n",
    "To make regex case insensitive you pass the re.IGNORECASE or re.I as a second argument to re.compile().  \n",
    "\n",
    "Replacing text using regex. First agrument to .sub() is what will replace the string, the second argument is the pattern to be replaced.\n",
    "\n",
    "The VERBOSE mode allows the user to spread a regex string to match over several lines. Just wrap the string in re.compile() in ''' ''' instead of ''."
   ]
  },
  {
   "cell_type": "code",
   "execution_count": 62,
   "metadata": {},
   "outputs": [
    {
     "data": {
      "text/plain": [
       "'CENSORED gave me the secret document to CENSORED'"
      ]
     },
     "execution_count": 62,
     "metadata": {},
     "output_type": "execute_result"
    }
   ],
   "source": [
    "name_regex = re.compile( r'Agent \\w+' )\n",
    "name_regex.sub( 'CENSORED', 'Agent Riyun gave me the secret document to Agent Murdoch' )"
   ]
  },
  {
   "cell_type": "markdown",
   "metadata": {},
   "source": [
    "If you want to use VERBOSE, and I, and DOTALL just separate the arguments in the re.compile() method with the bitwise | operator."
   ]
  },
  {
   "cell_type": "code",
   "execution_count": null,
   "metadata": {},
   "outputs": [],
   "source": []
  }
 ],
 "metadata": {
  "kernelspec": {
   "display_name": "Python 3",
   "language": "python",
   "name": "python3"
  },
  "language_info": {
   "codemirror_mode": {
    "name": "ipython",
    "version": 3
   },
   "file_extension": ".py",
   "mimetype": "text/x-python",
   "name": "python",
   "nbconvert_exporter": "python",
   "pygments_lexer": "ipython3",
   "version": "3.6.5"
  }
 },
 "nbformat": 4,
 "nbformat_minor": 2
}
