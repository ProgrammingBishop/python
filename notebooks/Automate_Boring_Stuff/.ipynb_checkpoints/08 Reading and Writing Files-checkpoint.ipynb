{
 "cells": [
  {
   "cell_type": "code",
   "execution_count": 1,
   "metadata": {},
   "outputs": [],
   "source": [
    "import os"
   ]
  },
  {
   "cell_type": "code",
   "execution_count": 2,
   "metadata": {},
   "outputs": [
    {
     "data": {
      "text/plain": [
       "'usr\\\\bin\\\\spam'"
      ]
     },
     "execution_count": 2,
     "metadata": {},
     "output_type": "execute_result"
    }
   ],
   "source": [
    "# To satisfy all OS file path seperators use the os.path.join() method. This works for Linus, Windows, and IOS\n",
    "os.path.join( 'usr', 'bin', 'spam' )"
   ]
  },
  {
   "cell_type": "code",
   "execution_count": 3,
   "metadata": {},
   "outputs": [
    {
     "name": "stdout",
     "output_type": "stream",
     "text": [
      "C:Users\\Bishop\\accounts.txt\n",
      "C:Users\\Bishop\\details.csv\n",
      "C:Users\\Bishop\\invite.docx\n"
     ]
    }
   ],
   "source": [
    "# You can target files in a loop like so.\n",
    "my_files = [ 'accounts.txt', 'details.csv', 'invite.docx' ]\n",
    "\n",
    "for filename in my_files:\n",
    "    print( os.path.join( 'C:', 'Users', 'Bishop', filename ) )"
   ]
  },
  {
   "cell_type": "code",
   "execution_count": 4,
   "metadata": {},
   "outputs": [
    {
     "data": {
      "text/plain": [
       "'C:\\\\Users\\\\scott\\\\Desktop\\\\python\\\\Automate Boring Stuff'"
      ]
     },
     "execution_count": 4,
     "metadata": {},
     "output_type": "execute_result"
    }
   ],
   "source": [
    "# Get the current working directory\n",
    "os.getcwd()"
   ]
  },
  {
   "cell_type": "code",
   "execution_count": 7,
   "metadata": {},
   "outputs": [
    {
     "data": {
      "text/plain": [
       "'C:\\\\Users\\\\scott\\\\Desktop\\\\python\\\\Automate Boring Stuff\\\\os_test'"
      ]
     },
     "execution_count": 7,
     "metadata": {},
     "output_type": "execute_result"
    }
   ],
   "source": [
    "# And then you can change the the cwd\n",
    "os.chdir( 'os_test' )\n",
    "os.getcwd()"
   ]
  },
  {
   "cell_type": "code",
   "execution_count": 8,
   "metadata": {},
   "outputs": [],
   "source": [
    "# Make new Folders\n",
    "os.makedirs( 'make_dir_test' )"
   ]
  },
  {
   "cell_type": "code",
   "execution_count": 9,
   "metadata": {},
   "outputs": [
    {
     "name": "stdout",
     "output_type": "stream",
     "text": [
      "C:\\Users\\scott\\Desktop\\python\\Automate Boring Stuff\\os_test\n"
     ]
    }
   ],
   "source": [
    "# Convert relative path into an absolute path\n",
    "print( os.path.abspath( '.' ) )"
   ]
  },
  {
   "cell_type": "code",
   "execution_count": 10,
   "metadata": {},
   "outputs": [
    {
     "name": "stdout",
     "output_type": "stream",
     "text": [
      "C:\\Users\\scott\\Desktop\\python\\Automate Boring Stuff\\os_test\\os_test\n"
     ]
    }
   ],
   "source": [
    "# Get the absolute path to a specific file\n",
    "print( os.path.abspath( '.\\\\os_test' ) )"
   ]
  },
  {
   "cell_type": "code",
   "execution_count": 12,
   "metadata": {},
   "outputs": [
    {
     "data": {
      "text/plain": [
       "False"
      ]
     },
     "execution_count": 12,
     "metadata": {},
     "output_type": "execute_result"
    }
   ],
   "source": [
    "# Also check path\n",
    "os.path.isabs( '.' )"
   ]
  },
  {
   "cell_type": "code",
   "execution_count": 13,
   "metadata": {},
   "outputs": [
    {
     "data": {
      "text/plain": [
       "True"
      ]
     },
     "execution_count": 13,
     "metadata": {},
     "output_type": "execute_result"
    }
   ],
   "source": [
    "os.path.isabs( os.path.abspath( '.' ) )"
   ]
  },
  {
   "cell_type": "code",
   "execution_count": 14,
   "metadata": {},
   "outputs": [
    {
     "data": {
      "text/plain": [
       "'Windows'"
      ]
     },
     "execution_count": 14,
     "metadata": {},
     "output_type": "execute_result"
    }
   ],
   "source": [
    "# Return path starting from the start path (second arg), to the target path (first argument)\n",
    "os.path.relpath( 'C:\\\\Windows', 'C:\\\\' )"
   ]
  },
  {
   "cell_type": "code",
   "execution_count": 18,
   "metadata": {},
   "outputs": [
    {
     "name": "stdout",
     "output_type": "stream",
     "text": [
      "C:\\Windows\\System32\n",
      "calc.exe\n"
     ]
    }
   ],
   "source": [
    "# Return the directory a file/folder exists in\n",
    "path = 'C:\\\\Windows\\\\System32\\\\calc.exe'\n",
    "print( os.path.dirname( path ) )\n",
    "\n",
    "# Return the file/folder within get directory\n",
    "print( os.path.basename( path ) )"
   ]
  },
  {
   "cell_type": "code",
   "execution_count": 19,
   "metadata": {},
   "outputs": [
    {
     "data": {
      "text/plain": [
       "('C:\\\\Windows\\\\System32', 'calc.exe')"
      ]
     },
     "execution_count": 19,
     "metadata": {},
     "output_type": "execute_result"
    }
   ],
   "source": [
    "# Get dirname and basename together\n",
    "os.path.split( path )"
   ]
  },
  {
   "cell_type": "code",
   "execution_count": 20,
   "metadata": {},
   "outputs": [
    {
     "data": {
      "text/plain": [
       "['C:', 'Windows', 'System32', 'calc.exe']"
      ]
     },
     "execution_count": 20,
     "metadata": {},
     "output_type": "execute_result"
    }
   ],
   "source": [
    "# Split path by folder\n",
    "path.split( os.path.sep )"
   ]
  },
  {
   "cell_type": "code",
   "execution_count": 34,
   "metadata": {},
   "outputs": [
    {
     "data": {
      "text/plain": [
       "726209"
      ]
     },
     "execution_count": 34,
     "metadata": {},
     "output_type": "execute_result"
    }
   ],
   "source": [
    "# Finding File Sizes and Folder Contents\n",
    "os.chdir( os.path.join( 'C:\\\\', 'Users', 'scott', 'Desktop', 'python', 'Data' ) )\n",
    "os.path.getsize( './USA_Housing.csv' )"
   ]
  },
  {
   "cell_type": "code",
   "execution_count": 35,
   "metadata": {},
   "outputs": [
    {
     "data": {
      "text/plain": [
       "['df1', 'df2', 'df3', 'USA_Housing.csv']"
      ]
     },
     "execution_count": 35,
     "metadata": {},
     "output_type": "execute_result"
    }
   ],
   "source": [
    "# List the contents of the directory\n",
    "os.listdir( os.getcwd() )"
   ]
  },
  {
   "cell_type": "code",
   "execution_count": 36,
   "metadata": {},
   "outputs": [
    {
     "name": "stdout",
     "output_type": "stream",
     "text": [
      "855057\n"
     ]
    }
   ],
   "source": [
    "# Get the file size of all files in a directory\n",
    "total_size = 0\n",
    "\n",
    "for filename in os.listdir( os.getcwd() ):\n",
    "    total_size = total_size + os.path.getsize( os.path.join( os.getcwd(), filename ) )\n",
    "    \n",
    "print( total_size )"
   ]
  },
  {
   "cell_type": "code",
   "execution_count": 42,
   "metadata": {},
   "outputs": [
    {
     "name": "stdout",
     "output_type": "stream",
     "text": [
      "False\n",
      "True\n",
      "False\n",
      "True\n",
      "False\n"
     ]
    }
   ],
   "source": [
    "# Checking Path Validity\n",
    "print( os.path.exists( 'does_not_exist.csv' ) )\n",
    "print( os.path.isfile( './USA_Housing.csv' ) )\n",
    "print( os.path.isdir( './USA_Housing.csv' ) )\n",
    "print( os.path.isdir( './' ) )\n",
    "\n",
    "print( os.path.exists( 'D://' ) )"
   ]
  },
  {
   "cell_type": "markdown",
   "metadata": {},
   "source": [
    "#### File Writing and Reading Process\n",
    "\n",
    "Steps:\n",
    "- Call open() function to return file object\n",
    "- Call read() or write() method on file object\n",
    "- Close the file by calling close() method on the file object"
   ]
  },
  {
   "cell_type": "code",
   "execution_count": 61,
   "metadata": {},
   "outputs": [
    {
     "name": "stdout",
     "output_type": "stream",
     "text": [
      " Adding even more test text. Adding even more test text. Adding even more test text. Adding even more test text. Adding even more test text.\n"
     ]
    }
   ],
   "source": [
    "# Create a new file and write contents to it\n",
    "\n",
    "# Create a new file A add text if file does not exist\n",
    "if os.path.isfile( 'test_create.txt' ) == False:\n",
    "    test_create = open( 'test_create.txt', 'w' )\n",
    "    test_create.write( 'Adding test text.' )\n",
    "    test_create.close()\n",
    "# Append text to the file and report the content\n",
    "else:\n",
    "    test_create = open( 'test_create.txt', 'a' )\n",
    "    test_create.write( ' Adding even more test text.' )\n",
    "    test_create.close()\n",
    "    \n",
    "    test_create = open( 'test_create.txt' )\n",
    "    content     = test_create.read()\n",
    "    test_create.close()\n",
    "    \n",
    "    print( content )"
   ]
  },
  {
   "cell_type": "markdown",
   "metadata": {},
   "source": [
    "#### Saving variables with the shelve module\n",
    "\n",
    "You can save variables in Python programs to binary shelf files. This allows programs to restore data to variables from a hard drive. This is a way to save configuration settings so the program can load them in the next time it is open. "
   ]
  },
  {
   "cell_type": "code",
   "execution_count": 62,
   "metadata": {},
   "outputs": [],
   "source": [
    "import shelve"
   ]
  },
  {
   "cell_type": "code",
   "execution_count": 63,
   "metadata": {},
   "outputs": [],
   "source": [
    "shelf_file = shelve.open( 'mydata' )\n",
    "characters = [ 'Yuelan', 'Riyun', 'Zaim' ]\n",
    "\n",
    "shelf_file[ 'characters' ] = characters\n",
    "shelf_file.close()"
   ]
  },
  {
   "cell_type": "markdown",
   "metadata": {},
   "source": [
    "The above program will create three files in the current working directory:\n",
    "- .bak\n",
    "- .dat\n",
    "- .dir\n",
    "\n",
    "And these binary files contain data stored in the shelf. This frees up worry on how to store program's data file. Programs can then later open and retrieve data from these shelf files for later use. "
   ]
  },
  {
   "cell_type": "code",
   "execution_count": 69,
   "metadata": {},
   "outputs": [
    {
     "name": "stdout",
     "output_type": "stream",
     "text": [
      "<class 'shelve.DbfilenameShelf'>\n",
      "['characters']\n",
      "[['Yuelan', 'Riyun', 'Zaim']]\n",
      "['Yuelan', 'Riyun', 'Zaim']\n"
     ]
    }
   ],
   "source": [
    "shelf_file = shelve.open( 'mydata' )\n",
    "print( type( shelf_file ) )\n",
    "print( list( shelf_file.keys() ) )\n",
    "print( list( shelf_file.values() ) )\n",
    "\n",
    "print( shelf_file[ 'characters' ] )\n",
    "shelf_file.close()"
   ]
  },
  {
   "cell_type": "code",
   "execution_count": 70,
   "metadata": {},
   "outputs": [],
   "source": [
    "# Saving Variables\n",
    "import pprint"
   ]
  },
  {
   "cell_type": "code",
   "execution_count": 97,
   "metadata": {},
   "outputs": [
    {
     "data": {
      "text/plain": [
       "\"[{'Name': 'Yuelan', 'description': 'assassin'},\\n {'Name': 'Riyun', 'description': 'protagonist'}]\""
      ]
     },
     "execution_count": 97,
     "metadata": {},
     "output_type": "execute_result"
    }
   ],
   "source": [
    "characters = [ { 'Name' : 'Yuelan', 'description' : 'assassin' }, { 'Name' : 'Riyun', 'description' : 'protagonist' } ]\n",
    "pprint.pformat( characters )"
   ]
  },
  {
   "cell_type": "code",
   "execution_count": 98,
   "metadata": {},
   "outputs": [
    {
     "data": {
      "text/plain": [
       "111"
      ]
     },
     "execution_count": 98,
     "metadata": {},
     "output_type": "execute_result"
    }
   ],
   "source": [
    "file_obj = open( 'my_characters.py', 'w' )\n",
    "file_obj.write( 'characters = ' + pprint.pformat( characters ) + '\\n' )"
   ]
  },
  {
   "cell_type": "code",
   "execution_count": 99,
   "metadata": {},
   "outputs": [],
   "source": [
    "file_obj.close()"
   ]
  },
  {
   "cell_type": "code",
   "execution_count": 112,
   "metadata": {},
   "outputs": [],
   "source": [
    "from my_characters import *"
   ]
  },
  {
   "cell_type": "code",
   "execution_count": 113,
   "metadata": {},
   "outputs": [
    {
     "name": "stdout",
     "output_type": "stream",
     "text": [
      "[{'Name': 'Yuelan', 'description': 'assassin'}, {'Name': 'Riyun', 'description': 'protagonist'}]\n"
     ]
    }
   ],
   "source": [
    "print( characters )"
   ]
  }
 ],
 "metadata": {
  "kernelspec": {
   "display_name": "Python 3",
   "language": "python",
   "name": "python3"
  },
  "language_info": {
   "codemirror_mode": {
    "name": "ipython",
    "version": 3
   },
   "file_extension": ".py",
   "mimetype": "text/x-python",
   "name": "python",
   "nbconvert_exporter": "python",
   "pygments_lexer": "ipython3",
   "version": "3.6.5"
  }
 },
 "nbformat": 4,
 "nbformat_minor": 2
}
