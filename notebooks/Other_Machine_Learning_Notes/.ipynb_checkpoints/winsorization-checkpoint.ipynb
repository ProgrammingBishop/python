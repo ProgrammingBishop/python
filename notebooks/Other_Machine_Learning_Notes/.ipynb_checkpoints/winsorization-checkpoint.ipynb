{
 "cells": [
  {
   "cell_type": "markdown",
   "metadata": {},
   "source": [
    "# Winsorization"
   ]
  },
  {
   "cell_type": "markdown",
   "metadata": {},
   "source": [
    "https://www.ddecator.com/blog/2015/6/winsorizing-and-transforming-data"
   ]
  },
  {
   "cell_type": "markdown",
   "metadata": {},
   "source": [
    "winsor = stats.mstats.winsorize( X, limits = [left_bound, right_bound] )"
   ]
  }
 ],
 "metadata": {
  "kernelspec": {
   "display_name": "Python 3",
   "language": "python",
   "name": "python3"
  },
  "language_info": {
   "codemirror_mode": {
    "name": "ipython",
    "version": 3
   },
   "file_extension": ".py",
   "mimetype": "text/x-python",
   "name": "python",
   "nbconvert_exporter": "python",
   "pygments_lexer": "ipython3",
   "version": "3.6.5"
  }
 },
 "nbformat": 4,
 "nbformat_minor": 2
}
