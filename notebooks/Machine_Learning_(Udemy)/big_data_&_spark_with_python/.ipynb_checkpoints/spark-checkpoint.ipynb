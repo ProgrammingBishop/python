{
 "cells": [
  {
   "cell_type": "markdown",
   "metadata": {},
   "source": [
    "# Spark"
   ]
  },
  {
   "cell_type": "markdown",
   "metadata": {},
   "source": [
    "## Documentation"
   ]
  },
  {
   "cell_type": "markdown",
   "metadata": {},
   "source": [
    "- RDD.filter() applies a function to each element and returns elements that evaluate to True.\n",
    "- RDD.map() transforms each element and preserves the same number of elements\n",
    "- RDD.flatMap() transforms each element into 0-N elements and changes the number of elements. \n",
    "- Reduce() is an action that will aggregate RDD elements using function that returns a single element\n",
    "- ReduceByKey() is an action that will aggregate Pair RDD (tuple format) elements using a function tht returns a Pair RDD"
   ]
  }
 ],
 "metadata": {
  "kernelspec": {
   "display_name": "Python 3",
   "language": "python",
   "name": "python3"
  },
  "language_info": {
   "codemirror_mode": {
    "name": "ipython",
    "version": 3
   },
   "file_extension": ".py",
   "mimetype": "text/x-python",
   "name": "python",
   "nbconvert_exporter": "python",
   "pygments_lexer": "ipython3",
   "version": "3.6.5"
  }
 },
 "nbformat": 4,
 "nbformat_minor": 2
}
