{
 "cells": [
  {
   "cell_type": "markdown",
   "metadata": {},
   "source": [
    "# Standard Scaler"
   ]
  },
  {
   "cell_type": "code",
   "execution_count": 1,
   "metadata": {},
   "outputs": [],
   "source": [
    "from sklearn.preprocessing import StandardScaler"
   ]
  },
  {
   "cell_type": "markdown",
   "metadata": {},
   "source": [
    "Remove the mean and scale to unit variance. This is calculated as:\n",
    "$$z = \\frac{(x - u)}{s}$$\n",
    "\n",
    "where $u$ is the mean of the training samples or zero if with_mean = False. $s$ is the standard deviation of the training samples or 1 if with_std = False."
   ]
  },
  {
   "cell_type": "markdown",
   "metadata": {},
   "source": [
    "#### Parameters:\n",
    "- copy\n",
    "- with_mean\n",
    "- with_std\n",
    "\n",
    "#### Attributes:\n",
    "- scale_: per feature relative scaling \n",
    "- mean_: mean value for each feature in training set\n",
    "- var_: variance for each feature in the training set\n",
    "- n_samples_seen_\n",
    "\n",
    "#### Methods:\n",
    "- fit: compute the mean and std to be used for later scaling\n",
    "- fit_transform(X, [, y]): fit data and the transform\n",
    "- get_params\n",
    "- inverse_transform(X): revert data to the original representation\n",
    "- partial_fit: online computation of mean and std on X for later scaling\n",
    "- set_params\n",
    "- transform: perform standardization"
   ]
  },
  {
   "cell_type": "code",
   "execution_count": null,
   "metadata": {},
   "outputs": [],
   "source": []
  }
 ],
 "metadata": {
  "kernelspec": {
   "display_name": "Python 3",
   "language": "python",
   "name": "python3"
  },
  "language_info": {
   "codemirror_mode": {
    "name": "ipython",
    "version": 3
   },
   "file_extension": ".py",
   "mimetype": "text/x-python",
   "name": "python",
   "nbconvert_exporter": "python",
   "pygments_lexer": "ipython3",
   "version": "3.6.5"
  }
 },
 "nbformat": 4,
 "nbformat_minor": 2
}
