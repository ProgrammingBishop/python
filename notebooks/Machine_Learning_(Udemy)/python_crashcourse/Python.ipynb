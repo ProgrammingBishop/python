{
 "cells": [
  {
   "cell_type": "code",
   "execution_count": 3,
   "metadata": {},
   "outputs": [
    {
     "name": "stdout",
     "output_type": "stream",
     "text": [
      "My numbers are 12 and 14\n",
      "My numbers are 12 and 14\n"
     ]
    }
   ],
   "source": [
    "# Print Formatted Strings\n",
    "var_one = 12\n",
    "var_two = 14\n",
    "print( 'My numbers are {} and {}'.format(var_one, var_two) )\n",
    "\n",
    "# Or\n",
    "print( 'My numbers are {one} and {two}'.format(one = var_one, two = var_two) )\n",
    "# Which lets you Switch Order or Use Duplicates of Variables"
   ]
  },
  {
   "cell_type": "code",
   "execution_count": 4,
   "metadata": {},
   "outputs": [
    {
     "name": "stdout",
     "output_type": "stream",
     "text": [
      "abcdefg\n",
      "abc\n",
      "cde\n"
     ]
    }
   ],
   "source": [
    "# Vector Slice\n",
    "    # Inclusive lower bound and exclusive upper bound\n",
    "alpha = 'abcdefg'\n",
    "\n",
    "print( alpha[0: ] )\n",
    "print( alpha[ :3] )\n",
    "print( alpha[2:5] )"
   ]
  },
  {
   "cell_type": "code",
   "execution_count": 13,
   "metadata": {},
   "outputs": [
    {
     "name": "stdout",
     "output_type": "stream",
     "text": [
      "4\n",
      "string\n",
      "['string', 2, 3, ['a', 'b']]\n",
      "b\n"
     ]
    }
   ],
   "source": [
    "# Lists\n",
    "my_list = [1, 2, 3]\n",
    "my_list.append(4)\n",
    "print( my_list[3] )\n",
    "\n",
    "my_list[0] = 'string'\n",
    "print( my_list[0] )\n",
    "\n",
    "my_list[3] = ['a', 'b']\n",
    "\n",
    "print( my_list )\n",
    "print( my_list[3][1] )"
   ]
  },
  {
   "cell_type": "code",
   "execution_count": 15,
   "metadata": {},
   "outputs": [
    {
     "name": "stdout",
     "output_type": "stream",
     "text": [
      "value 1\n",
      "2\n"
     ]
    }
   ],
   "source": [
    "# Dictionaries\n",
    "my_dict = {'key 1' : 'value 1', 'key 2' : 'value 2'}\n",
    "print( my_dict['key 1'] )\n",
    "\n",
    "my_dict['key 3'] = [1, 2, 3]\n",
    "print( my_dict['key 3'][1] )"
   ]
  },
  {
   "cell_type": "code",
   "execution_count": null,
   "metadata": {},
   "outputs": [],
   "source": [
    "# Tuples: cannot reassign once assigned (immutable aka const)\n",
    "my_tuple = (1, 2, 3)"
   ]
  },
  {
   "cell_type": "code",
   "execution_count": 5,
   "metadata": {},
   "outputs": [
    {
     "name": "stdout",
     "output_type": "stream",
     "text": [
      "{1, 2, 3, 4}\n",
      "{1, 2, 3, 4}\n",
      "{1, 2, 3, 4, 5}\n"
     ]
    }
   ],
   "source": [
    "# Sets: defnied by only unique elements\n",
    "my_set = {1, 2, 3, 3, 3, 4, 1, 2, 3, 2, 2}\n",
    "print( my_set )\n",
    "\n",
    "# Set function on list finds unique values\n",
    "print( set( [1, 2, 3, 3, 3, 2, 1, 1, 4] ) )\n",
    "\n",
    "# Add to a set\n",
    "my_set.add(5)\n",
    "print( my_set )"
   ]
  },
  {
   "cell_type": "code",
   "execution_count": 24,
   "metadata": {},
   "outputs": [
    {
     "name": "stdout",
     "output_type": "stream",
     "text": [
      "False\n",
      "True\n"
     ]
    }
   ],
   "source": [
    "# Comparators\n",
    "print( ( 1 < 2 ) and ( 2 > 3 ) )\n",
    "print( ( 1 < 2 ) or ( 2 > 3 ) )"
   ]
  },
  {
   "cell_type": "code",
   "execution_count": 27,
   "metadata": {},
   "outputs": [
    {
     "name": "stdout",
     "output_type": "stream",
     "text": [
      "first\n"
     ]
    }
   ],
   "source": [
    "# Conditional Statements\n",
    "if (1 < 2):\n",
    "    print('first')\n",
    "elif (3 < 5):\n",
    "    print('second')\n",
    "else: \n",
    "    print('third')"
   ]
  },
  {
   "cell_type": "code",
   "execution_count": 35,
   "metadata": {},
   "outputs": [
    {
     "name": "stdout",
     "output_type": "stream",
     "text": [
      "1\n",
      "2\n",
      "3\n",
      "i is: 1\n",
      "i is: 2\n"
     ]
    }
   ],
   "source": [
    "# For Loops\n",
    "seq = [1, 2, 3]\n",
    "\n",
    "for number in seq:\n",
    "    print( number )\n",
    "\n",
    "# While Loops\n",
    "i = 1\n",
    "\n",
    "while i < 3:\n",
    "    print( 'i is: {}'.format( i ) )\n",
    "    i = i + 1"
   ]
  },
  {
   "cell_type": "code",
   "execution_count": 36,
   "metadata": {},
   "outputs": [
    {
     "name": "stdout",
     "output_type": "stream",
     "text": [
      "0\n",
      "1\n",
      "2\n"
     ]
    }
   ],
   "source": [
    "# Range\n",
    "for x in range( 0, 3 ):\n",
    "    print( '{}'.format( x ) )"
   ]
  },
  {
   "cell_type": "code",
   "execution_count": 37,
   "metadata": {},
   "outputs": [
    {
     "name": "stdout",
     "output_type": "stream",
     "text": [
      "[0, 1, 4]\n"
     ]
    }
   ],
   "source": [
    "# List Comprehension: dynamically create a list; do function for variable via for loop\n",
    "my_comprehension = [ number ** 2 for number in range( 3 ) ]\n",
    "print( my_comprehension )"
   ]
  },
  {
   "cell_type": "code",
   "execution_count": 3,
   "metadata": {},
   "outputs": [
    {
     "name": "stdout",
     "output_type": "stream",
     "text": [
      "The number is 5\n",
      "The number is 6\n",
      "The number is 7\n"
     ]
    }
   ],
   "source": [
    "# functions\n",
    "def my_func( param_1 ):\n",
    "    print( 'The number is {}'.format( param_1 ) )\n",
    "\n",
    "# Comprehension with user-defined function \n",
    "    # By assigning comprehension to a variable, the function print() is returned,\n",
    "    # but the comprehension list is still in the variable and not returned\n",
    "my_comprehension = [ my_func( number ) for number in range( 5, 8 ) ]\n",
    "\n",
    "# Function Documentation String\n",
    "def doc_string():\n",
    "    \"\"\"\n",
    "    This is a document string that is like a multi-line comment.\n",
    "    Can talk about what the function does.\n",
    "    You can call this to get more infor about a function.\n",
    "    \"\"\"\n",
    "    return true"
   ]
  },
  {
   "cell_type": "code",
   "execution_count": null,
   "metadata": {},
   "outputs": [],
   "source": [
    "# If you push shift + tab with cursor at end of function name typed\n",
    "# you will get a description of the function\n",
    "doc_string\n",
    "\n",
    "# You can do this for all function, \n",
    "# especially functions defined in third party or built-in to Python"
   ]
  },
  {
   "cell_type": "code",
   "execution_count": 56,
   "metadata": {},
   "outputs": [
    {
     "data": {
      "text/plain": [
       "[2, 4, 6, 8, 10]"
      ]
     },
     "execution_count": 56,
     "metadata": {},
     "output_type": "execute_result"
    }
   ],
   "source": [
    "# Map\n",
    "def times_two( number ):\n",
    "    return number * 2\n",
    "\n",
    "seq = [1, 2, 3, 4, 5]\n",
    "\n",
    "# Map Functions: applies a function to every memebr of a list\n",
    "    # Pass to list() function to return the actual list built by map\n",
    "list( map( times_two, seq ) )"
   ]
  },
  {
   "cell_type": "code",
   "execution_count": 57,
   "metadata": {},
   "outputs": [
    {
     "data": {
      "text/plain": [
       "[2, 4, 6, 8, 10]"
      ]
     },
     "execution_count": 57,
     "metadata": {},
     "output_type": "execute_result"
    }
   ],
   "source": [
    "# Lambda: shorthand Map Function (aka anonymous function)\n",
    "list( map( lambda number: number * 2, seq ) )"
   ]
  },
  {
   "cell_type": "code",
   "execution_count": 58,
   "metadata": {},
   "outputs": [
    {
     "data": {
      "text/plain": [
       "[2, 4]"
      ]
     },
     "execution_count": 58,
     "metadata": {},
     "output_type": "execute_result"
    }
   ],
   "source": [
    "# Filter: filters elements from a sequence\n",
    "    # Returns boolean value and displays values that are true\n",
    "list( filter( lambda number: number % 2 == 0, seq ) )"
   ]
  },
  {
   "cell_type": "code",
   "execution_count": 64,
   "metadata": {},
   "outputs": [],
   "source": [
    "# Methods: calls you can make off of an object\n",
    "    # Need to run cell so object is in memory\n",
    "    # Once doing so, pressing tab after cursor is after . in variable \n",
    "    # will print all the methods available for the object\n",
    "my_string = 'Hai how are you?'"
   ]
  },
  {
   "cell_type": "code",
   "execution_count": 66,
   "metadata": {},
   "outputs": [
    {
     "name": "stdout",
     "output_type": "stream",
     "text": [
      "HAI HOW ARE YOU?\n"
     ]
    }
   ],
   "source": [
    "print( my_string.upper() )"
   ]
  },
  {
   "cell_type": "code",
   "execution_count": 67,
   "metadata": {},
   "outputs": [
    {
     "data": {
      "text/plain": [
       "['Hai', 'how', 'are', 'you?']"
      ]
     },
     "execution_count": 67,
     "metadata": {},
     "output_type": "execute_result"
    }
   ],
   "source": [
    "# Split: can pass pattern string into split() to pattern match object string\n",
    "my_string.split()"
   ]
  },
  {
   "cell_type": "code",
   "execution_count": 68,
   "metadata": {},
   "outputs": [],
   "source": [
    "# Methods for Dictionaries\n",
    "my_dict = {'key 1' : 'value 1', 'key 2' : 'value 2'}"
   ]
  },
  {
   "cell_type": "code",
   "execution_count": 69,
   "metadata": {},
   "outputs": [
    {
     "name": "stdout",
     "output_type": "stream",
     "text": [
      "dict_keys(['key 1', 'key 2'])\n"
     ]
    }
   ],
   "source": [
    "print( my_dict.keys() )"
   ]
  },
  {
   "cell_type": "code",
   "execution_count": 2,
   "metadata": {},
   "outputs": [],
   "source": [
    "# Methods for Lists\n",
    "my_list = [1, 2, 3]"
   ]
  },
  {
   "cell_type": "code",
   "execution_count": 86,
   "metadata": {},
   "outputs": [
    {
     "name": "stdout",
     "output_type": "stream",
     "text": [
      "Empty List!\n"
     ]
    }
   ],
   "source": [
    "# Every time the cell is run pop is permenent.\n",
    "    # Be cautious of empty lists!\n",
    "if len( my_list ) > 0:\n",
    "    print( my_list.pop() )\n",
    "    print( my_list )\n",
    "else:\n",
    "    print( 'Empty List!' )\n",
    "    \n",
    "# You can also pass an index to pop to pop a specific index\n",
    "# rather than ending index"
   ]
  },
  {
   "cell_type": "code",
   "execution_count": 87,
   "metadata": {},
   "outputs": [
    {
     "data": {
      "text/plain": [
       "True"
      ]
     },
     "execution_count": 87,
     "metadata": {},
     "output_type": "execute_result"
    }
   ],
   "source": [
    "# In\n",
    "my_list = [1, 2, 3]\n",
    "2 in my_list"
   ]
  },
  {
   "cell_type": "code",
   "execution_count": 88,
   "metadata": {},
   "outputs": [
    {
     "name": "stdout",
     "output_type": "stream",
     "text": [
      "3\n",
      "7\n"
     ]
    }
   ],
   "source": [
    "# Tuple Unpacking\n",
    "my_tuples = [(1, 2), (3, 4)]\n",
    "for a, b in my_tuples:\n",
    "    print( a + b )"
   ]
  },
  {
   "cell_type": "code",
   "execution_count": null,
   "metadata": {},
   "outputs": [],
   "source": [
    "# Classes\n"
   ]
  }
 ],
 "metadata": {
  "kernelspec": {
   "display_name": "Python 3",
   "language": "python",
   "name": "python3"
  },
  "language_info": {
   "codemirror_mode": {
    "name": "ipython",
    "version": 3
   },
   "file_extension": ".py",
   "mimetype": "text/x-python",
   "name": "python",
   "nbconvert_exporter": "python",
   "pygments_lexer": "ipython3",
   "version": "3.6.5"
  }
 },
 "nbformat": 4,
 "nbformat_minor": 2
}
