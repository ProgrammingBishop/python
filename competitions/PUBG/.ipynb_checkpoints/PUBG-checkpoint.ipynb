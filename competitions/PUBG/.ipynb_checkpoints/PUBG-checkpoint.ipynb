{
 "cells": [
  {
   "cell_type": "markdown",
   "metadata": {},
   "source": [
    "## Import ML Libraries"
   ]
  },
  {
   "cell_type": "code",
   "execution_count": 1,
   "metadata": {},
   "outputs": [],
   "source": [
    "import numpy as np\n",
    "import pandas as pd\n",
    "import matplotlib.pyplot as plt\n",
    "import seaborn as sns"
   ]
  },
  {
   "cell_type": "code",
   "execution_count": 2,
   "metadata": {},
   "outputs": [],
   "source": [
    "%matplotlib inline"
   ]
  },
  {
   "cell_type": "markdown",
   "metadata": {},
   "source": [
    "## Import ML Algorithms"
   ]
  },
  {
   "cell_type": "code",
   "execution_count": 3,
   "metadata": {},
   "outputs": [],
   "source": [
    "from sklearn.model_selection import train_test_split\n",
    "from sklearn.preprocessing   import StandardScaler\n",
    "from scipy                   import stats"
   ]
  },
  {
   "cell_type": "markdown",
   "metadata": {},
   "source": [
    "## Import Other Libraries"
   ]
  },
  {
   "cell_type": "code",
   "execution_count": 4,
   "metadata": {},
   "outputs": [],
   "source": [
    "import os\n",
    "import math\n",
    "import statistics"
   ]
  },
  {
   "cell_type": "markdown",
   "metadata": {},
   "source": [
    "## Set Styles of Libraries"
   ]
  },
  {
   "cell_type": "markdown",
   "metadata": {},
   "source": [
    "#### Seaborn"
   ]
  },
  {
   "cell_type": "code",
   "execution_count": 5,
   "metadata": {},
   "outputs": [],
   "source": [
    "sns.set_style( 'darkgrid' )"
   ]
  },
  {
   "cell_type": "markdown",
   "metadata": {},
   "source": [
    "## Load Data"
   ]
  },
  {
   "cell_type": "code",
   "execution_count": 78,
   "metadata": {},
   "outputs": [],
   "source": [
    "data_files_path = os.path.join( os.getcwd() + '', '..', '..', '..', 'data', 'PUBG', '' )\n",
    "data_files      = os.listdir( data_files_path )\n",
    "df              = []"
   ]
  },
  {
   "cell_type": "code",
   "execution_count": 7,
   "metadata": {},
   "outputs": [],
   "source": [
    "for csv_file in data_files:\n",
    "    if csv_file != '.ipynb_checkpoints':\n",
    "        df.append( pd.read_csv( '../../../data/' + csv_file ) )"
   ]
  },
  {
   "cell_type": "code",
   "execution_count": 8,
   "metadata": {},
   "outputs": [
    {
     "data": {
      "text/plain": [
       "0.434942385437622"
      ]
     },
     "execution_count": 8,
     "metadata": {},
     "output_type": "execute_result"
    }
   ],
   "source": [
    "df[0].shape[0] / df[1].shape[0] "
   ]
  },
  {
   "cell_type": "markdown",
   "metadata": {},
   "source": [
    "It seems that approximately $44\\%$ of the data is test data. I would prefer to have about $33\\%$ of the data to be training data."
   ]
  },
  {
   "cell_type": "code",
   "execution_count": 9,
   "metadata": {},
   "outputs": [],
   "source": [
    "full_df = None\n",
    "\n",
    "for table in df:\n",
    "    full_df = pd.concat( [ full_df, table ], sort = False )"
   ]
  },
  {
   "cell_type": "markdown",
   "metadata": {},
   "source": [
    "## Functions"
   ]
  },
  {
   "cell_type": "code",
   "execution_count": 10,
   "metadata": {},
   "outputs": [],
   "source": [
    "# Winsorization\n",
    "def winsor( X_j ):\n",
    "    std_cutoff         = np.mean( X_j ) + ( 3 * np.std( X_j ) )\n",
    "    sort_X_j           = X_j.sort_values( ascending = False )\n",
    "    count_over_3_std   = len( sort_X_j[ sort_X_j > std_cutoff ] )\n",
    "    perc_outside_3_std = count_over_3_std / len( X_j )\n",
    "    win_X_j            = stats.mstats.winsorize( X_j, limits = [0, perc_outside_3_std] )\n",
    "    \n",
    "    return win_X_j\n",
    "\n",
    "# Logarithmic Scale\n",
    "make_log = lambda x: math.log( 1 + x ) if x == 0 else math.log( x )"
   ]
  },
  {
   "cell_type": "markdown",
   "metadata": {},
   "source": [
    "## Transform Test Data"
   ]
  },
  {
   "cell_type": "markdown",
   "metadata": {},
   "source": [
    "- Winsorize `DBNOs`\n",
    "- Factor `assists`\n",
    "- Winsorize `boosts`\n",
    "- Winsorize `damageDealt`"
   ]
  },
  {
   "cell_type": "markdown",
   "metadata": {},
   "source": [
    "## Prepare Data"
   ]
  },
  {
   "cell_type": "code",
   "execution_count": 11,
   "metadata": {},
   "outputs": [],
   "source": [
    "pd.set_option( 'display.max_columns', None )"
   ]
  },
  {
   "cell_type": "code",
   "execution_count": 12,
   "metadata": {},
   "outputs": [
    {
     "data": {
      "text/html": [
       "<div>\n",
       "<style scoped>\n",
       "    .dataframe tbody tr th:only-of-type {\n",
       "        vertical-align: middle;\n",
       "    }\n",
       "\n",
       "    .dataframe tbody tr th {\n",
       "        vertical-align: top;\n",
       "    }\n",
       "\n",
       "    .dataframe thead th {\n",
       "        text-align: right;\n",
       "    }\n",
       "</style>\n",
       "<table border=\"1\" class=\"dataframe\">\n",
       "  <thead>\n",
       "    <tr style=\"text-align: right;\">\n",
       "      <th></th>\n",
       "      <th>Id</th>\n",
       "      <th>groupId</th>\n",
       "      <th>matchId</th>\n",
       "      <th>assists</th>\n",
       "      <th>boosts</th>\n",
       "      <th>damageDealt</th>\n",
       "      <th>DBNOs</th>\n",
       "      <th>headshotKills</th>\n",
       "      <th>heals</th>\n",
       "      <th>killPlace</th>\n",
       "      <th>killPoints</th>\n",
       "      <th>kills</th>\n",
       "      <th>killStreaks</th>\n",
       "      <th>longestKill</th>\n",
       "      <th>matchDuration</th>\n",
       "      <th>matchType</th>\n",
       "      <th>maxPlace</th>\n",
       "      <th>numGroups</th>\n",
       "      <th>rankPoints</th>\n",
       "      <th>revives</th>\n",
       "      <th>rideDistance</th>\n",
       "      <th>roadKills</th>\n",
       "      <th>swimDistance</th>\n",
       "      <th>teamKills</th>\n",
       "      <th>vehicleDestroys</th>\n",
       "      <th>walkDistance</th>\n",
       "      <th>weaponsAcquired</th>\n",
       "      <th>winPoints</th>\n",
       "      <th>winPlacePerc</th>\n",
       "    </tr>\n",
       "  </thead>\n",
       "  <tbody>\n",
       "    <tr>\n",
       "      <th>0</th>\n",
       "      <td>9329eb41e215eb</td>\n",
       "      <td>676b23c24e70d6</td>\n",
       "      <td>45b576ab7daa7f</td>\n",
       "      <td>0</td>\n",
       "      <td>0</td>\n",
       "      <td>51.46</td>\n",
       "      <td>0</td>\n",
       "      <td>0</td>\n",
       "      <td>0</td>\n",
       "      <td>73</td>\n",
       "      <td>0</td>\n",
       "      <td>0</td>\n",
       "      <td>0</td>\n",
       "      <td>0.00</td>\n",
       "      <td>1884</td>\n",
       "      <td>squad-fpp</td>\n",
       "      <td>28</td>\n",
       "      <td>28</td>\n",
       "      <td>1500</td>\n",
       "      <td>0</td>\n",
       "      <td>0.0</td>\n",
       "      <td>0</td>\n",
       "      <td>0.0</td>\n",
       "      <td>0</td>\n",
       "      <td>0</td>\n",
       "      <td>588.0</td>\n",
       "      <td>1</td>\n",
       "      <td>0</td>\n",
       "      <td>NaN</td>\n",
       "    </tr>\n",
       "    <tr>\n",
       "      <th>1</th>\n",
       "      <td>639bd0dcd7bda8</td>\n",
       "      <td>430933124148dd</td>\n",
       "      <td>42a9a0b906c928</td>\n",
       "      <td>0</td>\n",
       "      <td>4</td>\n",
       "      <td>179.10</td>\n",
       "      <td>0</td>\n",
       "      <td>0</td>\n",
       "      <td>2</td>\n",
       "      <td>11</td>\n",
       "      <td>0</td>\n",
       "      <td>2</td>\n",
       "      <td>1</td>\n",
       "      <td>361.90</td>\n",
       "      <td>1811</td>\n",
       "      <td>duo-fpp</td>\n",
       "      <td>48</td>\n",
       "      <td>47</td>\n",
       "      <td>1503</td>\n",
       "      <td>2</td>\n",
       "      <td>4669.0</td>\n",
       "      <td>0</td>\n",
       "      <td>0.0</td>\n",
       "      <td>0</td>\n",
       "      <td>0</td>\n",
       "      <td>2017.0</td>\n",
       "      <td>6</td>\n",
       "      <td>0</td>\n",
       "      <td>NaN</td>\n",
       "    </tr>\n",
       "    <tr>\n",
       "      <th>2</th>\n",
       "      <td>63d5c8ef8dfe91</td>\n",
       "      <td>0b45f5db20ba99</td>\n",
       "      <td>87e7e4477a048e</td>\n",
       "      <td>1</td>\n",
       "      <td>0</td>\n",
       "      <td>23.40</td>\n",
       "      <td>0</td>\n",
       "      <td>0</td>\n",
       "      <td>4</td>\n",
       "      <td>49</td>\n",
       "      <td>0</td>\n",
       "      <td>0</td>\n",
       "      <td>0</td>\n",
       "      <td>0.00</td>\n",
       "      <td>1793</td>\n",
       "      <td>squad-fpp</td>\n",
       "      <td>28</td>\n",
       "      <td>27</td>\n",
       "      <td>1565</td>\n",
       "      <td>0</td>\n",
       "      <td>0.0</td>\n",
       "      <td>0</td>\n",
       "      <td>0.0</td>\n",
       "      <td>0</td>\n",
       "      <td>0</td>\n",
       "      <td>787.8</td>\n",
       "      <td>4</td>\n",
       "      <td>0</td>\n",
       "      <td>NaN</td>\n",
       "    </tr>\n",
       "    <tr>\n",
       "      <th>3</th>\n",
       "      <td>cf5b81422591d1</td>\n",
       "      <td>b7497dbdc77f4a</td>\n",
       "      <td>1b9a94f1af67f1</td>\n",
       "      <td>0</td>\n",
       "      <td>0</td>\n",
       "      <td>65.52</td>\n",
       "      <td>0</td>\n",
       "      <td>0</td>\n",
       "      <td>0</td>\n",
       "      <td>54</td>\n",
       "      <td>0</td>\n",
       "      <td>0</td>\n",
       "      <td>0</td>\n",
       "      <td>0.00</td>\n",
       "      <td>1834</td>\n",
       "      <td>duo-fpp</td>\n",
       "      <td>45</td>\n",
       "      <td>44</td>\n",
       "      <td>1465</td>\n",
       "      <td>0</td>\n",
       "      <td>0.0</td>\n",
       "      <td>0</td>\n",
       "      <td>0.0</td>\n",
       "      <td>0</td>\n",
       "      <td>0</td>\n",
       "      <td>1812.0</td>\n",
       "      <td>3</td>\n",
       "      <td>0</td>\n",
       "      <td>NaN</td>\n",
       "    </tr>\n",
       "    <tr>\n",
       "      <th>4</th>\n",
       "      <td>ee6a295187ba21</td>\n",
       "      <td>6604ce20a1d230</td>\n",
       "      <td>40754a93016066</td>\n",
       "      <td>0</td>\n",
       "      <td>4</td>\n",
       "      <td>330.20</td>\n",
       "      <td>1</td>\n",
       "      <td>2</td>\n",
       "      <td>1</td>\n",
       "      <td>7</td>\n",
       "      <td>0</td>\n",
       "      <td>3</td>\n",
       "      <td>1</td>\n",
       "      <td>60.06</td>\n",
       "      <td>1326</td>\n",
       "      <td>squad-fpp</td>\n",
       "      <td>28</td>\n",
       "      <td>27</td>\n",
       "      <td>1480</td>\n",
       "      <td>1</td>\n",
       "      <td>0.0</td>\n",
       "      <td>0</td>\n",
       "      <td>0.0</td>\n",
       "      <td>0</td>\n",
       "      <td>0</td>\n",
       "      <td>2963.0</td>\n",
       "      <td>4</td>\n",
       "      <td>0</td>\n",
       "      <td>NaN</td>\n",
       "    </tr>\n",
       "  </tbody>\n",
       "</table>\n",
       "</div>"
      ],
      "text/plain": [
       "               Id         groupId         matchId  assists  boosts  \\\n",
       "0  9329eb41e215eb  676b23c24e70d6  45b576ab7daa7f        0       0   \n",
       "1  639bd0dcd7bda8  430933124148dd  42a9a0b906c928        0       4   \n",
       "2  63d5c8ef8dfe91  0b45f5db20ba99  87e7e4477a048e        1       0   \n",
       "3  cf5b81422591d1  b7497dbdc77f4a  1b9a94f1af67f1        0       0   \n",
       "4  ee6a295187ba21  6604ce20a1d230  40754a93016066        0       4   \n",
       "\n",
       "   damageDealt  DBNOs  headshotKills  heals  killPlace  killPoints  kills  \\\n",
       "0        51.46      0              0      0         73           0      0   \n",
       "1       179.10      0              0      2         11           0      2   \n",
       "2        23.40      0              0      4         49           0      0   \n",
       "3        65.52      0              0      0         54           0      0   \n",
       "4       330.20      1              2      1          7           0      3   \n",
       "\n",
       "   killStreaks  longestKill  matchDuration  matchType  maxPlace  numGroups  \\\n",
       "0            0         0.00           1884  squad-fpp        28         28   \n",
       "1            1       361.90           1811    duo-fpp        48         47   \n",
       "2            0         0.00           1793  squad-fpp        28         27   \n",
       "3            0         0.00           1834    duo-fpp        45         44   \n",
       "4            1        60.06           1326  squad-fpp        28         27   \n",
       "\n",
       "   rankPoints  revives  rideDistance  roadKills  swimDistance  teamKills  \\\n",
       "0        1500        0           0.0          0           0.0          0   \n",
       "1        1503        2        4669.0          0           0.0          0   \n",
       "2        1565        0           0.0          0           0.0          0   \n",
       "3        1465        0           0.0          0           0.0          0   \n",
       "4        1480        1           0.0          0           0.0          0   \n",
       "\n",
       "   vehicleDestroys  walkDistance  weaponsAcquired  winPoints  winPlacePerc  \n",
       "0                0         588.0                1          0           NaN  \n",
       "1                0        2017.0                6          0           NaN  \n",
       "2                0         787.8                4          0           NaN  \n",
       "3                0        1812.0                3          0           NaN  \n",
       "4                0        2963.0                4          0           NaN  "
      ]
     },
     "execution_count": 12,
     "metadata": {},
     "output_type": "execute_result"
    }
   ],
   "source": [
    "full_df.head()"
   ]
  },
  {
   "cell_type": "markdown",
   "metadata": {},
   "source": [
    "###### Get Data Types of Variables"
   ]
  },
  {
   "cell_type": "code",
   "execution_count": 51,
   "metadata": {},
   "outputs": [
    {
     "data": {
      "text/html": [
       "<div>\n",
       "<style scoped>\n",
       "    .dataframe tbody tr th:only-of-type {\n",
       "        vertical-align: middle;\n",
       "    }\n",
       "\n",
       "    .dataframe tbody tr th {\n",
       "        vertical-align: top;\n",
       "    }\n",
       "\n",
       "    .dataframe thead th {\n",
       "        text-align: right;\n",
       "    }\n",
       "</style>\n",
       "<table border=\"1\" class=\"dataframe\">\n",
       "  <thead>\n",
       "    <tr style=\"text-align: right;\">\n",
       "      <th></th>\n",
       "      <th>0</th>\n",
       "      <th>1</th>\n",
       "      <th>2</th>\n",
       "      <th>3</th>\n",
       "      <th>4</th>\n",
       "      <th>5</th>\n",
       "      <th>6</th>\n",
       "      <th>7</th>\n",
       "      <th>8</th>\n",
       "      <th>9</th>\n",
       "      <th>10</th>\n",
       "      <th>11</th>\n",
       "      <th>12</th>\n",
       "      <th>13</th>\n",
       "      <th>14</th>\n",
       "      <th>15</th>\n",
       "      <th>16</th>\n",
       "      <th>17</th>\n",
       "      <th>18</th>\n",
       "      <th>19</th>\n",
       "      <th>20</th>\n",
       "      <th>21</th>\n",
       "      <th>22</th>\n",
       "      <th>23</th>\n",
       "      <th>24</th>\n",
       "      <th>25</th>\n",
       "      <th>26</th>\n",
       "      <th>27</th>\n",
       "      <th>28</th>\n",
       "    </tr>\n",
       "  </thead>\n",
       "  <tbody>\n",
       "    <tr>\n",
       "      <th>0</th>\n",
       "      <td>Id</td>\n",
       "      <td>groupId</td>\n",
       "      <td>matchId</td>\n",
       "      <td>assists</td>\n",
       "      <td>boosts</td>\n",
       "      <td>damageDealt</td>\n",
       "      <td>DBNOs</td>\n",
       "      <td>headshotKills</td>\n",
       "      <td>heals</td>\n",
       "      <td>killPlace</td>\n",
       "      <td>killPoints</td>\n",
       "      <td>kills</td>\n",
       "      <td>killStreaks</td>\n",
       "      <td>longestKill</td>\n",
       "      <td>matchDuration</td>\n",
       "      <td>matchType</td>\n",
       "      <td>maxPlace</td>\n",
       "      <td>numGroups</td>\n",
       "      <td>rankPoints</td>\n",
       "      <td>revives</td>\n",
       "      <td>rideDistance</td>\n",
       "      <td>roadKills</td>\n",
       "      <td>swimDistance</td>\n",
       "      <td>teamKills</td>\n",
       "      <td>vehicleDestroys</td>\n",
       "      <td>walkDistance</td>\n",
       "      <td>weaponsAcquired</td>\n",
       "      <td>winPoints</td>\n",
       "      <td>winPlacePerc</td>\n",
       "    </tr>\n",
       "    <tr>\n",
       "      <th>1</th>\n",
       "      <td>object</td>\n",
       "      <td>object</td>\n",
       "      <td>object</td>\n",
       "      <td>int64</td>\n",
       "      <td>int64</td>\n",
       "      <td>float64</td>\n",
       "      <td>int64</td>\n",
       "      <td>int64</td>\n",
       "      <td>int64</td>\n",
       "      <td>int64</td>\n",
       "      <td>int64</td>\n",
       "      <td>int64</td>\n",
       "      <td>int64</td>\n",
       "      <td>float64</td>\n",
       "      <td>int64</td>\n",
       "      <td>object</td>\n",
       "      <td>int64</td>\n",
       "      <td>int64</td>\n",
       "      <td>int64</td>\n",
       "      <td>int64</td>\n",
       "      <td>float64</td>\n",
       "      <td>int64</td>\n",
       "      <td>float64</td>\n",
       "      <td>int64</td>\n",
       "      <td>int64</td>\n",
       "      <td>float64</td>\n",
       "      <td>int64</td>\n",
       "      <td>int64</td>\n",
       "      <td>float64</td>\n",
       "    </tr>\n",
       "  </tbody>\n",
       "</table>\n",
       "</div>"
      ],
      "text/plain": [
       "       0        1        2        3       4            5      6   \\\n",
       "0      Id  groupId  matchId  assists  boosts  damageDealt  DBNOs   \n",
       "1  object   object   object    int64   int64      float64  int64   \n",
       "\n",
       "              7      8          9           10     11           12  \\\n",
       "0  headshotKills  heals  killPlace  killPoints  kills  killStreaks   \n",
       "1          int64  int64      int64       int64  int64        int64   \n",
       "\n",
       "            13             14         15        16         17          18  \\\n",
       "0  longestKill  matchDuration  matchType  maxPlace  numGroups  rankPoints   \n",
       "1      float64          int64     object     int64      int64       int64   \n",
       "\n",
       "        19            20         21            22         23               24  \\\n",
       "0  revives  rideDistance  roadKills  swimDistance  teamKills  vehicleDestroys   \n",
       "1    int64       float64      int64       float64      int64            int64   \n",
       "\n",
       "             25               26         27            28  \n",
       "0  walkDistance  weaponsAcquired  winPoints  winPlacePerc  \n",
       "1       float64            int64      int64       float64  "
      ]
     },
     "execution_count": 51,
     "metadata": {},
     "output_type": "execute_result"
    }
   ],
   "source": [
    "data_types = []\n",
    "\n",
    "for i in range( len( full_df.columns ) ):\n",
    "    data_types.append( str( full_df.columns[i] ) + \" \" + str( full_df[ full_df.columns[i] ].dtype ) )\n",
    "    data_types[ i ] = data_types[ i ].split(\" \")\n",
    "    \n",
    "data_types = pd.DataFrame( data_types )\n",
    "data_types.transpose()"
   ]
  },
  {
   "cell_type": "markdown",
   "metadata": {},
   "source": [
    "###### Standardize Numeric Variable Values"
   ]
  },
  {
   "cell_type": "code",
   "execution_count": 56,
   "metadata": {},
   "outputs": [
    {
     "name": "stdout",
     "output_type": "stream",
     "text": [
      "[3, 4, 5, 6, 7, 8, 9, 10, 11, 12, 13, 14, 16, 17, 18, 19, 20, 21, 22, 23, 24, 25, 26, 27, 28]\n"
     ]
    }
   ],
   "source": [
    "indices = []\n",
    "\n",
    "for i in range( len( full_df.columns ) ):\n",
    "    if full_df[ full_df.columns[i] ].dtype == 'int64' or\\\n",
    "       full_df[ full_df.columns[i] ].dtype == 'float64':\n",
    "        indices.append(i)"
   ]
  },
  {
   "cell_type": "code",
   "execution_count": 57,
   "metadata": {},
   "outputs": [],
   "source": [
    "for i in range( len( full_df.columns ) ):\n",
    "    if i in indices:\n",
    "        full_df[  ]"
   ]
  },
  {
   "cell_type": "code",
   "execution_count": 63,
   "metadata": {},
   "outputs": [],
   "source": [
    "submit_examples = pd.read_csv( data_files_path + '/sample_submission.csv' )"
   ]
  },
  {
   "cell_type": "code",
   "execution_count": 77,
   "metadata": {},
   "outputs": [
    {
     "data": {
      "text/html": [
       "<div>\n",
       "<style scoped>\n",
       "    .dataframe tbody tr th:only-of-type {\n",
       "        vertical-align: middle;\n",
       "    }\n",
       "\n",
       "    .dataframe tbody tr th {\n",
       "        vertical-align: top;\n",
       "    }\n",
       "\n",
       "    .dataframe thead th {\n",
       "        text-align: right;\n",
       "    }\n",
       "</style>\n",
       "<table border=\"1\" class=\"dataframe\">\n",
       "  <thead>\n",
       "    <tr style=\"text-align: right;\">\n",
       "      <th></th>\n",
       "      <th>Id</th>\n",
       "      <th>winPlacePerc</th>\n",
       "    </tr>\n",
       "  </thead>\n",
       "  <tbody>\n",
       "    <tr>\n",
       "      <th>0</th>\n",
       "      <td>9329eb41e215eb</td>\n",
       "      <td>1</td>\n",
       "    </tr>\n",
       "    <tr>\n",
       "      <th>1</th>\n",
       "      <td>639bd0dcd7bda8</td>\n",
       "      <td>1</td>\n",
       "    </tr>\n",
       "    <tr>\n",
       "      <th>2</th>\n",
       "      <td>63d5c8ef8dfe91</td>\n",
       "      <td>1</td>\n",
       "    </tr>\n",
       "    <tr>\n",
       "      <th>3</th>\n",
       "      <td>cf5b81422591d1</td>\n",
       "      <td>1</td>\n",
       "    </tr>\n",
       "    <tr>\n",
       "      <th>4</th>\n",
       "      <td>ee6a295187ba21</td>\n",
       "      <td>1</td>\n",
       "    </tr>\n",
       "  </tbody>\n",
       "</table>\n",
       "</div>"
      ],
      "text/plain": [
       "               Id  winPlacePerc\n",
       "0  9329eb41e215eb             1\n",
       "1  639bd0dcd7bda8             1\n",
       "2  63d5c8ef8dfe91             1\n",
       "3  cf5b81422591d1             1\n",
       "4  ee6a295187ba21             1"
      ]
     },
     "execution_count": 77,
     "metadata": {},
     "output_type": "execute_result"
    }
   ],
   "source": [
    "submit_examples.head()"
   ]
  },
  {
   "cell_type": "code",
   "execution_count": 12,
   "metadata": {},
   "outputs": [
    {
     "name": "stdout",
     "output_type": "stream",
     "text": [
      "29\n",
      "\n",
      "\n",
      "Index(['Id', 'groupId', 'matchId', 'assists', 'boosts', 'damageDealt', 'DBNOs',\n",
      "       'headshotKills', 'heals', 'killPlace', 'killPoints', 'kills',\n",
      "       'killStreaks', 'longestKill', 'matchDuration', 'matchType', 'maxPlace',\n",
      "       'numGroups', 'rankPoints', 'revives', 'rideDistance', 'roadKills',\n",
      "       'swimDistance', 'teamKills', 'vehicleDestroys', 'walkDistance',\n",
      "       'weaponsAcquired', 'winPoints', 'winPlacePerc'],\n",
      "      dtype='object')\n"
     ]
    }
   ],
   "source": [
    "print( len( full_df.columns ) )\n",
    "print( '\\n' )\n",
    "print( full_df.columns )"
   ]
  },
  {
   "cell_type": "markdown",
   "metadata": {},
   "source": [
    "#### Columns"
   ]
  },
  {
   "cell_type": "markdown",
   "metadata": {},
   "source": [
    "- `assists`: Number of enemy players this player damaged that were killed by teammates.\n",
    "- `boosts`: Number of boost items used.\n",
    "- `damageDealt`: Total damage dealt. Note: Self inflicted damage is subtracted.\n",
    "- `DBNOs`: Number of enemy players knocked.\n",
    "- `headshotKills`: Number of enemy players killed with headshots.\n",
    "- `heals`: Number of healing items used.\n",
    "- `Id`: Player’s Id\n",
    "- `killPlace`: Ranking in match of number of enemy players killed.\n",
    "- `killPoints`: Kills-based external ranking of player. (Think of this as an Elo ranking where only kills matter.) If there is a value other than -1 in rankPoints, then any 0 in killPoints should be treated as a “None”.\n",
    "- `killStreaks`: Max number of enemy players killed in a short amount of time.\n",
    "- `kills`: Number of enemy players killed.\n",
    "- `longestKill`: Longest distance between player and player killed at time of death. This may be misleading, as downing a player and driving away may lead to a large longestKill stat.\n",
    "- `matchDuration`: Duration of match in seconds.\n",
    "- `matchId`: ID to identify match. There are no matches that are in both the training and testing set.\n",
    "- `matchType`: String identifying the game mode that the data comes from. The standard modes are “solo”, “duo”, “squad”, “solo-fpp”, “duo-fpp”, and “squad-fpp”; other modes are from events or custom matches.\n",
    "- `rankPoints`: Elo-like ranking of player. This ranking is inconsistent and is being deprecated in the API’s next version, so use with caution. Value of -1 takes place of “None”.\n",
    "- `revives`: Number of times this player revived teammates.\n",
    "- `rideDistance`: Total distance traveled in vehicles measured in meters.\n",
    "- `roadKills`: Number of kills while in a vehicle.\n",
    "- `swimDistance`: Total distance traveled by swimming measured in meters.\n",
    "- `teamKills`: Number of times this player killed a teammate.\n",
    "- `vehicleDestroys`: Number of vehicles destroyed.\n",
    "- `walkDistance`: Total distance traveled on foot measured in meters.\n",
    "- `weaponsAcquired`: Number of weapons picked up.\n",
    "- `winPoints`: Win-based external ranking of player. (Think of this as an Elo ranking where only winning matters.) If there is a value other than -1 in rankPoints, then any 0 in winPoints should be treated as a “None”.\n",
    "- `groupId`: ID to identify a group within a match. If the same group of players plays in different matches, they will have a different groupId each time.\n",
    "- `numGroups`: Number of groups we have data for in the match.\n",
    "- `maxPlace`: Worst placement we have data for in the match. This may not match with numGroups, as sometimes the data skips over placements.\n",
    "- `winPlacePerc`: The target of prediction. This is a percentile winning placement, where 1 corresponds to 1st place, and 0 corresponds to last place in the match. It is calculated off of maxPlace, not numGroups, so it is possible to have missing chunks in a match."
   ]
  },
  {
   "cell_type": "markdown",
   "metadata": {},
   "source": [
    "#### Check Missing Values"
   ]
  },
  {
   "cell_type": "code",
   "execution_count": 27,
   "metadata": {},
   "outputs": [
    {
     "data": {
      "text/plain": [
       "Index([], dtype='object')"
      ]
     },
     "execution_count": 27,
     "metadata": {},
     "output_type": "execute_result"
    }
   ],
   "source": [
    "full_df.drop('winPlacePerc', axis = 1).columns[ full_df.drop('winPlacePerc', axis = 1).isnull().any() ]"
   ]
  },
  {
   "cell_type": "markdown",
   "metadata": {},
   "source": [
    "Seems there are no missing values."
   ]
  },
  {
   "cell_type": "markdown",
   "metadata": {},
   "source": [
    "#### Partition Data"
   ]
  },
  {
   "cell_type": "code",
   "execution_count": 28,
   "metadata": {},
   "outputs": [],
   "source": [
    "X = full_df.drop( 'winPlacePerc', axis = 1 )\n",
    "y = full_df[ 'winPlacePerc' ]\n",
    "\n",
    "X_train, X_test, y_train, y_test = train_test_split( X, y, test_size = 0.33, random_state = 19920917 )"
   ]
  },
  {
   "cell_type": "markdown",
   "metadata": {},
   "source": [
    "#### Clean Data"
   ]
  },
  {
   "cell_type": "markdown",
   "metadata": {},
   "source": [
    "##### DBNOs"
   ]
  },
  {
   "cell_type": "code",
   "execution_count": 98,
   "metadata": {},
   "outputs": [
    {
     "data": {
      "text/plain": [
       "<matplotlib.axes._subplots.AxesSubplot at 0x26b740fe780>"
      ]
     },
     "execution_count": 98,
     "metadata": {},
     "output_type": "execute_result"
    },
    {
     "data": {
      "image/png": "[encoded data removed]",
      "text/plain": [
       "<Figure size 432x288 with 1 Axes>"
      ]
     },
     "metadata": {},
     "output_type": "display_data"
    }
   ],
   "source": [
    "sns.distplot( X_train['DBNOs'], kde = False )"
   ]
  },
  {
   "cell_type": "markdown",
   "metadata": {},
   "source": [
    "It seems that the feature DBNOs has an aggressive positive skew. Due to this I will transform this feature via Winsorization."
   ]
  },
  {
   "cell_type": "code",
   "execution_count": 76,
   "metadata": {},
   "outputs": [
    {
     "data": {
      "text/plain": [
       "0.37592620790328213"
      ]
     },
     "execution_count": 76,
     "metadata": {},
     "output_type": "execute_result"
    }
   ],
   "source": [
    "len( X_train[ X_train['DBNOs'] > 0 ] ) / len( X_train )"
   ]
  },
  {
   "cell_type": "code",
   "execution_count": 151,
   "metadata": {},
   "outputs": [
    {
     "data": {
      "text/plain": [
       "<matplotlib.axes._subplots.AxesSubplot at 0x26ac23ce128>"
      ]
     },
     "execution_count": 151,
     "metadata": {},
     "output_type": "execute_result"
    },
    {
     "data": {
      "image/png": "[encoded data removed]",
      "text/plain": [
       "<Figure size 432x288 with 1 Axes>"
      ]
     },
     "metadata": {},
     "output_type": "display_data"
    }
   ],
   "source": [
    "sns.distplot( winsor( X_train['DBNOs'] ), kde = False, bins = 5 )"
   ]
  },
  {
   "cell_type": "code",
   "execution_count": 234,
   "metadata": {},
   "outputs": [
    {
     "name": "stderr",
     "output_type": "stream",
     "text": [
      "C:\\Users\\scott\\Anaconda3\\lib\\site-packages\\ipykernel_launcher.py:1: SettingWithCopyWarning: \n",
      "A value is trying to be set on a copy of a slice from a DataFrame.\n",
      "Try using .loc[row_indexer,col_indexer] = value instead\n",
      "\n",
      "See the caveats in the documentation: http://pandas.pydata.org/pandas-docs/stable/indexing.html#indexing-view-versus-copy\n",
      "  \"\"\"Entry point for launching an IPython kernel.\n"
     ]
    }
   ],
   "source": [
    "X_train['DBNOs'] = winsor( X_train['DBNOs'] ).data"
   ]
  },
  {
   "cell_type": "markdown",
   "metadata": {},
   "source": [
    "##### Assists"
   ]
  },
  {
   "cell_type": "code",
   "execution_count": 223,
   "metadata": {},
   "outputs": [
    {
     "name": "stdout",
     "output_type": "stream",
     "text": [
      "0.8251619803979218\n",
      "0.13304975507342887\n",
      "0.030689323924073815\n",
      "0.0031854605094351054\n"
     ]
    }
   ],
   "source": [
    "print( len( X_train[ X_train['assists'] == 0 ] ) / len( X_train ) )\n",
    "print( len( X_train[ X_train['assists'] == 1 ] ) / len( X_train ) )\n",
    "print( len( X_train[ X_train['assists'] == 2 ] ) / len( X_train ) )\n",
    "print( len( X_train[ X_train['assists']  > 3 ] ) / len( X_train ) )"
   ]
  },
  {
   "cell_type": "code",
   "execution_count": 226,
   "metadata": {},
   "outputs": [
    {
     "data": {
      "text/plain": [
       "<matplotlib.axes._subplots.AxesSubplot at 0x26c67cfd7f0>"
      ]
     },
     "execution_count": 226,
     "metadata": {},
     "output_type": "execute_result"
    },
    {
     "data": {
      "image/png": "[encoded data removed]",
      "text/plain": [
       "<Figure size 432x288 with 1 Axes>"
      ]
     },
     "metadata": {},
     "output_type": "display_data"
    }
   ],
   "source": [
    "sns.distplot( winsor( X_train['assists'] ), kde = False, bins = 3 )"
   ]
  },
  {
   "cell_type": "markdown",
   "metadata": {},
   "source": [
    "It seems that there whould only be a categorization between assists and no assists. So I will convert this feature into dummy variables."
   ]
  },
  {
   "cell_type": "code",
   "execution_count": 240,
   "metadata": {},
   "outputs": [
    {
     "name": "stderr",
     "output_type": "stream",
     "text": [
      "C:\\Users\\scott\\Anaconda3\\lib\\site-packages\\ipykernel_launcher.py:2: SettingWithCopyWarning: \n",
      "A value is trying to be set on a copy of a slice from a DataFrame.\n",
      "Try using .loc[row_indexer,col_indexer] = value instead\n",
      "\n",
      "See the caveats in the documentation: http://pandas.pydata.org/pandas-docs/stable/indexing.html#indexing-view-versus-copy\n",
      "  \n"
     ]
    }
   ],
   "source": [
    "had_assists        = lambda x: 0 if x == 0 else 1\n",
    "X_train['assists'] = list(map( had_assists, X_train['assists'] ))"
   ]
  },
  {
   "cell_type": "markdown",
   "metadata": {},
   "source": [
    "##### Boosts"
   ]
  },
  {
   "cell_type": "code",
   "execution_count": 246,
   "metadata": {},
   "outputs": [
    {
     "data": {
      "text/plain": [
       "<matplotlib.axes._subplots.AxesSubplot at 0x26ae3e2d9e8>"
      ]
     },
     "execution_count": 246,
     "metadata": {},
     "output_type": "execute_result"
    },
    {
     "data": {
      "image/png": "[encoded data removed]",
      "text/plain": [
       "<Figure size 432x288 with 1 Axes>"
      ]
     },
     "metadata": {},
     "output_type": "display_data"
    }
   ],
   "source": [
    "sns.distplot( X_train['boosts'], kde = False )"
   ]
  },
  {
   "cell_type": "code",
   "execution_count": 256,
   "metadata": {},
   "outputs": [
    {
     "data": {
      "text/plain": [
       "<matplotlib.axes._subplots.AxesSubplot at 0x26c6793c748>"
      ]
     },
     "execution_count": 256,
     "metadata": {},
     "output_type": "execute_result"
    },
    {
     "data": {
      "image/png": "[encoded data removed]",
      "text/plain": [
       "<Figure size 432x288 with 1 Axes>"
      ]
     },
     "metadata": {},
     "output_type": "display_data"
    }
   ],
   "source": [
    "sns.distplot( winsor( X_train['boosts'] ), kde = False, bins = 7 )"
   ]
  },
  {
   "cell_type": "markdown",
   "metadata": {},
   "source": [
    "##### Damage Dealt"
   ]
  },
  {
   "cell_type": "code",
   "execution_count": 257,
   "metadata": {},
   "outputs": [
    {
     "data": {
      "text/plain": [
       "<matplotlib.axes._subplots.AxesSubplot at 0x26c679b3a20>"
      ]
     },
     "execution_count": 257,
     "metadata": {},
     "output_type": "execute_result"
    },
    {
     "data": {
      "image/png": "[encoded data removed]",
      "text/plain": [
       "<Figure size 432x288 with 1 Axes>"
      ]
     },
     "metadata": {},
     "output_type": "display_data"
    }
   ],
   "source": [
    "sns.distplot( X_train['damageDealt'], kde = False )"
   ]
  },
  {
   "cell_type": "code",
   "execution_count": 296,
   "metadata": {},
   "outputs": [
    {
     "data": {
      "text/plain": [
       "<matplotlib.axes._subplots.AxesSubplot at 0x26c689d2eb8>"
      ]
     },
     "execution_count": 296,
     "metadata": {},
     "output_type": "execute_result"
    },
    {
     "data": {
      "image/png": "[encoded data removed]",
      "text/plain": [
       "<Figure size 432x288 with 1 Axes>"
      ]
     },
     "metadata": {},
     "output_type": "display_data"
    }
   ],
   "source": [
    "sns.distplot( winsor( X_train['damageDealt'] ), kde = False, bins = 20 )"
   ]
  },
  {
   "cell_type": "code",
   "execution_count": 305,
   "metadata": {},
   "outputs": [],
   "source": [
    "test = list( map( make_log, X_train[ 'damageDealt' ] ) )"
   ]
  },
  {
   "cell_type": "code",
   "execution_count": null,
   "metadata": {},
   "outputs": [],
   "source": [
    "# TODO can I have zeros and then a bell curve???"
   ]
  }
 ],
 "metadata": {
  "kernelspec": {
   "display_name": "Python 3",
   "language": "python",
   "name": "python3"
  },
  "language_info": {
   "codemirror_mode": {
    "name": "ipython",
    "version": 3
   },
   "file_extension": ".py",
   "mimetype": "text/x-python",
   "name": "python",
   "nbconvert_exporter": "python",
   "pygments_lexer": "ipython3",
   "version": "3.6.5"
  }
 },
 "nbformat": 4,
 "nbformat_minor": 2
}
