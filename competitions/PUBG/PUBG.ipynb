{
 "cells": [
  {
   "cell_type": "markdown",
   "metadata": {},
   "source": [
    "## Import ML Libraries"
   ]
  },
  {
   "cell_type": "code",
   "execution_count": 2,
   "metadata": {},
   "outputs": [],
   "source": [
    "import numpy as np\n",
    "import pandas as pd\n",
    "import matplotlib.pyplot as plt\n",
    "import seaborn as sns"
   ]
  },
  {
   "cell_type": "code",
   "execution_count": 3,
   "metadata": {},
   "outputs": [],
   "source": [
    "%matplotlib inline"
   ]
  },
  {
   "cell_type": "markdown",
   "metadata": {},
   "source": [
    "## Import ML Algorithms"
   ]
  },
  {
   "cell_type": "code",
   "execution_count": 4,
   "metadata": {},
   "outputs": [],
   "source": [
    "from sklearn.model_selection import train_test_split"
   ]
  },
  {
   "cell_type": "markdown",
   "metadata": {},
   "source": [
    "## Import Other Libraries"
   ]
  },
  {
   "cell_type": "code",
   "execution_count": 5,
   "metadata": {},
   "outputs": [],
   "source": [
    "import os"
   ]
  },
  {
   "cell_type": "markdown",
   "metadata": {},
   "source": [
    "## Load Data"
   ]
  },
  {
   "cell_type": "code",
   "execution_count": 6,
   "metadata": {},
   "outputs": [],
   "source": [
    "data_files_path = os.path.join( os.getcwd() + '', '..', '..', '..', 'data', '' )\n",
    "data_files      = os.listdir( data_files_path )\n",
    "df              = []"
   ]
  },
  {
   "cell_type": "code",
   "execution_count": 7,
   "metadata": {},
   "outputs": [],
   "source": [
    "for csv_file in data_files:\n",
    "    if csv_file != '.ipynb_checkpoints':\n",
    "        df.append( pd.read_csv( '../../../data/' + csv_file ) )"
   ]
  },
  {
   "cell_type": "code",
   "execution_count": 8,
   "metadata": {},
   "outputs": [
    {
     "data": {
      "text/plain": [
       "0.434942385437622"
      ]
     },
     "execution_count": 8,
     "metadata": {},
     "output_type": "execute_result"
    }
   ],
   "source": [
    "df[0].shape[0] / df[1].shape[0] "
   ]
  },
  {
   "cell_type": "markdown",
   "metadata": {},
   "source": [
    "It seems that approximately $44\\%$ of the data is test data. I would prefer to have about $33\\%$ of the data to be training data."
   ]
  },
  {
   "cell_type": "code",
   "execution_count": 9,
   "metadata": {},
   "outputs": [],
   "source": [
    "full_df = None\n",
    "\n",
    "for table in df:\n",
    "    full_df = pd.concat( [ full_df, table ], sort = False )"
   ]
  },
  {
   "cell_type": "markdown",
   "metadata": {},
   "source": [
    "## Prepare Data"
   ]
  },
  {
   "cell_type": "code",
   "execution_count": 10,
   "metadata": {},
   "outputs": [],
   "source": [
    "pd.set_option( 'display.max_columns', None )"
   ]
  },
  {
   "cell_type": "code",
   "execution_count": 11,
   "metadata": {},
   "outputs": [
    {
     "data": {
      "text/html": [
       "<div>\n",
       "<style scoped>\n",
       "    .dataframe tbody tr th:only-of-type {\n",
       "        vertical-align: middle;\n",
       "    }\n",
       "\n",
       "    .dataframe tbody tr th {\n",
       "        vertical-align: top;\n",
       "    }\n",
       "\n",
       "    .dataframe thead th {\n",
       "        text-align: right;\n",
       "    }\n",
       "</style>\n",
       "<table border=\"1\" class=\"dataframe\">\n",
       "  <thead>\n",
       "    <tr style=\"text-align: right;\">\n",
       "      <th></th>\n",
       "      <th>Id</th>\n",
       "      <th>groupId</th>\n",
       "      <th>matchId</th>\n",
       "      <th>assists</th>\n",
       "      <th>boosts</th>\n",
       "      <th>damageDealt</th>\n",
       "      <th>DBNOs</th>\n",
       "      <th>headshotKills</th>\n",
       "      <th>heals</th>\n",
       "      <th>killPlace</th>\n",
       "      <th>killPoints</th>\n",
       "      <th>kills</th>\n",
       "      <th>killStreaks</th>\n",
       "      <th>longestKill</th>\n",
       "      <th>matchDuration</th>\n",
       "      <th>matchType</th>\n",
       "      <th>maxPlace</th>\n",
       "      <th>numGroups</th>\n",
       "      <th>rankPoints</th>\n",
       "      <th>revives</th>\n",
       "      <th>rideDistance</th>\n",
       "      <th>roadKills</th>\n",
       "      <th>swimDistance</th>\n",
       "      <th>teamKills</th>\n",
       "      <th>vehicleDestroys</th>\n",
       "      <th>walkDistance</th>\n",
       "      <th>weaponsAcquired</th>\n",
       "      <th>winPoints</th>\n",
       "      <th>winPlacePerc</th>\n",
       "    </tr>\n",
       "  </thead>\n",
       "  <tbody>\n",
       "    <tr>\n",
       "      <th>0</th>\n",
       "      <td>9329eb41e215eb</td>\n",
       "      <td>676b23c24e70d6</td>\n",
       "      <td>45b576ab7daa7f</td>\n",
       "      <td>0</td>\n",
       "      <td>0</td>\n",
       "      <td>51.46</td>\n",
       "      <td>0</td>\n",
       "      <td>0</td>\n",
       "      <td>0</td>\n",
       "      <td>73</td>\n",
       "      <td>0</td>\n",
       "      <td>0</td>\n",
       "      <td>0</td>\n",
       "      <td>0.00</td>\n",
       "      <td>1884</td>\n",
       "      <td>squad-fpp</td>\n",
       "      <td>28</td>\n",
       "      <td>28</td>\n",
       "      <td>1500</td>\n",
       "      <td>0</td>\n",
       "      <td>0.0</td>\n",
       "      <td>0</td>\n",
       "      <td>0.0</td>\n",
       "      <td>0</td>\n",
       "      <td>0</td>\n",
       "      <td>588.0</td>\n",
       "      <td>1</td>\n",
       "      <td>0</td>\n",
       "      <td>NaN</td>\n",
       "    </tr>\n",
       "    <tr>\n",
       "      <th>1</th>\n",
       "      <td>639bd0dcd7bda8</td>\n",
       "      <td>430933124148dd</td>\n",
       "      <td>42a9a0b906c928</td>\n",
       "      <td>0</td>\n",
       "      <td>4</td>\n",
       "      <td>179.10</td>\n",
       "      <td>0</td>\n",
       "      <td>0</td>\n",
       "      <td>2</td>\n",
       "      <td>11</td>\n",
       "      <td>0</td>\n",
       "      <td>2</td>\n",
       "      <td>1</td>\n",
       "      <td>361.90</td>\n",
       "      <td>1811</td>\n",
       "      <td>duo-fpp</td>\n",
       "      <td>48</td>\n",
       "      <td>47</td>\n",
       "      <td>1503</td>\n",
       "      <td>2</td>\n",
       "      <td>4669.0</td>\n",
       "      <td>0</td>\n",
       "      <td>0.0</td>\n",
       "      <td>0</td>\n",
       "      <td>0</td>\n",
       "      <td>2017.0</td>\n",
       "      <td>6</td>\n",
       "      <td>0</td>\n",
       "      <td>NaN</td>\n",
       "    </tr>\n",
       "    <tr>\n",
       "      <th>2</th>\n",
       "      <td>63d5c8ef8dfe91</td>\n",
       "      <td>0b45f5db20ba99</td>\n",
       "      <td>87e7e4477a048e</td>\n",
       "      <td>1</td>\n",
       "      <td>0</td>\n",
       "      <td>23.40</td>\n",
       "      <td>0</td>\n",
       "      <td>0</td>\n",
       "      <td>4</td>\n",
       "      <td>49</td>\n",
       "      <td>0</td>\n",
       "      <td>0</td>\n",
       "      <td>0</td>\n",
       "      <td>0.00</td>\n",
       "      <td>1793</td>\n",
       "      <td>squad-fpp</td>\n",
       "      <td>28</td>\n",
       "      <td>27</td>\n",
       "      <td>1565</td>\n",
       "      <td>0</td>\n",
       "      <td>0.0</td>\n",
       "      <td>0</td>\n",
       "      <td>0.0</td>\n",
       "      <td>0</td>\n",
       "      <td>0</td>\n",
       "      <td>787.8</td>\n",
       "      <td>4</td>\n",
       "      <td>0</td>\n",
       "      <td>NaN</td>\n",
       "    </tr>\n",
       "    <tr>\n",
       "      <th>3</th>\n",
       "      <td>cf5b81422591d1</td>\n",
       "      <td>b7497dbdc77f4a</td>\n",
       "      <td>1b9a94f1af67f1</td>\n",
       "      <td>0</td>\n",
       "      <td>0</td>\n",
       "      <td>65.52</td>\n",
       "      <td>0</td>\n",
       "      <td>0</td>\n",
       "      <td>0</td>\n",
       "      <td>54</td>\n",
       "      <td>0</td>\n",
       "      <td>0</td>\n",
       "      <td>0</td>\n",
       "      <td>0.00</td>\n",
       "      <td>1834</td>\n",
       "      <td>duo-fpp</td>\n",
       "      <td>45</td>\n",
       "      <td>44</td>\n",
       "      <td>1465</td>\n",
       "      <td>0</td>\n",
       "      <td>0.0</td>\n",
       "      <td>0</td>\n",
       "      <td>0.0</td>\n",
       "      <td>0</td>\n",
       "      <td>0</td>\n",
       "      <td>1812.0</td>\n",
       "      <td>3</td>\n",
       "      <td>0</td>\n",
       "      <td>NaN</td>\n",
       "    </tr>\n",
       "    <tr>\n",
       "      <th>4</th>\n",
       "      <td>ee6a295187ba21</td>\n",
       "      <td>6604ce20a1d230</td>\n",
       "      <td>40754a93016066</td>\n",
       "      <td>0</td>\n",
       "      <td>4</td>\n",
       "      <td>330.20</td>\n",
       "      <td>1</td>\n",
       "      <td>2</td>\n",
       "      <td>1</td>\n",
       "      <td>7</td>\n",
       "      <td>0</td>\n",
       "      <td>3</td>\n",
       "      <td>1</td>\n",
       "      <td>60.06</td>\n",
       "      <td>1326</td>\n",
       "      <td>squad-fpp</td>\n",
       "      <td>28</td>\n",
       "      <td>27</td>\n",
       "      <td>1480</td>\n",
       "      <td>1</td>\n",
       "      <td>0.0</td>\n",
       "      <td>0</td>\n",
       "      <td>0.0</td>\n",
       "      <td>0</td>\n",
       "      <td>0</td>\n",
       "      <td>2963.0</td>\n",
       "      <td>4</td>\n",
       "      <td>0</td>\n",
       "      <td>NaN</td>\n",
       "    </tr>\n",
       "  </tbody>\n",
       "</table>\n",
       "</div>"
      ],
      "text/plain": [
       "               Id         groupId         matchId  assists  boosts  \\\n",
       "0  9329eb41e215eb  676b23c24e70d6  45b576ab7daa7f        0       0   \n",
       "1  639bd0dcd7bda8  430933124148dd  42a9a0b906c928        0       4   \n",
       "2  63d5c8ef8dfe91  0b45f5db20ba99  87e7e4477a048e        1       0   \n",
       "3  cf5b81422591d1  b7497dbdc77f4a  1b9a94f1af67f1        0       0   \n",
       "4  ee6a295187ba21  6604ce20a1d230  40754a93016066        0       4   \n",
       "\n",
       "   damageDealt  DBNOs  headshotKills  heals  killPlace  killPoints  kills  \\\n",
       "0        51.46      0              0      0         73           0      0   \n",
       "1       179.10      0              0      2         11           0      2   \n",
       "2        23.40      0              0      4         49           0      0   \n",
       "3        65.52      0              0      0         54           0      0   \n",
       "4       330.20      1              2      1          7           0      3   \n",
       "\n",
       "   killStreaks  longestKill  matchDuration  matchType  maxPlace  numGroups  \\\n",
       "0            0         0.00           1884  squad-fpp        28         28   \n",
       "1            1       361.90           1811    duo-fpp        48         47   \n",
       "2            0         0.00           1793  squad-fpp        28         27   \n",
       "3            0         0.00           1834    duo-fpp        45         44   \n",
       "4            1        60.06           1326  squad-fpp        28         27   \n",
       "\n",
       "   rankPoints  revives  rideDistance  roadKills  swimDistance  teamKills  \\\n",
       "0        1500        0           0.0          0           0.0          0   \n",
       "1        1503        2        4669.0          0           0.0          0   \n",
       "2        1565        0           0.0          0           0.0          0   \n",
       "3        1465        0           0.0          0           0.0          0   \n",
       "4        1480        1           0.0          0           0.0          0   \n",
       "\n",
       "   vehicleDestroys  walkDistance  weaponsAcquired  winPoints  winPlacePerc  \n",
       "0                0         588.0                1          0           NaN  \n",
       "1                0        2017.0                6          0           NaN  \n",
       "2                0         787.8                4          0           NaN  \n",
       "3                0        1812.0                3          0           NaN  \n",
       "4                0        2963.0                4          0           NaN  "
      ]
     },
     "execution_count": 11,
     "metadata": {},
     "output_type": "execute_result"
    }
   ],
   "source": [
    "full_df.head()"
   ]
  },
  {
   "cell_type": "code",
   "execution_count": 12,
   "metadata": {},
   "outputs": [
    {
     "name": "stdout",
     "output_type": "stream",
     "text": [
      "29\n",
      "\n",
      "\n",
      "Index(['Id', 'groupId', 'matchId', 'assists', 'boosts', 'damageDealt', 'DBNOs',\n",
      "       'headshotKills', 'heals', 'killPlace', 'killPoints', 'kills',\n",
      "       'killStreaks', 'longestKill', 'matchDuration', 'matchType', 'maxPlace',\n",
      "       'numGroups', 'rankPoints', 'revives', 'rideDistance', 'roadKills',\n",
      "       'swimDistance', 'teamKills', 'vehicleDestroys', 'walkDistance',\n",
      "       'weaponsAcquired', 'winPoints', 'winPlacePerc'],\n",
      "      dtype='object')\n"
     ]
    }
   ],
   "source": [
    "print( len( full_df.columns ) )\n",
    "print( '\\n' )\n",
    "print( full_df.columns )"
   ]
  },
  {
   "cell_type": "markdown",
   "metadata": {},
   "source": [
    "#### Columns"
   ]
  },
  {
   "cell_type": "markdown",
   "metadata": {},
   "source": [
    "- **assists**: Number of enemy players this player damaged that were killed by teammates.\n",
    "- **boosts**: Number of boost items used.\n",
    "- **damageDealt**: Total damage dealt. Note: Self inflicted damage is subtracted.\n",
    "- **DBNOs**: Number of enemy players knocked.\n",
    "- **headshotKills**: Number of enemy players killed with headshots.\n",
    "- **heals**: Number of healing items used.\n",
    "- **Id**: Player’s Id\n",
    "- **killPlace**: Ranking in match of number of enemy players killed.\n",
    "- **killPoints**: Kills-based external ranking of player. (Think of this as an Elo ranking where only kills matter.) If there is a value other than -1 in rankPoints, then any 0 in killPoints should be treated as a “None”.\n",
    "- **killStreaks**: Max number of enemy players killed in a short amount of time.\n",
    "- **kills**: Number of enemy players killed.\n",
    "- **longestKill**: Longest distance between player and player killed at time of death. This may be misleading, as downing a player and driving away may lead to a large longestKill stat.\n",
    "- **matchDuration**: Duration of match in seconds.\n",
    "- **matchId**: ID to identify match. There are no matches that are in both the training and testing set.\n",
    "- **matchType**: String identifying the game mode that the data comes from. The standard modes are “solo”, “duo”, “squad”, “solo-fpp”, “duo-fpp”, and “squad-fpp”; other modes are from events or custom matches.\n",
    "- **rankPoints**: Elo-like ranking of player. This ranking is inconsistent and is being deprecated in the API’s next version, so use with caution. Value of -1 takes place of “None”.\n",
    "- **revives**: Number of times this player revived teammates.\n",
    "- **rideDistance**: Total distance traveled in vehicles measured in meters.\n",
    "- **roadKills**: Number of kills while in a vehicle.\n",
    "- **swimDistance**: Total distance traveled by swimming measured in meters.\n",
    "- **teamKills**: Number of times this player killed a teammate.\n",
    "- **vehicleDestroys**: Number of vehicles destroyed.\n",
    "- **walkDistance**: Total distance traveled on foot measured in meters.\n",
    "- **weaponsAcquired**: Number of weapons picked up.\n",
    "- **winPoints**: Win-based external ranking of player. (Think of this as an Elo ranking where only winning matters.) If there is a value other than -1 in rankPoints, then any 0 in winPoints should be treated as a “None”.\n",
    "- **groupId**: ID to identify a group within a match. If the same group of players plays in different matches, they will have a different groupId each time.\n",
    "- **numGroups**: Number of groups we have data for in the match.\n",
    "- **maxPlace**: Worst placement we have data for in the match. This may not match with numGroups, as sometimes the data skips over placements.\n",
    "- **winPlacePerc**: The target of prediction. This is a percentile winning placement, where 1 corresponds to 1st place, and 0 corresponds to last place in the match. It is calculated off of maxPlace, not numGroups, so it is possible to have missing chunks in a match."
   ]
  },
  {
   "cell_type": "markdown",
   "metadata": {},
   "source": [
    "#### Check Missing Values"
   ]
  },
  {
   "cell_type": "code",
   "execution_count": 27,
   "metadata": {},
   "outputs": [
    {
     "data": {
      "text/plain": [
       "Index([], dtype='object')"
      ]
     },
     "execution_count": 27,
     "metadata": {},
     "output_type": "execute_result"
    }
   ],
   "source": [
    "full_df.drop('winPlacePerc', axis = 1).columns[ full_df.drop('winPlacePerc', axis = 1).isnull().any() ]"
   ]
  },
  {
   "cell_type": "markdown",
   "metadata": {},
   "source": [
    "Seems there are no missing values."
   ]
  },
  {
   "cell_type": "markdown",
   "metadata": {},
   "source": [
    "#### Partition Data"
   ]
  },
  {
   "cell_type": "code",
   "execution_count": 28,
   "metadata": {},
   "outputs": [],
   "source": [
    "X = full_df.drop( 'winPlacePerc', axis = 1 )\n",
    "y = full_df[ 'winPlacePerc' ]\n",
    "\n",
    "X_train, X_test, y_train, y_test = train_test_split( X, y, test_size = 0.33, random_state = 19920917 )"
   ]
  },
  {
   "cell_type": "markdown",
   "metadata": {},
   "source": [
    "#### Clean Data"
   ]
  },
  {
   "cell_type": "code",
   "execution_count": null,
   "metadata": {},
   "outputs": [],
   "source": []
  }
 ],
 "metadata": {
  "kernelspec": {
   "display_name": "Python 3",
   "language": "python",
   "name": "python3"
  },
  "language_info": {
   "codemirror_mode": {
    "name": "ipython",
    "version": 3
   },
   "file_extension": ".py",
   "mimetype": "text/x-python",
   "name": "python",
   "nbconvert_exporter": "python",
   "pygments_lexer": "ipython3",
   "version": "3.6.5"
  }
 },
 "nbformat": 4,
 "nbformat_minor": 2
}
